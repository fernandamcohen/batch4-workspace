{
 "cells": [
  {
   "cell_type": "code",
   "execution_count": 1,
   "metadata": {
    "deletable": false,
    "editable": false,
    "nbgrader": {
     "grade": false,
     "grade_id": "cell-3b735b942b2009ce",
     "locked": true,
     "schema_version": 3,
     "solution": false,
     "task": false
    }
   },
   "outputs": [],
   "source": [
    "import os\n",
    "import pandas as pd\n",
    "import json\n",
    "import joblib\n",
    "import pickle\n",
    "import requests\n",
    "from sklearn.pipeline import make_pipeline, Pipeline\n",
    "from sklearn.model_selection import cross_val_score\n",
    "from category_encoders import OneHotEncoder\n",
    "from sklearn.compose import ColumnTransformer\n",
    "from sklearn.ensemble import RandomForestClassifier\n",
    "from sklearn.linear_model import LogisticRegression"
   ]
  },
  {
   "cell_type": "markdown",
   "metadata": {
    "deletable": false,
    "editable": false,
    "nbgrader": {
     "grade": false,
     "grade_id": "cell-093ada1b8f5cf10b",
     "locked": true,
     "schema_version": 3,
     "solution": false,
     "task": false
    }
   },
   "source": [
    "The police department of your city has received lots of complaints about its stop and search policy. Every time a car is stopped, the police officers have to decide whether or not to search the car for contraband. According to critics, these searches have a bias against people of certain backgrounds.\n",
    "\n",
    "Your company has been hired to help with this situation, and you were assigned with creating a service to decide whether or not to search a car, based on objective data. This service will be used by police officers to request authorization to search, and your service will return a Yes or No answer.\n",
    "\n",
    "These exercises will guide you on your task, step by step."
   ]
  },
  {
   "cell_type": "markdown",
   "metadata": {
    "deletable": false,
    "editable": false,
    "nbgrader": {
     "grade": false,
     "grade_id": "cell-9dda3087fc177930",
     "locked": true,
     "schema_version": 3,
     "solution": false,
     "task": false
    }
   },
   "source": [
    "### 1. Meet the data\n",
    "\n",
    "Start by getting familiar with the dataset, in file `connecticut_dataset_small.csv`.\n",
    "Each row in the dataset is about one car search operation, and has 4 fields.\n",
    "\n",
    "3 features:\n",
    "\n",
    "- **StatuteReason**: what is the reason why the car was stopped\n",
    "- **SubjectAge**: the driver's age\n",
    "- **InterventionDateTime**: when the car search operation occured; date presented in the American way: month/day/year\n",
    "\n",
    "And the target:\n",
    "- **ContrabandIndicator**: whether contraband and/or evidence were found\n",
    "\n",
    "We'll consider that a search was successful if contraband and/or evidence were found."
   ]
  },
  {
   "cell_type": "code",
   "execution_count": 2,
   "metadata": {
    "deletable": false,
    "editable": false,
    "nbgrader": {
     "grade": false,
     "grade_id": "cell-6c73de8f632d9425",
     "locked": true,
     "schema_version": 3,
     "solution": false,
     "task": false
    }
   },
   "outputs": [
    {
     "data": {
      "text/html": [
       "<div>\n",
       "<style scoped>\n",
       "    .dataframe tbody tr th:only-of-type {\n",
       "        vertical-align: middle;\n",
       "    }\n",
       "\n",
       "    .dataframe tbody tr th {\n",
       "        vertical-align: top;\n",
       "    }\n",
       "\n",
       "    .dataframe thead th {\n",
       "        text-align: right;\n",
       "    }\n",
       "</style>\n",
       "<table border=\"1\" class=\"dataframe\">\n",
       "  <thead>\n",
       "    <tr style=\"text-align: right;\">\n",
       "      <th></th>\n",
       "      <th>StatuteReason</th>\n",
       "      <th>SubjectAge</th>\n",
       "      <th>InterventionDateTime</th>\n",
       "      <th>ContrabandIndicator</th>\n",
       "    </tr>\n",
       "  </thead>\n",
       "  <tbody>\n",
       "    <tr>\n",
       "      <th>0</th>\n",
       "      <td>Display of Plates</td>\n",
       "      <td>42.0</td>\n",
       "      <td>05/27/2017 07:30:00 PM</td>\n",
       "      <td>False</td>\n",
       "    </tr>\n",
       "    <tr>\n",
       "      <th>1</th>\n",
       "      <td>Registration</td>\n",
       "      <td>40.0</td>\n",
       "      <td>11/08/2014 11:38:00 AM</td>\n",
       "      <td>False</td>\n",
       "    </tr>\n",
       "  </tbody>\n",
       "</table>\n",
       "</div>"
      ],
      "text/plain": [
       "       StatuteReason  SubjectAge    InterventionDateTime  ContrabandIndicator\n",
       "0  Display of Plates        42.0  05/27/2017 07:30:00 PM                False\n",
       "1       Registration        40.0  11/08/2014 11:38:00 AM                False"
      ]
     },
     "execution_count": 2,
     "metadata": {},
     "output_type": "execute_result"
    }
   ],
   "source": [
    "df = pd.read_csv(os.path.join(\"data\", \"connecticut_dataset_small.csv\"))\n",
    "df.head(2)"
   ]
  },
  {
   "cell_type": "code",
   "execution_count": 3,
   "metadata": {
    "deletable": false,
    "nbgrader": {
     "grade": false,
     "grade_id": "cell-07b7596b7c482937",
     "locked": false,
     "schema_version": 3,
     "solution": true,
     "task": false
    }
   },
   "outputs": [
    {
     "name": "stdout",
     "output_type": "stream",
     "text": [
      "<class 'pandas.core.frame.DataFrame'>\n",
      "RangeIndex: 76743 entries, 0 to 76742\n",
      "Data columns (total 4 columns):\n",
      " #   Column                Non-Null Count  Dtype  \n",
      "---  ------                --------------  -----  \n",
      " 0   StatuteReason         76733 non-null  object \n",
      " 1   SubjectAge            76743 non-null  float64\n",
      " 2   InterventionDateTime  76743 non-null  object \n",
      " 3   ContrabandIndicator   76743 non-null  bool   \n",
      "dtypes: bool(1), float64(1), object(2)\n",
      "memory usage: 1.8+ MB\n",
      "<class 'pandas.core.frame.DataFrame'>\n",
      "RangeIndex: 76743 entries, 0 to 76742\n",
      "Data columns (total 3 columns):\n",
      " #   Column                Non-Null Count  Dtype  \n",
      "---  ------                --------------  -----  \n",
      " 0   StatuteReason         76733 non-null  object \n",
      " 1   SubjectAge            76743 non-null  float64\n",
      " 2   InterventionDateTime  76743 non-null  object \n",
      "dtypes: float64(1), object(2)\n",
      "memory usage: 1.8+ MB\n"
     ]
    }
   ],
   "source": [
    "# Create a DataFrame with the 3 features: StatuteReason, SubjectAge, InterventionDateTime\n",
    "# Keep them in this order\n",
    "# X = ...\n",
    "\n",
    "df.info()\n",
    "# YOUR CODE HERE\n",
    "X = df.drop([\"ContrabandIndicator\"],axis=1)\n",
    "# X['InterventionDateTime'] = pd.to_datetime(df.InterventionDateTime)\n",
    "X.info()\n",
    "\n",
    "# Create a series with the target: ContrabandIndicator\n",
    "# y = ...\n",
    "# YOUR CODE HERE\n",
    "y =df.ContrabandIndicator"
   ]
  },
  {
   "cell_type": "code",
   "execution_count": 4,
   "metadata": {
    "deletable": false,
    "editable": false,
    "nbgrader": {
     "grade": true,
     "grade_id": "cell-f5c67edf8e0decb5",
     "locked": true,
     "points": 1,
     "schema_version": 3,
     "solution": false,
     "task": false
    }
   },
   "outputs": [],
   "source": [
    "assert isinstance(X, pd.DataFrame)\n",
    "assert X.columns.tolist() == [\"StatuteReason\", \"SubjectAge\", \"InterventionDateTime\"]\n",
    "\n",
    "assert isinstance(y, pd.Series)"
   ]
  },
  {
   "cell_type": "markdown",
   "metadata": {
    "deletable": false,
    "editable": false,
    "nbgrader": {
     "grade": false,
     "grade_id": "cell-5ecc8001c4919b62",
     "locked": true,
     "schema_version": 3,
     "solution": false,
     "task": false
    }
   },
   "source": [
    "### 2. Build a model\n",
    "\n",
    "Build a scikit model that predicts whether a car search was successful, based on the features that you have available. Your model should be delivered as a scikit [Pipeline](https://scikit-learn.org/stable/modules/generated/sklearn.pipeline.Pipeline.html#sklearn.pipeline.Pipeline.predict_proba).\n",
    "\n",
    "Don't worry too much about the model's performance, anything better than random works! We'll focus on model performance in the next BLUs."
   ]
  },
  {
   "cell_type": "code",
   "execution_count": 5,
   "metadata": {
    "deletable": false,
    "nbgrader": {
     "grade": false,
     "grade_id": "cell-41aff4c773d827da",
     "locked": false,
     "schema_version": 3,
     "solution": true,
     "task": false
    }
   },
   "outputs": [
    {
     "name": "stderr",
     "output_type": "stream",
     "text": [
      "/home/fernandamcohen/.virtualenvs/blu13/lib/python3.6/site-packages/sklearn/linear_model/_logistic.py:764: ConvergenceWarning: lbfgs failed to converge (status=1):\n",
      "STOP: TOTAL NO. of ITERATIONS REACHED LIMIT.\n",
      "\n",
      "Increase the number of iterations (max_iter) or scale the data as shown in:\n",
      "    https://scikit-learn.org/stable/modules/preprocessing.html\n",
      "Please also refer to the documentation for alternative solver options:\n",
      "    https://scikit-learn.org/stable/modules/linear_model.html#logistic-regression\n",
      "  extra_warning_msg=_LOGISTIC_SOLVER_CONVERGENCE_MSG)\n"
     ]
    }
   ],
   "source": [
    "# Create the pipeline with your model\n",
    "# pipeline = ...\n",
    "# YOUR CODE HERE\n",
    "\n",
    "y.value_counts()\n",
    "X.SubjectAge.value_counts(dropna=False)\n",
    "X.StatuteReason.value_counts(dropna=False)\n",
    "\n",
    "from sklearn.model_selection import train_test_split\n",
    "from sklearn.base import TransformerMixin\n",
    "\n",
    "# this is to supress an internal warning that was being raised by category_encoders\n",
    "# you can safely ignore this\n",
    "import warnings\n",
    "warnings.simplefilter(action='ignore', category=FutureWarning)\n",
    "\n",
    "\n",
    "X_train, X_test, y_train, y_test = train_test_split(X, y, test_size=0.3, random_state=42)\n",
    "\n",
    "#to use date variable\n",
    "def var_date(var):\n",
    "      \n",
    "    return var.dt.hour\n",
    "\n",
    "class var_date_hour(TransformerMixin):\n",
    "    \n",
    "    def transform(self, X_, *_):\n",
    "#         return X.InterventionDateTime.dt.hour\n",
    "        X_= X_.copy()\n",
    "        X_['InterventionDateTime'] = pd.to_datetime(X_.InterventionDateTime).dt.hour\n",
    "#         X['InterventionDateTime'] = pd.to_datetime(X.InterventionDateTime)\n",
    "#         X['InterventionDateTime'] = X.InterventionDateTime.dt.hour\n",
    "        return X_\n",
    "    \n",
    "    def fit(self, *_):\n",
    "        return self\n",
    "\n",
    "    \n",
    "# X_train.info()\n",
    "# t=var_date_hour()       \n",
    "# t.fit_transform(X_train)\n",
    "# X.InterventionDateTime.value_counts()\n",
    "# var_date(X_train.InterventionDateTime)\n",
    "\n",
    "# X_train2= X_train.drop(['InterventionDateTime'],axis=1)\n",
    "# X_test2= X_test.drop(['InterventionDateTime'],axis=1)\n",
    "\n",
    "try:\n",
    "    pipeline = make_pipeline(\n",
    "        var_date_hour(),\n",
    "        OneHotEncoder(handle_unknown='value'),\n",
    "        LogisticRegression(),\n",
    "    )\n",
    "    \n",
    "    pipeline.fit(X_train, y_train)\n",
    "except ValueError as e:\n",
    "     print(e)\n",
    "        \n",
    "        \n"
   ]
  },
  {
   "cell_type": "code",
   "execution_count": 6,
   "metadata": {
    "deletable": false,
    "editable": false,
    "nbgrader": {
     "grade": true,
     "grade_id": "cell-7f6385b594764da7",
     "locked": true,
     "points": 2,
     "schema_version": 3,
     "solution": false,
     "task": false
    }
   },
   "outputs": [],
   "source": [
    "assert isinstance(pipeline, Pipeline)"
   ]
  },
  {
   "cell_type": "code",
   "execution_count": 7,
   "metadata": {
    "deletable": false,
    "nbgrader": {
     "grade": false,
     "grade_id": "cell-e076246fb29c9928",
     "locked": false,
     "schema_version": 3,
     "solution": true,
     "task": false
    },
    "scrolled": true
   },
   "outputs": [
    {
     "name": "stderr",
     "output_type": "stream",
     "text": [
      "/home/fernandamcohen/.virtualenvs/blu13/lib/python3.6/site-packages/sklearn/linear_model/_logistic.py:764: ConvergenceWarning: lbfgs failed to converge (status=1):\n",
      "STOP: TOTAL NO. of ITERATIONS REACHED LIMIT.\n",
      "\n",
      "Increase the number of iterations (max_iter) or scale the data as shown in:\n",
      "    https://scikit-learn.org/stable/modules/preprocessing.html\n",
      "Please also refer to the documentation for alternative solver options:\n",
      "    https://scikit-learn.org/stable/modules/linear_model.html#logistic-regression\n",
      "  extra_warning_msg=_LOGISTIC_SOLVER_CONVERGENCE_MSG)\n",
      "/home/fernandamcohen/.virtualenvs/blu13/lib/python3.6/site-packages/sklearn/linear_model/_logistic.py:764: ConvergenceWarning: lbfgs failed to converge (status=1):\n",
      "STOP: TOTAL NO. of ITERATIONS REACHED LIMIT.\n",
      "\n",
      "Increase the number of iterations (max_iter) or scale the data as shown in:\n",
      "    https://scikit-learn.org/stable/modules/preprocessing.html\n",
      "Please also refer to the documentation for alternative solver options:\n",
      "    https://scikit-learn.org/stable/modules/linear_model.html#logistic-regression\n",
      "  extra_warning_msg=_LOGISTIC_SOLVER_CONVERGENCE_MSG)\n",
      "/home/fernandamcohen/.virtualenvs/blu13/lib/python3.6/site-packages/sklearn/linear_model/_logistic.py:764: ConvergenceWarning: lbfgs failed to converge (status=1):\n",
      "STOP: TOTAL NO. of ITERATIONS REACHED LIMIT.\n",
      "\n",
      "Increase the number of iterations (max_iter) or scale the data as shown in:\n",
      "    https://scikit-learn.org/stable/modules/preprocessing.html\n",
      "Please also refer to the documentation for alternative solver options:\n",
      "    https://scikit-learn.org/stable/modules/linear_model.html#logistic-regression\n",
      "  extra_warning_msg=_LOGISTIC_SOLVER_CONVERGENCE_MSG)\n",
      "/home/fernandamcohen/.virtualenvs/blu13/lib/python3.6/site-packages/sklearn/linear_model/_logistic.py:764: ConvergenceWarning: lbfgs failed to converge (status=1):\n",
      "STOP: TOTAL NO. of ITERATIONS REACHED LIMIT.\n",
      "\n",
      "Increase the number of iterations (max_iter) or scale the data as shown in:\n",
      "    https://scikit-learn.org/stable/modules/preprocessing.html\n",
      "Please also refer to the documentation for alternative solver options:\n",
      "    https://scikit-learn.org/stable/modules/linear_model.html#logistic-regression\n",
      "  extra_warning_msg=_LOGISTIC_SOLVER_CONVERGENCE_MSG)\n",
      "/home/fernandamcohen/.virtualenvs/blu13/lib/python3.6/site-packages/sklearn/linear_model/_logistic.py:764: ConvergenceWarning: lbfgs failed to converge (status=1):\n",
      "STOP: TOTAL NO. of ITERATIONS REACHED LIMIT.\n",
      "\n",
      "Increase the number of iterations (max_iter) or scale the data as shown in:\n",
      "    https://scikit-learn.org/stable/modules/preprocessing.html\n",
      "Please also refer to the documentation for alternative solver options:\n",
      "    https://scikit-learn.org/stable/modules/linear_model.html#logistic-regression\n",
      "  extra_warning_msg=_LOGISTIC_SOLVER_CONVERGENCE_MSG)\n",
      "/home/fernandamcohen/.virtualenvs/blu13/lib/python3.6/site-packages/sklearn/linear_model/_logistic.py:764: ConvergenceWarning: lbfgs failed to converge (status=1):\n",
      "STOP: TOTAL NO. of ITERATIONS REACHED LIMIT.\n",
      "\n",
      "Increase the number of iterations (max_iter) or scale the data as shown in:\n",
      "    https://scikit-learn.org/stable/modules/preprocessing.html\n",
      "Please also refer to the documentation for alternative solver options:\n",
      "    https://scikit-learn.org/stable/modules/linear_model.html#logistic-regression\n",
      "  extra_warning_msg=_LOGISTIC_SOLVER_CONVERGENCE_MSG)\n",
      "/home/fernandamcohen/.virtualenvs/blu13/lib/python3.6/site-packages/sklearn/linear_model/_logistic.py:764: ConvergenceWarning: lbfgs failed to converge (status=1):\n",
      "STOP: TOTAL NO. of ITERATIONS REACHED LIMIT.\n",
      "\n",
      "Increase the number of iterations (max_iter) or scale the data as shown in:\n",
      "    https://scikit-learn.org/stable/modules/preprocessing.html\n",
      "Please also refer to the documentation for alternative solver options:\n",
      "    https://scikit-learn.org/stable/modules/linear_model.html#logistic-regression\n",
      "  extra_warning_msg=_LOGISTIC_SOLVER_CONVERGENCE_MSG)\n",
      "/home/fernandamcohen/.virtualenvs/blu13/lib/python3.6/site-packages/sklearn/linear_model/_logistic.py:764: ConvergenceWarning: lbfgs failed to converge (status=1):\n",
      "STOP: TOTAL NO. of ITERATIONS REACHED LIMIT.\n",
      "\n",
      "Increase the number of iterations (max_iter) or scale the data as shown in:\n",
      "    https://scikit-learn.org/stable/modules/preprocessing.html\n",
      "Please also refer to the documentation for alternative solver options:\n",
      "    https://scikit-learn.org/stable/modules/linear_model.html#logistic-regression\n",
      "  extra_warning_msg=_LOGISTIC_SOLVER_CONVERGENCE_MSG)\n",
      "/home/fernandamcohen/.virtualenvs/blu13/lib/python3.6/site-packages/sklearn/linear_model/_logistic.py:764: ConvergenceWarning: lbfgs failed to converge (status=1):\n",
      "STOP: TOTAL NO. of ITERATIONS REACHED LIMIT.\n",
      "\n",
      "Increase the number of iterations (max_iter) or scale the data as shown in:\n",
      "    https://scikit-learn.org/stable/modules/preprocessing.html\n",
      "Please also refer to the documentation for alternative solver options:\n",
      "    https://scikit-learn.org/stable/modules/linear_model.html#logistic-regression\n",
      "  extra_warning_msg=_LOGISTIC_SOLVER_CONVERGENCE_MSG)\n",
      "/home/fernandamcohen/.virtualenvs/blu13/lib/python3.6/site-packages/sklearn/linear_model/_logistic.py:764: ConvergenceWarning: lbfgs failed to converge (status=1):\n",
      "STOP: TOTAL NO. of ITERATIONS REACHED LIMIT.\n",
      "\n",
      "Increase the number of iterations (max_iter) or scale the data as shown in:\n",
      "    https://scikit-learn.org/stable/modules/preprocessing.html\n",
      "Please also refer to the documentation for alternative solver options:\n",
      "    https://scikit-learn.org/stable/modules/linear_model.html#logistic-regression\n",
      "  extra_warning_msg=_LOGISTIC_SOLVER_CONVERGENCE_MSG)\n"
     ]
    },
    {
     "data": {
      "text/plain": [
       "array([0.67216674, 0.67042987, 0.67129831, 0.67072111, 0.6694179 ,\n",
       "       0.67072111, 0.66898349, 0.6698523 , 0.66811468, 0.67115552])"
      ]
     },
     "execution_count": 7,
     "metadata": {},
     "output_type": "execute_result"
    }
   ],
   "source": [
    "# Use cross validation with 5 folds and ROC_AUC as metric, to check your model's performance\n",
    "# roc_aucs = cross_val_score(...)\n",
    "# YOUR CODE HERE\n",
    "\n",
    "roc_aucs = cross_val_score(pipeline,X_test,y_test,cv=10)\n",
    "roc_aucs"
   ]
  },
  {
   "cell_type": "code",
   "execution_count": 8,
   "metadata": {
    "deletable": false,
    "editable": false,
    "nbgrader": {
     "grade": true,
     "grade_id": "cell-044b10bfe1c9f942",
     "locked": true,
     "points": 2,
     "schema_version": 3,
     "solution": false,
     "task": false
    }
   },
   "outputs": [],
   "source": [
    "assert roc_aucs.mean() > 0.5"
   ]
  },
  {
   "cell_type": "code",
   "execution_count": 9,
   "metadata": {
    "deletable": false,
    "nbgrader": {
     "grade": false,
     "grade_id": "cell-2648bddb36617860",
     "locked": false,
     "schema_version": 3,
     "solution": true,
     "task": false
    }
   },
   "outputs": [
    {
     "data": {
      "text/plain": [
       "array([[0.75670859, 0.24329141],\n",
       "       [0.82168182, 0.17831818],\n",
       "       [0.5446002 , 0.4553998 ],\n",
       "       ...,\n",
       "       [0.72630696, 0.27369304],\n",
       "       [0.60612554, 0.39387446],\n",
       "       [0.77875477, 0.22124523]])"
      ]
     },
     "execution_count": 9,
     "metadata": {},
     "output_type": "execute_result"
    }
   ],
   "source": [
    "# Now fit the pipeline to all the training data\n",
    "# YOUR CODE HERE\n",
    "pipeline.predict_proba(X)"
   ]
  },
  {
   "cell_type": "code",
   "execution_count": 10,
   "metadata": {
    "deletable": false,
    "editable": false,
    "nbgrader": {
     "grade": true,
     "grade_id": "cell-1253351ba8bae163",
     "locked": true,
     "points": 2,
     "schema_version": 3,
     "solution": false,
     "task": false
    }
   },
   "outputs": [],
   "source": [
    "assert pipeline.predict_proba(X.head(1)).shape == (1, 2)"
   ]
  },
  {
   "cell_type": "markdown",
   "metadata": {},
   "source": [
    "### 3. Serialize all the things!\n",
    "\n",
    "Now we need to serialize three things:\n",
    "\n",
    "1. The column names in the correct order\n",
    "1. The fitted pipeline\n",
    "1. The dtypes of the columns of the training set"
   ]
  },
  {
   "cell_type": "code",
   "execution_count": 11,
   "metadata": {},
   "outputs": [],
   "source": [
    "# This is a temporary directory where your serialized files will be saved\n",
    "# You can change it while working on the exercises locally,\n",
    "# but change it back to TMP_DIR = '/tmp' before submitting the exercises,\n",
    "# otherwise grading will fail\n",
    "TMP_DIR = '/tmp'"
   ]
  },
  {
   "cell_type": "code",
   "execution_count": 12,
   "metadata": {
    "deletable": false,
    "nbgrader": {
     "grade": false,
     "grade_id": "cell-5c005f7797fa6539",
     "locked": false,
     "schema_version": 3,
     "solution": true,
     "task": false
    }
   },
   "outputs": [],
   "source": [
    "# Serialize the column names from the X DataFrame into a file named columns.json\n",
    "# YOUR CODE HERE\n",
    "\n",
    "with open('/tmp/columns.json', 'w') as fh:\n",
    "    json.dump(X.columns.tolist(), fh)"
   ]
  },
  {
   "cell_type": "code",
   "execution_count": 13,
   "metadata": {
    "deletable": false,
    "editable": false,
    "nbgrader": {
     "grade": true,
     "grade_id": "cell-05b83e3ddf3da045",
     "locked": true,
     "points": 1,
     "schema_version": 3,
     "solution": false,
     "task": false
    }
   },
   "outputs": [],
   "source": [
    "with open(os.path.join(TMP_DIR, \"columns.json\"), 'r') as fh:\n",
    "    columns = json.load(fh)\n",
    "    \n",
    "assert columns == X.columns.tolist()"
   ]
  },
  {
   "cell_type": "code",
   "execution_count": 14,
   "metadata": {
    "deletable": false,
    "nbgrader": {
     "grade": false,
     "grade_id": "cell-07af2c8ac79550f7",
     "locked": false,
     "schema_version": 3,
     "solution": true,
     "task": false
    }
   },
   "outputs": [
    {
     "data": {
      "text/plain": [
       "StatuteReason            object\n",
       "SubjectAge              float64\n",
       "InterventionDateTime     object\n",
       "dtype: object"
      ]
     },
     "execution_count": 14,
     "metadata": {},
     "output_type": "execute_result"
    }
   ],
   "source": [
    "# Pickle the dtypes of the columns from the X DataFrame into a file named dtypes.pickle\n",
    "# YOUR CODE HERE\n",
    "\n",
    "with open(\"/tmp/dtypes.pickle\", 'wb') as fh:\n",
    "    pickle.dump(X.dtypes, fh)\n",
    "    \n",
    "X.dtypes\n",
    "\n",
    "\n",
    "# with open('dtypes.pickle', 'wb') as fh:\n",
    "#     pickle.dump(X_train.dtypes, fh)\n"
   ]
  },
  {
   "cell_type": "code",
   "execution_count": 15,
   "metadata": {
    "deletable": false,
    "editable": false,
    "nbgrader": {
     "grade": true,
     "grade_id": "cell-47e4637e8d8e2a64",
     "locked": true,
     "points": 1,
     "schema_version": 3,
     "solution": false,
     "task": false
    }
   },
   "outputs": [],
   "source": [
    "with open(os.path.join(TMP_DIR, \"dtypes.pickle\"), 'rb') as fh:\n",
    "    dtypes = pickle.load(fh)\n",
    "    \n",
    "assert dtypes.equals(X.dtypes)"
   ]
  },
  {
   "cell_type": "code",
   "execution_count": 16,
   "metadata": {
    "deletable": false,
    "nbgrader": {
     "grade": false,
     "grade_id": "cell-83f3ebc142010e9f",
     "locked": false,
     "schema_version": 3,
     "solution": true,
     "task": false
    }
   },
   "outputs": [
    {
     "data": {
      "text/plain": [
       "['/tmp/pipeline.pickle']"
      ]
     },
     "execution_count": 16,
     "metadata": {},
     "output_type": "execute_result"
    }
   ],
   "source": [
    "# Pickle the fitted pipeline into a file named pipeline.pickle\n",
    "# YOUR CODE HERE\n",
    "\n",
    "import joblib\n",
    "joblib.dump(pipeline, '/tmp/pipeline.pickle')\n"
   ]
  },
  {
   "cell_type": "code",
   "execution_count": 17,
   "metadata": {
    "deletable": false,
    "editable": false,
    "nbgrader": {
     "grade": true,
     "grade_id": "cell-aacbc4873f79af3c",
     "locked": true,
     "points": 1,
     "schema_version": 3,
     "solution": false,
     "task": false
    }
   },
   "outputs": [],
   "source": [
    "pipeline_recovered = joblib.load(os.path.join(TMP_DIR, \"pipeline.pickle\"))\n",
    "\n",
    "assert isinstance(pipeline_recovered, Pipeline)\n",
    "assert pipeline_recovered.predict_proba(X.head(1)).shape == (1, 2)"
   ]
  },
  {
   "cell_type": "code",
   "execution_count": 18,
   "metadata": {},
   "outputs": [],
   "source": [
    "from custom_transformers import transformer"
   ]
  },
  {
   "cell_type": "markdown",
   "metadata": {
    "deletable": false,
    "editable": false,
    "nbgrader": {
     "grade": false,
     "grade_id": "cell-842958da0ca18608",
     "locked": true,
     "schema_version": 3,
     "solution": false,
     "task": false
    }
   },
   "source": [
    "### 4. Create a new repo for your service\n",
    "\n",
    "Now it's time to create a new repo for your service. As you learned in the README of the [heroku-model-deploy repository](https://github.com/LDSSA/heroku-model-deploy), duplicate the heroku-model-deploy repo.\n",
    "\n",
    "From this point on, you should code on the new repo. The remaining exercises in this notebook are questions meant to check if your service is working as expected.\n",
    "\n",
    "After you've setup your new repo, copy the following things over there:\n",
    "- `columns.json` file\n",
    "- `dtypes.pickle` file\n",
    "- `pipeline.pickle` file\n",
    "- the package containing custom code in your model (only if you've used it, of course!)."
   ]
  },
  {
   "cell_type": "markdown",
   "metadata": {
    "deletable": false,
    "editable": false,
    "nbgrader": {
     "grade": false,
     "grade_id": "cell-348c4399be9f23a8",
     "locked": true,
     "schema_version": 3,
     "solution": false,
     "task": false
    }
   },
   "source": [
    "### 5. Build your flask app\n",
    "\n",
    "#### /predict\n",
    "\n",
    "At this point, you can either edit the `app.py` file that's in the repo, or start a new file from scratch.\n",
    "My advice is that you start one from scratch, as it will probably be a better learning experience.\n",
    "\n",
    "Start by creating a `predict` endpoint, that should receive POST requests, and a JSON payload with:\n",
    "- id\n",
    "- observation, which has 3 fields: StatuteReason, SubjectAge, and InterventionDateTime.\n",
    "\n",
    "This endpoint should return the proba returned by your model for this observation.\n",
    "Make sure that each field is in the correct format before passing it to the scikit model. If you receive an observation with an invalid value, return an appropriate error message.\n",
    "\n",
    "When a request is received, you should update your local sqlite database with the following:\n",
    "- id\n",
    "- observation\n",
    "- proba\n",
    "- true_class (which is null for now)\n",
    "\n",
    "In case your app has received an observation with an id that it has seen before, it should return an error message, the correspondent proba, and don't store anything.\n",
    "\n",
    "Try the following commands to check that everything is working as expected."
   ]
  },
  {
   "cell_type": "markdown",
   "metadata": {
    "deletable": false,
    "editable": false,
    "nbgrader": {
     "grade": false,
     "grade_id": "cell-323d5162ea6c0008",
     "locked": true,
     "schema_version": 3,
     "solution": false,
     "task": false
    }
   },
   "source": [
    "**Command**\n",
    "\n",
    "```bash\n",
    "~ > curl -X POST http://localhost:5000/predict -d '{\"id\": 0, \"observation\": {\"StatuteReason\": \"Registration\", \"SubjectAge\": 22.0, \"InterventionDateTime\": \"11/08/2014 11:38:00 AM\"}}' -H \"Content-Type:application/json\"\n",
    "```\n",
    "\n",
    "\n",
    "**Expected output**\n",
    "\n",
    "```json\n",
    "{\n",
    "  \"proba\": 0.3192823701310136\n",
    "}\n",
    "```\n",
    "\n",
    "(any proba value works, it depends on your model, of course!)"
   ]
  },
  {
   "cell_type": "markdown",
   "metadata": {
    "deletable": false,
    "editable": false,
    "nbgrader": {
     "grade": false,
     "grade_id": "cell-255b3138647074b8",
     "locked": true,
     "schema_version": 3,
     "solution": false,
     "task": false
    }
   },
   "source": [
    "**Command**\n",
    "\n",
    "```bash\n",
    "~ > curl -X POST http://localhost:5000/predict -d '{\"id\": 0, \"observation\": {\"StatuteReason\": \"Registration\", \"SubjectAge\": 22.0, \"InterventionDateTime\": \"11/08/2014 11:38:00 AM\"}}' -H \"Content-Type:application/json\"\n",
    "```\n",
    "\n",
    "\n",
    "**Expected output**\n",
    "\n",
    "```json\n",
    "{\n",
    "  \"error\": \"Observation ID: \\\"0\\\" already exists\",\n",
    "  \"proba\": 0.3192823701310136\n",
    "}\n",
    "```"
   ]
  },
  {
   "cell_type": "markdown",
   "metadata": {
    "deletable": false,
    "editable": false,
    "nbgrader": {
     "grade": false,
     "grade_id": "cell-cd109fea5648a5cb",
     "locked": true,
     "schema_version": 3,
     "solution": false,
     "task": false
    }
   },
   "source": [
    "**Command**\n",
    "\n",
    "```bash\n",
    "curl -X POST http://localhost:5000/predict -d '{\"id\": 1, \"observation\": {\"StatuteReason\": \"Registration\", \"SubjectAge\": \"hello\", \"InterventionDateTime\": \"11/08/2014 11:38:00 AM\"}}' -H \"Content-Type:application/json\"\n",
    "```\n",
    "\n",
    "**Expected output**\n",
    "```json\n",
    "{\n",
    "  \"error\": \"Observation is invalid!\"\n",
    "}\n",
    "```"
   ]
  },
  {
   "cell_type": "code",
   "execution_count": 24,
   "metadata": {
    "deletable": false,
    "nbgrader": {
     "grade": false,
     "grade_id": "cell-c098b18fbb94dac2",
     "locked": false,
     "schema_version": 3,
     "solution": true,
     "task": false
    }
   },
   "outputs": [],
   "source": [
    "# When the predict endpoint of your flask app is working as expected,\n",
    "# set variable predict_endpoint_working_fine to True\n",
    "predict_endpoint_working_fine = True\n",
    "\n",
    "# YOUR CODE HERE"
   ]
  },
  {
   "cell_type": "code",
   "execution_count": 25,
   "metadata": {
    "deletable": false,
    "editable": false,
    "nbgrader": {
     "grade": true,
     "grade_id": "cell-3e6dbbbbc93ef800",
     "locked": true,
     "points": 3,
     "schema_version": 3,
     "solution": false,
     "task": false
    }
   },
   "outputs": [],
   "source": [
    "assert predict_endpoint_working_fine"
   ]
  },
  {
   "cell_type": "markdown",
   "metadata": {
    "deletable": false,
    "editable": false,
    "nbgrader": {
     "grade": false,
     "grade_id": "cell-47acb752b1ba5730",
     "locked": true,
     "schema_version": 3,
     "solution": false,
     "task": false
    }
   },
   "source": [
    "#### /update\n",
    "\n",
    "The update endpoint should receive POST requests, and a JSON payload with:\n",
    "- id\n",
    "- true_class\n",
    "\n",
    "If there is an observation with `id` in your database, you should update the `true_class` value with the value in the request. The response should be the observation, with the updated true_class value.\n",
    "\n",
    "Otherwise, you should return an appropriate error message.\n",
    "\n",
    "Try the following commands to check that everything is working as expected."
   ]
  },
  {
   "cell_type": "markdown",
   "metadata": {
    "deletable": false,
    "editable": false,
    "nbgrader": {
     "grade": false,
     "grade_id": "cell-36f99897d25c7dee",
     "locked": true,
     "schema_version": 3,
     "solution": false,
     "task": false
    }
   },
   "source": [
    "**Command**\n",
    "\n",
    "```bash\n",
    "~ > curl -X POST http://localhost:5000/update -d '{\"id\": 0, \"true_class\": 1}'  -H \"Content-Type:application/json\"\n",
    "```\n",
    "\n",
    "\n",
    "**Expected output**\n",
    "\n",
    "```json\n",
    "{\n",
    "  \"id\": 1,\n",
    "  \"observation\": \"{\\\"id\\\": 0, \\\"observation\\\": {\\\"StatuteReason\\\": \\\"Registration\\\", \\\"SubjectAge\\\": 22.0}}\",\n",
    "  \"observation_id\": 0,\n",
    "  \"proba\": 0.3192823701310136,\n",
    "  \"true_class\": 1\n",
    "}\n",
    "```"
   ]
  },
  {
   "cell_type": "markdown",
   "metadata": {
    "deletable": false,
    "editable": false,
    "nbgrader": {
     "grade": false,
     "grade_id": "cell-87df0f20c5b63b7a",
     "locked": true,
     "schema_version": 3,
     "solution": false,
     "task": false
    }
   },
   "source": [
    "**Command**\n",
    "\n",
    "```bash\n",
    "~ > curl -X POST http://localhost:5000/update -d '{\"id\": 3, \"true_class\": 1}'  -H \"Content-Type:application/json\"\n",
    "```\n",
    "\n",
    "\n",
    "**Expected output**\n",
    "\n",
    "```json\n",
    "{\n",
    "  \"error\": \"Observation ID: \\\"3\\\" does not exist\"\n",
    "}\n",
    "```"
   ]
  },
  {
   "cell_type": "code",
   "execution_count": 26,
   "metadata": {
    "deletable": false,
    "nbgrader": {
     "grade": false,
     "grade_id": "cell-40d6ee7431c34db9",
     "locked": false,
     "schema_version": 3,
     "solution": true,
     "task": false
    }
   },
   "outputs": [],
   "source": [
    "# When the predict endpoint of your flask app is working as expected,\n",
    "# set variable update_endpoint_working_fine to True\n",
    "update_endpoint_working_fine = True\n",
    "\n",
    "# YOUR CODE HERE"
   ]
  },
  {
   "cell_type": "code",
   "execution_count": 27,
   "metadata": {
    "deletable": false,
    "editable": false,
    "nbgrader": {
     "grade": true,
     "grade_id": "cell-589e67c22bb96a5b",
     "locked": true,
     "points": 2,
     "schema_version": 3,
     "solution": false,
     "task": false
    }
   },
   "outputs": [],
   "source": [
    "assert update_endpoint_working_fine"
   ]
  },
  {
   "cell_type": "markdown",
   "metadata": {
    "deletable": false,
    "editable": false,
    "nbgrader": {
     "grade": false,
     "grade_id": "cell-b4eb379e93d926d1",
     "locked": true,
     "schema_version": 3,
     "solution": false,
     "task": false
    }
   },
   "source": [
    "### 6. Deploy your app to heroku\n",
    "\n",
    "Follow the instructions on the Learning part of this BLU to deploy your app to heroku.\n",
    "\n",
    "In order to check that your app is working correctly on heroku, re-run the previous commands, but replacing the `localhost` with the URL of your heroku app (like `https://<your-app-name>.herokuapp.com`). For instance, the first command would be:\n",
    "\n",
    "\n",
    "**Command**\n",
    "\n",
    "```bash\n",
    "~ > curl -X POST https://<your-app-name>.herokuapp.com/predict -d '{\"id\": 0, \"observation\": {\"StatuteReason\": \"Registration\", \"SubjectAge\": 22.0, \"InterventionDateTime\": \"11/08/2014 11:38:00 AM\"}}' -H \"Content-Type:application/json\"\n",
    "```\n",
    "\n",
    "\n",
    "**Expected output**\n",
    "\n",
    "```json\n",
    "{\n",
    "  \"proba\": 0.3192823701310136\n",
    "}\n",
    "```"
   ]
  },
  {
   "cell_type": "code",
   "execution_count": 30,
   "metadata": {
    "deletable": false,
    "nbgrader": {
     "grade": false,
     "grade_id": "cell-711322a2c161a32a",
     "locked": false,
     "schema_version": 3,
     "solution": true,
     "task": false
    }
   },
   "outputs": [
    {
     "data": {
      "text/plain": [
       "<Response [503]>"
      ]
     },
     "execution_count": 30,
     "metadata": {},
     "output_type": "execute_result"
    }
   ],
   "source": [
    "# In this test, we will call your app to check if it's working as expected\n",
    "# Assign the variable APP_NAME to the name of your heroku app\n",
    "APP_NAME = 'fer-blu13'\n",
    "\n",
    "# YOUR CODE HERE\n",
    "r"
   ]
  },
  {
   "cell_type": "code",
   "execution_count": 29,
   "metadata": {
    "deletable": false,
    "editable": false,
    "nbgrader": {
     "grade": true,
     "grade_id": "cell-011a2a3474c01346",
     "locked": true,
     "points": 3,
     "schema_version": 3,
     "solution": false,
     "task": false
    }
   },
   "outputs": [
    {
     "ename": "AssertionError",
     "evalue": "",
     "output_type": "error",
     "traceback": [
      "\u001b[0;31m---------------------------------------------------------------------------\u001b[0m",
      "\u001b[0;31mAssertionError\u001b[0m                            Traceback (most recent call last)",
      "\u001b[0;32m<ipython-input-29-24f6684a16cb>\u001b[0m in \u001b[0;36m<module>\u001b[0;34m\u001b[0m\n\u001b[1;32m     14\u001b[0m \u001b[0;34m\u001b[0m\u001b[0m\n\u001b[1;32m     15\u001b[0m \u001b[0;32massert\u001b[0m \u001b[0misinstance\u001b[0m\u001b[0;34m(\u001b[0m\u001b[0mr\u001b[0m\u001b[0;34m,\u001b[0m \u001b[0mrequests\u001b[0m\u001b[0;34m.\u001b[0m\u001b[0mResponse\u001b[0m\u001b[0;34m)\u001b[0m\u001b[0;34m\u001b[0m\u001b[0;34m\u001b[0m\u001b[0m\n\u001b[0;32m---> 16\u001b[0;31m \u001b[0;32massert\u001b[0m \u001b[0mr\u001b[0m\u001b[0;34m.\u001b[0m\u001b[0mok\u001b[0m\u001b[0;34m\u001b[0m\u001b[0;34m\u001b[0m\u001b[0m\n\u001b[0m\u001b[1;32m     17\u001b[0m \u001b[0;32massert\u001b[0m \u001b[0;34m\"proba\"\u001b[0m \u001b[0;32min\u001b[0m \u001b[0mr\u001b[0m\u001b[0;34m.\u001b[0m\u001b[0mjson\u001b[0m\u001b[0;34m(\u001b[0m\u001b[0;34m)\u001b[0m\u001b[0;34m\u001b[0m\u001b[0;34m\u001b[0m\u001b[0m\n\u001b[1;32m     18\u001b[0m \u001b[0;32massert\u001b[0m \u001b[0misinstance\u001b[0m\u001b[0;34m(\u001b[0m\u001b[0mr\u001b[0m\u001b[0;34m.\u001b[0m\u001b[0mjson\u001b[0m\u001b[0;34m(\u001b[0m\u001b[0;34m)\u001b[0m\u001b[0;34m[\u001b[0m\u001b[0;34m\"proba\"\u001b[0m\u001b[0;34m]\u001b[0m\u001b[0;34m,\u001b[0m \u001b[0mfloat\u001b[0m\u001b[0;34m)\u001b[0m\u001b[0;34m\u001b[0m\u001b[0;34m\u001b[0m\u001b[0m\n",
      "\u001b[0;31mAssertionError\u001b[0m: "
     ]
    }
   ],
   "source": [
    "# Testing the /predict endpoint\n",
    "\n",
    "url = f\"http://{APP_NAME}.herokuapp.com/predict\"\n",
    "payload = {\n",
    "    \"id\": 0,\n",
    "    \"observation\": {\n",
    "        \"StatuteReason\": \"Registration\",\n",
    "        \"SubjectAge\": 22.0,\n",
    "        \"InterventionDateTime\": \"11/08/2014 11:38:00 AM\"\n",
    "    }\n",
    "}\n",
    "\n",
    "r = requests.post(url, json=payload)\n",
    "\n",
    "assert isinstance(r, requests.Response)\n",
    "assert r.ok\n",
    "assert \"proba\" in r.json()\n",
    "assert isinstance(r.json()[\"proba\"], float)\n",
    "assert 0 <= r.json()[\"proba\"] <= 1"
   ]
  },
  {
   "cell_type": "code",
   "execution_count": 23,
   "metadata": {
    "deletable": false,
    "editable": false,
    "nbgrader": {
     "grade": true,
     "grade_id": "cell-b88d9b0ab2bf644e",
     "locked": true,
     "points": 2,
     "schema_version": 3,
     "solution": false,
     "task": false
    }
   },
   "outputs": [
    {
     "ename": "AssertionError",
     "evalue": "",
     "output_type": "error",
     "traceback": [
      "\u001b[0;31m---------------------------------------------------------------------------\u001b[0m",
      "\u001b[0;31mAssertionError\u001b[0m                            Traceback (most recent call last)",
      "\u001b[0;32m<ipython-input-23-af037123789c>\u001b[0m in \u001b[0;36m<module>\u001b[0;34m\u001b[0m\n\u001b[1;32m     10\u001b[0m \u001b[0;34m\u001b[0m\u001b[0m\n\u001b[1;32m     11\u001b[0m \u001b[0;32massert\u001b[0m \u001b[0misinstance\u001b[0m\u001b[0;34m(\u001b[0m\u001b[0mr\u001b[0m\u001b[0;34m,\u001b[0m \u001b[0mrequests\u001b[0m\u001b[0;34m.\u001b[0m\u001b[0mResponse\u001b[0m\u001b[0;34m)\u001b[0m\u001b[0;34m\u001b[0m\u001b[0;34m\u001b[0m\u001b[0m\n\u001b[0;32m---> 12\u001b[0;31m \u001b[0;32massert\u001b[0m \u001b[0mr\u001b[0m\u001b[0;34m.\u001b[0m\u001b[0mok\u001b[0m\u001b[0;34m\u001b[0m\u001b[0;34m\u001b[0m\u001b[0m\n\u001b[0m\u001b[1;32m     13\u001b[0m \u001b[0;32massert\u001b[0m \u001b[0;34m\"observation\"\u001b[0m \u001b[0;32min\u001b[0m \u001b[0mr\u001b[0m\u001b[0;34m.\u001b[0m\u001b[0mjson\u001b[0m\u001b[0;34m(\u001b[0m\u001b[0;34m)\u001b[0m\u001b[0;34m\u001b[0m\u001b[0;34m\u001b[0m\u001b[0m\n\u001b[1;32m     14\u001b[0m \u001b[0;32massert\u001b[0m \u001b[0;34m\"proba\"\u001b[0m \u001b[0;32min\u001b[0m \u001b[0mr\u001b[0m\u001b[0;34m.\u001b[0m\u001b[0mjson\u001b[0m\u001b[0;34m(\u001b[0m\u001b[0;34m)\u001b[0m\u001b[0;34m\u001b[0m\u001b[0;34m\u001b[0m\u001b[0m\n",
      "\u001b[0;31mAssertionError\u001b[0m: "
     ]
    }
   ],
   "source": [
    "# Testing the /update endpoint\n",
    "\n",
    "url = f\"http://{APP_NAME}.herokuapp.com/update\"\n",
    "payload = {\n",
    "    \"id\": 0,\n",
    "    \"true_class\": 1\n",
    "}\n",
    "\n",
    "r = requests.post(url, json=payload)\n",
    "\n",
    "assert isinstance(r, requests.Response)\n",
    "assert r.ok\n",
    "assert \"observation\" in r.json()\n",
    "assert \"proba\" in r.json()\n",
    "assert \"true_class\" in r.json()\n",
    "assert r.json()[\"true_class\"] == 1"
   ]
  },
  {
   "cell_type": "code",
   "execution_count": null,
   "metadata": {},
   "outputs": [],
   "source": []
  }
 ],
 "metadata": {
  "kernelspec": {
   "display_name": "Python 3",
   "language": "python",
   "name": "python3"
  },
  "language_info": {
   "codemirror_mode": {
    "name": "ipython",
    "version": 3
   },
   "file_extension": ".py",
   "mimetype": "text/x-python",
   "name": "python",
   "nbconvert_exporter": "python",
   "pygments_lexer": "ipython3",
   "version": "3.6.9"
  }
 },
 "nbformat": 4,
 "nbformat_minor": 4
}
