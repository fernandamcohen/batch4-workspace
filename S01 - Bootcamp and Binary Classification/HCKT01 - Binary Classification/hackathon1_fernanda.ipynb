{
 "cells": [
  {
   "cell_type": "code",
   "execution_count": 1,
   "metadata": {},
   "outputs": [],
   "source": [
    "import pandas as pd\n",
    "import numpy as np"
   ]
  },
  {
   "cell_type": "code",
   "execution_count": 238,
   "metadata": {},
   "outputs": [],
   "source": [
    "train = pd.DataFrame(pd.read_csv('data/train.csv')) #(419487, 17)\n",
    "\n",
    "test = pd.DataFrame(pd.read_csv('data/test.csv')) #(179781, 16)"
   ]
  },
  {
   "cell_type": "code",
   "execution_count": 249,
   "metadata": {},
   "outputs": [
    {
     "data": {
      "text/plain": [
       "(179781, 16)"
      ]
     },
     "execution_count": 249,
     "metadata": {},
     "output_type": "execute_result"
    }
   ],
   "source": [
    "test.shape"
   ]
  },
  {
   "cell_type": "code",
   "execution_count": 250,
   "metadata": {},
   "outputs": [
    {
     "name": "stdout",
     "output_type": "stream",
     "text": [
      "<class 'pandas.core.frame.DataFrame'>\n",
      "RangeIndex: 419487 entries, 0 to 419486\n",
      "Data columns (total 17 columns):\n",
      " #   Column                 Non-Null Count   Dtype  \n",
      "---  ------                 --------------   -----  \n",
      " 0   ID                     419487 non-null  int64  \n",
      " 1   DATE_DEPARTURE_UTC     419487 non-null  object \n",
      " 2   DATE_ARRIVAL_UTC       419487 non-null  object \n",
      " 3   DATE_DEPARTURE_LCL     419487 non-null  object \n",
      " 4   DATE_ARRIVAL_LCL       419487 non-null  object \n",
      " 5   ORIGIN                 419487 non-null  object \n",
      " 6   ORIGIN_AIRPORT_ID      419487 non-null  int64  \n",
      " 7   DEST                   419487 non-null  object \n",
      " 8   DEST_AIRPORT_ID        419487 non-null  int64  \n",
      " 9   TAIL_NUM               419487 non-null  object \n",
      " 10  OP_CARRIER             419487 non-null  object \n",
      " 11  OP_CARRIER_AIRLINE_ID  419487 non-null  int64  \n",
      " 12  OP_CARRIER_FL_NUM      419487 non-null  int64  \n",
      " 13  DISTANCE               401869 non-null  float64\n",
      " 14  CANCELLED              419487 non-null  int64  \n",
      " 15  DEP_DEL15              272667 non-null  float64\n",
      " 16  ARR_DEL15              419487 non-null  int64  \n",
      "dtypes: float64(2), int64(7), object(8)\n",
      "memory usage: 54.4+ MB\n"
     ]
    }
   ],
   "source": [
    "train.info()\n",
    "#test.info()"
   ]
  },
  {
   "cell_type": "code",
   "execution_count": 59,
   "metadata": {},
   "outputs": [
    {
     "name": "stdout",
     "output_type": "stream",
     "text": [
      "0    0.851736\n",
      "1    0.148264\n",
      "Name: ARR_DEL15, dtype: float64\n",
      "0.0    0.554303\n",
      "NaN    0.349999\n",
      "1.0    0.095698\n",
      "Name: DEP_DEL15, dtype: float64\n",
      "0    1.0\n",
      "Name: CANCELLED, dtype: float64\n"
     ]
    },
    {
     "data": {
      "text/plain": [
       "count                  419487\n",
       "unique                  29661\n",
       "top       2020-01-09 11:55:00\n",
       "freq                       52\n",
       "Name: DATE_DEPARTURE_UTC, dtype: object"
      ]
     },
     "execution_count": 59,
     "metadata": {},
     "output_type": "execute_result"
    },
    {
     "data": {
      "image/png": "[encoded data removed]",
      "text/plain": [
       "<Figure size 432x288 with 1 Axes>"
      ]
     },
     "metadata": {
      "needs_background": "light"
     },
     "output_type": "display_data"
    }
   ],
   "source": [
    "print(train['ARR_DEL15'].value_counts(dropna=False, normalize=True))\n",
    "print(train['DEP_DEL15'].value_counts(dropna=False, normalize=True)) # we can go with 3 categories\n",
    "print(train['CANCELLED'].value_counts(dropna=False, normalize=True)) #to be delete\n",
    "\n",
    "#same info\n",
    "train['OP_CARRIER'].nunique() #17\n",
    "train['OP_CARRIER_AIRLINE_ID'].unique() #17\n",
    "\n",
    "train['OP_CARRIER_FL_NUM'].nunique() #6715\n",
    "train['TAIL_NUM'].nunique() #5376\n",
    "\n",
    "train['ORIGIN'].nunique() #351\n",
    "train['ORIGIN_AIRPORT_ID'].nunique() #351\n",
    "\n",
    "train['DEST'].nunique() #350\n",
    "train['DEST_AIRPORT_ID'].nunique() #350\n",
    "train['DEST'].unique()\n",
    "\n",
    "train['DISTANCE'].describe()\n",
    "train[['DISTANCE']].boxplot();\n",
    "\n",
    "train['DATE_DEPARTURE_UTC'].describe()"
   ]
  },
  {
   "cell_type": "code",
   "execution_count": 57,
   "metadata": {},
   "outputs": [],
   "source": [
    "first_list = ['DISTANCE', 'DEP_DEL15', 'DATE_DEPARTURE_UTC', 'DATE_ARRIVAL_UTC', 'DATE_DEPARTURE_LCL', 'DATE_ARRIVAL_LCL']"
   ]
  },
  {
   "cell_type": "code",
   "execution_count": 58,
   "metadata": {},
   "outputs": [
    {
     "data": {
      "text/html": [
       "<div>\n",
       "<style scoped>\n",
       "    .dataframe tbody tr th:only-of-type {\n",
       "        vertical-align: middle;\n",
       "    }\n",
       "\n",
       "    .dataframe tbody tr th {\n",
       "        vertical-align: top;\n",
       "    }\n",
       "\n",
       "    .dataframe thead th {\n",
       "        text-align: right;\n",
       "    }\n",
       "</style>\n",
       "<table border=\"1\" class=\"dataframe\">\n",
       "  <thead>\n",
       "    <tr style=\"text-align: right;\">\n",
       "      <th></th>\n",
       "      <th>DISTANCE</th>\n",
       "      <th>DEP_DEL15</th>\n",
       "    </tr>\n",
       "  </thead>\n",
       "  <tbody>\n",
       "    <tr>\n",
       "      <th>DISTANCE</th>\n",
       "      <td>1.00000</td>\n",
       "      <td>0.02155</td>\n",
       "    </tr>\n",
       "    <tr>\n",
       "      <th>DEP_DEL15</th>\n",
       "      <td>0.02155</td>\n",
       "      <td>1.00000</td>\n",
       "    </tr>\n",
       "  </tbody>\n",
       "</table>\n",
       "</div>"
      ],
      "text/plain": [
       "           DISTANCE  DEP_DEL15\n",
       "DISTANCE    1.00000    0.02155\n",
       "DEP_DEL15   0.02155    1.00000"
      ]
     },
     "execution_count": 58,
     "metadata": {},
     "output_type": "execute_result"
    }
   ],
   "source": [
    "train[first_list].corr(method='pearson')"
   ]
  },
  {
   "cell_type": "code",
   "execution_count": 240,
   "metadata": {},
   "outputs": [
    {
     "data": {
      "text/plain": [
       "Index(['ID', 'DATE_DEPARTURE_UTC', 'DATE_ARRIVAL_UTC', 'DATE_DEPARTURE_LCL',\n",
       "       'DATE_ARRIVAL_LCL', 'ORIGIN', 'DEST', 'TAIL_NUM', 'OP_CARRIER',\n",
       "       'OP_CARRIER_AIRLINE_ID', 'OP_CARRIER_FL_NUM', 'DISTANCE', 'DEP_DEL15',\n",
       "       'ARR_DEL15', 'DATE_DEPARTURE_UTC_ts', 'DATE_ARRIVAL_UTC_ts',\n",
       "       'DATE_DEPARTURE_LCL_ts', 'DATE_ARRIVAL_LCL_ts', 'Duration_UTC',\n",
       "       'NewYear_Flag', 'MartinLutherKingDay_Flag', 'PresidentsDay_Flag',\n",
       "       'MemorialDay_Flag', 'IndependenceDay_Flag', 'ColumbusDay_Flag',\n",
       "       'VeteransDay_Flag', 'ThanksgivingDay_Flag', 'ChristmasDay_Flag',\n",
       "       'DEP_DEL15_cat', 'not delayed', 'delayed', 'unknown'],\n",
       "      dtype='object')"
      ]
     },
     "execution_count": 240,
     "metadata": {},
     "output_type": "execute_result"
    }
   ],
   "source": [
    "#Feature engineering\n",
    "import datetime as dt\n",
    "import category_encoders as ce\n",
    "\n",
    "def create_columns(_df):\n",
    "    mod_df = _df.copy()\n",
    "    \n",
    "    mod_df.drop(['ORIGIN_AIRPORT_ID', 'DEST_AIRPORT_ID', 'CANCELLED'], inplace = True, axis = 1)\n",
    "    \n",
    "    #transform string to datetime\n",
    "    mod_df['DATE_DEPARTURE_UTC_ts'] = pd.to_datetime(mod_df['DATE_DEPARTURE_UTC'])\n",
    "    mod_df['DATE_ARRIVAL_UTC_ts'] = pd.to_datetime(mod_df['DATE_ARRIVAL_UTC'])\n",
    "    mod_df['DATE_DEPARTURE_LCL_ts'] = pd.to_datetime(mod_df['DATE_DEPARTURE_LCL'])\n",
    "    mod_df['DATE_ARRIVAL_LCL_ts'] = pd.to_datetime(mod_df['DATE_ARRIVAL_LCL'])\n",
    "\n",
    "    #duration of the flight\n",
    "    mod_df['Duration_UTC'] = (mod_df['DATE_ARRIVAL_UTC_ts'] - mod_df['DATE_DEPARTURE_UTC_ts']).dt.seconds/60\n",
    "\n",
    "    #Federal holidays\n",
    "    mod_df['NewYear_Flag'] = mod_df['DATE_DEPARTURE_UTC'].str.contains('01-01').map({True: 1, False: 0})\n",
    "    mod_df['MartinLutherKingDay_Flag'] = mod_df['DATE_DEPARTURE_UTC'].str.contains('01-20').map({True: 1, False: 0})\n",
    "    mod_df['PresidentsDay_Flag'] = mod_df['DATE_DEPARTURE_UTC'].str.contains('02-17').map({True: 1, False: 0})\n",
    "    mod_df['MemorialDay_Flag'] = mod_df['DATE_DEPARTURE_UTC'].str.contains('05-25').map({True: 1, False: 0})\n",
    "    mod_df['IndependenceDay_Flag'] = mod_df['DATE_DEPARTURE_UTC'].str.contains('07-04').map({True: 1, False: 0})\n",
    "    mod_df['ColumbusDay_Flag'] = mod_df['DATE_DEPARTURE_UTC'].str.contains('10-12').map({True: 1, False: 0})\n",
    "    mod_df['VeteransDay_Flag'] = mod_df['DATE_DEPARTURE_UTC'].str.contains('11-11').map({True: 1, False: 0})\n",
    "    mod_df['ThanksgivingDay_Flag'] = mod_df['DATE_DEPARTURE_UTC'].str.contains('11-26').map({True: 1, False: 0})\n",
    "    mod_df['ChristmasDay_Flag'] = mod_df['DATE_DEPARTURE_UTC'].str.contains('12-25').map({True: 1, False: 0})\n",
    "    \n",
    "    #NaN values\n",
    "    mod_df['DEP_DEL15_cat'] = mod_df['DEP_DEL15'].fillna(2).astype('category').map({1: 'delayed', 0: 'not delayed', 2: 'unknown'})\n",
    "   \n",
    "    mod_df = mod_df.join(pd.get_dummies(mod_df['DEP_DEL15_cat']))\n",
    "\n",
    "    return mod_df\n",
    "    \n",
    "train_adj = create_columns(train)    \n",
    "train_adj.columns\n",
    "\n",
    "\n",
    "\n",
    "#if mod_df['DATE_DEPARTURE_LCL_ts']\n",
    "\n",
    "\n",
    "#DEP_DEL15\n",
    "\n",
    "#mod_df.head()\n",
    "#(mod_df['DATE_DEPARTURE_LCL_ts'].dt.month == 1).value_counts()\n",
    "#mod_df['DATE_DEPARTURE_LCL_ts'].dt.date\n",
    "\n",
    "#mod_df['DATE_DEPARTURE_UTC'].str.contains('01-01').map({True: 1, False: 0}).value_counts()\n",
    "\n",
    "\n",
    "\n",
    "#mod_df['DATE_DEPARTURE_LCL_ts'].dt.day\n",
    "#Divide the dataset into correct types\n",
    "#Create a flight duration column (Use UTC times)\n",
    "#Divide timestamps into times of day, e.g morning, afternoon, night (use local times)\n",
    "#Day of the week\n",
    "#Holydays - 0, 1\n",
    "#Look into delay of departure "
   ]
  },
  {
   "cell_type": "code",
   "execution_count": 189,
   "metadata": {},
   "outputs": [],
   "source": []
  },
  {
   "cell_type": "code",
   "execution_count": 208,
   "metadata": {},
   "outputs": [
    {
     "name": "stdout",
     "output_type": "stream",
     "text": [
      "0.9007426473834159\n",
      "0.902288\n"
     ]
    }
   ],
   "source": [
    "from sklearn.linear_model import LogisticRegression\n",
    "from sklearn.model_selection import train_test_split\n",
    "\n",
    "#sort by DATE_DEPARTURE_UTC_ts\n",
    "train_adj = train_adj.sort_values(by=\"DATE_DEPARTURE_UTC_ts\")\n",
    "\n",
    "#features to be used in the baseline model\n",
    "features_baseline = ['Duration_UTC', 'NewYear_Flag', 'MartinLutherKingDay_Flag','not delayed', 'delayed', 'unknown']\n",
    "\n",
    "X = train_adj[features_baseline]\n",
    "y = train_adj['ARR_DEL15']\n",
    "\n",
    "X_train = X.head(294487)\n",
    "X_test = X.tail(125000)\n",
    "\n",
    "y_train = y.head(294487)\n",
    "y_test =  y.tail(125000)\n",
    "\n",
    "#logist regression\n",
    "logit_clf = LogisticRegression()\n",
    "logit_clf.fit(X_train, y_train)\n",
    "score_train = logit_clf.score(X_train, y_train) #0.9007426473834159\n",
    "score_test = logit_clf.score(X_test, y_test) #0.902288\n",
    "logit_clf.predict_proba(X_test).T[1]\n",
    "\n",
    "print(score_train)\n",
    "print(score_test)\n",
    "\n",
    "\n",
    "\n"
   ]
  },
  {
   "cell_type": "code",
   "execution_count": 212,
   "metadata": {},
   "outputs": [
    {
     "name": "stdout",
     "output_type": "stream",
     "text": [
      "0.9012269748526176\n"
     ]
    }
   ],
   "source": [
    "#logist regression\n",
    "logit_clf = LogisticRegression()\n",
    "logit_clf.fit(X, y)\n",
    "score_train = logit_clf.score(X, y) #0.9012269748526176\n",
    "print(score_train)\n"
   ]
  },
  {
   "cell_type": "code",
   "execution_count": 244,
   "metadata": {},
   "outputs": [],
   "source": [
    "#test\n",
    "test_adj = create_columns(test)\n",
    "\n",
    "test_X = test_adj[features_baseline]\n",
    "\n",
    "pred = pd.DataFrame(logit_clf.predict_proba(test_X).T[1], columns = ['ARR_DEL15'])\n",
    "\n",
    "pred['ID'] = test_adj.ID\n",
    "pred.set_index('ID', inplace = True)"
   ]
  },
  {
   "cell_type": "code",
   "execution_count": 248,
   "metadata": {},
   "outputs": [],
   "source": [
    "pred.to_csv('data/baseline.csv')"
   ]
  },
  {
   "cell_type": "code",
   "execution_count": 247,
   "metadata": {},
   "outputs": [
    {
     "data": {
      "text/plain": [
       "(179781, 6)"
      ]
     },
     "execution_count": 247,
     "metadata": {},
     "output_type": "execute_result"
    }
   ],
   "source": [
    "test_X.shape"
   ]
  },
  {
   "cell_type": "code",
   "execution_count": null,
   "metadata": {},
   "outputs": [],
   "source": []
  }
 ],
 "metadata": {
  "kernelspec": {
   "display_name": "Python 3",
   "language": "python",
   "name": "python3"
  },
  "language_info": {
   "codemirror_mode": {
    "name": "ipython",
    "version": 3
   },
   "file_extension": ".py",
   "mimetype": "text/x-python",
   "name": "python",
   "nbconvert_exporter": "python",
   "pygments_lexer": "ipython3",
   "version": "3.6.9"
  }
 },
 "nbformat": 4,
 "nbformat_minor": 4
}
