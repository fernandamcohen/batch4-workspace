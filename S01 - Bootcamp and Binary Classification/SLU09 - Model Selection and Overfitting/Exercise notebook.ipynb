{
 "cells": [
  {
   "cell_type": "markdown",
   "metadata": {
    "deletable": false,
    "editable": false,
    "nbgrader": {
     "grade": false,
     "grade_id": "cell-05e844b835aa5580",
     "locked": true,
     "schema_version": 3,
     "solution": false
    }
   },
   "source": [
    "# SLU09: Model Selection & Overfitting -- Exercises\n",
    "---\n",
    "\n",
    "*Exercises are graded unless otherwise indicated.*"
   ]
  },
  {
   "cell_type": "code",
   "execution_count": 1,
   "metadata": {},
   "outputs": [],
   "source": [
    "import base64\n",
    "import numpy as np\n",
    "import pandas as pd\n",
    "import matplotlib.pyplot as plt\n",
    "from sklearn.datasets import load_boston\n",
    "from sklearn.linear_model import LinearRegression\n",
    "%matplotlib inline"
   ]
  },
  {
   "cell_type": "markdown",
   "metadata": {
    "deletable": false,
    "editable": false,
    "nbgrader": {
     "grade": false,
     "grade_id": "cell-37bf85a5bd1cad30",
     "locked": true,
     "schema_version": 3,
     "solution": false,
     "task": false
    }
   },
   "source": [
    "### Data\n",
    "For this exercise we will use the Boston House Prices dataset. Sklearn has it natively. For more information see: https://scikit-learn.org/stable/datasets/index.html#boston-house-prices-dataset"
   ]
  },
  {
   "cell_type": "code",
   "execution_count": 2,
   "metadata": {},
   "outputs": [
    {
     "data": {
      "text/html": [
       "<div>\n",
       "<style scoped>\n",
       "    .dataframe tbody tr th:only-of-type {\n",
       "        vertical-align: middle;\n",
       "    }\n",
       "\n",
       "    .dataframe tbody tr th {\n",
       "        vertical-align: top;\n",
       "    }\n",
       "\n",
       "    .dataframe thead th {\n",
       "        text-align: right;\n",
       "    }\n",
       "</style>\n",
       "<table border=\"1\" class=\"dataframe\">\n",
       "  <thead>\n",
       "    <tr style=\"text-align: right;\">\n",
       "      <th></th>\n",
       "      <th>CRIM</th>\n",
       "      <th>ZN</th>\n",
       "      <th>INDUS</th>\n",
       "      <th>CHAS</th>\n",
       "      <th>NOX</th>\n",
       "      <th>RM</th>\n",
       "      <th>AGE</th>\n",
       "      <th>DIS</th>\n",
       "      <th>RAD</th>\n",
       "      <th>TAX</th>\n",
       "      <th>PTRATIO</th>\n",
       "      <th>B</th>\n",
       "      <th>LSTAT</th>\n",
       "      <th>target</th>\n",
       "    </tr>\n",
       "  </thead>\n",
       "  <tbody>\n",
       "    <tr>\n",
       "      <th>0</th>\n",
       "      <td>0.00632</td>\n",
       "      <td>18.0</td>\n",
       "      <td>2.31</td>\n",
       "      <td>0.0</td>\n",
       "      <td>0.538</td>\n",
       "      <td>6.575</td>\n",
       "      <td>65.2</td>\n",
       "      <td>4.0900</td>\n",
       "      <td>1.0</td>\n",
       "      <td>296.0</td>\n",
       "      <td>15.3</td>\n",
       "      <td>396.90</td>\n",
       "      <td>4.98</td>\n",
       "      <td>24.0</td>\n",
       "    </tr>\n",
       "    <tr>\n",
       "      <th>1</th>\n",
       "      <td>0.02731</td>\n",
       "      <td>0.0</td>\n",
       "      <td>7.07</td>\n",
       "      <td>0.0</td>\n",
       "      <td>0.469</td>\n",
       "      <td>6.421</td>\n",
       "      <td>78.9</td>\n",
       "      <td>4.9671</td>\n",
       "      <td>2.0</td>\n",
       "      <td>242.0</td>\n",
       "      <td>17.8</td>\n",
       "      <td>396.90</td>\n",
       "      <td>9.14</td>\n",
       "      <td>21.6</td>\n",
       "    </tr>\n",
       "    <tr>\n",
       "      <th>2</th>\n",
       "      <td>0.02729</td>\n",
       "      <td>0.0</td>\n",
       "      <td>7.07</td>\n",
       "      <td>0.0</td>\n",
       "      <td>0.469</td>\n",
       "      <td>7.185</td>\n",
       "      <td>61.1</td>\n",
       "      <td>4.9671</td>\n",
       "      <td>2.0</td>\n",
       "      <td>242.0</td>\n",
       "      <td>17.8</td>\n",
       "      <td>392.83</td>\n",
       "      <td>4.03</td>\n",
       "      <td>34.7</td>\n",
       "    </tr>\n",
       "    <tr>\n",
       "      <th>3</th>\n",
       "      <td>0.03237</td>\n",
       "      <td>0.0</td>\n",
       "      <td>2.18</td>\n",
       "      <td>0.0</td>\n",
       "      <td>0.458</td>\n",
       "      <td>6.998</td>\n",
       "      <td>45.8</td>\n",
       "      <td>6.0622</td>\n",
       "      <td>3.0</td>\n",
       "      <td>222.0</td>\n",
       "      <td>18.7</td>\n",
       "      <td>394.63</td>\n",
       "      <td>2.94</td>\n",
       "      <td>33.4</td>\n",
       "    </tr>\n",
       "    <tr>\n",
       "      <th>4</th>\n",
       "      <td>0.06905</td>\n",
       "      <td>0.0</td>\n",
       "      <td>2.18</td>\n",
       "      <td>0.0</td>\n",
       "      <td>0.458</td>\n",
       "      <td>7.147</td>\n",
       "      <td>54.2</td>\n",
       "      <td>6.0622</td>\n",
       "      <td>3.0</td>\n",
       "      <td>222.0</td>\n",
       "      <td>18.7</td>\n",
       "      <td>396.90</td>\n",
       "      <td>5.33</td>\n",
       "      <td>36.2</td>\n",
       "    </tr>\n",
       "  </tbody>\n",
       "</table>\n",
       "</div>"
      ],
      "text/plain": [
       "      CRIM    ZN  INDUS  CHAS    NOX     RM   AGE     DIS  RAD    TAX  \\\n",
       "0  0.00632  18.0   2.31   0.0  0.538  6.575  65.2  4.0900  1.0  296.0   \n",
       "1  0.02731   0.0   7.07   0.0  0.469  6.421  78.9  4.9671  2.0  242.0   \n",
       "2  0.02729   0.0   7.07   0.0  0.469  7.185  61.1  4.9671  2.0  242.0   \n",
       "3  0.03237   0.0   2.18   0.0  0.458  6.998  45.8  6.0622  3.0  222.0   \n",
       "4  0.06905   0.0   2.18   0.0  0.458  7.147  54.2  6.0622  3.0  222.0   \n",
       "\n",
       "   PTRATIO       B  LSTAT  target  \n",
       "0     15.3  396.90   4.98    24.0  \n",
       "1     17.8  396.90   9.14    21.6  \n",
       "2     17.8  392.83   4.03    34.7  \n",
       "3     18.7  394.63   2.94    33.4  \n",
       "4     18.7  396.90   5.33    36.2  "
      ]
     },
     "execution_count": 2,
     "metadata": {},
     "output_type": "execute_result"
    }
   ],
   "source": [
    "# Load data\n",
    "boston_data = load_boston()\n",
    "df_boston = pd.DataFrame(boston_data.data,columns=boston_data.feature_names)\n",
    "df_boston['target'] = pd.Series(boston_data.target)\n",
    "df_boston.head()"
   ]
  },
  {
   "cell_type": "code",
   "execution_count": 3,
   "metadata": {},
   "outputs": [
    {
     "data": {
      "text/plain": [
       "(506, 14)"
      ]
     },
     "execution_count": 3,
     "metadata": {},
     "output_type": "execute_result"
    }
   ],
   "source": [
    "df_boston.shape"
   ]
  },
  {
   "cell_type": "markdown",
   "metadata": {
    "deletable": false,
    "editable": false,
    "nbgrader": {
     "grade": false,
     "grade_id": "cell-8f08f6d01a41b642",
     "locked": true,
     "schema_version": 3,
     "solution": false,
     "task": false
    }
   },
   "source": [
    "Because this is just an exercise, we are going to assume we only have one feature to work with, **LSTAT** (% lower status of the population), and use it to try to predict **target** (median value of owner-occupied homes in thousands)."
   ]
  },
  {
   "cell_type": "code",
   "execution_count": 4,
   "metadata": {},
   "outputs": [],
   "source": [
    "X = df_boston[['LSTAT']]\n",
    "y = df_boston['target']"
   ]
  },
  {
   "cell_type": "markdown",
   "metadata": {
    "deletable": false,
    "editable": false,
    "nbgrader": {
     "grade": false,
     "grade_id": "cell-5fa6d81872f2011d",
     "locked": true,
     "schema_version": 3,
     "solution": false,
     "task": false
    }
   },
   "source": [
    "Let's quickly plot the data:"
   ]
  },
  {
   "cell_type": "code",
   "execution_count": 5,
   "metadata": {},
   "outputs": [
    {
     "data": {
      "image/png": "[encoded data removed]",
      "text/plain": [
       "<Figure size 360x360 with 1 Axes>"
      ]
     },
     "metadata": {
      "needs_background": "light"
     },
     "output_type": "display_data"
    }
   ],
   "source": [
    "plt.figure(figsize=(5,5))\n",
    "plt.scatter(X, y, c='orange', s=5)\n",
    "plt.xlabel('LSTAT')\n",
    "plt.ylabel('target')\n",
    "plt.show();"
   ]
  },
  {
   "cell_type": "markdown",
   "metadata": {
    "deletable": false,
    "editable": false,
    "nbgrader": {
     "grade": false,
     "grade_id": "cell-af6e4ef9cfe15659",
     "locked": true,
     "schema_version": 3,
     "solution": false
    }
   },
   "source": [
    "## Exercise 1: Train/validation/test split\n",
    "Let's first split our data into train, validation, and test sets. Assume the validation and test sets are each **20%** of the full dataset. Use a **random state** of 42."
   ]
  },
  {
   "cell_type": "code",
   "execution_count": 44,
   "metadata": {
    "deletable": false,
    "nbgrader": {
     "grade": false,
     "grade_id": "cell-8a287c4f6e7371cf",
     "locked": false,
     "schema_version": 3,
     "solution": true
    }
   },
   "outputs": [],
   "source": [
    "# don't forget to import the function you need! \n",
    "# Split the data into train, validation, and test sets\n",
    "# Don't forget to set random state to 42\n",
    "# You should create variables named X_train, X_val, X_test, y_train, y_val, y_test\n",
    "# There are several correct ways to do this, but to get the same answer as the autograder,\n",
    "# follow the method that is in the learning notebook\n",
    "# YOUR CODE HERE\n",
    "\n",
    "from sklearn.model_selection import train_test_split\n",
    "\n",
    "X_train, X_temp, y_train, y_temp = train_test_split(X, y, test_size=0.4, random_state=42)\n",
    "\n",
    "X_val, X_test, y_val, y_test = train_test_split(X_temp, y_temp, test_size=0.50, random_state=42)\n",
    "del X_temp, y_temp"
   ]
  },
  {
   "cell_type": "code",
   "execution_count": 45,
   "metadata": {
    "deletable": false,
    "editable": false,
    "nbgrader": {
     "grade": true,
     "grade_id": "cell-5e6c4cd65290578b",
     "locked": true,
     "points": 3,
     "schema_version": 3,
     "solution": false,
     "task": false
    }
   },
   "outputs": [],
   "source": [
    "\"\"\"Check that the solution is correct.\"\"\"\n",
    "\n",
    "assert X_train.shape == (303, 1)\n",
    "assert X_val.shape == (101, 1)\n",
    "assert X_test.shape == (102, 1)\n",
    "assert y_train.shape == (303,)\n",
    "assert y_val.shape == (101,)\n",
    "assert y_test.shape == (102,)\n",
    "assert list(X_train.index[:10]) == [304, 83, 248, 165, 163, 199, 231, 74, 311, 455]\n",
    "assert list(X_val.index[:10]) == [375, 332, 441, 5, 154, 218, 229, 181, 23, 26]\n",
    "assert list(X_test.index[:10]) == [473, 500, 434, 381, 395, 390, 211, 175, 92, 144]\n",
    "np.testing.assert_almost_equal(X_val.loc[272]['LSTAT'], 7.73, 2)"
   ]
  },
  {
   "cell_type": "markdown",
   "metadata": {
    "deletable": false,
    "editable": false,
    "nbgrader": {
     "grade": false,
     "grade_id": "cell-31e07baf7496d077",
     "locked": true,
     "schema_version": 3,
     "solution": false,
     "task": false
    }
   },
   "source": [
    "## Exercise 2: Train a baseline model\n",
    "Let's train a baseline Linear Regression model on the train set and measure R2 and MSE on the validation set. Make sure you understand why we are only evaluating on the validation set and not the test set!"
   ]
  },
  {
   "cell_type": "code",
   "execution_count": 11,
   "metadata": {},
   "outputs": [],
   "source": [
    "# Initialize model\n",
    "lr_baseline = LinearRegression()"
   ]
  },
  {
   "cell_type": "code",
   "execution_count": 12,
   "metadata": {},
   "outputs": [],
   "source": [
    "# Import metrics\n",
    "from sklearn.metrics import mean_squared_error\n",
    "from sklearn.metrics import r2_score"
   ]
  },
  {
   "cell_type": "code",
   "execution_count": 15,
   "metadata": {
    "deletable": false,
    "nbgrader": {
     "grade": false,
     "grade_id": "cell-4908ced362205fff",
     "locked": false,
     "schema_version": 3,
     "solution": true,
     "task": false
    }
   },
   "outputs": [],
   "source": [
    "# Fit the model to the training set and return MSE and r2 on the validation set\n",
    "\n",
    "lr_baseline.fit(X_train, y_train)\n",
    "y_pred_val = lr_baseline.predict(X_val)\n",
    "\n",
    "mse_baseline_val = mean_squared_error(y_val, y_pred_val)\n",
    "r2_baseline_val = r2_score(y_val, y_pred_val)\n",
    "\n"
   ]
  },
  {
   "cell_type": "code",
   "execution_count": 17,
   "metadata": {
    "deletable": false,
    "editable": false,
    "nbgrader": {
     "grade": true,
     "grade_id": "cell-03805e2b54b3b559",
     "locked": true,
     "points": 2,
     "schema_version": 3,
     "solution": false,
     "task": false
    }
   },
   "outputs": [],
   "source": [
    "\"\"\"Check that the solution is correct.\"\"\"\n",
    "\n",
    "np.testing.assert_almost_equal(mse_baseline_val, 33.4255, 2)\n",
    "np.testing.assert_almost_equal(r2_baseline_val, 0.49178, 2)"
   ]
  },
  {
   "cell_type": "markdown",
   "metadata": {
    "deletable": false,
    "editable": false,
    "nbgrader": {
     "grade": false,
     "grade_id": "cell-6ca2dd1e6964436b",
     "locked": true,
     "schema_version": 3,
     "solution": false,
     "task": false
    }
   },
   "source": [
    "Let's also check the same metrics on the train set"
   ]
  },
  {
   "cell_type": "code",
   "execution_count": 18,
   "metadata": {
    "deletable": false,
    "nbgrader": {
     "grade": false,
     "grade_id": "cell-c407d701b2860312",
     "locked": false,
     "schema_version": 3,
     "solution": true,
     "task": false
    }
   },
   "outputs": [],
   "source": [
    "# Use the fitted model to predict on the train set\n",
    "# Return MSE and r2 on the train set\n",
    "# mse_baseline_train = ...\n",
    "# r2_baseline_train = \n",
    "# YOUR CODE HERE\n",
    "\n",
    "y_pred_train = lr_baseline.predict(X_train)\n",
    "\n",
    "mse_baseline_train = mean_squared_error(y_train, y_pred_train)\n",
    "r2_baseline_train = r2_score(y_train, y_pred_train)"
   ]
  },
  {
   "cell_type": "code",
   "execution_count": 19,
   "metadata": {
    "deletable": false,
    "editable": false,
    "nbgrader": {
     "grade": true,
     "grade_id": "cell-1392aee655dc9a2f",
     "locked": true,
     "points": 1,
     "schema_version": 3,
     "solution": false,
     "task": false
    }
   },
   "outputs": [],
   "source": [
    "\"\"\"Check that the solution is correct.\"\"\"\n",
    "\n",
    "np.testing.assert_almost_equal(mse_baseline_train, 38.8622, 2)\n",
    "np.testing.assert_almost_equal(r2_baseline_train, 0.5645, 2)"
   ]
  },
  {
   "cell_type": "markdown",
   "metadata": {
    "deletable": false,
    "editable": false,
    "nbgrader": {
     "grade": false,
     "grade_id": "cell-b73a0db9866948ec",
     "locked": true,
     "schema_version": 3,
     "solution": false,
     "task": false
    }
   },
   "source": [
    "Let's visualize the fitted regression as well:"
   ]
  },
  {
   "cell_type": "code",
   "execution_count": 20,
   "metadata": {},
   "outputs": [
    {
     "data": {
      "image/png": "[encoded data removed]",
      "text/plain": [
       "<Figure size 360x360 with 1 Axes>"
      ]
     },
     "metadata": {
      "needs_background": "light"
     },
     "output_type": "display_data"
    }
   ],
   "source": [
    "plt.figure(figsize=(5,5))\n",
    "plt.scatter(X_train, y_train, c='orange', s=5)\n",
    "plt.plot(X_train, lr_baseline.predict(X_train))\n",
    "plt.xlabel('LSTAT')\n",
    "plt.ylabel('target')\n",
    "plt.show();"
   ]
  },
  {
   "cell_type": "markdown",
   "metadata": {},
   "source": [
    "### Exercise 2A\n",
    "Judging by the r2 and MSE of the train and validation sets, and the plot of the model's predictions, is this model more likely to be A) underfit or B) overfit? "
   ]
  },
  {
   "cell_type": "code",
   "execution_count": 21,
   "metadata": {
    "deletable": false,
    "nbgrader": {
     "grade": false,
     "grade_id": "cell-0c8c6dcff0cf6559",
     "locked": false,
     "schema_version": 3,
     "solution": true,
     "task": false
    }
   },
   "outputs": [],
   "source": [
    "# answer = 'A' or 'B'\n",
    "answer = 'A'"
   ]
  },
  {
   "cell_type": "code",
   "execution_count": 22,
   "metadata": {
    "deletable": false,
    "editable": false,
    "nbgrader": {
     "grade": true,
     "grade_id": "cell-dda35141c5402326",
     "locked": true,
     "points": 1,
     "schema_version": 3,
     "solution": false,
     "task": false
    }
   },
   "outputs": [],
   "source": [
    "assert base64.b64encode(answer.encode()) == b'QQ=='"
   ]
  },
  {
   "cell_type": "markdown",
   "metadata": {
    "deletable": false,
    "editable": false,
    "nbgrader": {
     "grade": false,
     "grade_id": "cell-e5074f939557f02d",
     "locked": true,
     "schema_version": 3,
     "solution": false,
     "task": false
    }
   },
   "source": [
    "It definitely seems like this model has too much bias. It looks like the relationship between LSTAT and target is more of a curve, so let's try to make the model more flexible by creating polynomial features from LSTAT to hopefully better predict median home price."
   ]
  },
  {
   "cell_type": "markdown",
   "metadata": {
    "deletable": false,
    "editable": false,
    "nbgrader": {
     "grade": false,
     "grade_id": "cell-85c6970053747fb3",
     "locked": true,
     "schema_version": 3,
     "solution": false,
     "task": false
    }
   },
   "source": [
    "## Exercise 3: Train a more complex model\n",
    "Now train a Linear Regression model on the new training data with polynomial features and measure R2 and MSE on the train and validation sets. Don't forget that the validation set will need the same preprocessing that the training data had."
   ]
  },
  {
   "cell_type": "code",
   "execution_count": 24,
   "metadata": {},
   "outputs": [],
   "source": [
    "from utils import expand_dataset"
   ]
  },
  {
   "cell_type": "code",
   "execution_count": 25,
   "metadata": {},
   "outputs": [
    {
     "data": {
      "text/html": [
       "<div>\n",
       "<style scoped>\n",
       "    .dataframe tbody tr th:only-of-type {\n",
       "        vertical-align: middle;\n",
       "    }\n",
       "\n",
       "    .dataframe tbody tr th {\n",
       "        vertical-align: top;\n",
       "    }\n",
       "\n",
       "    .dataframe thead th {\n",
       "        text-align: right;\n",
       "    }\n",
       "</style>\n",
       "<table border=\"1\" class=\"dataframe\">\n",
       "  <thead>\n",
       "    <tr style=\"text-align: right;\">\n",
       "      <th></th>\n",
       "      <th>LSTAT</th>\n",
       "      <th>LSTAT^2</th>\n",
       "      <th>LSTAT^3</th>\n",
       "      <th>LSTAT^4</th>\n",
       "      <th>LSTAT^5</th>\n",
       "      <th>LSTAT^6</th>\n",
       "      <th>LSTAT^7</th>\n",
       "      <th>LSTAT^8</th>\n",
       "      <th>LSTAT^9</th>\n",
       "    </tr>\n",
       "  </thead>\n",
       "  <tbody>\n",
       "    <tr>\n",
       "      <th>304</th>\n",
       "      <td>6.93</td>\n",
       "      <td>48.0249</td>\n",
       "      <td>332.812557</td>\n",
       "      <td>2306.391020</td>\n",
       "      <td>15983.289769</td>\n",
       "      <td>110764.198097</td>\n",
       "      <td>7.675959e+05</td>\n",
       "      <td>5.319440e+06</td>\n",
       "      <td>3.686372e+07</td>\n",
       "    </tr>\n",
       "    <tr>\n",
       "      <th>83</th>\n",
       "      <td>7.51</td>\n",
       "      <td>56.4001</td>\n",
       "      <td>423.564751</td>\n",
       "      <td>3180.971280</td>\n",
       "      <td>23889.094313</td>\n",
       "      <td>179407.098290</td>\n",
       "      <td>1.347347e+06</td>\n",
       "      <td>1.011858e+07</td>\n",
       "      <td>7.599052e+07</td>\n",
       "    </tr>\n",
       "    <tr>\n",
       "      <th>248</th>\n",
       "      <td>9.52</td>\n",
       "      <td>90.6304</td>\n",
       "      <td>862.801408</td>\n",
       "      <td>8213.869404</td>\n",
       "      <td>78196.036728</td>\n",
       "      <td>744426.269647</td>\n",
       "      <td>7.086938e+06</td>\n",
       "      <td>6.746765e+07</td>\n",
       "      <td>6.422920e+08</td>\n",
       "    </tr>\n",
       "    <tr>\n",
       "      <th>165</th>\n",
       "      <td>9.81</td>\n",
       "      <td>96.2361</td>\n",
       "      <td>944.076141</td>\n",
       "      <td>9261.386943</td>\n",
       "      <td>90854.205913</td>\n",
       "      <td>891279.760005</td>\n",
       "      <td>8.743454e+06</td>\n",
       "      <td>8.577329e+07</td>\n",
       "      <td>8.414360e+08</td>\n",
       "    </tr>\n",
       "    <tr>\n",
       "      <th>163</th>\n",
       "      <td>3.32</td>\n",
       "      <td>11.0224</td>\n",
       "      <td>36.594368</td>\n",
       "      <td>121.493302</td>\n",
       "      <td>403.357762</td>\n",
       "      <td>1339.147769</td>\n",
       "      <td>4.445971e+03</td>\n",
       "      <td>1.476062e+04</td>\n",
       "      <td>4.900527e+04</td>\n",
       "    </tr>\n",
       "  </tbody>\n",
       "</table>\n",
       "</div>"
      ],
      "text/plain": [
       "     LSTAT  LSTAT^2     LSTAT^3      LSTAT^4       LSTAT^5        LSTAT^6  \\\n",
       "304   6.93  48.0249  332.812557  2306.391020  15983.289769  110764.198097   \n",
       "83    7.51  56.4001  423.564751  3180.971280  23889.094313  179407.098290   \n",
       "248   9.52  90.6304  862.801408  8213.869404  78196.036728  744426.269647   \n",
       "165   9.81  96.2361  944.076141  9261.386943  90854.205913  891279.760005   \n",
       "163   3.32  11.0224   36.594368   121.493302    403.357762    1339.147769   \n",
       "\n",
       "          LSTAT^7       LSTAT^8       LSTAT^9  \n",
       "304  7.675959e+05  5.319440e+06  3.686372e+07  \n",
       "83   1.347347e+06  1.011858e+07  7.599052e+07  \n",
       "248  7.086938e+06  6.746765e+07  6.422920e+08  \n",
       "165  8.743454e+06  8.577329e+07  8.414360e+08  \n",
       "163  4.445971e+03  1.476062e+04  4.900527e+04  "
      ]
     },
     "execution_count": 25,
     "metadata": {},
     "output_type": "execute_result"
    }
   ],
   "source": [
    "# Preprocess data\n",
    "X_train_poly = expand_dataset(X_train, 10, feature_name='LSTAT')\n",
    "X_train_poly.head()"
   ]
  },
  {
   "cell_type": "code",
   "execution_count": 26,
   "metadata": {},
   "outputs": [],
   "source": [
    "# Initialize model\n",
    "lr_poly = LinearRegression()"
   ]
  },
  {
   "cell_type": "code",
   "execution_count": 49,
   "metadata": {
    "deletable": false,
    "nbgrader": {
     "grade": false,
     "grade_id": "cell-9f9efb40ce2c90f9",
     "locked": false,
     "schema_version": 3,
     "solution": true,
     "task": false
    }
   },
   "outputs": [],
   "source": [
    "# Fit the model to the train set with polynomial features\n",
    "# Perform the same preprocessing on the validation set as the train set\n",
    "# Return MSE and r2 on the train and validation sets\n",
    "# mse_poly_train = ...\n",
    "# r2_poly_train = \n",
    "# mse_poly_val = ...\n",
    "# r2_poly_val = \n",
    "# YOUR CODE HERE\n",
    "\n",
    "lr_poly.fit(X_train_poly, y_train)\n",
    "y_pred_train_poly = lr_poly.predict(X_train_poly)\n",
    "\n",
    "X_val_poly = expand_dataset(X_val, 10, feature_name='LSTAT')\n",
    "y_pred_val_poly = lr_poly.predict(X_val_poly)\n",
    "y_pred_poly_val = y_pred_val_poly\n",
    "mse_poly_train = mean_squared_error(y_train, y_pred_train_poly)\n",
    "r2_poly_train = r2_score(y_train, y_pred_train_poly)\n",
    "\n",
    "mse_poly_val = mean_squared_error(y_val, y_pred_val_poly)\n",
    "r2_poly_val = r2_score(y_val, y_pred_val_poly)\n"
   ]
  },
  {
   "cell_type": "code",
   "execution_count": 50,
   "metadata": {
    "deletable": false,
    "editable": false,
    "nbgrader": {
     "grade": true,
     "grade_id": "cell-317dd26f914e243e",
     "locked": true,
     "points": 3,
     "schema_version": 3,
     "solution": false,
     "task": false
    }
   },
   "outputs": [],
   "source": [
    "\"\"\"Check that the solution is correct.\"\"\"\n",
    "\n",
    "np.testing.assert_almost_equal(mse_poly_train, 26.5562, 1)\n",
    "np.testing.assert_almost_equal(r2_poly_train, 0.7024, 1)\n",
    "np.testing.assert_almost_equal(mse_poly_val, 25.9554, 1)\n",
    "np.testing.assert_almost_equal(r2_poly_val, 0.6053, 1)"
   ]
  },
  {
   "cell_type": "markdown",
   "metadata": {
    "deletable": false,
    "editable": false,
    "nbgrader": {
     "grade": false,
     "grade_id": "cell-e79182176726cc98",
     "locked": true,
     "schema_version": 3,
     "solution": false,
     "task": false
    }
   },
   "source": [
    "Let's visualize our new predictions"
   ]
  },
  {
   "cell_type": "code",
   "execution_count": 51,
   "metadata": {},
   "outputs": [
    {
     "data": {
      "image/png": "[encoded data removed]",
      "text/plain": [
       "<Figure size 360x360 with 1 Axes>"
      ]
     },
     "metadata": {
      "needs_background": "light"
     },
     "output_type": "display_data"
    }
   ],
   "source": [
    "plt.figure(figsize=(5,5))\n",
    "plt.scatter(X_train, y_train, c='orange', s=5)\n",
    "plt.scatter(X_train, lr_poly.predict(X_train_poly))\n",
    "plt.xlabel('LSTAT')\n",
    "plt.ylabel('target')\n",
    "plt.show();"
   ]
  },
  {
   "cell_type": "markdown",
   "metadata": {
    "deletable": false,
    "editable": false,
    "nbgrader": {
     "grade": false,
     "grade_id": "cell-e8074aa03fbdd6da",
     "locked": true,
     "schema_version": 3,
     "solution": false,
     "task": false
    }
   },
   "source": [
    "Validation R-squared increased to 0.61 over the baseline of 0.49, which isn't bad, but the curve of the predictions is quite squiggly! From the chart we can tell that this model is almost definitely overfitting.  We should generally strive to make our models interpretable, and there is no logical way to explain why median home prices would depend on the percentage lower status of the population according to such a complex function."
   ]
  },
  {
   "cell_type": "markdown",
   "metadata": {
    "deletable": false,
    "editable": false,
    "nbgrader": {
     "grade": false,
     "grade_id": "cell-9c75cf65a2bd703e",
     "locked": true,
     "schema_version": 3,
     "solution": false
    }
   },
   "source": [
    "## Exercise 4: Regularization\n",
    "Let's now try to reduce the complexity of our model by using regularization. For this exercise we will only focus on Ridge (L2) regularization, but Lasso and Elastic Net will work in a similar way."
   ]
  },
  {
   "cell_type": "markdown",
   "metadata": {},
   "source": [
    "### Exercise 4.1: L2 Loss\n",
    "First manually calculate the L2 loss on the validation set of the lr_poly model we trained above.\n",
    "Recall the L2 loss function:\n",
    "\n",
    "$$J_{L_2} = \\frac{1}{N} \\sum_{n=1}^N (y_n - \\hat{y}_n)^2 + \\lambda_2 \\sum_{k=1}^K \\beta_k^2$$\n"
   ]
  },
  {
   "cell_type": "code",
   "execution_count": 54,
   "metadata": {
    "deletable": false,
    "nbgrader": {
     "grade": false,
     "grade_id": "cell-692eb1183bd9f57f",
     "locked": false,
     "schema_version": 3,
     "solution": true
    }
   },
   "outputs": [],
   "source": [
    "def l2_loss(y, y_hat, betas, lamb):\n",
    "    \"\"\"\n",
    "    Args: \n",
    "        y : numpy array with shape (num_observations,)\n",
    "            The targets.\n",
    "        y_hat : numpy array with shape (num_observations,)\n",
    "            The predictions.\n",
    "        betas : numpy array with shape (num_features+1,)\n",
    "            The parameters of your regression model. \n",
    "            The first value is the intercept and the \n",
    "            remaining ones are the feature coefficients.\n",
    "        lamb : float\n",
    "            The strength of the L2 regularizer.\n",
    "            \n",
    "    Returns:\n",
    "        L : float\n",
    "    \"\"\"\n",
    "        \n",
    "    # Compute the mean squared error loss part of the general loss function.\n",
    "    # Hint: use can use the sklearn function here\n",
    "    # mse = ...\n",
    "    # YOUR CODE HERE\n",
    "    mse = mean_squared_error(y, y_hat)\n",
    "    \n",
    "    # Compute the L2 part of the general loss function.\n",
    "    # l2 = ...\n",
    "    # YOUR CODE HERE\n",
    "    l2 = (betas[1:]**2).sum()\n",
    "    \n",
    "    # Compute the total loss by combining the parts.\n",
    "    # L = ...\n",
    "    # YOUR CODE HERE\n",
    "    L = mse + lamb*l2\n",
    "    \n",
    "    return L\n"
   ]
  },
  {
   "cell_type": "code",
   "execution_count": 53,
   "metadata": {
    "deletable": false,
    "editable": false,
    "nbgrader": {
     "grade": true,
     "grade_id": "cell-c7a7f5cfc2871021",
     "locked": true,
     "points": 2,
     "schema_version": 3,
     "solution": false
    }
   },
   "outputs": [],
   "source": [
    "\"\"\"Check that the solution is correct.\"\"\"\n",
    "\n",
    "betas = np.append(lr_poly.intercept_, lr_poly.coef_)\n",
    "\n",
    "lamb = 2\n",
    "loss = l2_loss(y_val, y_pred_poly_val, betas, lamb)\n",
    "np.testing.assert_almost_equal(loss, 742.9, 1)\n",
    "\n",
    "lamb2 = 6\n",
    "loss2 = l2_loss(y_val, y_pred_poly_val, betas, lamb2)\n",
    "np.testing.assert_almost_equal(loss2, 2176.9, 1)"
   ]
  },
  {
   "cell_type": "markdown",
   "metadata": {},
   "source": [
    "Nice, now we'll take a look at the coefficients of the lr_poly model:"
   ]
  },
  {
   "cell_type": "code",
   "execution_count": 55,
   "metadata": {},
   "outputs": [
    {
     "data": {
      "image/png": "[encoded data removed]",
      "text/plain": [
       "<Figure size 432x288 with 1 Axes>"
      ]
     },
     "metadata": {
      "needs_background": "light"
     },
     "output_type": "display_data"
    }
   ],
   "source": [
    "plt.plot(range(len(lr_poly.coef_)), [abs(coef) for coef in lr_poly.coef_], marker='o', markerfacecolor='r')\n",
    "plt.xlabel('Polynomial degree')\n",
    "plt.ylabel('Coef. magnitude')\n",
    "plt.show();"
   ]
  },
  {
   "cell_type": "markdown",
   "metadata": {
    "deletable": false,
    "editable": false,
    "nbgrader": {
     "grade": false,
     "grade_id": "cell-b5858606abf5e112",
     "locked": true,
     "schema_version": 3,
     "solution": false,
     "task": false
    }
   },
   "source": [
    "### Exercise 4.2: Ridge\n",
    "Let's see what happens to them when we use Ridge Regularization. We are going to tune the hyperparameter alpha (lambda). Fit Ridge linear models to the polynomial-feature training data using alphas of [0.01, 0.1, 1]. Use normalize=True. Return the best Ridge model."
   ]
  },
  {
   "cell_type": "code",
   "execution_count": 66,
   "metadata": {
    "deletable": false,
    "nbgrader": {
     "grade": false,
     "grade_id": "cell-041c01ab12c152ea",
     "locked": false,
     "schema_version": 3,
     "solution": true
    }
   },
   "outputs": [],
   "source": [
    "# import ... \n",
    "from sklearn.linear_model import Ridge\n",
    "\n",
    "# Iterate through the above choices for alpha. For each:\n",
    "# instantiate an instance of sklearn's Ridge model\n",
    "# use normalize=True\n",
    "# calculate R2 of the validation set\n",
    "# save the best Ridge model in the variable ridge_best\n",
    "# also save the best r2 value\n",
    "# ridge_best = ...\n",
    "# r2_best = ...\n",
    "# YOUR CODE HERE\n",
    "\n",
    "ridge_001 = Ridge(normalize=True, alpha=0.01, random_state=10)\n",
    "ridge_001.fit(X_train_poly, y_train)\n",
    "ridge_001_r2 = ridge_001.score(X_val_poly, y_val)\n",
    "ridge_001_r2\n",
    "#0.5783611684102353\n",
    "\n",
    "ridge_01 = Ridge(normalize=True, alpha=0.1, random_state=10)\n",
    "ridge_01.fit(X_train_poly, y_train)\n",
    "ridge_01_r2 = ridge_01.score(X_val_poly, y_val)\n",
    "ridge_01_r2\n",
    "#0.5504577053834717\n",
    "\n",
    "ridge_1 = Ridge(normalize=True, alpha=1, random_state=10)\n",
    "ridge_1.fit(X_train_poly, y_train)\n",
    "ridge_1_r2 = ridge_1.score(X_val_poly, y_val)\n",
    "ridge_1_r2\n",
    "#0.46809686092071046\n",
    "\n",
    "\n",
    "ridge_best = ridge_001\n",
    "r2_best = ridge_001_r2\n"
   ]
  },
  {
   "cell_type": "code",
   "execution_count": 67,
   "metadata": {
    "deletable": false,
    "editable": false,
    "nbgrader": {
     "grade": true,
     "grade_id": "cell-529b23f08a82851b",
     "locked": true,
     "points": 4,
     "schema_version": 3,
     "solution": false
    }
   },
   "outputs": [],
   "source": [
    "\"\"\"Check that the solution is correct.\"\"\"\n",
    "\n",
    "assert ridge_best.alpha == 0.01\n",
    "np.testing.assert_almost_equal(np.sum(ridge_best.coef_), -1.8292, 1)\n",
    "np.testing.assert_almost_equal(ridge_best.score(X_train_poly, y_train), 0.6498, 2)\n",
    "np.testing.assert_almost_equal(ridge_best.score(X_val_poly, y_val), 0.5783, 2)\n",
    "np.testing.assert_almost_equal(ridge_best.score(X_val_poly, y_val), r2_best, 3)"
   ]
  },
  {
   "cell_type": "markdown",
   "metadata": {
    "deletable": false,
    "editable": false,
    "nbgrader": {
     "grade": false,
     "grade_id": "cell-31055246c1ebde4b",
     "locked": true,
     "schema_version": 3,
     "solution": false,
     "task": false
    }
   },
   "source": [
    "As you can see in the chart below, the coefficients are smaller than in the previous model."
   ]
  },
  {
   "cell_type": "code",
   "execution_count": 68,
   "metadata": {},
   "outputs": [
    {
     "data": {
      "image/png": "[encoded data removed]",
      "text/plain": [
       "<Figure size 432x288 with 1 Axes>"
      ]
     },
     "metadata": {
      "needs_background": "light"
     },
     "output_type": "display_data"
    }
   ],
   "source": [
    "plt.plot(range(len(ridge_best.coef_)), [abs(coef) for coef in ridge_best.coef_], marker='o', markerfacecolor='r')\n",
    "plt.xlabel('Polynomial degree')\n",
    "plt.ylabel('Coef. magnitude')\n",
    "plt.show();"
   ]
  },
  {
   "cell_type": "markdown",
   "metadata": {
    "deletable": false,
    "editable": false,
    "nbgrader": {
     "grade": false,
     "grade_id": "cell-b9be95584a0e2050",
     "locked": true,
     "schema_version": 3,
     "solution": false,
     "task": false
    }
   },
   "source": [
    "And when we plot the predictions, the ridge ones do have a bit of a curve while the baseline prediction is a straight line."
   ]
  },
  {
   "cell_type": "code",
   "execution_count": 69,
   "metadata": {},
   "outputs": [
    {
     "data": {
      "image/png": "[encoded data removed]",
      "text/plain": [
       "<Figure size 360x360 with 1 Axes>"
      ]
     },
     "metadata": {
      "needs_background": "light"
     },
     "output_type": "display_data"
    }
   ],
   "source": [
    "plt.figure(figsize=(5,5))\n",
    "plt.scatter(X_train, y_train, c='orange', s=5)\n",
    "plt.scatter(X_train, ridge_best.predict(X_train_poly))\n",
    "plt.plot(X_train, lr_baseline.predict(X_train), c='green')\n",
    "plt.xlabel('LSTAT')\n",
    "plt.ylabel('target')\n",
    "plt.show();"
   ]
  },
  {
   "cell_type": "markdown",
   "metadata": {
    "deletable": false,
    "editable": false,
    "nbgrader": {
     "grade": false,
     "grade_id": "cell-47b27810ed0562c0",
     "locked": true,
     "schema_version": 3,
     "solution": false,
     "task": false
    }
   },
   "source": [
    "Let's summarize the results of our three models."
   ]
  },
  {
   "cell_type": "code",
   "execution_count": 70,
   "metadata": {},
   "outputs": [
    {
     "name": "stdout",
     "output_type": "stream",
     "text": [
      "---\n",
      "baseline LR R-squared:\n",
      "Train: 0.56 | Validation: 0.49\n",
      "---\n",
      "poly LR R-squared:\n",
      "Train: 0.70 | Validation: 0.61\n",
      "---\n",
      "best_ridge R-squared:\n",
      "Train: 0.65 | Validation: 0.58\n"
     ]
    }
   ],
   "source": [
    "clfs = {'baseline LR': lr_baseline, 'poly LR': lr_poly, 'best_ridge': ridge_best}\n",
    "for key, clf in clfs.items():\n",
    "    if key == 'baseline LR':\n",
    "        y_train_pred_summary = clf.predict(X_train)\n",
    "        y_val_pred_summary = clf.predict(X_val)\n",
    "    else:\n",
    "        y_train_pred_summary = clf.predict(X_train_poly)\n",
    "        y_val_pred_summary = clf.predict(X_val_poly)\n",
    "    \n",
    "    train_r2 = r2_score(y_train, y_train_pred_summary)\n",
    "    val_r2 = r2_score(y_val, y_val_pred_summary)\n",
    "    \n",
    "    print(f'---\\n{key} R-squared:\\nTrain: {train_r2:.2f} | Validation: {val_r2:.2f}')"
   ]
  },
  {
   "cell_type": "markdown",
   "metadata": {},
   "source": [
    "### Exercise 4.3: Evaluate on test set\n",
    "Finally, we're going to use the Ridge model to evaluate the MSE and R2 on the test set."
   ]
  },
  {
   "cell_type": "code",
   "execution_count": 80,
   "metadata": {
    "deletable": false,
    "nbgrader": {
     "grade": false,
     "grade_id": "cell-ec445bf1025800ab",
     "locked": false,
     "schema_version": 3,
     "solution": true,
     "task": false
    }
   },
   "outputs": [
    {
     "data": {
      "text/plain": [
       "0.612581413175988"
      ]
     },
     "execution_count": 80,
     "metadata": {},
     "output_type": "execute_result"
    }
   ],
   "source": [
    "# Predict the median house prices for the test set using the fitted best ridge model\n",
    "X_test_poly = expand_dataset(X_test, 10, feature_name='LSTAT')\n",
    "y_test_pred = ridge_best.predict(X_test_poly)\n",
    "\n",
    "# Also calculate MSE and R2 for the test set\n",
    "mse_test = mean_squared_error(y_test, y_test_pred)\n",
    "r2_test = r2_score(y_test, y_test_pred)\n",
    "r2_test"
   ]
  },
  {
   "cell_type": "code",
   "execution_count": 81,
   "metadata": {
    "deletable": false,
    "editable": false,
    "nbgrader": {
     "grade": true,
     "grade_id": "cell-28570debb21f12f7",
     "locked": true,
     "points": 1,
     "schema_version": 3,
     "solution": false,
     "task": false
    }
   },
   "outputs": [],
   "source": [
    "\"\"\"Check that the solution is correct.\"\"\"\n",
    "\n",
    "np.testing.assert_almost_equal(mse_test, 33.2675, 2)\n",
    "np.testing.assert_almost_equal(r2_test, 0.6126, 2)"
   ]
  },
  {
   "cell_type": "markdown",
   "metadata": {
    "deletable": false,
    "editable": false,
    "nbgrader": {
     "grade": false,
     "grade_id": "cell-c5301880f7809704",
     "locked": true,
     "schema_version": 3,
     "solution": false,
     "task": false
    }
   },
   "source": [
    "The test R-squared is pretty similar to what we were getting on the validation set. But since the dataset is very small and we are only using one feature, there is still a lot of **irreducible error**. But hopefully from this exercise you understand more about how to properly evaluate your models and to check for overfitting."
   ]
  },
  {
   "cell_type": "markdown",
   "metadata": {
    "deletable": false,
    "editable": false,
    "nbgrader": {
     "grade": false,
     "grade_id": "cell-970ade4434f10e80",
     "locked": true,
     "schema_version": 3,
     "solution": false
    }
   },
   "source": [
    "## Exercise 5: Implementing K-fold cross-validation"
   ]
  },
  {
   "cell_type": "markdown",
   "metadata": {
    "deletable": false,
    "editable": false,
    "nbgrader": {
     "grade": false,
     "grade_id": "cell-79dcb5bbe3ccc495",
     "locked": true,
     "schema_version": 3,
     "solution": false,
     "task": false
    }
   },
   "source": [
    "As a last exercise, we are going to try to take advantage of as much data as possible and use k-fold cross validation to approximate our OSE. \n",
    "\n",
    "Use sklearn's cross_val_score on the full dataset (still using only the LSTAT feature) to compute the mean MSE and R2 on 5 folds."
   ]
  },
  {
   "cell_type": "code",
   "execution_count": 82,
   "metadata": {},
   "outputs": [],
   "source": [
    "# You will need this\n",
    "from sklearn.metrics import make_scorer\n",
    "mse_scorer = make_scorer(mean_squared_error)"
   ]
  },
  {
   "cell_type": "code",
   "execution_count": 120,
   "metadata": {
    "deletable": false,
    "nbgrader": {
     "grade": false,
     "grade_id": "cell-b0ed9bb14923e9fd",
     "locked": false,
     "schema_version": 3,
     "solution": true
    }
   },
   "outputs": [
    {
     "data": {
      "text/plain": [
       "35.099518145711194"
      ]
     },
     "execution_count": 120,
     "metadata": {},
     "output_type": "execute_result"
    }
   ],
   "source": [
    "# Don't forget to import the function you need!\n",
    "from sklearn.model_selection import cross_val_score\n",
    "from sklearn.metrics import accuracy_score\n",
    "# Initialize model, use the settings of the best ridge model from before\n",
    "# ridge_cv = ...\n",
    "# YOUR CODE HERE\n",
    "ridge_cv = ridge_best\n",
    "\n",
    "# perform 5-fold cross validation on the full dataset (X and y)\n",
    "# don't forget preprocessing\n",
    "# store the mean cross val scores as mse_cv and r2_cv\n",
    "# mse_cv = ...\n",
    "# r2_cv = ...\n",
    "\n",
    "X_poly = expand_dataset(X, 10, feature_name='LSTAT')\n",
    "y_pred = ridge_best.predict(X_poly)\n",
    "\n",
    "scores = cross_val_score(ridge_cv, X_poly, y, cv=5)\n",
    "mean_error = np.mean(scores)\n",
    "r2_cv = mean_error\n",
    "\n",
    "scores2 = cross_val_score(ridge_cv, X_poly, y, cv=5, scoring = 'neg_mean_squared_error')\n",
    "mse_cv = - scores2.mean()\n",
    "mse_cv\n",
    "#mse_test = mean_squared_error(y_test, y_test_pred)\n",
    "#r2_test = r2_score(y_test, y_test_pred)\n"
   ]
  },
  {
   "cell_type": "code",
   "execution_count": 121,
   "metadata": {
    "deletable": false,
    "editable": false,
    "nbgrader": {
     "grade": true,
     "grade_id": "cell-e89d8d233b70f834",
     "locked": true,
     "points": 3,
     "schema_version": 3,
     "solution": false
    }
   },
   "outputs": [],
   "source": [
    "np.testing.assert_almost_equal(r2_cv, 0.4254, 2)\n",
    "np.testing.assert_almost_equal(mse_cv, 35.0995, 2)"
   ]
  },
  {
   "cell_type": "markdown",
   "metadata": {
    "deletable": false,
    "editable": false,
    "nbgrader": {
     "grade": false,
     "grade_id": "cell-09147b020f44ba3f",
     "locked": true,
     "schema_version": 3,
     "solution": false,
     "task": false
    }
   },
   "source": [
    "With cross-validation, the mean R-squared is actually a lot lower than what we had before, suggesting that this value is a truer approximation of our performance on unseen data, and in our previous exercise we happened to be working with a \"lucky\" split of the data. This is just one reason why proper model evaluation is important!"
   ]
  },
  {
   "cell_type": "code",
   "execution_count": null,
   "metadata": {},
   "outputs": [],
   "source": []
  }
 ],
 "metadata": {
  "kernelspec": {
   "display_name": "Python 3",
   "language": "python",
   "name": "python3"
  },
  "language_info": {
   "codemirror_mode": {
    "name": "ipython",
    "version": 3
   },
   "file_extension": ".py",
   "mimetype": "text/x-python",
   "name": "python",
   "nbconvert_exporter": "python",
   "pygments_lexer": "ipython3",
   "version": "3.6.9"
  }
 },
 "nbformat": 4,
 "nbformat_minor": 2
}
