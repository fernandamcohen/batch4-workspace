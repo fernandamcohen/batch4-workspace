{
 "cells": [
  {
   "cell_type": "markdown",
   "metadata": {},
   "source": [
    "# SLU 05 - Covariance and Correlation: Learning notebook"
   ]
  },
  {
   "cell_type": "markdown",
   "metadata": {},
   "source": [
    "In this notebook we will cover the following: \n",
    "\n",
    "    - Covariance \n",
    "    - Pearson correlation\n",
    "    - Spearman correlation\n",
    "    - Rank\n",
    "    - Correlation matrix\n",
    "    - Observational data\n",
    "    - Experimental data\n",
    "    - Spurious correlations\n",
    "    - Confounding variables"
   ]
  },
  {
   "cell_type": "markdown",
   "metadata": {},
   "source": [
    "Some quick imports to get us started:"
   ]
  },
  {
   "cell_type": "code",
   "execution_count": 1,
   "metadata": {},
   "outputs": [],
   "source": [
    "# Import pandas \n",
    "import pandas as pd \n",
    "# Numpy is your friend \n",
    "import numpy as np \n",
    "\n",
    "# The following is to make some plots along the way \n",
    "import seaborn as sns \n",
    "from matplotlib import pyplot as plt \n",
    "%matplotlib inline\n",
    "\n",
    "# Some quick utilts to avoid filling this notebook with support code \n",
    "from utils import get_heights_data_metric, get_heights_data_freedom_units, \\\n",
    "                  get_data_for_spearman, quick_scatterplot, \\\n",
    "                  scatter_plot, plot_correlated_distrs, \\\n",
    "                  plot_positive_and_negative, plot_correlated_distrs, \\\n",
    "                  plot_correlation_bars, plot_angled_correlations"
   ]
  },
  {
   "cell_type": "markdown",
   "metadata": {},
   "source": [
    "# First, a bit of context  "
   ]
  },
  {
   "cell_type": "markdown",
   "metadata": {},
   "source": [
    "Let's start with a simple question: \n",
    "> **_What's the relationship between a bunch of kid's age, and their height?_**"
   ]
  },
  {
   "cell_type": "markdown",
   "metadata": {},
   "source": [
    "This is something we have an intuition for. If the height goes up when the age goes up, there is some sort of \"positive\" relationship happening. If it's the other way around, then the relationship is negative. \n",
    "\n",
    "There are multiple ways however to quantify these relationships. In this learning unit, we shall be going through a few. "
   ]
  },
  {
   "cell_type": "markdown",
   "metadata": {},
   "source": [
    "For this notebook, we will use a tiny dataset of kids heights and ages, which is the following: "
   ]
  },
  {
   "cell_type": "code",
   "execution_count": 2,
   "metadata": {},
   "outputs": [
    {
     "data": {
      "text/html": [
       "<div>\n",
       "<style scoped>\n",
       "    .dataframe tbody tr th:only-of-type {\n",
       "        vertical-align: middle;\n",
       "    }\n",
       "\n",
       "    .dataframe tbody tr th {\n",
       "        vertical-align: top;\n",
       "    }\n",
       "\n",
       "    .dataframe thead th {\n",
       "        text-align: right;\n",
       "    }\n",
       "</style>\n",
       "<table border=\"1\" class=\"dataframe\">\n",
       "  <thead>\n",
       "    <tr style=\"text-align: right;\">\n",
       "      <th></th>\n",
       "      <th>ages</th>\n",
       "      <th>heights</th>\n",
       "    </tr>\n",
       "  </thead>\n",
       "  <tbody>\n",
       "    <tr>\n",
       "      <th>0</th>\n",
       "      <td>2</td>\n",
       "      <td>120</td>\n",
       "    </tr>\n",
       "    <tr>\n",
       "      <th>1</th>\n",
       "      <td>4</td>\n",
       "      <td>125</td>\n",
       "    </tr>\n",
       "    <tr>\n",
       "      <th>2</th>\n",
       "      <td>4</td>\n",
       "      <td>127</td>\n",
       "    </tr>\n",
       "    <tr>\n",
       "      <th>3</th>\n",
       "      <td>6</td>\n",
       "      <td>135</td>\n",
       "    </tr>\n",
       "    <tr>\n",
       "      <th>4</th>\n",
       "      <td>8</td>\n",
       "      <td>140</td>\n",
       "    </tr>\n",
       "    <tr>\n",
       "      <th>5</th>\n",
       "      <td>9</td>\n",
       "      <td>139</td>\n",
       "    </tr>\n",
       "    <tr>\n",
       "      <th>6</th>\n",
       "      <td>12</td>\n",
       "      <td>170</td>\n",
       "    </tr>\n",
       "    <tr>\n",
       "      <th>7</th>\n",
       "      <td>14</td>\n",
       "      <td>210</td>\n",
       "    </tr>\n",
       "  </tbody>\n",
       "</table>\n",
       "</div>"
      ],
      "text/plain": [
       "   ages  heights\n",
       "0     2      120\n",
       "1     4      125\n",
       "2     4      127\n",
       "3     6      135\n",
       "4     8      140\n",
       "5     9      139\n",
       "6    12      170\n",
       "7    14      210"
      ]
     },
     "execution_count": 2,
     "metadata": {},
     "output_type": "execute_result"
    }
   ],
   "source": [
    "data_metric = get_heights_data_metric()\n",
    "data_metric"
   ]
  },
  {
   "cell_type": "markdown",
   "metadata": {},
   "source": [
    "Before we jump into the deep end, let's get a visual intuition of our data. "
   ]
  },
  {
   "cell_type": "code",
   "execution_count": 3,
   "metadata": {},
   "outputs": [
    {
     "data": {
      "image/png": "[encoded data removed]",
      "text/plain": [
       "<Figure size 864x432 with 1 Axes>"
      ]
     },
     "metadata": {
      "needs_background": "light"
     },
     "output_type": "display_data"
    }
   ],
   "source": [
    "quick_scatterplot(data_metric)"
   ]
  },
  {
   "cell_type": "markdown",
   "metadata": {},
   "source": [
    "Clearly, the older kids are, the taller they get, with some exceptions here and there. "
   ]
  },
  {
   "cell_type": "markdown",
   "metadata": {},
   "source": [
    "## Covariance "
   ]
  },
  {
   "cell_type": "markdown",
   "metadata": {},
   "source": [
    "For all practical purposes covariance is, quite simply, a measure of \"how much\" two variables change together."
   ]
  },
  {
   "cell_type": "markdown",
   "metadata": {},
   "source": [
    "It's expression is given by the following: \n",
    "\n",
    "$$ cov = \\frac{\\sum{(X - X_{avg})(Y - Y_{avg})}}{n-1} $$\n",
    "\n",
    "Where\n",
    "- `n` is the number of points\n",
    "- $X_{avg}$ is the mean X (in this case the mean age of all kids)\n",
    "- $Y_{avg}$ is the mean Y (in this case the mean height of all kids)"
   ]
  },
  {
   "cell_type": "markdown",
   "metadata": {},
   "source": [
    "The top part of this equation can be tought about visually by drawing the following: \n",
    "1. A cross in the $(X_{avg}, Y_{avg})$ point   \n",
    "2. Squares between the mean (age, height) point, and the observed (age, height) points. \n",
    "\n",
    "I'll draw one here for the kid with $(age=12, height=170)$ "
   ]
  },
  {
   "cell_type": "code",
   "execution_count": 4,
   "metadata": {},
   "outputs": [
    {
     "data": {
      "image/png": "[encoded data removed]",
      "text/plain": [
       "<Figure size 864x432 with 1 Axes>"
      ]
     },
     "metadata": {
      "needs_background": "light"
     },
     "output_type": "display_data"
    }
   ],
   "source": [
    "quick_scatterplot(data_metric, plot_center=True, plot_squares=6)"
   ]
  },
  {
   "cell_type": "markdown",
   "metadata": {},
   "source": [
    "By observing the equasion, we can notice that some \"squares\" will count negatively to the covariance (for instance the kid with $(age=9, height=139)$, because \n",
    "$$(9-7.375) * (139 - 145.75) \\approx -11 $$\n",
    "(notice that `Age_avg=7.375`, `Height_avg=145.75`) \n",
    "\n",
    "We will represent these in red: "
   ]
  },
  {
   "cell_type": "code",
   "execution_count": 5,
   "metadata": {},
   "outputs": [
    {
     "data": {
      "image/png": "[encoded data removed]",
      "text/plain": [
       "<Figure size 864x432 with 1 Axes>"
      ]
     },
     "metadata": {
      "needs_background": "light"
     },
     "output_type": "display_data"
    }
   ],
   "source": [
    "quick_scatterplot(data_metric, plot_center=True, plot_squares=5)"
   ]
  },
  {
   "cell_type": "markdown",
   "metadata": {},
   "source": [
    "So a simple visual intuition for covariance is \"the blue, minus the red\":"
   ]
  },
  {
   "cell_type": "code",
   "execution_count": 6,
   "metadata": {},
   "outputs": [
    {
     "data": {
      "image/png": "[encoded data removed]",
      "text/plain": [
       "<Figure size 864x432 with 1 Axes>"
      ]
     },
     "metadata": {
      "needs_background": "light"
     },
     "output_type": "display_data"
    }
   ],
   "source": [
    "quick_scatterplot(data_metric, plot_center=True, plot_squares='all')"
   ]
  },
  {
   "cell_type": "markdown",
   "metadata": {},
   "source": [
    "## Calculating covariance by hand \n",
    "Great! Now that we have a visual intuition, we can simply calculate this by hand: "
   ]
  },
  {
   "cell_type": "markdown",
   "metadata": {},
   "source": [
    "Quick reminder of the formula: \n",
    "$$ cov = \\frac{\\sum{(X - X_{avg})(Y - Y_{avg})}}{n-1} $$"
   ]
  },
  {
   "cell_type": "code",
   "execution_count": 5,
   "metadata": {},
   "outputs": [],
   "source": [
    "# subtract the mean age from each of the ages \n",
    "mean_age = data_metric['ages'].mean()\n",
    "data_metric['ages - mean_age'] = data_metric['ages'] - mean_age\n",
    "\n",
    "# subtract the mean height from each of the heights \n",
    "mean_height = data_metric['heights'].mean()\n",
    "data_metric['heights - mean_height'] = data_metric['heights'] - mean_height\n",
    "\n",
    "# get the product between the two columns we just calculated \n",
    "data_metric['product of differences'] = (data_metric['ages - mean_age'] * data_metric['heights - mean_height'])"
   ]
  },
  {
   "cell_type": "code",
   "execution_count": 8,
   "metadata": {},
   "outputs": [
    {
     "data": {
      "text/html": [
       "<div>\n",
       "<style scoped>\n",
       "    .dataframe tbody tr th:only-of-type {\n",
       "        vertical-align: middle;\n",
       "    }\n",
       "\n",
       "    .dataframe tbody tr th {\n",
       "        vertical-align: top;\n",
       "    }\n",
       "\n",
       "    .dataframe thead th {\n",
       "        text-align: right;\n",
       "    }\n",
       "</style>\n",
       "<table border=\"1\" class=\"dataframe\">\n",
       "  <thead>\n",
       "    <tr style=\"text-align: right;\">\n",
       "      <th></th>\n",
       "      <th>ages</th>\n",
       "      <th>heights</th>\n",
       "      <th>ages - mean_age</th>\n",
       "      <th>heights - mean_height</th>\n",
       "      <th>product of differences</th>\n",
       "    </tr>\n",
       "  </thead>\n",
       "  <tbody>\n",
       "    <tr>\n",
       "      <th>0</th>\n",
       "      <td>2</td>\n",
       "      <td>120</td>\n",
       "      <td>-5.375</td>\n",
       "      <td>-25.75</td>\n",
       "      <td>138.40625</td>\n",
       "    </tr>\n",
       "    <tr>\n",
       "      <th>1</th>\n",
       "      <td>4</td>\n",
       "      <td>125</td>\n",
       "      <td>-3.375</td>\n",
       "      <td>-20.75</td>\n",
       "      <td>70.03125</td>\n",
       "    </tr>\n",
       "    <tr>\n",
       "      <th>2</th>\n",
       "      <td>4</td>\n",
       "      <td>127</td>\n",
       "      <td>-3.375</td>\n",
       "      <td>-18.75</td>\n",
       "      <td>63.28125</td>\n",
       "    </tr>\n",
       "    <tr>\n",
       "      <th>3</th>\n",
       "      <td>6</td>\n",
       "      <td>135</td>\n",
       "      <td>-1.375</td>\n",
       "      <td>-10.75</td>\n",
       "      <td>14.78125</td>\n",
       "    </tr>\n",
       "    <tr>\n",
       "      <th>4</th>\n",
       "      <td>8</td>\n",
       "      <td>140</td>\n",
       "      <td>0.625</td>\n",
       "      <td>-5.75</td>\n",
       "      <td>-3.59375</td>\n",
       "    </tr>\n",
       "  </tbody>\n",
       "</table>\n",
       "</div>"
      ],
      "text/plain": [
       "   ages  heights  ages - mean_age  heights - mean_height  \\\n",
       "0     2      120           -5.375                 -25.75   \n",
       "1     4      125           -3.375                 -20.75   \n",
       "2     4      127           -3.375                 -18.75   \n",
       "3     6      135           -1.375                 -10.75   \n",
       "4     8      140            0.625                  -5.75   \n",
       "\n",
       "   product of differences  \n",
       "0               138.40625  \n",
       "1                70.03125  \n",
       "2                63.28125  \n",
       "3                14.78125  \n",
       "4                -3.59375  "
      ]
     },
     "execution_count": 8,
     "metadata": {},
     "output_type": "execute_result"
    }
   ],
   "source": [
    "data_metric.head()"
   ]
  },
  {
   "cell_type": "markdown",
   "metadata": {},
   "source": [
    "Alright, so to calculate the top of the fraction we just need to sum the last column"
   ]
  },
  {
   "cell_type": "code",
   "execution_count": 6,
   "metadata": {},
   "outputs": [],
   "source": [
    "top_of_fraction = data_metric['product of differences'].sum()"
   ]
  },
  {
   "cell_type": "markdown",
   "metadata": {},
   "source": [
    "\n",
    "$$ cov = \\frac{\\sum{(X - X_{avg})(Y - Y_{avg})}}{n-1} $$"
   ]
  },
  {
   "cell_type": "markdown",
   "metadata": {},
   "source": [
    "The bottom half is `n-1`, where `n` is the number of rows. We have the [`.shape`](https://pandas.pydata.org/pandas-docs/stable/reference/api/pandas.DataFrame.shape.html) command to get that! "
   ]
  },
  {
   "cell_type": "code",
   "execution_count": 7,
   "metadata": {},
   "outputs": [],
   "source": [
    "covariance_by_hand = top_of_fraction / (data_metric.shape[0] - 1)"
   ]
  },
  {
   "cell_type": "markdown",
   "metadata": {},
   "source": [
    "So how much is our co-variance, calculated by hand? "
   ]
  },
  {
   "cell_type": "code",
   "execution_count": 8,
   "metadata": {},
   "outputs": [
    {
     "name": "stdout",
     "output_type": "stream",
     "text": [
      "Covariance by hand = 115.68\n"
     ]
    }
   ],
   "source": [
    "print('Covariance by hand = %0.2f' % covariance_by_hand)"
   ]
  },
  {
   "cell_type": "markdown",
   "metadata": {},
   "source": [
    "Well that was boring! Let's just use 1 line of pandas instead: "
   ]
  },
  {
   "cell_type": "code",
   "execution_count": 9,
   "metadata": {},
   "outputs": [],
   "source": [
    "covariance_with_pandas = data_metric['ages'].cov(data_metric['heights'])"
   ]
  },
  {
   "cell_type": "code",
   "execution_count": 10,
   "metadata": {},
   "outputs": [
    {
     "name": "stdout",
     "output_type": "stream",
     "text": [
      "Covariance with Pandas = 115.68\n"
     ]
    }
   ],
   "source": [
    "print('Covariance with Pandas = %0.2f' % covariance_with_pandas)"
   ]
  },
  {
   "cell_type": "markdown",
   "metadata": {},
   "source": [
    "### Quick summary of what we did: "
   ]
  },
  {
   "cell_type": "markdown",
   "metadata": {},
   "source": [
    "<table border=\"1\" class=\"dataframe\">  <thead>    <tr style=\"text-align: right;\">      <th></th>      <th>ages</th>      <th>heights</th>      <th>ages - mean_age</th>      <th>heights - mean_height</th>      <th>product of differences</th>    </tr>  </thead>  <tbody>    <tr>      <th>0</th>      <td>2</td>      <td>120</td>      <td>-5.375</td>      <td>-25.75</td>      <td>138.40625</td>    </tr>    <tr>      <th>1</th>      <td>4</td>      <td>125</td>      <td>-3.375</td>      <td>-20.75</td>      <td>70.03125</td>    </tr>    <tr>      <th>2</th>      <td>4</td>      <td>127</td>      <td>-3.375</td>      <td>-18.75</td>      <td>63.28125</td>    </tr>    <tr>      <th>3</th>      <td>6</td>      <td>135</td>      <td>-1.375</td>      <td>-10.75</td>      <td>14.78125</td>    </tr>    <tr>      <th>4</th>      <td>8</td>      <td>140</td>      <td>0.625</td>      <td>-5.75</td>      <td>-3.59375</td>    </tr>  </tbody></table>"
   ]
  },
  {
   "cell_type": "markdown",
   "metadata": {},
   "source": [
    "Let us consider the units here. We did some weird things: \n",
    "1. Subtracted the mean height (**cm**) from each height, meaning that our column `\"heights - mean_height\"` was in **cm** \n",
    "2. Subtracted the mean age (**years**) from each age, meaning that our column `\"ages - mean_age\"` was in **years**\n",
    "3. We then multiplied these two, making our column `\"product of differences\"` be in the odd unit of **`cm.years`**\n",
    "4. Now we summed over the observations, keeping the units (**`cm.years`**) \n",
    "5. We finally divided by the number of observations (minus one), so the unit is still **`cm.years`**"
   ]
  },
  {
   "cell_type": "markdown",
   "metadata": {},
   "source": [
    "What this means in practice, is that if your boss asked you how the heights and ages were related, using covariance would lead to the akward answer:"
   ]
  },
  {
   "cell_type": "markdown",
   "metadata": {},
   "source": [
    "![poor answer](https://i.imgflip.com/27xd7y.jpg)"
   ]
  },
  {
   "cell_type": "markdown",
   "metadata": {},
   "source": [
    "Which is perfectly correct, but not particularly informative. For one thing, it depends on the magnitude of the variables, which is counter-intuitive: \n",
    "> If we were measuring heights in inches instead of centimeters, would the relationship become weaker? The variance would certainly change!  \n",
    "\n",
    "The problem here is that the metric is giving you an idea of **_the extent to which the variables change together_**, which sounds good, but is dependent on the magnitude of the variables themselves, and generally not actually what we want. \n",
    "\n",
    "More often than not, we want to answer the question **_how strong is the relationship between these two variables?_**. And to answer that question, as you might have guessed, we have our old friend, correlation. "
   ]
  },
  {
   "cell_type": "markdown",
   "metadata": {},
   "source": [
    "## Why use correlation "
   ]
  },
  {
   "cell_type": "markdown",
   "metadata": {},
   "source": [
    "Let us think about this. The covariance for our age and heights problem was `115.68 cm.years`. \n",
    "\n",
    "We don't like this \"`cm.years`\" nonsense, and want a measure that will hold even if we are working with feet instead of centimeters.  \n",
    "(_Note: 1ft ~ 30.48cm in Freedom Units <sup>TM</sup>_) "
   ]
  },
  {
   "cell_type": "code",
   "execution_count": 11,
   "metadata": {},
   "outputs": [
    {
     "data": {
      "text/html": [
       "<div>\n",
       "<style scoped>\n",
       "    .dataframe tbody tr th:only-of-type {\n",
       "        vertical-align: middle;\n",
       "    }\n",
       "\n",
       "    .dataframe tbody tr th {\n",
       "        vertical-align: top;\n",
       "    }\n",
       "\n",
       "    .dataframe thead th {\n",
       "        text-align: right;\n",
       "    }\n",
       "</style>\n",
       "<table border=\"1\" class=\"dataframe\">\n",
       "  <thead>\n",
       "    <tr style=\"text-align: right;\">\n",
       "      <th></th>\n",
       "      <th>ages</th>\n",
       "      <th>heights</th>\n",
       "    </tr>\n",
       "  </thead>\n",
       "  <tbody>\n",
       "    <tr>\n",
       "      <th>0</th>\n",
       "      <td>2</td>\n",
       "      <td>3.937008</td>\n",
       "    </tr>\n",
       "    <tr>\n",
       "      <th>1</th>\n",
       "      <td>4</td>\n",
       "      <td>4.101050</td>\n",
       "    </tr>\n",
       "    <tr>\n",
       "      <th>2</th>\n",
       "      <td>4</td>\n",
       "      <td>4.166667</td>\n",
       "    </tr>\n",
       "    <tr>\n",
       "      <th>3</th>\n",
       "      <td>6</td>\n",
       "      <td>4.429134</td>\n",
       "    </tr>\n",
       "    <tr>\n",
       "      <th>4</th>\n",
       "      <td>8</td>\n",
       "      <td>4.593176</td>\n",
       "    </tr>\n",
       "  </tbody>\n",
       "</table>\n",
       "</div>"
      ],
      "text/plain": [
       "   ages   heights\n",
       "0     2  3.937008\n",
       "1     4  4.101050\n",
       "2     4  4.166667\n",
       "3     6  4.429134\n",
       "4     8  4.593176"
      ]
     },
     "execution_count": 11,
     "metadata": {},
     "output_type": "execute_result"
    }
   ],
   "source": [
    "# The same dataset, but now with the heights in feet, instead of centimeters \n",
    "data_freedom_units = get_heights_data_freedom_units()\n",
    "# Let's take a look \n",
    "data_freedom_units.head(5)"
   ]
  },
  {
   "cell_type": "markdown",
   "metadata": {},
   "source": [
    "Now that the dataset is in feet, our covariance will go down, because the magnitude of our heights will be on a smaller scale. Can you spot that in the expression? \n",
    "\n",
    "$$ cov = \\frac{\\sum{(Height_i - Height_{mean})(Age_i - Age_{mean})}}{n-1} $$"
   ]
  },
  {
   "cell_type": "markdown",
   "metadata": {},
   "source": [
    "Let's calculate the covariance in metric, and in freedom units, and print it: "
   ]
  },
  {
   "cell_type": "code",
   "execution_count": 12,
   "metadata": {},
   "outputs": [
    {
     "name": "stdout",
     "output_type": "stream",
     "text": [
      "Covariance using centimeters:                      115.68 (cm.years)  \n",
      "Covariance when using feet instead of centimeters: 3.80   (ft.years)\n"
     ]
    }
   ],
   "source": [
    "# calculate the covariance in the metric dataset \n",
    "covariance_in_metric = data_metric['ages'].cov(data_metric['heights'])\n",
    "\n",
    "# calculate the covariance in the freedom units dataset \n",
    "covariance_in_freedom_units = data_freedom_units['ages'].cov(\n",
    "    data_freedom_units['heights'])\n",
    "\n",
    "print('Covariance using centimeters:                      %0.02f (cm.years)  ' % covariance_in_metric)\n",
    "print('Covariance when using feet instead of centimeters: %0.02f   (ft.years)' % covariance_in_freedom_units)"
   ]
  },
  {
   "cell_type": "markdown",
   "metadata": {},
   "source": [
    "So this kind of sucks. Depending on how we measure it, we get different \"amount of relationship\", which is very counter intuitive. "
   ]
  },
  {
   "cell_type": "markdown",
   "metadata": {},
   "source": [
    "![](https://i.imgflip.com/27xlme.jpg)"
   ]
  },
  {
   "cell_type": "markdown",
   "metadata": {},
   "source": [
    "## Correlation \n",
    "\n",
    "Correlation is covariance's prettier, cooler, and more successfull sibling. \n",
    "\n",
    "There are multiple reasons for this \n",
    "> 1. Correlation is adimensional (unit free), so it's easier to think about (none of this \"cm.years\" nonsense) \n",
    "> 2. The value of correlation takes place between -1 and +1, while covariance lies between -∞ and +∞.\n",
    "> 3. Correlation is not affected by the change in scale, while covariance is. \n",
    "\n",
    "As you grow older, you will likely forget about covariance and remember only correlation, in the same way that everyone remembers Bill Gates and no-one remembers Paul Allen (in this analogy, Bill Gates is the \"cool one\"). \n",
    "\n",
    "But before you toss covariance into the dustbin of your mind, remember only this: \n",
    "\n",
    "> Correlation is just normalized covariance\n",
    "\n",
    "Normalized by what, I head you ask? By variance! \n",
    "\n",
    "$$ correlation = \\frac{covariance(X, Y)}{\\sqrt{Var(X) * Var(Y)}} $$"
   ]
  },
  {
   "cell_type": "markdown",
   "metadata": {},
   "source": [
    "Remember that when the heights turned to feet, our covariance went down? Well, the $\\sqrt{Var(X) * Var(Y)}$ term in the correlation comes to the rescue here, because it will also become proportionately smaller. \n",
    "\n",
    "Let's try: "
   ]
  },
  {
   "cell_type": "code",
   "execution_count": 13,
   "metadata": {},
   "outputs": [
    {
     "name": "stdout",
     "output_type": "stream",
     "text": [
      "In metric system:\n",
      "Variance of ages:    17.41   (years**2)\n",
      "Variance of heights: 907.93  (cm**2)\n",
      "\n",
      "In freedom units\n",
      "Variance of ages:    17.41   (years**2)\n",
      "Variance of heights: 0.98    (ft**2)\n"
     ]
    }
   ],
   "source": [
    "# get the variance of the ages (same for both datasets)\n",
    "variance_ages = data_metric['ages'].var()\n",
    "# get the variance of the heights in cm \n",
    "variance_heights_cm = data_metric['heights'].var()\n",
    "# get the variance of the heights in feet \n",
    "variance_heights_ft = data_freedom_units['heights'].var()\n",
    "\n",
    "# print the results \n",
    "print('In metric system:')\n",
    "print('Variance of ages:    %0.02f   (years**2)' % variance_ages)\n",
    "print('Variance of heights: %0.02f  (cm**2)' % variance_heights_cm)\n",
    "print('\\nIn freedom units')\n",
    "print('Variance of ages:    %0.02f   (years**2)' % variance_ages)\n",
    "print('Variance of heights: %0.02f    (ft**2)' % variance_heights_ft)"
   ]
  },
  {
   "cell_type": "markdown",
   "metadata": {},
   "source": [
    "So while the covariance increased, the variance of the heights also increased, which will offset each other, and allow correlation to be independent of how we measure the heights! "
   ]
  },
  {
   "cell_type": "markdown",
   "metadata": {},
   "source": [
    "Now in the meantime, you've probably noticed the metrics of the variance, leading to the question ..."
   ]
  },
  {
   "cell_type": "markdown",
   "metadata": {},
   "source": [
    "![square feet](https://i.imgflip.com/27xfyc.jpg)"
   ]
  },
  {
   "cell_type": "markdown",
   "metadata": {},
   "source": [
    "That's just the way Variance works. It calculated how much your variable is \"scattered\", but the units aren't intuitive (which is why we generally prefer standard deviation). \n",
    "\n",
    "However, using variance gives us a super cool propriety, which is that correlation has no units! "
   ]
  },
  {
   "cell_type": "markdown",
   "metadata": {},
   "source": [
    "$$ correlation = \\frac{covariance}{\\sqrt{Var(X) * Var(Y)}}$$"
   ]
  },
  {
   "cell_type": "markdown",
   "metadata": {},
   "source": [
    "Notice the units: "
   ]
  },
  {
   "cell_type": "markdown",
   "metadata": {},
   "source": [
    "$$\\frac{ ... ft.years}{\\sqrt{( ... years^{2}) * ( ... ft^{2}})}  \\Leftrightarrow  \\frac{... ft.years}{(\\sqrt{... (ft.years)^{2}})} \\Leftrightarrow \\frac{ ... ft.years}{... ft.years} \\Leftrightarrow VictoryIsMine! $$ "
   ]
  },
  {
   "cell_type": "markdown",
   "metadata": {},
   "source": [
    "There only remains to do the satisfying thing, in Pandas: "
   ]
  },
  {
   "cell_type": "code",
   "execution_count": 14,
   "metadata": {},
   "outputs": [
    {
     "name": "stdout",
     "output_type": "stream",
     "text": [
      "Correlation in metric system:            0.92\n",
      "Correlation in imperial (freedom) units: 0.92\n"
     ]
    }
   ],
   "source": [
    "# calculate the correlation in the metric dataset, in Pandas\n",
    "correlation_in_metric = data_metric['heights'].corr(data_metric['ages'])\n",
    "\n",
    "# calculate the correlation in the freedom units dataset, in Pandas\n",
    "correlation_in_freedom_units = data_freedom_units['heights'].corr(data_freedom_units['ages'])\n",
    "\n",
    "# print results \n",
    "print('Correlation in metric system:            %0.2f' % correlation_in_metric)\n",
    "print('Correlation in imperial (freedom) units: %0.2f' % correlation_in_freedom_units)"
   ]
  },
  {
   "cell_type": "markdown",
   "metadata": {},
   "source": [
    "Ye-haw. "
   ]
  },
  {
   "cell_type": "markdown",
   "metadata": {},
   "source": [
    "----"
   ]
  },
  {
   "cell_type": "markdown",
   "metadata": {},
   "source": [
    "# Positive and negative correlations "
   ]
  },
  {
   "cell_type": "markdown",
   "metadata": {},
   "source": [
    "Great, so we have an idea about what correlation is. \n",
    "\n",
    "Graphically, you can (kind of) think of correlation as the \"error bars\" of fitting a line to a distribution. "
   ]
  },
  {
   "cell_type": "code",
   "execution_count": 15,
   "metadata": {},
   "outputs": [
    {
     "data": {
      "image/png": "[encoded data removed]",
      "text/plain": [
       "<Figure size 576x576 with 1 Axes>"
      ]
     },
     "metadata": {
      "needs_background": "light"
     },
     "output_type": "display_data"
    }
   ],
   "source": [
    "plot_correlation_bars()"
   ]
  },
  {
   "cell_type": "markdown",
   "metadata": {},
   "source": [
    "This leads to an interesting problem, which is that correlation is (unlike often thought) the angle that a line would take, but rather the \"dispersion\" around that line. In fact, the following two distributions (rather counter-intuitively) have the same correlation: "
   ]
  },
  {
   "cell_type": "code",
   "execution_count": 19,
   "metadata": {},
   "outputs": [
    {
     "data": {
      "image/png": "[encoded data removed]",
      "text/plain": [
       "<Figure size 576x576 with 1 Axes>"
      ]
     },
     "metadata": {
      "needs_background": "light"
     },
     "output_type": "display_data"
    }
   ],
   "source": [
    "plot_angled_correlations()"
   ]
  },
  {
   "cell_type": "markdown",
   "metadata": {},
   "source": [
    "Nonetheless, we know that when a correlation has a \"downwards slope\", it is negative:"
   ]
  },
  {
   "cell_type": "code",
   "execution_count": 20,
   "metadata": {},
   "outputs": [
    {
     "data": {
      "image/png": "[encoded data removed]",
      "text/plain": [
       "<Figure size 576x576 with 1 Axes>"
      ]
     },
     "metadata": {
      "needs_background": "light"
     },
     "output_type": "display_data"
    }
   ],
   "source": [
    "plot_positive_and_negative()"
   ]
  },
  {
   "cell_type": "markdown",
   "metadata": {},
   "source": [
    "The thing to remember is that correlation is a bit less intuitive than you may think. A \"downwards slope\" is always negative, but between multiple positive slopes, you need to look at the dispersion. As a last exercise, let's look at what happens when perfectly correlated distributions change slope: "
   ]
  },
  {
   "cell_type": "code",
   "execution_count": 21,
   "metadata": {},
   "outputs": [
    {
     "data": {
      "image/png": "[encoded data removed]",
      "text/plain": [
       "<Figure size 576x576 with 1 Axes>"
      ]
     },
     "metadata": {
      "needs_background": "light"
     },
     "output_type": "display_data"
    }
   ],
   "source": [
    "plot_correlated_distrs()"
   ]
  },
  {
   "cell_type": "markdown",
   "metadata": {},
   "source": [
    "Note that the correlation remains at +1, and \"violently\" changes to -1 when crossing the horizontal line. "
   ]
  },
  {
   "cell_type": "markdown",
   "metadata": {},
   "source": [
    "# Pearson vs Spearman correlation "
   ]
  },
  {
   "cell_type": "markdown",
   "metadata": {},
   "source": [
    "Confession time! "
   ]
  },
  {
   "cell_type": "markdown",
   "metadata": {},
   "source": [
    "![](https://i.imgflip.com/27xm3b.jpg)"
   ]
  },
  {
   "cell_type": "markdown",
   "metadata": {},
   "source": [
    "There are two types of correlation, Pearson, and Spearman. However, Pearson is so common, that when people just say _\"correlation\"_ you can pretty much assume that is what they mean. "
   ]
  },
  {
   "cell_type": "markdown",
   "metadata": {},
   "source": [
    "### Spearman correlation "
   ]
  },
  {
   "cell_type": "markdown",
   "metadata": {},
   "source": [
    "Spearman correlation is \"Rank correlation\". The easiest way to think of this, is to forget about the actual values, and consider only their relative positions (ranks). \n",
    "\n",
    "To observe this, we can use Pandas's convenient `rank` function: "
   ]
  },
  {
   "cell_type": "code",
   "execution_count": 16,
   "metadata": {},
   "outputs": [],
   "source": [
    "# I'll get the dataset again (as we altered it in the explanation above)\n",
    "data_metric = get_heights_data_metric()"
   ]
  },
  {
   "cell_type": "markdown",
   "metadata": {},
   "source": [
    "Original: "
   ]
  },
  {
   "cell_type": "code",
   "execution_count": 17,
   "metadata": {},
   "outputs": [
    {
     "data": {
      "text/html": [
       "<div>\n",
       "<style scoped>\n",
       "    .dataframe tbody tr th:only-of-type {\n",
       "        vertical-align: middle;\n",
       "    }\n",
       "\n",
       "    .dataframe tbody tr th {\n",
       "        vertical-align: top;\n",
       "    }\n",
       "\n",
       "    .dataframe thead th {\n",
       "        text-align: right;\n",
       "    }\n",
       "</style>\n",
       "<table border=\"1\" class=\"dataframe\">\n",
       "  <thead>\n",
       "    <tr style=\"text-align: right;\">\n",
       "      <th></th>\n",
       "      <th>ages</th>\n",
       "      <th>heights</th>\n",
       "    </tr>\n",
       "  </thead>\n",
       "  <tbody>\n",
       "    <tr>\n",
       "      <th>0</th>\n",
       "      <td>2</td>\n",
       "      <td>120</td>\n",
       "    </tr>\n",
       "    <tr>\n",
       "      <th>1</th>\n",
       "      <td>4</td>\n",
       "      <td>125</td>\n",
       "    </tr>\n",
       "    <tr>\n",
       "      <th>2</th>\n",
       "      <td>4</td>\n",
       "      <td>127</td>\n",
       "    </tr>\n",
       "    <tr>\n",
       "      <th>3</th>\n",
       "      <td>6</td>\n",
       "      <td>135</td>\n",
       "    </tr>\n",
       "    <tr>\n",
       "      <th>4</th>\n",
       "      <td>8</td>\n",
       "      <td>140</td>\n",
       "    </tr>\n",
       "    <tr>\n",
       "      <th>5</th>\n",
       "      <td>9</td>\n",
       "      <td>139</td>\n",
       "    </tr>\n",
       "    <tr>\n",
       "      <th>6</th>\n",
       "      <td>12</td>\n",
       "      <td>170</td>\n",
       "    </tr>\n",
       "    <tr>\n",
       "      <th>7</th>\n",
       "      <td>14</td>\n",
       "      <td>210</td>\n",
       "    </tr>\n",
       "  </tbody>\n",
       "</table>\n",
       "</div>"
      ],
      "text/plain": [
       "   ages  heights\n",
       "0     2      120\n",
       "1     4      125\n",
       "2     4      127\n",
       "3     6      135\n",
       "4     8      140\n",
       "5     9      139\n",
       "6    12      170\n",
       "7    14      210"
      ]
     },
     "execution_count": 17,
     "metadata": {},
     "output_type": "execute_result"
    }
   ],
   "source": [
    "data_metric"
   ]
  },
  {
   "cell_type": "markdown",
   "metadata": {},
   "source": [
    "Rank: "
   ]
  },
  {
   "cell_type": "code",
   "execution_count": 18,
   "metadata": {},
   "outputs": [
    {
     "data": {
      "text/html": [
       "<div>\n",
       "<style scoped>\n",
       "    .dataframe tbody tr th:only-of-type {\n",
       "        vertical-align: middle;\n",
       "    }\n",
       "\n",
       "    .dataframe tbody tr th {\n",
       "        vertical-align: top;\n",
       "    }\n",
       "\n",
       "    .dataframe thead th {\n",
       "        text-align: right;\n",
       "    }\n",
       "</style>\n",
       "<table border=\"1\" class=\"dataframe\">\n",
       "  <thead>\n",
       "    <tr style=\"text-align: right;\">\n",
       "      <th></th>\n",
       "      <th>ages</th>\n",
       "      <th>heights</th>\n",
       "    </tr>\n",
       "  </thead>\n",
       "  <tbody>\n",
       "    <tr>\n",
       "      <th>0</th>\n",
       "      <td>1.0</td>\n",
       "      <td>1.0</td>\n",
       "    </tr>\n",
       "    <tr>\n",
       "      <th>1</th>\n",
       "      <td>2.5</td>\n",
       "      <td>2.0</td>\n",
       "    </tr>\n",
       "    <tr>\n",
       "      <th>2</th>\n",
       "      <td>2.5</td>\n",
       "      <td>3.0</td>\n",
       "    </tr>\n",
       "    <tr>\n",
       "      <th>3</th>\n",
       "      <td>4.0</td>\n",
       "      <td>4.0</td>\n",
       "    </tr>\n",
       "    <tr>\n",
       "      <th>4</th>\n",
       "      <td>5.0</td>\n",
       "      <td>6.0</td>\n",
       "    </tr>\n",
       "    <tr>\n",
       "      <th>5</th>\n",
       "      <td>6.0</td>\n",
       "      <td>5.0</td>\n",
       "    </tr>\n",
       "    <tr>\n",
       "      <th>6</th>\n",
       "      <td>7.0</td>\n",
       "      <td>7.0</td>\n",
       "    </tr>\n",
       "    <tr>\n",
       "      <th>7</th>\n",
       "      <td>8.0</td>\n",
       "      <td>8.0</td>\n",
       "    </tr>\n",
       "  </tbody>\n",
       "</table>\n",
       "</div>"
      ],
      "text/plain": [
       "   ages  heights\n",
       "0   1.0      1.0\n",
       "1   2.5      2.0\n",
       "2   2.5      3.0\n",
       "3   4.0      4.0\n",
       "4   5.0      6.0\n",
       "5   6.0      5.0\n",
       "6   7.0      7.0\n",
       "7   8.0      8.0"
      ]
     },
     "execution_count": 18,
     "metadata": {},
     "output_type": "execute_result"
    }
   ],
   "source": [
    "data_metric.rank()"
   ]
  },
  {
   "cell_type": "markdown",
   "metadata": {},
   "source": [
    "So the youngest age become `1`, the smallest height became `1`, and the others took their \"rank\" position. When there is a tie (there is more than one 2-year-old kid in this dataset) they both take position `2.5`, and no-one becomes `2` or `3`. Other than that, it's very simple. "
   ]
  },
  {
   "cell_type": "markdown",
   "metadata": {},
   "source": [
    "Let's plot the rank positions: "
   ]
  },
  {
   "cell_type": "code",
   "execution_count": 19,
   "metadata": {},
   "outputs": [
    {
     "data": {
      "image/png": "[encoded data removed]",
      "text/plain": [
       "<Figure size 864x432 with 1 Axes>"
      ]
     },
     "metadata": {
      "needs_background": "light"
     },
     "output_type": "display_data"
    }
   ],
   "source": [
    "quick_scatterplot(data_metric.rank())"
   ]
  },
  {
   "cell_type": "markdown",
   "metadata": {},
   "source": [
    "The spearman correlation is simply the correlation between the rank coefficients. Or, as I like to think of it, the correlation between the \"positions on the podium\" for height, and \"positions on the podium\" for age. "
   ]
  },
  {
   "cell_type": "markdown",
   "metadata": {},
   "source": [
    "To calculate spearman correlation, we can use the rank data:"
   ]
  },
  {
   "cell_type": "code",
   "execution_count": 26,
   "metadata": {},
   "outputs": [
    {
     "data": {
      "text/plain": [
       "0.9700772721497397"
      ]
     },
     "execution_count": 26,
     "metadata": {},
     "output_type": "execute_result"
    }
   ],
   "source": [
    "ranked_data = data_metric.rank()\n",
    "ranked_data['ages'].corr(ranked_data['heights'])"
   ]
  },
  {
   "cell_type": "markdown",
   "metadata": {},
   "source": [
    "However, because Pandas is made for lazy people, we can also just use the argument `method=spearman`"
   ]
  },
  {
   "cell_type": "code",
   "execution_count": 27,
   "metadata": {},
   "outputs": [
    {
     "data": {
      "text/plain": [
       "0.9700772721497398"
      ]
     },
     "execution_count": 27,
     "metadata": {},
     "output_type": "execute_result"
    }
   ],
   "source": [
    "data_metric['ages'].corr(data_metric['heights'], method='spearman')"
   ]
  },
  {
   "cell_type": "markdown",
   "metadata": {},
   "source": [
    "### Why use Spearman at all"
   ]
  },
  {
   "cell_type": "markdown",
   "metadata": {},
   "source": [
    "Let's say we are interested in knowing if two stocks generally grow together, and they exhibit the following pattern:"
   ]
  },
  {
   "cell_type": "code",
   "execution_count": 20,
   "metadata": {},
   "outputs": [
    {
     "data": {
      "text/plain": [
       "<AxesSubplot:xlabel='a', ylabel='b'>"
      ]
     },
     "execution_count": 20,
     "metadata": {},
     "output_type": "execute_result"
    },
    {
     "data": {
      "image/png": "[encoded data removed]",
      "text/plain": [
       "<Figure size 432x288 with 1 Axes>"
      ]
     },
     "metadata": {
      "needs_background": "light"
     },
     "output_type": "display_data"
    }
   ],
   "source": [
    "example = get_data_for_spearman()\n",
    "example.plot(kind='scatter', x='a', y='b')"
   ]
  },
  {
   "cell_type": "markdown",
   "metadata": {},
   "source": [
    "By looking at them, we can see that while the slope changes every once in a while, the rank correlation is 100% (when one goes up, so does the other). "
   ]
  },
  {
   "cell_type": "code",
   "execution_count": 21,
   "metadata": {},
   "outputs": [
    {
     "name": "stdout",
     "output_type": "stream",
     "text": [
      "Pearson correlation: 0.95\n",
      "Spearman correlation: 1.00\n"
     ]
    }
   ],
   "source": [
    "print('Pearson correlation: %0.02f' % example['a'].corr(example['b']))\n",
    "print('Spearman correlation: %0.02f' % example['a'].corr(example['b'], method='spearman'))"
   ]
  },
  {
   "cell_type": "markdown",
   "metadata": {},
   "source": [
    "#### Switching to a more interesting dataset "
   ]
  },
  {
   "cell_type": "markdown",
   "metadata": {},
   "source": [
    "So far we've been looking at two variables at the time. Now, let's get a slightly more interesting dataset, with some information about houses: "
   ]
  },
  {
   "cell_type": "code",
   "execution_count": 22,
   "metadata": {},
   "outputs": [],
   "source": [
    "data = pd.read_csv('data/HousingData.csv')"
   ]
  },
  {
   "cell_type": "code",
   "execution_count": 23,
   "metadata": {},
   "outputs": [
    {
     "name": "stdout",
     "output_type": "stream",
     "text": [
      "(333, 11)\n"
     ]
    },
    {
     "data": {
      "text/html": [
       "<div>\n",
       "<style scoped>\n",
       "    .dataframe tbody tr th:only-of-type {\n",
       "        vertical-align: middle;\n",
       "    }\n",
       "\n",
       "    .dataframe tbody tr th {\n",
       "        vertical-align: top;\n",
       "    }\n",
       "\n",
       "    .dataframe thead th {\n",
       "        text-align: right;\n",
       "    }\n",
       "</style>\n",
       "<table border=\"1\" class=\"dataframe\">\n",
       "  <thead>\n",
       "    <tr style=\"text-align: right;\">\n",
       "      <th></th>\n",
       "      <th>crime</th>\n",
       "      <th>industrial</th>\n",
       "      <th>river</th>\n",
       "      <th>buildings_age</th>\n",
       "      <th>roads_quality</th>\n",
       "      <th>school_quality</th>\n",
       "      <th>taxes</th>\n",
       "      <th>poverty</th>\n",
       "      <th>house_price</th>\n",
       "      <th>number_of_rooms</th>\n",
       "      <th>pollution</th>\n",
       "    </tr>\n",
       "  </thead>\n",
       "  <tbody>\n",
       "    <tr>\n",
       "      <th>0</th>\n",
       "      <td>0.00632</td>\n",
       "      <td>2.31</td>\n",
       "      <td>0</td>\n",
       "      <td>65.2</td>\n",
       "      <td>1</td>\n",
       "      <td>15.3</td>\n",
       "      <td>296</td>\n",
       "      <td>4.98</td>\n",
       "      <td>24.0</td>\n",
       "      <td>6.575</td>\n",
       "      <td>0.538</td>\n",
       "    </tr>\n",
       "    <tr>\n",
       "      <th>1</th>\n",
       "      <td>0.02731</td>\n",
       "      <td>7.07</td>\n",
       "      <td>0</td>\n",
       "      <td>78.9</td>\n",
       "      <td>2</td>\n",
       "      <td>17.8</td>\n",
       "      <td>242</td>\n",
       "      <td>9.14</td>\n",
       "      <td>21.6</td>\n",
       "      <td>6.421</td>\n",
       "      <td>0.469</td>\n",
       "    </tr>\n",
       "    <tr>\n",
       "      <th>2</th>\n",
       "      <td>0.03237</td>\n",
       "      <td>2.18</td>\n",
       "      <td>0</td>\n",
       "      <td>45.8</td>\n",
       "      <td>3</td>\n",
       "      <td>18.7</td>\n",
       "      <td>222</td>\n",
       "      <td>2.94</td>\n",
       "      <td>33.4</td>\n",
       "      <td>6.998</td>\n",
       "      <td>0.458</td>\n",
       "    </tr>\n",
       "    <tr>\n",
       "      <th>3</th>\n",
       "      <td>0.06905</td>\n",
       "      <td>2.18</td>\n",
       "      <td>0</td>\n",
       "      <td>54.2</td>\n",
       "      <td>3</td>\n",
       "      <td>18.7</td>\n",
       "      <td>222</td>\n",
       "      <td>5.33</td>\n",
       "      <td>36.2</td>\n",
       "      <td>7.147</td>\n",
       "      <td>0.458</td>\n",
       "    </tr>\n",
       "    <tr>\n",
       "      <th>4</th>\n",
       "      <td>0.08829</td>\n",
       "      <td>7.87</td>\n",
       "      <td>0</td>\n",
       "      <td>66.6</td>\n",
       "      <td>5</td>\n",
       "      <td>15.2</td>\n",
       "      <td>311</td>\n",
       "      <td>12.43</td>\n",
       "      <td>22.9</td>\n",
       "      <td>6.012</td>\n",
       "      <td>0.524</td>\n",
       "    </tr>\n",
       "  </tbody>\n",
       "</table>\n",
       "</div>"
      ],
      "text/plain": [
       "     crime  industrial  river  buildings_age  roads_quality  school_quality  \\\n",
       "0  0.00632        2.31      0           65.2              1            15.3   \n",
       "1  0.02731        7.07      0           78.9              2            17.8   \n",
       "2  0.03237        2.18      0           45.8              3            18.7   \n",
       "3  0.06905        2.18      0           54.2              3            18.7   \n",
       "4  0.08829        7.87      0           66.6              5            15.2   \n",
       "\n",
       "   taxes  poverty  house_price  number_of_rooms  pollution  \n",
       "0    296     4.98         24.0            6.575      0.538  \n",
       "1    242     9.14         21.6            6.421      0.469  \n",
       "2    222     2.94         33.4            6.998      0.458  \n",
       "3    222     5.33         36.2            7.147      0.458  \n",
       "4    311    12.43         22.9            6.012      0.524  "
      ]
     },
     "execution_count": 23,
     "metadata": {},
     "output_type": "execute_result"
    }
   ],
   "source": [
    "print(data.shape)\n",
    "data.head()"
   ]
  },
  {
   "cell_type": "markdown",
   "metadata": {},
   "source": [
    "----"
   ]
  },
  {
   "cell_type": "markdown",
   "metadata": {},
   "source": [
    "#  Correlation and outliers (or data problems)"
   ]
  },
  {
   "cell_type": "markdown",
   "metadata": {},
   "source": [
    "Let's see how house_price correlates with number_of_rooms: "
   ]
  },
  {
   "cell_type": "code",
   "execution_count": 24,
   "metadata": {},
   "outputs": [
    {
     "name": "stdout",
     "output_type": "stream",
     "text": [
      "Pearson correlation: 0.69\n",
      "Spearman correlation: 0.64\n"
     ]
    }
   ],
   "source": [
    "print('Pearson correlation: %0.02f' % data['house_price'].corr(data['number_of_rooms']))\n",
    "print('Spearman correlation: %0.02f' % data['house_price'].corr(data['number_of_rooms'], method='spearman'))"
   ]
  },
  {
   "cell_type": "markdown",
   "metadata": {},
   "source": [
    "So there is a clear correlation between number of rooms and housing price. \n",
    "\n",
    "But what happens if one of those houses is artificially more expensive, maybe because it used to belong to someone famous when they were young? "
   ]
  },
  {
   "cell_type": "code",
   "execution_count": 25,
   "metadata": {},
   "outputs": [
    {
     "name": "stdout",
     "output_type": "stream",
     "text": [
      "Oh by the way, Obama used to live here...\n",
      "Number of rooms:      5\n",
      "Price before knowing: 18\n",
      "Price after knowing:  500\n"
     ]
    }
   ],
   "source": [
    "print('Oh by the way, Obama used to live here...') \n",
    "print('Number of rooms:      %0.0f' % data.loc[100, 'number_of_rooms'])  \n",
    "print('Price before knowing: %0.0f' % data.loc[100, 'house_price'])  \n",
    "data.loc[100, 'house_price'] = 500  # price changes! \n",
    "print('Price after knowing:  %0.0f' % data.loc[100, 'house_price'])  "
   ]
  },
  {
   "cell_type": "markdown",
   "metadata": {},
   "source": [
    "What happened to correlation once that unusual entry (which is just ~0.3% of the dataset) shows up? "
   ]
  },
  {
   "cell_type": "code",
   "execution_count": 26,
   "metadata": {},
   "outputs": [
    {
     "name": "stdout",
     "output_type": "stream",
     "text": [
      "Pearson correlation: 0.15\n",
      "Spearman correlation: 0.62\n"
     ]
    }
   ],
   "source": [
    "print('Pearson correlation: %0.02f' % data['house_price'].corr(data['number_of_rooms']))\n",
    "print('Spearman correlation: %0.02f' % data['house_price'].corr(data['number_of_rooms'], method='spearman'))"
   ]
  },
  {
   "cell_type": "markdown",
   "metadata": {},
   "source": [
    "Conclusion:\n",
    "> **Spearman correlation is much more resistant to outliers and data entry problems than Pearson correlation.**"
   ]
  },
  {
   "cell_type": "markdown",
   "metadata": {},
   "source": [
    "----"
   ]
  },
  {
   "cell_type": "markdown",
   "metadata": {},
   "source": [
    "# The correlation matrix "
   ]
  },
  {
   "cell_type": "code",
   "execution_count": 35,
   "metadata": {},
   "outputs": [],
   "source": [
    "# We'll quickly get rid of Obama\n",
    "data = pd.read_csv('data/HousingData.csv')"
   ]
  },
  {
   "cell_type": "markdown",
   "metadata": {},
   "source": [
    "Intuitively, some of these things should be correlated. \n",
    "* Housing prices and poverty?\n",
    "* Industrial activity and pollution? \n",
    "* Crime and school quality? "
   ]
  },
  {
   "cell_type": "markdown",
   "metadata": {},
   "source": [
    "Instead of going one by one and making all the pairs, we can quickly compute a correlation matrix, using pandas' `.corr` method. "
   ]
  },
  {
   "cell_type": "code",
   "execution_count": 36,
   "metadata": {},
   "outputs": [
    {
     "data": {
      "text/html": [
       "<div>\n",
       "<style scoped>\n",
       "    .dataframe tbody tr th:only-of-type {\n",
       "        vertical-align: middle;\n",
       "    }\n",
       "\n",
       "    .dataframe tbody tr th {\n",
       "        vertical-align: top;\n",
       "    }\n",
       "\n",
       "    .dataframe thead th {\n",
       "        text-align: right;\n",
       "    }\n",
       "</style>\n",
       "<table border=\"1\" class=\"dataframe\">\n",
       "  <thead>\n",
       "    <tr style=\"text-align: right;\">\n",
       "      <th></th>\n",
       "      <th>crime</th>\n",
       "      <th>industrial</th>\n",
       "      <th>river</th>\n",
       "      <th>buildings_age</th>\n",
       "      <th>roads_quality</th>\n",
       "      <th>school_quality</th>\n",
       "      <th>taxes</th>\n",
       "      <th>poverty</th>\n",
       "      <th>house_price</th>\n",
       "      <th>number_of_rooms</th>\n",
       "      <th>pollution</th>\n",
       "    </tr>\n",
       "  </thead>\n",
       "  <tbody>\n",
       "    <tr>\n",
       "      <th>crime</th>\n",
       "      <td>1.000000</td>\n",
       "      <td>0.422228</td>\n",
       "      <td>-0.041195</td>\n",
       "      <td>0.379034</td>\n",
       "      <td>0.666636</td>\n",
       "      <td>0.313409</td>\n",
       "      <td>0.617081</td>\n",
       "      <td>0.532077</td>\n",
       "      <td>-0.407454</td>\n",
       "      <td>-0.310180</td>\n",
       "      <td>0.463001</td>\n",
       "    </tr>\n",
       "    <tr>\n",
       "      <th>industrial</th>\n",
       "      <td>0.422228</td>\n",
       "      <td>1.000000</td>\n",
       "      <td>0.037496</td>\n",
       "      <td>0.638378</td>\n",
       "      <td>0.569779</td>\n",
       "      <td>0.391087</td>\n",
       "      <td>0.708313</td>\n",
       "      <td>0.614155</td>\n",
       "      <td>-0.473932</td>\n",
       "      <td>-0.440365</td>\n",
       "      <td>0.750087</td>\n",
       "    </tr>\n",
       "    <tr>\n",
       "      <th>river</th>\n",
       "      <td>-0.041195</td>\n",
       "      <td>0.037496</td>\n",
       "      <td>1.000000</td>\n",
       "      <td>0.068286</td>\n",
       "      <td>0.007714</td>\n",
       "      <td>-0.125067</td>\n",
       "      <td>-0.021826</td>\n",
       "      <td>-0.050055</td>\n",
       "      <td>0.204390</td>\n",
       "      <td>0.112251</td>\n",
       "      <td>0.080275</td>\n",
       "    </tr>\n",
       "    <tr>\n",
       "      <th>buildings_age</th>\n",
       "      <td>0.379034</td>\n",
       "      <td>0.638378</td>\n",
       "      <td>0.068286</td>\n",
       "      <td>1.000000</td>\n",
       "      <td>0.447380</td>\n",
       "      <td>0.259293</td>\n",
       "      <td>0.511893</td>\n",
       "      <td>0.588834</td>\n",
       "      <td>-0.358888</td>\n",
       "      <td>-0.248573</td>\n",
       "      <td>0.736000</td>\n",
       "    </tr>\n",
       "    <tr>\n",
       "      <th>roads_quality</th>\n",
       "      <td>0.666636</td>\n",
       "      <td>0.569779</td>\n",
       "      <td>0.007714</td>\n",
       "      <td>0.447380</td>\n",
       "      <td>1.000000</td>\n",
       "      <td>0.470849</td>\n",
       "      <td>0.903562</td>\n",
       "      <td>0.484568</td>\n",
       "      <td>-0.352251</td>\n",
       "      <td>-0.272783</td>\n",
       "      <td>0.612180</td>\n",
       "    </tr>\n",
       "    <tr>\n",
       "      <th>school_quality</th>\n",
       "      <td>0.313409</td>\n",
       "      <td>0.391087</td>\n",
       "      <td>-0.125067</td>\n",
       "      <td>0.259293</td>\n",
       "      <td>0.470849</td>\n",
       "      <td>1.000000</td>\n",
       "      <td>0.467437</td>\n",
       "      <td>0.374802</td>\n",
       "      <td>-0.481376</td>\n",
       "      <td>-0.366927</td>\n",
       "      <td>0.192513</td>\n",
       "    </tr>\n",
       "    <tr>\n",
       "      <th>taxes</th>\n",
       "      <td>0.617081</td>\n",
       "      <td>0.708313</td>\n",
       "      <td>-0.021826</td>\n",
       "      <td>0.511893</td>\n",
       "      <td>0.903562</td>\n",
       "      <td>0.467437</td>\n",
       "      <td>1.000000</td>\n",
       "      <td>0.544485</td>\n",
       "      <td>-0.448078</td>\n",
       "      <td>-0.356987</td>\n",
       "      <td>0.670722</td>\n",
       "    </tr>\n",
       "    <tr>\n",
       "      <th>poverty</th>\n",
       "      <td>0.532077</td>\n",
       "      <td>0.614155</td>\n",
       "      <td>-0.050055</td>\n",
       "      <td>0.588834</td>\n",
       "      <td>0.484568</td>\n",
       "      <td>0.374802</td>\n",
       "      <td>0.544485</td>\n",
       "      <td>1.000000</td>\n",
       "      <td>-0.738600</td>\n",
       "      <td>-0.615747</td>\n",
       "      <td>0.598874</td>\n",
       "    </tr>\n",
       "    <tr>\n",
       "      <th>house_price</th>\n",
       "      <td>-0.407454</td>\n",
       "      <td>-0.473932</td>\n",
       "      <td>0.204390</td>\n",
       "      <td>-0.358888</td>\n",
       "      <td>-0.352251</td>\n",
       "      <td>-0.481376</td>\n",
       "      <td>-0.448078</td>\n",
       "      <td>-0.738600</td>\n",
       "      <td>1.000000</td>\n",
       "      <td>0.689598</td>\n",
       "      <td>-0.413054</td>\n",
       "    </tr>\n",
       "    <tr>\n",
       "      <th>number_of_rooms</th>\n",
       "      <td>-0.310180</td>\n",
       "      <td>-0.440365</td>\n",
       "      <td>0.112251</td>\n",
       "      <td>-0.248573</td>\n",
       "      <td>-0.272783</td>\n",
       "      <td>-0.366927</td>\n",
       "      <td>-0.356987</td>\n",
       "      <td>-0.615747</td>\n",
       "      <td>0.689598</td>\n",
       "      <td>1.000000</td>\n",
       "      <td>-0.338515</td>\n",
       "    </tr>\n",
       "    <tr>\n",
       "      <th>pollution</th>\n",
       "      <td>0.463001</td>\n",
       "      <td>0.750087</td>\n",
       "      <td>0.080275</td>\n",
       "      <td>0.736000</td>\n",
       "      <td>0.612180</td>\n",
       "      <td>0.192513</td>\n",
       "      <td>0.670722</td>\n",
       "      <td>0.598874</td>\n",
       "      <td>-0.413054</td>\n",
       "      <td>-0.338515</td>\n",
       "      <td>1.000000</td>\n",
       "    </tr>\n",
       "  </tbody>\n",
       "</table>\n",
       "</div>"
      ],
      "text/plain": [
       "                    crime  industrial     river  buildings_age  roads_quality  \\\n",
       "crime            1.000000    0.422228 -0.041195       0.379034       0.666636   \n",
       "industrial       0.422228    1.000000  0.037496       0.638378       0.569779   \n",
       "river           -0.041195    0.037496  1.000000       0.068286       0.007714   \n",
       "buildings_age    0.379034    0.638378  0.068286       1.000000       0.447380   \n",
       "roads_quality    0.666636    0.569779  0.007714       0.447380       1.000000   \n",
       "school_quality   0.313409    0.391087 -0.125067       0.259293       0.470849   \n",
       "taxes            0.617081    0.708313 -0.021826       0.511893       0.903562   \n",
       "poverty          0.532077    0.614155 -0.050055       0.588834       0.484568   \n",
       "house_price     -0.407454   -0.473932  0.204390      -0.358888      -0.352251   \n",
       "number_of_rooms -0.310180   -0.440365  0.112251      -0.248573      -0.272783   \n",
       "pollution        0.463001    0.750087  0.080275       0.736000       0.612180   \n",
       "\n",
       "                 school_quality     taxes   poverty  house_price  \\\n",
       "crime                  0.313409  0.617081  0.532077    -0.407454   \n",
       "industrial             0.391087  0.708313  0.614155    -0.473932   \n",
       "river                 -0.125067 -0.021826 -0.050055     0.204390   \n",
       "buildings_age          0.259293  0.511893  0.588834    -0.358888   \n",
       "roads_quality          0.470849  0.903562  0.484568    -0.352251   \n",
       "school_quality         1.000000  0.467437  0.374802    -0.481376   \n",
       "taxes                  0.467437  1.000000  0.544485    -0.448078   \n",
       "poverty                0.374802  0.544485  1.000000    -0.738600   \n",
       "house_price           -0.481376 -0.448078 -0.738600     1.000000   \n",
       "number_of_rooms       -0.366927 -0.356987 -0.615747     0.689598   \n",
       "pollution              0.192513  0.670722  0.598874    -0.413054   \n",
       "\n",
       "                 number_of_rooms  pollution  \n",
       "crime                  -0.310180   0.463001  \n",
       "industrial             -0.440365   0.750087  \n",
       "river                   0.112251   0.080275  \n",
       "buildings_age          -0.248573   0.736000  \n",
       "roads_quality          -0.272783   0.612180  \n",
       "school_quality         -0.366927   0.192513  \n",
       "taxes                  -0.356987   0.670722  \n",
       "poverty                -0.615747   0.598874  \n",
       "house_price             0.689598  -0.413054  \n",
       "number_of_rooms         1.000000  -0.338515  \n",
       "pollution              -0.338515   1.000000  "
      ]
     },
     "execution_count": 36,
     "metadata": {},
     "output_type": "execute_result"
    }
   ],
   "source": [
    "data.corr(method='pearson')"
   ]
  },
  {
   "cell_type": "markdown",
   "metadata": {},
   "source": [
    "This is interesting, and we can see \"everything against everything\". In practice, this is one of those cases where nothing beats a little visualization. "
   ]
  },
  {
   "cell_type": "code",
   "execution_count": 28,
   "metadata": {},
   "outputs": [
    {
     "data": {
      "image/png": "[encoded data removed]",
      "text/plain": [
       "<Figure size 864x576 with 2 Axes>"
      ]
     },
     "metadata": {
      "needs_background": "light"
     },
     "output_type": "display_data"
    }
   ],
   "source": [
    "plt.figure(figsize = (12,8)) # <-- just sets the figure size \n",
    "\n",
    "sns.heatmap(data.corr(), \n",
    "            annot=True,     # <-- write the numbers on the squares\n",
    "            cmap='RdBu_r'); # <-- use a \"red into blue, reversed\" colormap "
   ]
  },
  {
   "cell_type": "markdown",
   "metadata": {},
   "source": [
    "I'll let your eyes wonder over this beautiful cascade of interesting information. Pandas is amazing. "
   ]
  },
  {
   "cell_type": "markdown",
   "metadata": {},
   "source": [
    "---"
   ]
  },
  {
   "cell_type": "markdown",
   "metadata": {},
   "source": [
    "# Spurious correlations "
   ]
  },
  {
   "cell_type": "markdown",
   "metadata": {},
   "source": [
    "A well known, but very often overlooked fact is that **CORRELATION DOES NOT IMPLY CAUSATION**"
   ]
  },
  {
   "cell_type": "markdown",
   "metadata": {},
   "source": [
    "![](https://ic.pics.livejournal.com/mi3ch/983718/4592053/4592053_original.png)"
   ]
  },
  {
   "cell_type": "markdown",
   "metadata": {},
   "source": [
    "_Image Source: [spurious correlations](http://www.tylervigen.com/spurious-correlations), visit the website to see more of these_"
   ]
  },
  {
   "cell_type": "markdown",
   "metadata": {},
   "source": [
    "The temptation to use correlation is often overwhelming. Common arguments include: \n",
    "> _\"Maybe it's not causation, but for practical purposes I can use it anyway\"_\n",
    "\n",
    "> _\"Well, we need to check the p-values, sure, but then it's safe, right?\"_"
   ]
  },
  {
   "cell_type": "markdown",
   "metadata": {},
   "source": [
    "As a data scientist, it is one of your primary responsibilities to be skeptical. Part of that comes from understanding that data, if tortured, will tell you whatever you want it to. \n",
    "\n",
    "For instance, if you dive into a dataset of stocks, and look for really strong correlations, you **will** find them. That in no way means you are going to become ritch. The likelyhood that you wouldn't find anything, given the number of tries you are making, is very, very small, and therefore your \"expected\" status is... to find something. \n",
    "\n",
    "Skepticism as a way of thinking is (or should be) at the core of healthy data science. Following the scientific method, and searching for evidence that leads you to refute the null hypothesis that your theory is wrong (your starting point must be _\"I'm probably wrong, unless I find overwhelming evidence\"_) will protect you against falling into the giant trap that is the allure of the siren of correlation. "
   ]
  },
  {
   "cell_type": "markdown",
   "metadata": {},
   "source": [
    "----"
   ]
  },
  {
   "cell_type": "markdown",
   "metadata": {},
   "source": [
    "# Observational vs Experimental data "
   ]
  },
  {
   "cell_type": "markdown",
   "metadata": {},
   "source": [
    "One crucial concept to keep in mind is the one of experimental vs observational data. \n",
    "\n",
    "The fundamental difference is that experimental data was collected in a controlled experiment, by the researcher, while trying to control for as many external variables as possible, and using randomness to assign control groups, whereas observational data is simply collected by observing events. \n",
    "\n",
    "Observational data is obviously a lot more error prone. \n",
    "\n",
    "\n",
    "## Why is this important? \n",
    "\n",
    "\n",
    "Consider [this study](https://www.nature.com/articles/20094), which found its way into Nature (one of the most prestigious magazines) in the late 90s. \n",
    "\n",
    "The abstract reads: \n",
    "> We have looked at the effects of light exposure on vision, and **find a strong association between myopia and night-time ambient light exposure during sleep in children** before they reach two years of age.\n",
    "\n",
    "The study was done by taking data from children who had slept with night lights, and others who hadn't. These children were not selected into randomized groups and made to sleep with the lights on or off, they were simply observations from children who had already grown up, and either developed myopia, or not. \n",
    "\n",
    "The study found overwhelming evidence that the children who had slept with the lights on, had develoepd myopia in a significantly higher proportion, and therefore the published article finds that \"there is a strong association\" (generally correlation). \n",
    "\n",
    "The experiment did not take one tiny detail into account. It turns out that... \n",
    "\n",
    "![](https://i.imgflip.com/27xuct.jpg)\n",
    "\n",
    "\n",
    "\n",
    "In other words, because myopia is genetic, the children of myopic children (who would then go on to develop myopia because of their parents condition) tended to sleep more often with the lights on. This is what is called a **confouding variable**. \n",
    "\n",
    "![](https://explorable.com/sites/default/files/documents/third-variable.png)\n",
    "\n",
    "The use of observational data didn't allow for a control group, and therefore they found overwhelming evidence of... nothing much. \n",
    "\n",
    "### What is there to be done? \n",
    "\n",
    "Naturally, this is not always avoidable. Maybe a cohort of children (of both myopic and non-myopic parents) could have been randomly assigned to sleep with lights either on or off. However, as if obvious, experimental data is much harder to collect, and would be a lot more intrusive on parents and children. \n",
    "\n",
    "When using either experimental or observational data, there are a few things that we must always keep in mind: \n",
    "\n",
    "> 1. Correlation is not causation \n",
    "> 2. Data, dispite its reputation to the contrary, lies. "
   ]
  },
  {
   "cell_type": "markdown",
   "metadata": {},
   "source": [
    "# To learn more (optional) "
   ]
  },
  {
   "cell_type": "markdown",
   "metadata": {},
   "source": [
    "#### Experimental vs observational studies \n",
    "* [Short presentation with good intuitive examples](https://stats.stackexchange.com/questions/18058/how-would-you-explain-covariance-to-someone-who-understands-only-the-mean)\n",
    "* [Discussion on stackexchange](https://stats.stackexchange.com/questions/13300/difference-between-experimental-data-and-observational-data)"
   ]
  },
  {
   "cell_type": "markdown",
   "metadata": {},
   "source": [
    "-----"
   ]
  },
  {
   "cell_type": "markdown",
   "metadata": {},
   "source": [
    "# Advanced correlation matrix"
   ]
  },
  {
   "cell_type": "markdown",
   "metadata": {},
   "source": [
    "We've got a lot of repeated data on the correlation matrix. \n",
    "\n",
    "If you only want the bottom triangle, you can use the following: "
   ]
  },
  {
   "cell_type": "code",
   "execution_count": 35,
   "metadata": {},
   "outputs": [
    {
     "data": {
      "text/html": [
       "<div>\n",
       "<style scoped>\n",
       "    .dataframe tbody tr th:only-of-type {\n",
       "        vertical-align: middle;\n",
       "    }\n",
       "\n",
       "    .dataframe tbody tr th {\n",
       "        vertical-align: top;\n",
       "    }\n",
       "\n",
       "    .dataframe thead th {\n",
       "        text-align: right;\n",
       "    }\n",
       "</style>\n",
       "<table border=\"1\" class=\"dataframe\">\n",
       "  <thead>\n",
       "    <tr style=\"text-align: right;\">\n",
       "      <th></th>\n",
       "      <th>crime</th>\n",
       "      <th>industrial</th>\n",
       "      <th>river</th>\n",
       "      <th>buildings_age</th>\n",
       "      <th>roads_quality</th>\n",
       "      <th>school_quality</th>\n",
       "      <th>taxes</th>\n",
       "      <th>poverty</th>\n",
       "      <th>house_price</th>\n",
       "      <th>number_of_rooms</th>\n",
       "      <th>pollution</th>\n",
       "    </tr>\n",
       "  </thead>\n",
       "  <tbody>\n",
       "    <tr>\n",
       "      <th>crime</th>\n",
       "      <td>NaN</td>\n",
       "      <td>NaN</td>\n",
       "      <td>NaN</td>\n",
       "      <td>NaN</td>\n",
       "      <td>NaN</td>\n",
       "      <td>NaN</td>\n",
       "      <td>NaN</td>\n",
       "      <td>NaN</td>\n",
       "      <td>NaN</td>\n",
       "      <td>NaN</td>\n",
       "      <td>NaN</td>\n",
       "    </tr>\n",
       "    <tr>\n",
       "      <th>industrial</th>\n",
       "      <td>0.422228</td>\n",
       "      <td>NaN</td>\n",
       "      <td>NaN</td>\n",
       "      <td>NaN</td>\n",
       "      <td>NaN</td>\n",
       "      <td>NaN</td>\n",
       "      <td>NaN</td>\n",
       "      <td>NaN</td>\n",
       "      <td>NaN</td>\n",
       "      <td>NaN</td>\n",
       "      <td>NaN</td>\n",
       "    </tr>\n",
       "    <tr>\n",
       "      <th>river</th>\n",
       "      <td>-0.041195</td>\n",
       "      <td>0.037496</td>\n",
       "      <td>NaN</td>\n",
       "      <td>NaN</td>\n",
       "      <td>NaN</td>\n",
       "      <td>NaN</td>\n",
       "      <td>NaN</td>\n",
       "      <td>NaN</td>\n",
       "      <td>NaN</td>\n",
       "      <td>NaN</td>\n",
       "      <td>NaN</td>\n",
       "    </tr>\n",
       "    <tr>\n",
       "      <th>buildings_age</th>\n",
       "      <td>0.379034</td>\n",
       "      <td>0.638378</td>\n",
       "      <td>0.068286</td>\n",
       "      <td>NaN</td>\n",
       "      <td>NaN</td>\n",
       "      <td>NaN</td>\n",
       "      <td>NaN</td>\n",
       "      <td>NaN</td>\n",
       "      <td>NaN</td>\n",
       "      <td>NaN</td>\n",
       "      <td>NaN</td>\n",
       "    </tr>\n",
       "    <tr>\n",
       "      <th>roads_quality</th>\n",
       "      <td>0.666636</td>\n",
       "      <td>0.569779</td>\n",
       "      <td>0.007714</td>\n",
       "      <td>0.447380</td>\n",
       "      <td>NaN</td>\n",
       "      <td>NaN</td>\n",
       "      <td>NaN</td>\n",
       "      <td>NaN</td>\n",
       "      <td>NaN</td>\n",
       "      <td>NaN</td>\n",
       "      <td>NaN</td>\n",
       "    </tr>\n",
       "    <tr>\n",
       "      <th>school_quality</th>\n",
       "      <td>0.313409</td>\n",
       "      <td>0.391087</td>\n",
       "      <td>-0.125067</td>\n",
       "      <td>0.259293</td>\n",
       "      <td>0.470849</td>\n",
       "      <td>NaN</td>\n",
       "      <td>NaN</td>\n",
       "      <td>NaN</td>\n",
       "      <td>NaN</td>\n",
       "      <td>NaN</td>\n",
       "      <td>NaN</td>\n",
       "    </tr>\n",
       "    <tr>\n",
       "      <th>taxes</th>\n",
       "      <td>0.617081</td>\n",
       "      <td>0.708313</td>\n",
       "      <td>-0.021826</td>\n",
       "      <td>0.511893</td>\n",
       "      <td>0.903562</td>\n",
       "      <td>0.467437</td>\n",
       "      <td>NaN</td>\n",
       "      <td>NaN</td>\n",
       "      <td>NaN</td>\n",
       "      <td>NaN</td>\n",
       "      <td>NaN</td>\n",
       "    </tr>\n",
       "    <tr>\n",
       "      <th>poverty</th>\n",
       "      <td>0.532077</td>\n",
       "      <td>0.614155</td>\n",
       "      <td>-0.050055</td>\n",
       "      <td>0.588834</td>\n",
       "      <td>0.484568</td>\n",
       "      <td>0.374802</td>\n",
       "      <td>0.544485</td>\n",
       "      <td>NaN</td>\n",
       "      <td>NaN</td>\n",
       "      <td>NaN</td>\n",
       "      <td>NaN</td>\n",
       "    </tr>\n",
       "    <tr>\n",
       "      <th>house_price</th>\n",
       "      <td>-0.142216</td>\n",
       "      <td>-0.094824</td>\n",
       "      <td>0.054430</td>\n",
       "      <td>-0.071160</td>\n",
       "      <td>-0.144383</td>\n",
       "      <td>-0.250637</td>\n",
       "      <td>-0.150252</td>\n",
       "      <td>-0.127299</td>\n",
       "      <td>NaN</td>\n",
       "      <td>NaN</td>\n",
       "      <td>NaN</td>\n",
       "    </tr>\n",
       "    <tr>\n",
       "      <th>number_of_rooms</th>\n",
       "      <td>-0.310180</td>\n",
       "      <td>-0.440365</td>\n",
       "      <td>0.112251</td>\n",
       "      <td>-0.248573</td>\n",
       "      <td>-0.272783</td>\n",
       "      <td>-0.366927</td>\n",
       "      <td>-0.356987</td>\n",
       "      <td>-0.615747</td>\n",
       "      <td>0.147895</td>\n",
       "      <td>NaN</td>\n",
       "      <td>NaN</td>\n",
       "    </tr>\n",
       "    <tr>\n",
       "      <th>pollution</th>\n",
       "      <td>0.463001</td>\n",
       "      <td>0.750087</td>\n",
       "      <td>0.080275</td>\n",
       "      <td>0.736000</td>\n",
       "      <td>0.612180</td>\n",
       "      <td>0.192513</td>\n",
       "      <td>0.670722</td>\n",
       "      <td>0.598874</td>\n",
       "      <td>0.006362</td>\n",
       "      <td>-0.338515</td>\n",
       "      <td>NaN</td>\n",
       "    </tr>\n",
       "  </tbody>\n",
       "</table>\n",
       "</div>"
      ],
      "text/plain": [
       "                    crime  industrial     river  buildings_age  roads_quality  \\\n",
       "crime                 NaN         NaN       NaN            NaN            NaN   \n",
       "industrial       0.422228         NaN       NaN            NaN            NaN   \n",
       "river           -0.041195    0.037496       NaN            NaN            NaN   \n",
       "buildings_age    0.379034    0.638378  0.068286            NaN            NaN   \n",
       "roads_quality    0.666636    0.569779  0.007714       0.447380            NaN   \n",
       "school_quality   0.313409    0.391087 -0.125067       0.259293       0.470849   \n",
       "taxes            0.617081    0.708313 -0.021826       0.511893       0.903562   \n",
       "poverty          0.532077    0.614155 -0.050055       0.588834       0.484568   \n",
       "house_price     -0.142216   -0.094824  0.054430      -0.071160      -0.144383   \n",
       "number_of_rooms -0.310180   -0.440365  0.112251      -0.248573      -0.272783   \n",
       "pollution        0.463001    0.750087  0.080275       0.736000       0.612180   \n",
       "\n",
       "                 school_quality     taxes   poverty  house_price  \\\n",
       "crime                       NaN       NaN       NaN          NaN   \n",
       "industrial                  NaN       NaN       NaN          NaN   \n",
       "river                       NaN       NaN       NaN          NaN   \n",
       "buildings_age               NaN       NaN       NaN          NaN   \n",
       "roads_quality               NaN       NaN       NaN          NaN   \n",
       "school_quality              NaN       NaN       NaN          NaN   \n",
       "taxes                  0.467437       NaN       NaN          NaN   \n",
       "poverty                0.374802  0.544485       NaN          NaN   \n",
       "house_price           -0.250637 -0.150252 -0.127299          NaN   \n",
       "number_of_rooms       -0.366927 -0.356987 -0.615747     0.147895   \n",
       "pollution              0.192513  0.670722  0.598874     0.006362   \n",
       "\n",
       "                 number_of_rooms  pollution  \n",
       "crime                        NaN        NaN  \n",
       "industrial                   NaN        NaN  \n",
       "river                        NaN        NaN  \n",
       "buildings_age                NaN        NaN  \n",
       "roads_quality                NaN        NaN  \n",
       "school_quality               NaN        NaN  \n",
       "taxes                        NaN        NaN  \n",
       "poverty                      NaN        NaN  \n",
       "house_price                  NaN        NaN  \n",
       "number_of_rooms              NaN        NaN  \n",
       "pollution              -0.338515        NaN  "
      ]
     },
     "metadata": {},
     "output_type": "display_data"
    },
    {
     "data": {
      "text/plain": [
       "1.0"
      ]
     },
     "execution_count": 35,
     "metadata": {},
     "output_type": "execute_result"
    }
   ],
   "source": [
    "# just getting the correlation matrix again \n",
    "cor_mat = data.corr()\n",
    "\n",
    "# Bit of crazy numpy. We are getting the triangular matrix \n",
    "# the same size as our correlation matrix, with just Trues and \n",
    "# Falses, to then use in a mask. (you can just copy paste this though) \n",
    "lower_triangle_mask = np.triu(np.ones(cor_mat.shape)).astype(np.bool)\n",
    "\n",
    "# Now mask the correlation matrix, keeping only the lower triangle \n",
    "cor_mat_lower = cor_mat.mask(lower_triangle_mask)\n",
    "\n",
    "# Et voila! \n",
    "display(cor_mat_lower)\n",
    "\n",
    "data.corr().loc['crime'].max()"
   ]
  },
  {
   "cell_type": "markdown",
   "metadata": {},
   "source": [
    "And now we can make another heatmap "
   ]
  },
  {
   "cell_type": "code",
   "execution_count": 30,
   "metadata": {},
   "outputs": [
    {
     "data": {
      "image/png": "[encoded data removed]",
      "text/plain": [
       "<Figure size 864x576 with 2 Axes>"
      ]
     },
     "metadata": {
      "needs_background": "light"
     },
     "output_type": "display_data"
    }
   ],
   "source": [
    "plt.figure(figsize = (12,8)) # <-- just sets the figure size \n",
    "\n",
    "sns.heatmap(cor_mat_lower, \n",
    "            annot=True,     # <-- write the numbers on the squares\n",
    "            cmap='RdBu_r'); # <-- use a \"red into blue, reversed\" colormap "
   ]
  },
  {
   "cell_type": "markdown",
   "metadata": {},
   "source": [
    "A bit cleaner, right? Also notice that the colors became a bit clearer, as the top of the scale is now 0.9 instead of 1, which helps with contrast. \n",
    "\n",
    "\n",
    "We may also just want to get rid of the diagonal, which is particularly interesting when we want to get answers programatically: "
   ]
  },
  {
   "cell_type": "code",
   "execution_count": 31,
   "metadata": {},
   "outputs": [
    {
     "data": {
      "image/png": "[encoded data removed]",
      "text/plain": [
       "<Figure size 864x576 with 2 Axes>"
      ]
     },
     "metadata": {
      "needs_background": "light"
     },
     "output_type": "display_data"
    }
   ],
   "source": [
    "# this time we'll do it \n",
    "identity_matrix = np.identity(cor_mat.shape[0]).astype(bool)  # diagonal only \n",
    "corr_mat_without_diagonal = cor_mat.mask(identity_matrix)\n",
    "\n",
    "# and now plot \n",
    "plt.figure(figsize = (12,8))\n",
    "sns.heatmap(corr_mat_without_diagonal, annot=True, cmap='RdBu_r');"
   ]
  },
  {
   "cell_type": "markdown",
   "metadata": {},
   "source": [
    "Using this one, it's trivial to get some numerical answers. \n",
    "\n",
    "Let's answer the following question: \n",
    "> **_What is the feature that correlates most positively with pollution?_**"
   ]
  },
  {
   "cell_type": "code",
   "execution_count": 32,
   "metadata": {},
   "outputs": [
    {
     "data": {
      "text/plain": [
       "crime              0.463001\n",
       "industrial         0.750087\n",
       "river              0.080275\n",
       "buildings_age      0.736000\n",
       "roads_quality      0.612180\n",
       "school_quality     0.192513\n",
       "taxes              0.670722\n",
       "poverty            0.598874\n",
       "house_price        0.006362\n",
       "number_of_rooms   -0.338515\n",
       "pollution               NaN\n",
       "Name: pollution, dtype: float64"
      ]
     },
     "execution_count": 32,
     "metadata": {},
     "output_type": "execute_result"
    }
   ],
   "source": [
    "# getting the pollution row is now trivial: \n",
    "industrial_corrs = corr_mat_without_diagonal.loc['pollution']\n",
    "industrial_corrs"
   ]
  },
  {
   "cell_type": "markdown",
   "metadata": {},
   "source": [
    "To answer the question, we can just use idxmax (and max, if we want the amount too) "
   ]
  },
  {
   "cell_type": "code",
   "execution_count": 33,
   "metadata": {},
   "outputs": [
    {
     "name": "stdout",
     "output_type": "stream",
     "text": [
      "The feature that most positively correlates with pollution is industrial (correlation: 0.75)\n"
     ]
    }
   ],
   "source": [
    "strongest_correlating_feature = industrial_corrs.idxmax()\n",
    "amount_of_that_correlation = industrial_corrs.max()\n",
    "\n",
    "print('The feature that most positively correlates with %s is %s (correlation: %0.2f)' % (\n",
    "    'pollution', strongest_correlating_feature, amount_of_that_correlation))"
   ]
  },
  {
   "cell_type": "markdown",
   "metadata": {},
   "source": [
    "Which kind of makes sense. We can obviously do the opposite with `min` and `idxmin`. "
   ]
  },
  {
   "cell_type": "markdown",
   "metadata": {},
   "source": [
    "By the way, what happens if we call `idxmin` directly on the correlation matrix without the diagonal?  "
   ]
  },
  {
   "cell_type": "code",
   "execution_count": 36,
   "metadata": {},
   "outputs": [
    {
     "data": {
      "text/plain": [
       "crime              number_of_rooms\n",
       "industrial         number_of_rooms\n",
       "river               school_quality\n",
       "buildings_age      number_of_rooms\n",
       "roads_quality      number_of_rooms\n",
       "school_quality     number_of_rooms\n",
       "taxes              number_of_rooms\n",
       "poverty            number_of_rooms\n",
       "house_price         school_quality\n",
       "number_of_rooms            poverty\n",
       "pollution          number_of_rooms\n",
       "dtype: object"
      ]
     },
     "execution_count": 36,
     "metadata": {},
     "output_type": "execute_result"
    }
   ],
   "source": [
    "corr_mat_without_diagonal.idxmin()"
   ]
  },
  {
   "cell_type": "markdown",
   "metadata": {},
   "source": [
    "We get the most negatively correlated feature for each feature. "
   ]
  },
  {
   "cell_type": "markdown",
   "metadata": {},
   "source": [
    "### Finally there is the question of \"what are the highest/lowest\" correlation pairs? \n",
    "\n",
    "We can do this programatically with a bit of pandas black magic, using the (optional) unstack method. \n",
    "\n",
    "Let's take our triangular matrix: "
   ]
  },
  {
   "cell_type": "code",
   "execution_count": 37,
   "metadata": {},
   "outputs": [
    {
     "data": {
      "text/html": [
       "<div>\n",
       "<style scoped>\n",
       "    .dataframe tbody tr th:only-of-type {\n",
       "        vertical-align: middle;\n",
       "    }\n",
       "\n",
       "    .dataframe tbody tr th {\n",
       "        vertical-align: top;\n",
       "    }\n",
       "\n",
       "    .dataframe thead th {\n",
       "        text-align: right;\n",
       "    }\n",
       "</style>\n",
       "<table border=\"1\" class=\"dataframe\">\n",
       "  <thead>\n",
       "    <tr style=\"text-align: right;\">\n",
       "      <th></th>\n",
       "      <th>crime</th>\n",
       "      <th>industrial</th>\n",
       "      <th>river</th>\n",
       "      <th>buildings_age</th>\n",
       "      <th>roads_quality</th>\n",
       "      <th>school_quality</th>\n",
       "      <th>taxes</th>\n",
       "      <th>poverty</th>\n",
       "      <th>house_price</th>\n",
       "      <th>number_of_rooms</th>\n",
       "      <th>pollution</th>\n",
       "    </tr>\n",
       "  </thead>\n",
       "  <tbody>\n",
       "    <tr>\n",
       "      <th>crime</th>\n",
       "      <td>NaN</td>\n",
       "      <td>NaN</td>\n",
       "      <td>NaN</td>\n",
       "      <td>NaN</td>\n",
       "      <td>NaN</td>\n",
       "      <td>NaN</td>\n",
       "      <td>NaN</td>\n",
       "      <td>NaN</td>\n",
       "      <td>NaN</td>\n",
       "      <td>NaN</td>\n",
       "      <td>NaN</td>\n",
       "    </tr>\n",
       "    <tr>\n",
       "      <th>industrial</th>\n",
       "      <td>0.422228</td>\n",
       "      <td>NaN</td>\n",
       "      <td>NaN</td>\n",
       "      <td>NaN</td>\n",
       "      <td>NaN</td>\n",
       "      <td>NaN</td>\n",
       "      <td>NaN</td>\n",
       "      <td>NaN</td>\n",
       "      <td>NaN</td>\n",
       "      <td>NaN</td>\n",
       "      <td>NaN</td>\n",
       "    </tr>\n",
       "    <tr>\n",
       "      <th>river</th>\n",
       "      <td>-0.041195</td>\n",
       "      <td>0.037496</td>\n",
       "      <td>NaN</td>\n",
       "      <td>NaN</td>\n",
       "      <td>NaN</td>\n",
       "      <td>NaN</td>\n",
       "      <td>NaN</td>\n",
       "      <td>NaN</td>\n",
       "      <td>NaN</td>\n",
       "      <td>NaN</td>\n",
       "      <td>NaN</td>\n",
       "    </tr>\n",
       "    <tr>\n",
       "      <th>buildings_age</th>\n",
       "      <td>0.379034</td>\n",
       "      <td>0.638378</td>\n",
       "      <td>0.068286</td>\n",
       "      <td>NaN</td>\n",
       "      <td>NaN</td>\n",
       "      <td>NaN</td>\n",
       "      <td>NaN</td>\n",
       "      <td>NaN</td>\n",
       "      <td>NaN</td>\n",
       "      <td>NaN</td>\n",
       "      <td>NaN</td>\n",
       "    </tr>\n",
       "    <tr>\n",
       "      <th>roads_quality</th>\n",
       "      <td>0.666636</td>\n",
       "      <td>0.569779</td>\n",
       "      <td>0.007714</td>\n",
       "      <td>0.447380</td>\n",
       "      <td>NaN</td>\n",
       "      <td>NaN</td>\n",
       "      <td>NaN</td>\n",
       "      <td>NaN</td>\n",
       "      <td>NaN</td>\n",
       "      <td>NaN</td>\n",
       "      <td>NaN</td>\n",
       "    </tr>\n",
       "    <tr>\n",
       "      <th>school_quality</th>\n",
       "      <td>0.313409</td>\n",
       "      <td>0.391087</td>\n",
       "      <td>-0.125067</td>\n",
       "      <td>0.259293</td>\n",
       "      <td>0.470849</td>\n",
       "      <td>NaN</td>\n",
       "      <td>NaN</td>\n",
       "      <td>NaN</td>\n",
       "      <td>NaN</td>\n",
       "      <td>NaN</td>\n",
       "      <td>NaN</td>\n",
       "    </tr>\n",
       "    <tr>\n",
       "      <th>taxes</th>\n",
       "      <td>0.617081</td>\n",
       "      <td>0.708313</td>\n",
       "      <td>-0.021826</td>\n",
       "      <td>0.511893</td>\n",
       "      <td>0.903562</td>\n",
       "      <td>0.467437</td>\n",
       "      <td>NaN</td>\n",
       "      <td>NaN</td>\n",
       "      <td>NaN</td>\n",
       "      <td>NaN</td>\n",
       "      <td>NaN</td>\n",
       "    </tr>\n",
       "    <tr>\n",
       "      <th>poverty</th>\n",
       "      <td>0.532077</td>\n",
       "      <td>0.614155</td>\n",
       "      <td>-0.050055</td>\n",
       "      <td>0.588834</td>\n",
       "      <td>0.484568</td>\n",
       "      <td>0.374802</td>\n",
       "      <td>0.544485</td>\n",
       "      <td>NaN</td>\n",
       "      <td>NaN</td>\n",
       "      <td>NaN</td>\n",
       "      <td>NaN</td>\n",
       "    </tr>\n",
       "    <tr>\n",
       "      <th>house_price</th>\n",
       "      <td>-0.142216</td>\n",
       "      <td>-0.094824</td>\n",
       "      <td>0.054430</td>\n",
       "      <td>-0.071160</td>\n",
       "      <td>-0.144383</td>\n",
       "      <td>-0.250637</td>\n",
       "      <td>-0.150252</td>\n",
       "      <td>-0.127299</td>\n",
       "      <td>NaN</td>\n",
       "      <td>NaN</td>\n",
       "      <td>NaN</td>\n",
       "    </tr>\n",
       "    <tr>\n",
       "      <th>number_of_rooms</th>\n",
       "      <td>-0.310180</td>\n",
       "      <td>-0.440365</td>\n",
       "      <td>0.112251</td>\n",
       "      <td>-0.248573</td>\n",
       "      <td>-0.272783</td>\n",
       "      <td>-0.366927</td>\n",
       "      <td>-0.356987</td>\n",
       "      <td>-0.615747</td>\n",
       "      <td>0.147895</td>\n",
       "      <td>NaN</td>\n",
       "      <td>NaN</td>\n",
       "    </tr>\n",
       "    <tr>\n",
       "      <th>pollution</th>\n",
       "      <td>0.463001</td>\n",
       "      <td>0.750087</td>\n",
       "      <td>0.080275</td>\n",
       "      <td>0.736000</td>\n",
       "      <td>0.612180</td>\n",
       "      <td>0.192513</td>\n",
       "      <td>0.670722</td>\n",
       "      <td>0.598874</td>\n",
       "      <td>0.006362</td>\n",
       "      <td>-0.338515</td>\n",
       "      <td>NaN</td>\n",
       "    </tr>\n",
       "  </tbody>\n",
       "</table>\n",
       "</div>"
      ],
      "text/plain": [
       "                    crime  industrial     river  buildings_age  roads_quality  \\\n",
       "crime                 NaN         NaN       NaN            NaN            NaN   \n",
       "industrial       0.422228         NaN       NaN            NaN            NaN   \n",
       "river           -0.041195    0.037496       NaN            NaN            NaN   \n",
       "buildings_age    0.379034    0.638378  0.068286            NaN            NaN   \n",
       "roads_quality    0.666636    0.569779  0.007714       0.447380            NaN   \n",
       "school_quality   0.313409    0.391087 -0.125067       0.259293       0.470849   \n",
       "taxes            0.617081    0.708313 -0.021826       0.511893       0.903562   \n",
       "poverty          0.532077    0.614155 -0.050055       0.588834       0.484568   \n",
       "house_price     -0.142216   -0.094824  0.054430      -0.071160      -0.144383   \n",
       "number_of_rooms -0.310180   -0.440365  0.112251      -0.248573      -0.272783   \n",
       "pollution        0.463001    0.750087  0.080275       0.736000       0.612180   \n",
       "\n",
       "                 school_quality     taxes   poverty  house_price  \\\n",
       "crime                       NaN       NaN       NaN          NaN   \n",
       "industrial                  NaN       NaN       NaN          NaN   \n",
       "river                       NaN       NaN       NaN          NaN   \n",
       "buildings_age               NaN       NaN       NaN          NaN   \n",
       "roads_quality               NaN       NaN       NaN          NaN   \n",
       "school_quality              NaN       NaN       NaN          NaN   \n",
       "taxes                  0.467437       NaN       NaN          NaN   \n",
       "poverty                0.374802  0.544485       NaN          NaN   \n",
       "house_price           -0.250637 -0.150252 -0.127299          NaN   \n",
       "number_of_rooms       -0.366927 -0.356987 -0.615747     0.147895   \n",
       "pollution              0.192513  0.670722  0.598874     0.006362   \n",
       "\n",
       "                 number_of_rooms  pollution  \n",
       "crime                        NaN        NaN  \n",
       "industrial                   NaN        NaN  \n",
       "river                        NaN        NaN  \n",
       "buildings_age                NaN        NaN  \n",
       "roads_quality                NaN        NaN  \n",
       "school_quality               NaN        NaN  \n",
       "taxes                        NaN        NaN  \n",
       "poverty                      NaN        NaN  \n",
       "house_price                  NaN        NaN  \n",
       "number_of_rooms              NaN        NaN  \n",
       "pollution              -0.338515        NaN  "
      ]
     },
     "execution_count": 37,
     "metadata": {},
     "output_type": "execute_result"
    }
   ],
   "source": [
    "cor_mat_lower"
   ]
  },
  {
   "cell_type": "markdown",
   "metadata": {},
   "source": [
    "What we want is to know the absolute biggest pair, so we unstack. What does that mean? "
   ]
  },
  {
   "cell_type": "code",
   "execution_count": 38,
   "metadata": {},
   "outputs": [
    {
     "data": {
      "text/plain": [
       "crime       industrial         0.422228\n",
       "            river             -0.041195\n",
       "            buildings_age      0.379034\n",
       "            roads_quality      0.666636\n",
       "            school_quality     0.313409\n",
       "            taxes              0.617081\n",
       "            poverty            0.532077\n",
       "            house_price       -0.142216\n",
       "            number_of_rooms   -0.310180\n",
       "            pollution          0.463001\n",
       "industrial  river              0.037496\n",
       "            buildings_age      0.638378\n",
       "            roads_quality      0.569779\n",
       "            school_quality     0.391087\n",
       "            taxes              0.708313\n",
       "            poverty            0.614155\n",
       "            house_price       -0.094824\n",
       "            number_of_rooms   -0.440365\n",
       "            pollution          0.750087\n",
       "river       buildings_age      0.068286\n",
       "dtype: float64"
      ]
     },
     "execution_count": 38,
     "metadata": {},
     "output_type": "execute_result"
    }
   ],
   "source": [
    "cor_mat_lower_unstacked = cor_mat_lower.unstack().dropna()\n",
    "cor_mat_lower_unstacked.head(20)"
   ]
  },
  {
   "cell_type": "markdown",
   "metadata": {},
   "source": [
    "Yep, it makes the index have two levels, and leaves us with a Series. Don't worry too much about this now, but notice that you can now do this: "
   ]
  },
  {
   "cell_type": "code",
   "execution_count": 39,
   "metadata": {},
   "outputs": [
    {
     "data": {
      "text/plain": [
       "roads_quality  taxes        0.903562\n",
       "industrial     pollution    0.750087\n",
       "buildings_age  pollution    0.736000\n",
       "industrial     taxes        0.708313\n",
       "taxes          pollution    0.670722\n",
       "dtype: float64"
      ]
     },
     "execution_count": 39,
     "metadata": {},
     "output_type": "execute_result"
    }
   ],
   "source": [
    "cor_mat_lower_unstacked.nlargest(5)"
   ]
  },
  {
   "cell_type": "code",
   "execution_count": 40,
   "metadata": {},
   "outputs": [
    {
     "data": {
      "text/plain": [
       "poverty  number_of_rooms   -0.615747\n",
       "dtype: float64"
      ]
     },
     "execution_count": 40,
     "metadata": {},
     "output_type": "execute_result"
    }
   ],
   "source": [
    "cor_mat_lower_unstacked.nsmallest(1)"
   ]
  },
  {
   "cell_type": "markdown",
   "metadata": {},
   "source": [
    "Which I think you'll admit is pretty sweet. "
   ]
  },
  {
   "cell_type": "markdown",
   "metadata": {},
   "source": [
    "----"
   ]
  }
 ],
 "metadata": {
  "kernelspec": {
   "display_name": "Python 3",
   "language": "python",
   "name": "python3"
  },
  "language_info": {
   "codemirror_mode": {
    "name": "ipython",
    "version": 3
   },
   "file_extension": ".py",
   "mimetype": "text/x-python",
   "name": "python",
   "nbconvert_exporter": "python",
   "pygments_lexer": "ipython3",
   "version": "3.6.9"
  }
 },
 "nbformat": 4,
 "nbformat_minor": 2
}
