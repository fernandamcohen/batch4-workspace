{
 "cells": [
  {
   "cell_type": "markdown",
   "metadata": {
    "colab_type": "text",
    "id": "uxOBCmhyYG04"
   },
   "source": [
    "# 2019-2021 DSAA - Text Mining Project \n",
    "## Classification of Authors by Texts\n",
    "\n",
    "**Group members:** \n",
    "\n",
    "M20190551  Wenyi Liang <br>\n",
    "M20190559  Ernesto Madrid <br>\n",
    "M20190802  Eliane Maria Zanlorense "
   ]
  },
  {
   "cell_type": "markdown",
   "metadata": {
    "colab_type": "text",
    "id": "uCXM4sLCWxoM"
   },
   "source": [
    "###  Access the corpora\n"
   ]
  },
  {
   "cell_type": "code",
   "execution_count": 1,
   "metadata": {
    "colab": {
     "base_uri": "https://localhost:8080/",
     "height": 391
    },
    "colab_type": "code",
    "id": "fp-mVnrOWZBM",
    "outputId": "0db6b734-20f1-4ac6-d059-056eca2a563c"
   },
   "outputs": [],
   "source": [
    "# Import necessary libraries\n",
    "import pandas as pd\n",
    "import numpy as np\n",
    "import os\n",
    "import warnings\n",
    "warnings.filterwarnings('ignore')\n",
    "\n",
    "# Define a function to read the text file\n",
    "def read_text_file(path, author):\n",
    "    files = os.listdir(path)\n",
    "    texts_list = []\n",
    "    for file in files:\n",
    "        if file.endswith(\".txt\"):\n",
    "            text = open(path+file, 'r', encoding='utf-8').read()\n",
    "            texts_list.append(text)\n",
    "    df = pd.DataFrame({'Text': texts_list})\n",
    "    df['Author_Label'] = author\n",
    "    return df\n",
    "\n",
    "# Read text files of each author\n",
    "df_AN=read_text_file(path='Corpora/train/AlmadaNegreiros/', author='Almada Negreiros')\n",
    "df_CC=read_text_file(path='Corpora/train/CamiloCasteloBranco/', author='Camilo Castelo Branco')\n",
    "df_EQ=read_text_file(path='Corpora/train/EcaDeQueiros/', author='Eca De Queiros')\n",
    "df_JR=read_text_file(path='Corpora/train/JoseRodriguesSantos/', author='Jose Rodrigues Santos')\n",
    "df_JS=read_text_file(path='Corpora/train/JoseSaramago/', author='Jose Saramago')\n",
    "df_LM=read_text_file(path='Corpora/train/LuisaMarquesSilva/', author='Luisa Marques Silva')"
   ]
  },
  {
   "cell_type": "markdown",
   "metadata": {
    "colab_type": "text",
    "id": "SVIrXS5F2WXb"
   },
   "source": [
    "### Data cleaning and linguistic preprocessing"
   ]
  },
  {
   "cell_type": "code",
   "execution_count": 2,
   "metadata": {
    "colab": {
     "base_uri": "https://localhost:8080/",
     "height": 68
    },
    "colab_type": "code",
    "id": "8XG1xBjaud0o",
    "outputId": "fbb60622-ed4d-4702-9f6d-83e0d12fdd49"
   },
   "outputs": [
    {
     "name": "stderr",
     "output_type": "stream",
     "text": [
      "[nltk_data] Downloading package stopwords to /Users/iris/nltk_data...\n",
      "[nltk_data]   Package stopwords is already up-to-date!\n",
      "[nltk_data] Downloading package wordnet to /Users/iris/nltk_data...\n",
      "[nltk_data]   Package wordnet is already up-to-date!\n"
     ]
    }
   ],
   "source": [
    "# Import nltk library and download stopwords\n",
    "import nltk\n",
    "nltk.download('stopwords')\n",
    "import nltk\n",
    "nltk.download('wordnet')\n",
    "\n",
    "# Import necessary libraries for text cleaning\n",
    "import re\n",
    "from nltk.corpus import stopwords\n",
    "from nltk.stem.wordnet import WordNetLemmatizer\n",
    "from nltk.tokenize import word_tokenize\n",
    "from nltk.corpus import wordnet\n",
    "from nltk.stem import SnowballStemmer\n",
    "from bs4 import BeautifulSoup\n",
    "import string\n",
    "from tqdm import tqdm_notebook as tqdm\n",
    "\n",
    "stop = set(stopwords.words('portuguese'))\n",
    "exclude = set(string.punctuation)\n",
    "lemma = WordNetLemmatizer()"
   ]
  },
  {
   "cell_type": "code",
   "execution_count": 3,
   "metadata": {
    "colab": {},
    "colab_type": "code",
    "id": "uaUvkVnruK8A"
   },
   "outputs": [],
   "source": [
    "# Define a function to clean the text, including lowercasing, number & punctuation & HTML syntax & URL removal and lemmatization\n",
    "def clean(text_list, lemmatize, stemmer):\n",
    "    \"\"\"\n",
    "    Function that a receives a list of strings and preprocesses it.\n",
    "    \n",
    "    :param text_list: List of strings.\n",
    "    :param lemmatize: Tag to apply lemmatization if True.\n",
    "    :param stemmer: Tag to apply the stemmer if True.\n",
    "    \"\"\"\n",
    "    updates = []\n",
    "    for j in tqdm(range(len(text_list))):\n",
    "        \n",
    "        text = text_list[j]\n",
    "        \n",
    "        #LOWERCASE TEXT\n",
    "        text = text.lower()\n",
    "        \n",
    "        #REMOVE NUMERICAL DATA AND PUNCTUATION\n",
    "        text = re.sub(\"[^a-zA-ZÁÉÍÓÚÀÂÊÔÃÕÜÇáéíóúàâêôãõüç]\", ' ', text) \n",
    "        \n",
    "        #COMPILE WHITE SPACE\n",
    "        white_space = re.compile(r'\\s+')\n",
    "        text = white_space.sub(' ', text).strip()\n",
    "        \n",
    "        #REMOVE TAGS（html syntax）\n",
    "        text = BeautifulSoup(text).get_text()\n",
    "\n",
    "        #REMOVE URL\n",
    "        text = re.sub(r\"http\\S+\", \"\", text)\n",
    "\n",
    "        if lemmatize:\n",
    "            text = \" \".join(lemma.lemmatize(word) for word in text.split())\n",
    "        \n",
    "        if stemmer:\n",
    "            text = \" \".join(snowball_stemmer.stem(word) for word in text.split())\n",
    "        \n",
    "        updates.append(text)\n",
    "        \n",
    "    return updates\n",
    "\n",
    "# Define a function to update the cleaned dataframe\n",
    "def update_df(dataframe, list_updated):\n",
    "    dataframe.update(pd.DataFrame({\"Text\": list_updated}))\n",
    "    \n",
    "# Define a function to clean and update six dataframes\n",
    "def clean_and_update(df1, df2, df3, df4, df5, df6):\n",
    "    updates = clean(df1[\"Text\"], lemmatize = True, stemmer = False)\n",
    "    update_df(df1, updates)\n",
    "    updates = clean(df2[\"Text\"], lemmatize = True, stemmer = False)\n",
    "    update_df(df2, updates)\n",
    "    updates = clean(df3[\"Text\"], lemmatize = True, stemmer = False)\n",
    "    update_df(df3, updates)\n",
    "    updates = clean(df4[\"Text\"], lemmatize = True, stemmer = False)\n",
    "    update_df(df4, updates)\n",
    "    updates = clean(df5[\"Text\"], lemmatize = True, stemmer = False)\n",
    "    update_df(df5, updates)\n",
    "    updates = clean(df6[\"Text\"], lemmatize = True, stemmer = False)\n",
    "    update_df(df6, updates)"
   ]
  },
  {
   "cell_type": "code",
   "execution_count": 4,
   "metadata": {
    "colab": {
     "base_uri": "https://localhost:8080/",
     "height": 117,
     "referenced_widgets": [
      "5fb56686e55a4689a1624e92b6ead433",
      "2e284e4b7d1e49bca3a1e71031024775",
      "89cfecb96a50465b9ed8cc6b3705a588",
      "9cfacfe96bf946b1aa2326ec09a11c98",
      "43f23650ccc241e6b7648ed9a39f5492",
      "f757cbf97b7f4a478239c0bf3b1fa7ee",
      "0aa6282e7efe41b787dc90d9b9bc6151",
      "fbeee2ac360d429db3849908b3d6b45b"
     ]
    },
    "colab_type": "code",
    "id": "v7U0AgA8uKuU",
    "outputId": "b28e21d8-8e6e-452e-c89d-d386c3919e0d"
   },
   "outputs": [
    {
     "data": {
      "application/vnd.jupyter.widget-view+json": {
       "model_id": "25a4353f417e4a9ba129cc87903599b5",
       "version_major": 2,
       "version_minor": 0
      },
      "text/plain": [
       "HBox(children=(FloatProgress(value=0.0, max=9.0), HTML(value='')))"
      ]
     },
     "metadata": {},
     "output_type": "display_data"
    },
    {
     "name": "stdout",
     "output_type": "stream",
     "text": [
      "\n"
     ]
    },
    {
     "data": {
      "application/vnd.jupyter.widget-view+json": {
       "model_id": "93bf53f05c8f4cfbb255a32f66415345",
       "version_major": 2,
       "version_minor": 0
      },
      "text/plain": [
       "HBox(children=(FloatProgress(value=0.0, max=20.0), HTML(value='')))"
      ]
     },
     "metadata": {},
     "output_type": "display_data"
    },
    {
     "name": "stdout",
     "output_type": "stream",
     "text": [
      "\n"
     ]
    },
    {
     "data": {
      "application/vnd.jupyter.widget-view+json": {
       "model_id": "251aaaba112149fa84870bd531ce985e",
       "version_major": 2,
       "version_minor": 0
      },
      "text/plain": [
       "HBox(children=(FloatProgress(value=0.0, max=5.0), HTML(value='')))"
      ]
     },
     "metadata": {},
     "output_type": "display_data"
    },
    {
     "name": "stdout",
     "output_type": "stream",
     "text": [
      "\n"
     ]
    },
    {
     "data": {
      "application/vnd.jupyter.widget-view+json": {
       "model_id": "71e623ee652c4e499ff9131414ad128d",
       "version_major": 2,
       "version_minor": 0
      },
      "text/plain": [
       "HBox(children=(FloatProgress(value=0.0, max=8.0), HTML(value='')))"
      ]
     },
     "metadata": {},
     "output_type": "display_data"
    },
    {
     "name": "stdout",
     "output_type": "stream",
     "text": [
      "\n"
     ]
    },
    {
     "data": {
      "application/vnd.jupyter.widget-view+json": {
       "model_id": "aecd86ab24c24241891fbaed18408549",
       "version_major": 2,
       "version_minor": 0
      },
      "text/plain": [
       "HBox(children=(FloatProgress(value=0.0, max=12.0), HTML(value='')))"
      ]
     },
     "metadata": {},
     "output_type": "display_data"
    },
    {
     "name": "stdout",
     "output_type": "stream",
     "text": [
      "\n"
     ]
    },
    {
     "data": {
      "application/vnd.jupyter.widget-view+json": {
       "model_id": "51c36fbf5ed841d3a14c8c6c82e9a1b5",
       "version_major": 2,
       "version_minor": 0
      },
      "text/plain": [
       "HBox(children=(FloatProgress(value=0.0, max=9.0), HTML(value='')))"
      ]
     },
     "metadata": {},
     "output_type": "display_data"
    },
    {
     "name": "stdout",
     "output_type": "stream",
     "text": [
      "\n"
     ]
    }
   ],
   "source": [
    "# Clean and update the texts of the six authors\n",
    "clean_and_update(df1=df_AN, df2=df_CC, df3=df_EQ, df4=df_JR, df5=df_JS, df6=df_LM)"
   ]
  },
  {
   "cell_type": "markdown",
   "metadata": {
    "colab_type": "text",
    "id": "E1JX0ih54vrN"
   },
   "source": [
    "### Break books into chunks"
   ]
  },
  {
   "cell_type": "code",
   "execution_count": 5,
   "metadata": {
    "colab": {},
    "colab_type": "code",
    "id": "SicShp_a5B0f"
   },
   "outputs": [],
   "source": [
    "# Define functions to break a big text in chunks\n",
    "from itertools import islice\n",
    "from random import randint\n",
    "def extractDigits(lst): \n",
    "    return [[el] for el in lst] \n",
    "\n",
    "def random_chunk(li, min_chunk, max_chunk):\n",
    "    it = iter(li)\n",
    "    while True:\n",
    "        nxt = list(islice(it,randint(min_chunk,max_chunk)))\n",
    "        if nxt:\n",
    "            yield nxt\n",
    "        else:\n",
    "            break\n",
    "\n",
    "# Define a function to break the texts of each author\n",
    "def text_to_chunks(df):\n",
    "    to_list = []\n",
    "    for i in df['Text'].index:\n",
    "      if len(df['Text'][i].split()) <= 1050:\n",
    "        to_list.append(df['Text'][i])\n",
    "\n",
    "    to_list = extractDigits(to_list)\n",
    "\n",
    "    for i in df['Text'].index:\n",
    "      if len(df['Text'][i].split()) > 1050:\n",
    "        Text_to_chunks = df['Text'][i].split()\n",
    "        # Splitting a text into chunks\n",
    "        my_chunk = random_chunk(Text_to_chunks, min_chunk=450, max_chunk=1050)\n",
    "        chunks = list(my_chunk)\n",
    "        # Ensuring each chunk has at least 450 words, otherwise combine with the previous chunk \n",
    "        if len(chunks[-1]) < 450:\n",
    "          chunks[-1] = chunks[-2] + chunks[-1]\n",
    "          del chunks[-2]\n",
    "        for c in chunks:\n",
    "          to_list.append(c)\n",
    "    return to_list\n",
    "\n",
    "# Define a function to put chunks in a dataframe\n",
    "def chunks_to_df(author, l):\n",
    "    data = {'Author_Label': [author for i in range(len(l))]}\n",
    "    df = pd.DataFrame(data)\n",
    "    df ['Text'] = l\n",
    "    df ['Text']= df ['Text'].astype(str)\n",
    "    return df"
   ]
  },
  {
   "cell_type": "code",
   "execution_count": 6,
   "metadata": {},
   "outputs": [],
   "source": [
    "# Split the texts of each author into chunks between 450 and 1050 words and put chunks in a dataframe\n",
    "df_AN = chunks_to_df(author='Almada Negreiros', l=text_to_chunks(df=df_AN))\n",
    "df_CC = chunks_to_df(author='Camilo Castelo Branco', l=text_to_chunks(df=df_CC))\n",
    "df_EQ = chunks_to_df(author='Eca De Queiros', l=text_to_chunks(df=df_EQ))\n",
    "df_JR = chunks_to_df(author='Jose Rodrigues Santos', l=text_to_chunks(df=df_JR))\n",
    "df_JS = chunks_to_df(author='Jose Saramago', l=text_to_chunks(df=df_JS))\n",
    "df_LM = chunks_to_df(author='Luisa Marques Silva', l=text_to_chunks(df=df_LM))"
   ]
  },
  {
   "cell_type": "markdown",
   "metadata": {
    "colab_type": "text",
    "id": "ZEkWyVEh5P5i"
   },
   "source": [
    "### Text re-cleaning\n"
   ]
  },
  {
   "cell_type": "code",
   "execution_count": 7,
   "metadata": {
    "colab": {
     "base_uri": "https://localhost:8080/",
     "height": 362,
     "referenced_widgets": [
      "1a22242b72834e878752132e239c4018",
      "f1479fd595c74f0d9bbccb8d68a187d3",
      "4a948610da694e48b0b86966d9ef51ac",
      "53604d6e4fc0431eb4a7439bdc005dd9",
      "914ea23334254f6386a49504af5cc0df",
      "9bce8378132a4ca2a8963bb2b2e65b61",
      "706bba3a8f974c11996f9abba7818555",
      "592a8496897f4a5e9597ba1f95793cc0",
      "cc4cc37b45584bbdb4c575701f9f15ce",
      "dd11167040a941e9822bc9041c7f32e7",
      "22b95d3b358647a8a9ac14464189acff",
      "9a4066a859704853b2134bb3801f27fb",
      "634dee9cb36c4e8694fbf6dd1ae9d8e6",
      "65248374b5ea4be29313cd31187db511",
      "4db00ccf5d70442094a2910c5aeb3e69",
      "3f12e55d4a7e47fb85a0d4679b8d8a10",
      "e2777138d9dd47bf9a63bcffc80c4d79",
      "8f84b77fafb94311b4b70e44a1cb88c2",
      "95fc03d9c99240d6a130568de73b6726",
      "458f177849c54fe8b75283d8314e83d4",
      "c9d601d2946240e4b12cd66c452de3a7",
      "35750d581b3643d48093b151696556c7",
      "8be6586863434432bf3ce92b6a034844",
      "0816edb7c4224785ab8d1cb9cbbae7a5",
      "d20a39ae00724481bf751422f891399e",
      "162681d27526455eb7545057f186bafd",
      "d633d9a733444666ae1f3a6e0d46c0e3",
      "727bf6e5d87c4779a56360204ad3e4f9",
      "992ba2e4f1b6432aa941dc8ba2b4268e",
      "5503b60def8047909d419e6bb222cccf",
      "f69ec20bd34740f8aab435b69a56a287",
      "77e4b3848e19460c8841c5156d04f2ef",
      "a056baeb18b7434781c3f8e37ef20e3e",
      "ec88adc49b30437db99700f7fa0e8935",
      "5a121864f687477a94ec61b21645a15c",
      "b36c38cdd1f84e89a7db70a5bd77ad6d",
      "1b1e3736cb1546ec960cf6ae367a6970",
      "410ed820a01f4ffdb0c90c5c67889d17",
      "bbcdb56936fb406c89f0d5c4f05d1c6e",
      "2d2aef9af9324e42855e92c967985e64",
      "e1b6ae9bb44a4bfc8a48a7448cd526af",
      "5807b8e6d7df4b3396923ffa525220d9",
      "2fae694cef2848978a3f5069e2f36e5e",
      "86de3eb1f20d4d13b899fcc53659fc1c",
      "639ee79516274820b0f738bb07f59bae",
      "d9fd164e6b8648ba8d6edbc3daee77e3",
      "0c952fb787e24da49612d62d3d448f13",
      "f684f086588541c6a4db974a622d8f91"
     ]
    },
    "colab_type": "code",
    "id": "dvThx-yjNgJK",
    "outputId": "26fde6a7-63d4-43a6-cd6e-70eda8e1fe53"
   },
   "outputs": [
    {
     "data": {
      "application/vnd.jupyter.widget-view+json": {
       "model_id": "0ddd7aa31b314075b564df5762446c30",
       "version_major": 2,
       "version_minor": 0
      },
      "text/plain": [
       "HBox(children=(FloatProgress(value=0.0, max=67.0), HTML(value='')))"
      ]
     },
     "metadata": {},
     "output_type": "display_data"
    },
    {
     "name": "stdout",
     "output_type": "stream",
     "text": [
      "\n"
     ]
    },
    {
     "data": {
      "application/vnd.jupyter.widget-view+json": {
       "model_id": "a2a976d5400944e08c3abeb46388dd40",
       "version_major": 2,
       "version_minor": 0
      },
      "text/plain": [
       "HBox(children=(FloatProgress(value=0.0, max=1071.0), HTML(value='')))"
      ]
     },
     "metadata": {},
     "output_type": "display_data"
    },
    {
     "name": "stdout",
     "output_type": "stream",
     "text": [
      "\n"
     ]
    },
    {
     "data": {
      "application/vnd.jupyter.widget-view+json": {
       "model_id": "56a0b97136014b9bbe102c67654698f8",
       "version_major": 2,
       "version_minor": 0
      },
      "text/plain": [
       "HBox(children=(FloatProgress(value=0.0, max=624.0), HTML(value='')))"
      ]
     },
     "metadata": {},
     "output_type": "display_data"
    },
    {
     "name": "stdout",
     "output_type": "stream",
     "text": [
      "\n"
     ]
    },
    {
     "data": {
      "application/vnd.jupyter.widget-view+json": {
       "model_id": "72786cd0a95142f790d14e98054effba",
       "version_major": 2,
       "version_minor": 0
      },
      "text/plain": [
       "HBox(children=(FloatProgress(value=0.0, max=1563.0), HTML(value='')))"
      ]
     },
     "metadata": {},
     "output_type": "display_data"
    },
    {
     "name": "stdout",
     "output_type": "stream",
     "text": [
      "\n"
     ]
    },
    {
     "data": {
      "application/vnd.jupyter.widget-view+json": {
       "model_id": "d6e9c30ca3044f8ea13bd36480bb69b2",
       "version_major": 2,
       "version_minor": 0
      },
      "text/plain": [
       "HBox(children=(FloatProgress(value=0.0, max=1375.0), HTML(value='')))"
      ]
     },
     "metadata": {},
     "output_type": "display_data"
    },
    {
     "name": "stdout",
     "output_type": "stream",
     "text": [
      "\n"
     ]
    },
    {
     "data": {
      "application/vnd.jupyter.widget-view+json": {
       "model_id": "ec04e64e6f664c7a887d927c9dd46112",
       "version_major": 2,
       "version_minor": 0
      },
      "text/plain": [
       "HBox(children=(FloatProgress(value=0.0, max=55.0), HTML(value='')))"
      ]
     },
     "metadata": {},
     "output_type": "display_data"
    },
    {
     "name": "stdout",
     "output_type": "stream",
     "text": [
      "\n"
     ]
    }
   ],
   "source": [
    "clean_and_update(df1=df_AN, df2=df_CC, df3=df_EQ, df4=df_JR, df5=df_JS, df6=df_LM)"
   ]
  },
  {
   "cell_type": "markdown",
   "metadata": {
    "colab_type": "text",
    "id": "7xAZuluX7_xu"
   },
   "source": [
    "### Undersampling for a balanced learning"
   ]
  },
  {
   "cell_type": "code",
   "execution_count": 8,
   "metadata": {
    "colab": {
     "base_uri": "https://localhost:8080/",
     "height": 34
    },
    "colab_type": "code",
    "id": "6FEP7GzIn7im",
    "outputId": "c58f2f70-ea0b-4dec-b408-3f78554fb8f1"
   },
   "outputs": [
    {
     "name": "stdout",
     "output_type": "stream",
     "text": [
      "The smallest number of chunks for an author is:  55\n"
     ]
    }
   ],
   "source": [
    "# The number of chunks by author is imabalanced\n",
    "# To avoid imbalanced learning, we are going to randomly drop chunks from authors who have more chunks\n",
    "# Undersampling\n",
    "\n",
    "# Count the least chunks for an author\n",
    "min_chunks = min([df_AN['Author_Label'].count(),\n",
    "                 df_CC['Author_Label'].count(),\n",
    "                 df_EQ['Author_Label'].count(),\n",
    "                 df_JR['Author_Label'].count(),\n",
    "                 df_JS['Author_Label'].count(),\n",
    "                 df_LM['Author_Label'].count()])\n",
    "\n",
    "print('The smallest number of chunks for an author is: ', min_chunks)"
   ]
  },
  {
   "cell_type": "code",
   "execution_count": 9,
   "metadata": {
    "colab": {},
    "colab_type": "code",
    "id": "2svBzQr7n7Z8"
   },
   "outputs": [],
   "source": [
    "# Define a function to drop excessive chunks\n",
    "def drop_random_chunks(df):\n",
    "  np.random.seed(10)\n",
    "  remove_n = df.shape[0] - min_chunks\n",
    "  drop_indices = np.random.choice(df.index, remove_n, replace=False)\n",
    "  df_subset = df.drop(drop_indices)\n",
    "  return df_subset\n",
    "\n",
    "# Drop chunks for each author dataframe\n",
    "df_AN_subset = drop_random_chunks(df_AN)\n",
    "df_CC_subset = drop_random_chunks(df_CC)\n",
    "df_EQ_subset = drop_random_chunks(df_EQ)\n",
    "df_JR_subset = drop_random_chunks(df_JR)\n",
    "df_JS_subset = drop_random_chunks(df_JS)\n",
    "df_LM_subset = drop_random_chunks(df_LM)"
   ]
  },
  {
   "cell_type": "code",
   "execution_count": 10,
   "metadata": {
    "colab": {
     "base_uri": "https://localhost:8080/",
     "height": 34
    },
    "colab_type": "code",
    "id": "4-tj7cFUn7AM",
    "outputId": "21475409-893b-4912-c76d-e50e7d6ea2fa"
   },
   "outputs": [
    {
     "data": {
      "text/plain": [
       "[55, 55, 55, 55, 55, 55]"
      ]
     },
     "execution_count": 10,
     "metadata": {},
     "output_type": "execute_result"
    }
   ],
   "source": [
    "# Show a list of all the number of chunks by author\n",
    "balanced_chunks = [df_AN_subset.shape[0],\n",
    "                   df_CC_subset.shape[0],\n",
    "                   df_EQ_subset.shape[0],\n",
    "                   df_JR_subset.shape[0],\n",
    "                   df_JS_subset.shape[0],\n",
    "                   df_LM_subset.shape[0]]\n",
    "balanced_chunks"
   ]
  },
  {
   "cell_type": "code",
   "execution_count": 11,
   "metadata": {
    "colab": {},
    "colab_type": "code",
    "id": "IvRcjSuLn68I"
   },
   "outputs": [
    {
     "data": {
      "text/html": [
       "<div>\n",
       "<style scoped>\n",
       "    .dataframe tbody tr th:only-of-type {\n",
       "        vertical-align: middle;\n",
       "    }\n",
       "\n",
       "    .dataframe tbody tr th {\n",
       "        vertical-align: top;\n",
       "    }\n",
       "\n",
       "    .dataframe thead th {\n",
       "        text-align: right;\n",
       "    }\n",
       "</style>\n",
       "<table border=\"1\" class=\"dataframe\">\n",
       "  <thead>\n",
       "    <tr style=\"text-align: right;\">\n",
       "      <th></th>\n",
       "      <th>Author_Label</th>\n",
       "      <th>Text</th>\n",
       "    </tr>\n",
       "  </thead>\n",
       "  <tbody>\n",
       "    <tr>\n",
       "      <th>0</th>\n",
       "      <td>Almada Negreiros</td>\n",
       "      <td>exposição amadeo de souza cardoso liga naval de lisboa em portugal existe uma unica opinião sobre arte e abrange uma tão colossal maioria que receio que ella impere por esmagamento essa opinião é a do ex mo sr dr josé de figueiredo gago do governo não é porque este snr tenha opinião nem que este snr seja da igualha do resto de portugal ma o resto de portugal e este senhor em materia de opinião são da mesma igualha um dia um senhor grisalho disse me em meia hora o seus conhecimentos sobre art...</td>\n",
       "    </tr>\n",
       "    <tr>\n",
       "      <th>1</th>\n",
       "      <td>Almada Negreiros</td>\n",
       "      <td>title o jardim da pierrette author josé de almada negreiros release date september ebook language portuguese argumento do bailado pierrot n aquella noite depois de muito pensar disse que queria morrer pierrot coitado tinha razão um dia inteiro sem ver pierrette não é viver deitou se muito cançado n um jardim qualquer havia luz no palacio e uma linda menina a fazer serão poi logo quiz deus nosso senhor que fôsse o jardim de pierrette pierrot não quiz acreditar ma depois ficou muito contente p...</td>\n",
       "    </tr>\n",
       "    <tr>\n",
       "      <th>2</th>\n",
       "      <td>Almada Negreiros</td>\n",
       "      <td>me deixaste nada nem me deixaste a morte zutt poeira pingo microbio que gemes pequenissimo gemidos gigantes gravido de uma dôr profeta colossal zutt elefante berloque parasita do não presta zutt bugiganga celluloide bagatella zutt bêsta zutt bácoro zutt merda e tu tambem vieille roche castello medieval fechado por dentro da tuas ruinas fiel epitaphio da cronicas aduladoras e tu tambem ó sangue azul antigo que já nasceste co a biographia feita ó pagem loiro da cortezias avozinhas ó pergaminho...</td>\n",
       "    </tr>\n",
       "    <tr>\n",
       "      <th>3</th>\n",
       "      <td>Almada Negreiros</td>\n",
       "      <td>o grandes o que são estragados por ti e de que serve o livro e a sciencia se a experiencia da vida é que faz comprehender a sciencia e o livro ante não ter sciencias ante não ter livros larga a cidade masturbadora febril rabo decepado de lagartixa labyrintho cego de toupeiras raça de ignobeis myope tysicos tarados anemicos cancerosos e arseniados larga a cidade larga a infamia da ruas e do boulevard esse vae vem cynico de bandidos mudos esse mexer esponjoso de carne viva esse sêr lêsma nojen...</td>\n",
       "    </tr>\n",
       "    <tr>\n",
       "      <th>4</th>\n",
       "      <td>Almada Negreiros</td>\n",
       "      <td>o panno verde da meza do bridge diz muito bem e pouco a pouco como doi astros perdidos no infinito e cujas trajectorias antecipadamente traçadas por aquelle que tudo rege forçosamente um dia se hão de cruzar assim tambem a nossas duas almas já por varias vezes o tinha presentido era inevitavel que mais cêdo ou mais tarde não viessem a encontrar se face a face e ainda bem pra mim não me enganei continúa um dia déra lhe pra pintar e voltou pra mim numa tela um torso ancioso na intensão de vici...</td>\n",
       "    </tr>\n",
       "  </tbody>\n",
       "</table>\n",
       "</div>"
      ],
      "text/plain": [
       "       Author_Label  \\\n",
       "0  Almada Negreiros   \n",
       "1  Almada Negreiros   \n",
       "2  Almada Negreiros   \n",
       "3  Almada Negreiros   \n",
       "4  Almada Negreiros   \n",
       "\n",
       "                                                                                                                                                                                                                                                                                                                                                                                                                                                                                                                  Text  \n",
       "0  exposição amadeo de souza cardoso liga naval de lisboa em portugal existe uma unica opinião sobre arte e abrange uma tão colossal maioria que receio que ella impere por esmagamento essa opinião é a do ex mo sr dr josé de figueiredo gago do governo não é porque este snr tenha opinião nem que este snr seja da igualha do resto de portugal ma o resto de portugal e este senhor em materia de opinião são da mesma igualha um dia um senhor grisalho disse me em meia hora o seus conhecimentos sobre art...  \n",
       "1  title o jardim da pierrette author josé de almada negreiros release date september ebook language portuguese argumento do bailado pierrot n aquella noite depois de muito pensar disse que queria morrer pierrot coitado tinha razão um dia inteiro sem ver pierrette não é viver deitou se muito cançado n um jardim qualquer havia luz no palacio e uma linda menina a fazer serão poi logo quiz deus nosso senhor que fôsse o jardim de pierrette pierrot não quiz acreditar ma depois ficou muito contente p...  \n",
       "2  me deixaste nada nem me deixaste a morte zutt poeira pingo microbio que gemes pequenissimo gemidos gigantes gravido de uma dôr profeta colossal zutt elefante berloque parasita do não presta zutt bugiganga celluloide bagatella zutt bêsta zutt bácoro zutt merda e tu tambem vieille roche castello medieval fechado por dentro da tuas ruinas fiel epitaphio da cronicas aduladoras e tu tambem ó sangue azul antigo que já nasceste co a biographia feita ó pagem loiro da cortezias avozinhas ó pergaminho...  \n",
       "3  o grandes o que são estragados por ti e de que serve o livro e a sciencia se a experiencia da vida é que faz comprehender a sciencia e o livro ante não ter sciencias ante não ter livros larga a cidade masturbadora febril rabo decepado de lagartixa labyrintho cego de toupeiras raça de ignobeis myope tysicos tarados anemicos cancerosos e arseniados larga a cidade larga a infamia da ruas e do boulevard esse vae vem cynico de bandidos mudos esse mexer esponjoso de carne viva esse sêr lêsma nojen...  \n",
       "4  o panno verde da meza do bridge diz muito bem e pouco a pouco como doi astros perdidos no infinito e cujas trajectorias antecipadamente traçadas por aquelle que tudo rege forçosamente um dia se hão de cruzar assim tambem a nossas duas almas já por varias vezes o tinha presentido era inevitavel que mais cêdo ou mais tarde não viessem a encontrar se face a face e ainda bem pra mim não me enganei continúa um dia déra lhe pra pintar e voltou pra mim numa tela um torso ancioso na intensão de vici...  "
      ]
     },
     "execution_count": 11,
     "metadata": {},
     "output_type": "execute_result"
    }
   ],
   "source": [
    "# Concatenate all the author's chunks in a single dataframe called df_train\n",
    "pd.options.display.max_colwidth = 500\n",
    "df_train = pd.concat([df_AN_subset, df_CC_subset, df_EQ_subset, df_JR_subset, df_JS_subset,df_LM_subset], \n",
    "                     ignore_index=True)\n",
    "df_train.head()"
   ]
  },
  {
   "cell_type": "markdown",
   "metadata": {
    "colab_type": "text",
    "id": "8Zl_nWjl8-ZR"
   },
   "source": [
    "## Model Development\n",
    "### Model evaluation metrics"
   ]
  },
  {
   "cell_type": "code",
   "execution_count": 12,
   "metadata": {
    "colab": {},
    "colab_type": "code",
    "id": "zmlKgIHtuKCS"
   },
   "outputs": [],
   "source": [
    "# Model evaluation\n",
    "from sklearn.metrics import confusion_matrix, accuracy_score, precision_score, recall_score, f1_score\n",
    "from sklearn.metrics import classification_report\n",
    "\n",
    "# To evaluate the results, we are going to use also the classification report method\n",
    "def metrics(y_val, pred_val):\n",
    "    print('                                     MODEL EVALUATION REPORT                                               ')\n",
    "    print('-----------------------------------------------------------------------------------------------------------')\n",
    "    print(classification_report(y_val, pred_val))\n",
    "    print(confusion_matrix(y_val, pred_val))"
   ]
  },
  {
   "cell_type": "markdown",
   "metadata": {
    "colab_type": "text",
    "id": "6lolkBDp5ZHe"
   },
   "source": [
    "### Extract text features by creating Bag of Words (BoW)"
   ]
  },
  {
   "cell_type": "code",
   "execution_count": 13,
   "metadata": {
    "colab": {},
    "colab_type": "code",
    "id": "hxGbyKgKqB_j"
   },
   "outputs": [],
   "source": [
    "# CREATE BAG OF WORDS\n",
    "from sklearn.feature_extraction.text import CountVectorizer\n",
    "cv = CountVectorizer(max_df=0.9, binary=True, stop_words = stop, ngram_range=(1,2))\n",
    "\n",
    "# DEFINING THE INDEPENDENT AND DEPENDENT VARIABLE\n",
    "X = cv.fit_transform(df_train[\"Text\"])\n",
    "y = np.array(df_train[\"Author_Label\"])"
   ]
  },
  {
   "cell_type": "markdown",
   "metadata": {
    "colab_type": "text",
    "id": "-YNRWJn75iM7"
   },
   "source": [
    "### Stratified K Fold cross validation for BoW\n"
   ]
  },
  {
   "cell_type": "code",
   "execution_count": 14,
   "metadata": {
    "colab": {
     "base_uri": "https://localhost:8080/",
     "height": 1000
    },
    "colab_type": "code",
    "id": "EtfmfvzRADEF",
    "outputId": "6d574d61-54ef-4110-d515-7ef127dbe316"
   },
   "outputs": [
    {
     "name": "stdout",
     "output_type": "stream",
     "text": [
      "TRAIN: [ 11  12  13  14  15  16  17  18  19  20  21  22  23  24  25  26  27  28\n",
      "  29  30  31  32  33  34  35  36  37  38  39  40  41  42  43  44  45  46\n",
      "  47  48  49  50  51  52  53  54  66  67  68  69  70  71  72  73  74  75\n",
      "  76  77  78  79  80  81  82  83  84  85  86  87  88  89  90  91  92  93\n",
      "  94  95  96  97  98  99 100 101 102 103 104 105 106 107 108 109 121 122\n",
      " 123 124 125 126 127 128 129 130 131 132 133 134 135 136 137 138 139 140\n",
      " 141 142 143 144 145 146 147 148 149 150 151 152 153 154 155 156 157 158\n",
      " 159 160 161 162 163 164 176 177 178 179 180 181 182 183 184 185 186 187\n",
      " 188 189 190 191 192 193 194 195 196 197 198 199 200 201 202 203 204 205\n",
      " 206 207 208 209 210 211 212 213 214 215 216 217 218 219 231 232 233 234\n",
      " 235 236 237 238 239 240 241 242 243 244 245 246 247 248 249 250 251 252\n",
      " 253 254 255 256 257 258 259 260 261 262 263 264 265 266 267 268 269 270\n",
      " 271 272 273 274 286 287 288 289 290 291 292 293 294 295 296 297 298 299\n",
      " 300 301 302 303 304 305 306 307 308 309 310 311 312 313 314 315 316 317\n",
      " 318 319 320 321 322 323 324 325 326 327 328 329]\n",
      "VALIDATION: [  0   1   2   3   4   5   6   7   8   9  10  55  56  57  58  59  60  61\n",
      "  62  63  64  65 110 111 112 113 114 115 116 117 118 119 120 165 166 167\n",
      " 168 169 170 171 172 173 174 175 220 221 222 223 224 225 226 227 228 229\n",
      " 230 275 276 277 278 279 280 281 282 283 284 285] \n",
      "\n",
      "TRAIN: [  0   1   2   3   4   5   6   7   8   9  10  22  23  24  25  26  27  28\n",
      "  29  30  31  32  33  34  35  36  37  38  39  40  41  42  43  44  45  46\n",
      "  47  48  49  50  51  52  53  54  55  56  57  58  59  60  61  62  63  64\n",
      "  65  77  78  79  80  81  82  83  84  85  86  87  88  89  90  91  92  93\n",
      "  94  95  96  97  98  99 100 101 102 103 104 105 106 107 108 109 110 111\n",
      " 112 113 114 115 116 117 118 119 120 132 133 134 135 136 137 138 139 140\n",
      " 141 142 143 144 145 146 147 148 149 150 151 152 153 154 155 156 157 158\n",
      " 159 160 161 162 163 164 165 166 167 168 169 170 171 172 173 174 175 187\n",
      " 188 189 190 191 192 193 194 195 196 197 198 199 200 201 202 203 204 205\n",
      " 206 207 208 209 210 211 212 213 214 215 216 217 218 219 220 221 222 223\n",
      " 224 225 226 227 228 229 230 242 243 244 245 246 247 248 249 250 251 252\n",
      " 253 254 255 256 257 258 259 260 261 262 263 264 265 266 267 268 269 270\n",
      " 271 272 273 274 275 276 277 278 279 280 281 282 283 284 285 297 298 299\n",
      " 300 301 302 303 304 305 306 307 308 309 310 311 312 313 314 315 316 317\n",
      " 318 319 320 321 322 323 324 325 326 327 328 329]\n",
      "VALIDATION: [ 11  12  13  14  15  16  17  18  19  20  21  66  67  68  69  70  71  72\n",
      "  73  74  75  76 121 122 123 124 125 126 127 128 129 130 131 176 177 178\n",
      " 179 180 181 182 183 184 185 186 231 232 233 234 235 236 237 238 239 240\n",
      " 241 286 287 288 289 290 291 292 293 294 295 296] \n",
      "\n",
      "TRAIN: [  0   1   2   3   4   5   6   7   8   9  10  11  12  13  14  15  16  17\n",
      "  18  19  20  21  33  34  35  36  37  38  39  40  41  42  43  44  45  46\n",
      "  47  48  49  50  51  52  53  54  55  56  57  58  59  60  61  62  63  64\n",
      "  65  66  67  68  69  70  71  72  73  74  75  76  88  89  90  91  92  93\n",
      "  94  95  96  97  98  99 100 101 102 103 104 105 106 107 108 109 110 111\n",
      " 112 113 114 115 116 117 118 119 120 121 122 123 124 125 126 127 128 129\n",
      " 130 131 143 144 145 146 147 148 149 150 151 152 153 154 155 156 157 158\n",
      " 159 160 161 162 163 164 165 166 167 168 169 170 171 172 173 174 175 176\n",
      " 177 178 179 180 181 182 183 184 185 186 198 199 200 201 202 203 204 205\n",
      " 206 207 208 209 210 211 212 213 214 215 216 217 218 219 220 221 222 223\n",
      " 224 225 226 227 228 229 230 231 232 233 234 235 236 237 238 239 240 241\n",
      " 253 254 255 256 257 258 259 260 261 262 263 264 265 266 267 268 269 270\n",
      " 271 272 273 274 275 276 277 278 279 280 281 282 283 284 285 286 287 288\n",
      " 289 290 291 292 293 294 295 296 308 309 310 311 312 313 314 315 316 317\n",
      " 318 319 320 321 322 323 324 325 326 327 328 329]\n",
      "VALIDATION: [ 22  23  24  25  26  27  28  29  30  31  32  77  78  79  80  81  82  83\n",
      "  84  85  86  87 132 133 134 135 136 137 138 139 140 141 142 187 188 189\n",
      " 190 191 192 193 194 195 196 197 242 243 244 245 246 247 248 249 250 251\n",
      " 252 297 298 299 300 301 302 303 304 305 306 307] \n",
      "\n",
      "TRAIN: [  0   1   2   3   4   5   6   7   8   9  10  11  12  13  14  15  16  17\n",
      "  18  19  20  21  22  23  24  25  26  27  28  29  30  31  32  44  45  46\n",
      "  47  48  49  50  51  52  53  54  55  56  57  58  59  60  61  62  63  64\n",
      "  65  66  67  68  69  70  71  72  73  74  75  76  77  78  79  80  81  82\n",
      "  83  84  85  86  87  99 100 101 102 103 104 105 106 107 108 109 110 111\n",
      " 112 113 114 115 116 117 118 119 120 121 122 123 124 125 126 127 128 129\n",
      " 130 131 132 133 134 135 136 137 138 139 140 141 142 154 155 156 157 158\n",
      " 159 160 161 162 163 164 165 166 167 168 169 170 171 172 173 174 175 176\n",
      " 177 178 179 180 181 182 183 184 185 186 187 188 189 190 191 192 193 194\n",
      " 195 196 197 209 210 211 212 213 214 215 216 217 218 219 220 221 222 223\n",
      " 224 225 226 227 228 229 230 231 232 233 234 235 236 237 238 239 240 241\n",
      " 242 243 244 245 246 247 248 249 250 251 252 264 265 266 267 268 269 270\n",
      " 271 272 273 274 275 276 277 278 279 280 281 282 283 284 285 286 287 288\n",
      " 289 290 291 292 293 294 295 296 297 298 299 300 301 302 303 304 305 306\n",
      " 307 319 320 321 322 323 324 325 326 327 328 329]\n",
      "VALIDATION: [ 33  34  35  36  37  38  39  40  41  42  43  88  89  90  91  92  93  94\n",
      "  95  96  97  98 143 144 145 146 147 148 149 150 151 152 153 198 199 200\n",
      " 201 202 203 204 205 206 207 208 253 254 255 256 257 258 259 260 261 262\n",
      " 263 308 309 310 311 312 313 314 315 316 317 318] \n",
      "\n",
      "TRAIN: [  0   1   2   3   4   5   6   7   8   9  10  11  12  13  14  15  16  17\n",
      "  18  19  20  21  22  23  24  25  26  27  28  29  30  31  32  33  34  35\n",
      "  36  37  38  39  40  41  42  43  55  56  57  58  59  60  61  62  63  64\n",
      "  65  66  67  68  69  70  71  72  73  74  75  76  77  78  79  80  81  82\n",
      "  83  84  85  86  87  88  89  90  91  92  93  94  95  96  97  98 110 111\n",
      " 112 113 114 115 116 117 118 119 120 121 122 123 124 125 126 127 128 129\n",
      " 130 131 132 133 134 135 136 137 138 139 140 141 142 143 144 145 146 147\n",
      " 148 149 150 151 152 153 165 166 167 168 169 170 171 172 173 174 175 176\n",
      " 177 178 179 180 181 182 183 184 185 186 187 188 189 190 191 192 193 194\n",
      " 195 196 197 198 199 200 201 202 203 204 205 206 207 208 220 221 222 223\n",
      " 224 225 226 227 228 229 230 231 232 233 234 235 236 237 238 239 240 241\n",
      " 242 243 244 245 246 247 248 249 250 251 252 253 254 255 256 257 258 259\n",
      " 260 261 262 263 275 276 277 278 279 280 281 282 283 284 285 286 287 288\n",
      " 289 290 291 292 293 294 295 296 297 298 299 300 301 302 303 304 305 306\n",
      " 307 308 309 310 311 312 313 314 315 316 317 318]\n",
      "VALIDATION: [ 44  45  46  47  48  49  50  51  52  53  54  99 100 101 102 103 104 105\n",
      " 106 107 108 109 154 155 156 157 158 159 160 161 162 163 164 209 210 211\n",
      " 212 213 214 215 216 217 218 219 264 265 266 267 268 269 270 271 272 273\n",
      " 274 319 320 321 322 323 324 325 326 327 328 329] \n",
      "\n"
     ]
    }
   ],
   "source": [
    "# K-FOLD CROSS VALIDATION\n",
    "from sklearn.model_selection import StratifiedKFold\n",
    "\n",
    "skf = StratifiedKFold(n_splits=5, random_state=None, shuffle=False) \n",
    "\n",
    "# Split \n",
    "for train_index, val_index in skf.split(X, y):\n",
    "  print(\"TRAIN:\", train_index)\n",
    "  print(\"VALIDATION:\", val_index, '\\n')\n",
    "  X_train, X_val = X[train_index], X[val_index]\n",
    "  y_train, y_val = y[train_index], y[val_index]"
   ]
  },
  {
   "cell_type": "markdown",
   "metadata": {
    "colab_type": "text",
    "id": "wx4nk7ns9PzH"
   },
   "source": [
    "### KNeighbors Classifier using BoW (Baseline)"
   ]
  },
  {
   "cell_type": "code",
   "execution_count": 15,
   "metadata": {
    "colab": {
     "base_uri": "https://localhost:8080/",
     "height": 68
    },
    "colab_type": "code",
    "id": "PWL5ZJdnkO6G",
    "outputId": "7d4d5e64-7cc4-4872-866d-769e84f82b8a"
   },
   "outputs": [],
   "source": [
    "from sklearn.neighbors import KNeighborsClassifier\n",
    "from sklearn.model_selection import GridSearchCV\n",
    "\n",
    "# Parameter Tuning\n",
    "model_KNN = KNeighborsClassifier(weights='distance', algorithm='brute', p=2, \n",
    "                                 metric='cosine', metric_params=None, n_jobs=1)\n",
    "n_neighbors = list(range(1,16))\n",
    "leaf_size = list(range(1,41)) \n",
    "hyperparameters = dict(n_neighbors=n_neighbors, leaf_size=leaf_size)"
   ]
  },
  {
   "cell_type": "code",
   "execution_count": 16,
   "metadata": {},
   "outputs": [
    {
     "name": "stdout",
     "output_type": "stream",
     "text": [
      "Best Score:  0.8303030303030303\n",
      "Best n_neighbors:  14\n",
      "Best leaf_size:  1\n"
     ]
    },
    {
     "name": "stderr",
     "output_type": "stream",
     "text": [
      "/Anaconda/anaconda3/lib/python3.7/site-packages/sklearn/model_selection/_search.py:814: DeprecationWarning: The default of the `iid` parameter will change from True to False in version 0.22 and will be removed in 0.24. This will change numeric results when test-set sizes are unequal.\n",
      "  DeprecationWarning)\n"
     ]
    }
   ],
   "source": [
    "# Fit and search the best parameters\n",
    "grid = GridSearchCV(estimator=model_KNN, param_grid=hyperparameters)\n",
    "grid.fit(X, y)\n",
    "\n",
    "# summarize the results of the parameter search\n",
    "print('Best Score: ',grid.best_score_)\n",
    "print('Best n_neighbors: ',grid.best_estimator_.get_params()['n_neighbors'])\n",
    "print('Best leaf_size: ',grid.best_estimator_.get_params()['leaf_size'])"
   ]
  },
  {
   "cell_type": "code",
   "execution_count": 17,
   "metadata": {
    "colab": {
     "base_uri": "https://localhost:8080/",
     "height": 374
    },
    "colab_type": "code",
    "id": "QrQyvyT0p-Tj",
    "outputId": "7927227a-2b2b-4820-bb8e-ea72d7fee61e"
   },
   "outputs": [
    {
     "name": "stdout",
     "output_type": "stream",
     "text": [
      "                                     MODEL EVALUATION REPORT                                               \n",
      "-----------------------------------------------------------------------------------------------------------\n",
      "                       precision    recall  f1-score   support\n",
      "\n",
      "     Almada Negreiros       0.90      0.82      0.86        11\n",
      "Camilo Castelo Branco       1.00      1.00      1.00        11\n",
      "       Eca De Queiros       0.83      0.91      0.87        11\n",
      "Jose Rodrigues Santos       1.00      0.64      0.78        11\n",
      "        Jose Saramago       0.73      1.00      0.85        11\n",
      "  Luisa Marques Silva       1.00      1.00      1.00        11\n",
      "\n",
      "             accuracy                           0.89        66\n",
      "            macro avg       0.91      0.89      0.89        66\n",
      "         weighted avg       0.91      0.89      0.89        66\n",
      "\n",
      "[[ 9  0  2  0  0  0]\n",
      " [ 0 11  0  0  0  0]\n",
      " [ 1  0 10  0  0  0]\n",
      " [ 0  0  0  7  4  0]\n",
      " [ 0  0  0  0 11  0]\n",
      " [ 0  0  0  0  0 11]]\n"
     ]
    }
   ],
   "source": [
    "# K neighbors classifier\n",
    "KNN = KNeighborsClassifier(n_neighbors=grid.best_estimator_.get_params()['n_neighbors'], weights='distance', \n",
    "                           algorithm='brute', leaf_size=grid.best_estimator_.get_params()['leaf_size'], \n",
    "                           p=2,metric='cosine', metric_params=None, n_jobs=1)\n",
    "KNN.fit(X_train, y_train)\n",
    "labels_val = KNN.predict(X_val)\n",
    "\n",
    "# Call the function metrics() defined previously\n",
    "metrics(y_val, labels_val)"
   ]
  },
  {
   "cell_type": "markdown",
   "metadata": {
    "colab_type": "text",
    "id": "7vXkUdA_-N7Z"
   },
   "source": [
    "## Improve the Baseline by training other models"
   ]
  },
  {
   "cell_type": "markdown",
   "metadata": {
    "colab_type": "text",
    "id": "09QE8Y8R9tQl"
   },
   "source": [
    "### Multinomial Naive Bayes Classifier using BoW"
   ]
  },
  {
   "cell_type": "code",
   "execution_count": 18,
   "metadata": {
    "colab": {
     "base_uri": "https://localhost:8080/",
     "height": 68
    },
    "colab_type": "code",
    "id": "v9hSyTo4T8xS",
    "outputId": "7d8622a4-c3f8-461c-e594-fd0818f9252d"
   },
   "outputs": [
    {
     "name": "stdout",
     "output_type": "stream",
     "text": [
      "                                     MODEL EVALUATION REPORT                                               \n",
      "-----------------------------------------------------------------------------------------------------------\n",
      "                       precision    recall  f1-score   support\n",
      "\n",
      "     Almada Negreiros       1.00      1.00      1.00        11\n",
      "Camilo Castelo Branco       1.00      1.00      1.00        11\n",
      "       Eca De Queiros       1.00      1.00      1.00        11\n",
      "Jose Rodrigues Santos       1.00      1.00      1.00        11\n",
      "        Jose Saramago       0.92      1.00      0.96        11\n",
      "  Luisa Marques Silva       1.00      0.91      0.95        11\n",
      "\n",
      "             accuracy                           0.98        66\n",
      "            macro avg       0.99      0.98      0.98        66\n",
      "         weighted avg       0.99      0.98      0.98        66\n",
      "\n",
      "[[11  0  0  0  0  0]\n",
      " [ 0 11  0  0  0  0]\n",
      " [ 0  0 11  0  0  0]\n",
      " [ 0  0  0 11  0  0]\n",
      " [ 0  0  0  0 11  0]\n",
      " [ 0  0  0  0  1 10]]\n"
     ]
    }
   ],
   "source": [
    "from sklearn.naive_bayes import MultinomialNB\n",
    "MNB = MultinomialNB()\n",
    "MNB.fit(X_train, y_train)\n",
    "labels_val = MNB.predict(X_val)\n",
    "\n",
    "metrics(y_val, labels_val)"
   ]
  },
  {
   "cell_type": "markdown",
   "metadata": {},
   "source": [
    "### Logistic Regression Classifier using BoW"
   ]
  },
  {
   "cell_type": "code",
   "execution_count": 19,
   "metadata": {},
   "outputs": [
    {
     "name": "stdout",
     "output_type": "stream",
     "text": [
      "                                     MODEL EVALUATION REPORT                                               \n",
      "-----------------------------------------------------------------------------------------------------------\n",
      "                       precision    recall  f1-score   support\n",
      "\n",
      "     Almada Negreiros       1.00      1.00      1.00        11\n",
      "Camilo Castelo Branco       1.00      1.00      1.00        11\n",
      "       Eca De Queiros       1.00      1.00      1.00        11\n",
      "Jose Rodrigues Santos       0.91      0.91      0.91        11\n",
      "        Jose Saramago       1.00      1.00      1.00        11\n",
      "  Luisa Marques Silva       0.91      0.91      0.91        11\n",
      "\n",
      "             accuracy                           0.97        66\n",
      "            macro avg       0.97      0.97      0.97        66\n",
      "         weighted avg       0.97      0.97      0.97        66\n",
      "\n",
      "[[11  0  0  0  0  0]\n",
      " [ 0 11  0  0  0  0]\n",
      " [ 0  0 11  0  0  0]\n",
      " [ 0  0  0 10  0  1]\n",
      " [ 0  0  0  0 11  0]\n",
      " [ 0  0  0  1  0 10]]\n"
     ]
    }
   ],
   "source": [
    "# Set parameters for Logistic Regression Classifier\n",
    "from sklearn.linear_model import LogisticRegression\n",
    "Logis_Reg = LogisticRegression()\n",
    "Logis_Reg.fit(X_train, y_train)\n",
    "labels_val = Logis_Reg.predict(X_val)\n",
    "\n",
    "metrics(y_val, labels_val)"
   ]
  },
  {
   "cell_type": "markdown",
   "metadata": {
    "colab_type": "text",
    "id": "F7ee2L4B5x7w"
   },
   "source": [
    "### Another feature extraction method: TF-IDF"
   ]
  },
  {
   "cell_type": "code",
   "execution_count": 20,
   "metadata": {
    "colab": {},
    "colab_type": "code",
    "id": "AfF6gyn42fuJ"
   },
   "outputs": [],
   "source": [
    "# TF-IDF\n",
    "from sklearn.feature_extraction.text import TfidfVectorizer\n",
    "\n",
    "tfidf = TfidfVectorizer(ngram_range=(1,2))\n",
    "X = tfidf.fit_transform(df_train[\"Text\"])\n",
    "y = np.array(df_train[\"Author_Label\"])"
   ]
  },
  {
   "cell_type": "markdown",
   "metadata": {
    "colab_type": "text",
    "id": "TRyZIZ5WWuT5"
   },
   "source": [
    "### Stratified K Fold cross validation for TF-IDF"
   ]
  },
  {
   "cell_type": "code",
   "execution_count": 21,
   "metadata": {
    "colab": {
     "base_uri": "https://localhost:8080/",
     "height": 1000
    },
    "colab_type": "code",
    "id": "l2qPYVbgty8i",
    "outputId": "8ec7bf89-6a26-42ef-abb3-d5502dfea278"
   },
   "outputs": [
    {
     "name": "stdout",
     "output_type": "stream",
     "text": [
      "TRAIN: [ 11  12  13  14  15  16  17  18  19  20  21  22  23  24  25  26  27  28\n",
      "  29  30  31  32  33  34  35  36  37  38  39  40  41  42  43  44  45  46\n",
      "  47  48  49  50  51  52  53  54  66  67  68  69  70  71  72  73  74  75\n",
      "  76  77  78  79  80  81  82  83  84  85  86  87  88  89  90  91  92  93\n",
      "  94  95  96  97  98  99 100 101 102 103 104 105 106 107 108 109 121 122\n",
      " 123 124 125 126 127 128 129 130 131 132 133 134 135 136 137 138 139 140\n",
      " 141 142 143 144 145 146 147 148 149 150 151 152 153 154 155 156 157 158\n",
      " 159 160 161 162 163 164 176 177 178 179 180 181 182 183 184 185 186 187\n",
      " 188 189 190 191 192 193 194 195 196 197 198 199 200 201 202 203 204 205\n",
      " 206 207 208 209 210 211 212 213 214 215 216 217 218 219 231 232 233 234\n",
      " 235 236 237 238 239 240 241 242 243 244 245 246 247 248 249 250 251 252\n",
      " 253 254 255 256 257 258 259 260 261 262 263 264 265 266 267 268 269 270\n",
      " 271 272 273 274 286 287 288 289 290 291 292 293 294 295 296 297 298 299\n",
      " 300 301 302 303 304 305 306 307 308 309 310 311 312 313 314 315 316 317\n",
      " 318 319 320 321 322 323 324 325 326 327 328 329]\n",
      "VALIDATION: [  0   1   2   3   4   5   6   7   8   9  10  55  56  57  58  59  60  61\n",
      "  62  63  64  65 110 111 112 113 114 115 116 117 118 119 120 165 166 167\n",
      " 168 169 170 171 172 173 174 175 220 221 222 223 224 225 226 227 228 229\n",
      " 230 275 276 277 278 279 280 281 282 283 284 285] \n",
      "\n",
      "TRAIN: [  0   1   2   3   4   5   6   7   8   9  10  22  23  24  25  26  27  28\n",
      "  29  30  31  32  33  34  35  36  37  38  39  40  41  42  43  44  45  46\n",
      "  47  48  49  50  51  52  53  54  55  56  57  58  59  60  61  62  63  64\n",
      "  65  77  78  79  80  81  82  83  84  85  86  87  88  89  90  91  92  93\n",
      "  94  95  96  97  98  99 100 101 102 103 104 105 106 107 108 109 110 111\n",
      " 112 113 114 115 116 117 118 119 120 132 133 134 135 136 137 138 139 140\n",
      " 141 142 143 144 145 146 147 148 149 150 151 152 153 154 155 156 157 158\n",
      " 159 160 161 162 163 164 165 166 167 168 169 170 171 172 173 174 175 187\n",
      " 188 189 190 191 192 193 194 195 196 197 198 199 200 201 202 203 204 205\n",
      " 206 207 208 209 210 211 212 213 214 215 216 217 218 219 220 221 222 223\n",
      " 224 225 226 227 228 229 230 242 243 244 245 246 247 248 249 250 251 252\n",
      " 253 254 255 256 257 258 259 260 261 262 263 264 265 266 267 268 269 270\n",
      " 271 272 273 274 275 276 277 278 279 280 281 282 283 284 285 297 298 299\n",
      " 300 301 302 303 304 305 306 307 308 309 310 311 312 313 314 315 316 317\n",
      " 318 319 320 321 322 323 324 325 326 327 328 329]\n",
      "VALIDATION: [ 11  12  13  14  15  16  17  18  19  20  21  66  67  68  69  70  71  72\n",
      "  73  74  75  76 121 122 123 124 125 126 127 128 129 130 131 176 177 178\n",
      " 179 180 181 182 183 184 185 186 231 232 233 234 235 236 237 238 239 240\n",
      " 241 286 287 288 289 290 291 292 293 294 295 296] \n",
      "\n",
      "TRAIN: [  0   1   2   3   4   5   6   7   8   9  10  11  12  13  14  15  16  17\n",
      "  18  19  20  21  33  34  35  36  37  38  39  40  41  42  43  44  45  46\n",
      "  47  48  49  50  51  52  53  54  55  56  57  58  59  60  61  62  63  64\n",
      "  65  66  67  68  69  70  71  72  73  74  75  76  88  89  90  91  92  93\n",
      "  94  95  96  97  98  99 100 101 102 103 104 105 106 107 108 109 110 111\n",
      " 112 113 114 115 116 117 118 119 120 121 122 123 124 125 126 127 128 129\n",
      " 130 131 143 144 145 146 147 148 149 150 151 152 153 154 155 156 157 158\n",
      " 159 160 161 162 163 164 165 166 167 168 169 170 171 172 173 174 175 176\n",
      " 177 178 179 180 181 182 183 184 185 186 198 199 200 201 202 203 204 205\n",
      " 206 207 208 209 210 211 212 213 214 215 216 217 218 219 220 221 222 223\n",
      " 224 225 226 227 228 229 230 231 232 233 234 235 236 237 238 239 240 241\n",
      " 253 254 255 256 257 258 259 260 261 262 263 264 265 266 267 268 269 270\n",
      " 271 272 273 274 275 276 277 278 279 280 281 282 283 284 285 286 287 288\n",
      " 289 290 291 292 293 294 295 296 308 309 310 311 312 313 314 315 316 317\n",
      " 318 319 320 321 322 323 324 325 326 327 328 329]\n",
      "VALIDATION: [ 22  23  24  25  26  27  28  29  30  31  32  77  78  79  80  81  82  83\n",
      "  84  85  86  87 132 133 134 135 136 137 138 139 140 141 142 187 188 189\n",
      " 190 191 192 193 194 195 196 197 242 243 244 245 246 247 248 249 250 251\n",
      " 252 297 298 299 300 301 302 303 304 305 306 307] \n",
      "\n",
      "TRAIN: [  0   1   2   3   4   5   6   7   8   9  10  11  12  13  14  15  16  17\n",
      "  18  19  20  21  22  23  24  25  26  27  28  29  30  31  32  44  45  46\n",
      "  47  48  49  50  51  52  53  54  55  56  57  58  59  60  61  62  63  64\n",
      "  65  66  67  68  69  70  71  72  73  74  75  76  77  78  79  80  81  82\n",
      "  83  84  85  86  87  99 100 101 102 103 104 105 106 107 108 109 110 111\n",
      " 112 113 114 115 116 117 118 119 120 121 122 123 124 125 126 127 128 129\n",
      " 130 131 132 133 134 135 136 137 138 139 140 141 142 154 155 156 157 158\n",
      " 159 160 161 162 163 164 165 166 167 168 169 170 171 172 173 174 175 176\n",
      " 177 178 179 180 181 182 183 184 185 186 187 188 189 190 191 192 193 194\n",
      " 195 196 197 209 210 211 212 213 214 215 216 217 218 219 220 221 222 223\n",
      " 224 225 226 227 228 229 230 231 232 233 234 235 236 237 238 239 240 241\n",
      " 242 243 244 245 246 247 248 249 250 251 252 264 265 266 267 268 269 270\n",
      " 271 272 273 274 275 276 277 278 279 280 281 282 283 284 285 286 287 288\n",
      " 289 290 291 292 293 294 295 296 297 298 299 300 301 302 303 304 305 306\n",
      " 307 319 320 321 322 323 324 325 326 327 328 329]\n",
      "VALIDATION: [ 33  34  35  36  37  38  39  40  41  42  43  88  89  90  91  92  93  94\n",
      "  95  96  97  98 143 144 145 146 147 148 149 150 151 152 153 198 199 200\n",
      " 201 202 203 204 205 206 207 208 253 254 255 256 257 258 259 260 261 262\n",
      " 263 308 309 310 311 312 313 314 315 316 317 318] \n",
      "\n",
      "TRAIN: [  0   1   2   3   4   5   6   7   8   9  10  11  12  13  14  15  16  17\n",
      "  18  19  20  21  22  23  24  25  26  27  28  29  30  31  32  33  34  35\n",
      "  36  37  38  39  40  41  42  43  55  56  57  58  59  60  61  62  63  64\n",
      "  65  66  67  68  69  70  71  72  73  74  75  76  77  78  79  80  81  82\n",
      "  83  84  85  86  87  88  89  90  91  92  93  94  95  96  97  98 110 111\n",
      " 112 113 114 115 116 117 118 119 120 121 122 123 124 125 126 127 128 129\n",
      " 130 131 132 133 134 135 136 137 138 139 140 141 142 143 144 145 146 147\n",
      " 148 149 150 151 152 153 165 166 167 168 169 170 171 172 173 174 175 176\n",
      " 177 178 179 180 181 182 183 184 185 186 187 188 189 190 191 192 193 194\n",
      " 195 196 197 198 199 200 201 202 203 204 205 206 207 208 220 221 222 223\n",
      " 224 225 226 227 228 229 230 231 232 233 234 235 236 237 238 239 240 241\n",
      " 242 243 244 245 246 247 248 249 250 251 252 253 254 255 256 257 258 259\n",
      " 260 261 262 263 275 276 277 278 279 280 281 282 283 284 285 286 287 288\n",
      " 289 290 291 292 293 294 295 296 297 298 299 300 301 302 303 304 305 306\n",
      " 307 308 309 310 311 312 313 314 315 316 317 318]\n",
      "VALIDATION: [ 44  45  46  47  48  49  50  51  52  53  54  99 100 101 102 103 104 105\n",
      " 106 107 108 109 154 155 156 157 158 159 160 161 162 163 164 209 210 211\n",
      " 212 213 214 215 216 217 218 219 264 265 266 267 268 269 270 271 272 273\n",
      " 274 319 320 321 322 323 324 325 326 327 328 329] \n",
      "\n"
     ]
    }
   ],
   "source": [
    "# Stratefied K-fold cross validation\n",
    "\n",
    "skf = StratifiedKFold(n_splits=5, random_state=None, shuffle=False) \n",
    "\n",
    "# Split \n",
    "for train_index, val_index in skf.split(X, y):\n",
    "  print(\"TRAIN:\", train_index)\n",
    "  print(\"VALIDATION:\", val_index, '\\n')\n",
    "  X_train, X_val = X[train_index], X[val_index]\n",
    "  y_train, y_val = y[train_index], y[val_index]"
   ]
  },
  {
   "cell_type": "markdown",
   "metadata": {
    "colab_type": "text",
    "id": "DLRFoFllXCPQ"
   },
   "source": [
    "### KNeighbors Classifier using TF-IDF"
   ]
  },
  {
   "cell_type": "code",
   "execution_count": 22,
   "metadata": {
    "colab": {
     "base_uri": "https://localhost:8080/",
     "height": 68
    },
    "colab_type": "code",
    "id": "JaX4r_xn2R7e",
    "outputId": "ef2231d9-1c9b-40b0-a046-9ac08d4ebebd"
   },
   "outputs": [
    {
     "name": "stdout",
     "output_type": "stream",
     "text": [
      "Best Score:  0.7212121212121212\n",
      "Best n_neighbors:  6\n",
      "Best leaf_size:  1\n"
     ]
    },
    {
     "name": "stderr",
     "output_type": "stream",
     "text": [
      "/Anaconda/anaconda3/lib/python3.7/site-packages/sklearn/model_selection/_search.py:814: DeprecationWarning: The default of the `iid` parameter will change from True to False in version 0.22 and will be removed in 0.24. This will change numeric results when test-set sizes are unequal.\n",
      "  DeprecationWarning)\n"
     ]
    }
   ],
   "source": [
    "# Parameter tuning\n",
    "# Fit and search the best parameters\n",
    "grid = GridSearchCV(estimator=model_KNN, param_grid=hyperparameters)\n",
    "grid.fit(X, y)\n",
    "\n",
    "# summarize the results of the parameter search\n",
    "print('Best Score: ',grid.best_score_)\n",
    "print('Best n_neighbors: ',grid.best_estimator_.get_params()['n_neighbors'])\n",
    "print('Best leaf_size: ',grid.best_estimator_.get_params()['leaf_size'])"
   ]
  },
  {
   "cell_type": "code",
   "execution_count": 23,
   "metadata": {
    "colab": {
     "base_uri": "https://localhost:8080/",
     "height": 374
    },
    "colab_type": "code",
    "id": "Y1kcN9Gm2Rjd",
    "outputId": "7d3d891d-ef01-4525-b8a1-4ef1417e35d7"
   },
   "outputs": [
    {
     "name": "stdout",
     "output_type": "stream",
     "text": [
      "                                     MODEL EVALUATION REPORT                                               \n",
      "-----------------------------------------------------------------------------------------------------------\n",
      "                       precision    recall  f1-score   support\n",
      "\n",
      "     Almada Negreiros       0.85      1.00      0.92        11\n",
      "Camilo Castelo Branco       0.85      1.00      0.92        11\n",
      "       Eca De Queiros       1.00      0.64      0.78        11\n",
      "Jose Rodrigues Santos       0.80      0.36      0.50        11\n",
      "        Jose Saramago       0.50      0.82      0.62        11\n",
      "  Luisa Marques Silva       0.80      0.73      0.76        11\n",
      "\n",
      "             accuracy                           0.76        66\n",
      "            macro avg       0.80      0.76      0.75        66\n",
      "         weighted avg       0.80      0.76      0.75        66\n",
      "\n",
      "[[11  0  0  0  0  0]\n",
      " [ 0 11  0  0  0  0]\n",
      " [ 2  1  7  0  1  0]\n",
      " [ 0  0  0  4  5  2]\n",
      " [ 0  1  0  1  9  0]\n",
      " [ 0  0  0  0  3  8]]\n"
     ]
    }
   ],
   "source": [
    "# K neighbors classifier for TD-IDF\n",
    "KNN = KNeighborsClassifier(n_neighbors=grid.best_estimator_.get_params()['n_neighbors'], weights='distance', \n",
    "                           algorithm='brute', leaf_size=grid.best_estimator_.get_params()['leaf_size'], \n",
    "                           p=2, metric='cosine', metric_params=None, n_jobs=1)\n",
    "KNN.fit(X_train, y_train)\n",
    "labels_val = KNN.predict(X_val)\n",
    "\n",
    "# Call the function metrics() defined previously\n",
    "metrics(y_val, labels_val)"
   ]
  },
  {
   "cell_type": "markdown",
   "metadata": {
    "colab_type": "text",
    "id": "eJQygqweXy_o"
   },
   "source": [
    "### Multinomial Naive Bayes Classifier using TF-IDF"
   ]
  },
  {
   "cell_type": "code",
   "execution_count": 24,
   "metadata": {
    "colab": {
     "base_uri": "https://localhost:8080/",
     "height": 374
    },
    "colab_type": "code",
    "id": "_49Bpl5Y5cQ4",
    "outputId": "8fd37ffd-2838-4c14-c9e9-712db36bce76"
   },
   "outputs": [
    {
     "name": "stdout",
     "output_type": "stream",
     "text": [
      "                                     MODEL EVALUATION REPORT                                               \n",
      "-----------------------------------------------------------------------------------------------------------\n",
      "                       precision    recall  f1-score   support\n",
      "\n",
      "     Almada Negreiros       1.00      0.91      0.95        11\n",
      "Camilo Castelo Branco       0.85      1.00      0.92        11\n",
      "       Eca De Queiros       1.00      0.91      0.95        11\n",
      "Jose Rodrigues Santos       1.00      0.73      0.84        11\n",
      "        Jose Saramago       0.79      1.00      0.88        11\n",
      "  Luisa Marques Silva       0.82      0.82      0.82        11\n",
      "\n",
      "             accuracy                           0.89        66\n",
      "            macro avg       0.91      0.89      0.89        66\n",
      "         weighted avg       0.91      0.89      0.89        66\n",
      "\n",
      "[[10  1  0  0  0  0]\n",
      " [ 0 11  0  0  0  0]\n",
      " [ 0  1 10  0  0  0]\n",
      " [ 0  0  0  8  1  2]\n",
      " [ 0  0  0  0 11  0]\n",
      " [ 0  0  0  0  2  9]]\n"
     ]
    }
   ],
   "source": [
    "# Multinomial Naive Bayes classifier\n",
    "MNB = MultinomialNB()\n",
    "MNB.fit(X_train, y_train)\n",
    "labels_val = MNB.predict(X_val)\n",
    "\n",
    "metrics(y_val, labels_val)"
   ]
  },
  {
   "cell_type": "markdown",
   "metadata": {},
   "source": [
    "### Logistic Regression Classifier using TF-IDF"
   ]
  },
  {
   "cell_type": "code",
   "execution_count": 25,
   "metadata": {},
   "outputs": [
    {
     "name": "stdout",
     "output_type": "stream",
     "text": [
      "                                     MODEL EVALUATION REPORT                                               \n",
      "-----------------------------------------------------------------------------------------------------------\n",
      "                       precision    recall  f1-score   support\n",
      "\n",
      "     Almada Negreiros       0.92      1.00      0.96        11\n",
      "Camilo Castelo Branco       1.00      1.00      1.00        11\n",
      "       Eca De Queiros       1.00      0.91      0.95        11\n",
      "Jose Rodrigues Santos       0.73      1.00      0.85        11\n",
      "        Jose Saramago       0.69      1.00      0.81        11\n",
      "  Luisa Marques Silva       1.00      0.18      0.31        11\n",
      "\n",
      "             accuracy                           0.85        66\n",
      "            macro avg       0.89      0.85      0.81        66\n",
      "         weighted avg       0.89      0.85      0.81        66\n",
      "\n",
      "[[11  0  0  0  0  0]\n",
      " [ 0 11  0  0  0  0]\n",
      " [ 1  0 10  0  0  0]\n",
      " [ 0  0  0 11  0  0]\n",
      " [ 0  0  0  0 11  0]\n",
      " [ 0  0  0  4  5  2]]\n"
     ]
    }
   ],
   "source": [
    "Logis_Reg = LogisticRegression()\n",
    "Logis_Reg.fit(X_train, y_train)\n",
    "labels_val = Logis_Reg.predict(X_val)\n",
    "\n",
    "metrics(y_val, labels_val)"
   ]
  },
  {
   "cell_type": "markdown",
   "metadata": {
    "colab_type": "text",
    "id": "-AlnZbCgYRL_"
   },
   "source": [
    "### Read text files from the test folder"
   ]
  },
  {
   "cell_type": "code",
   "execution_count": 26,
   "metadata": {},
   "outputs": [],
   "source": [
    "# define a function to read test files\n",
    "def read_test_files(path, words):\n",
    "    path = path\n",
    "    files = os.listdir(path)\n",
    "    list_ = []\n",
    "    list_file = []\n",
    "    for file in files:\n",
    "        if file.endswith(\".txt\"):\n",
    "            text = open(path+file, 'r').read()\n",
    "            list_.append(text)\n",
    "            list_file.append(file)\n",
    "\n",
    "    df = pd.DataFrame({'Text': list_, 'Text name': list_file})\n",
    "    df['Nm. of Words'] = words\n",
    "    return df\n",
    "\n",
    "df_500 = read_test_files(path='Corpora/test/500Palavras/', words = '500')\n",
    "df_1000 = read_test_files(path='Corpora/test/1000Palavras/', words = '1000')\n",
    "df_test = pd.concat([df_500,df_1000], ignore_index=True)"
   ]
  },
  {
   "cell_type": "markdown",
   "metadata": {
    "colab_type": "text",
    "id": "xNuAqd_0Yjsp"
   },
   "source": [
    "### Clean the test texts"
   ]
  },
  {
   "cell_type": "code",
   "execution_count": 27,
   "metadata": {
    "colab": {
     "base_uri": "https://localhost:8080/",
     "height": 117,
     "referenced_widgets": [
      "c95aebe1c8424aa9805465bee3956cda",
      "a3c1a553c867426ebcb231505d9d5bef",
      "c08faa6909c442728dddde99603b34e6",
      "0d473240eb4a4b418be5f7c83b5618e3",
      "a7a7bfc36d7c4c6e8870cde0f3c896bc",
      "949aef72ff004c18824d710cf8939616",
      "3bc5d554b9574702907a41a8dba2add4",
      "1ca0d71fb7674b6eb6d7de337b007acc"
     ]
    },
    "colab_type": "code",
    "id": "TQ0FFfOM-h2W",
    "outputId": "a29c2581-459c-431f-9fd9-89a5b26eec1e"
   },
   "outputs": [
    {
     "data": {
      "application/vnd.jupyter.widget-view+json": {
       "model_id": "e323ff6819534371ab37bc5e2a248e69",
       "version_major": 2,
       "version_minor": 0
      },
      "text/plain": [
       "HBox(children=(FloatProgress(value=0.0, max=12.0), HTML(value='')))"
      ]
     },
     "metadata": {},
     "output_type": "display_data"
    },
    {
     "name": "stdout",
     "output_type": "stream",
     "text": [
      "\n"
     ]
    }
   ],
   "source": [
    "# Clean the test texts\n",
    "updates = clean(df_test[\"Text\"], lemmatize = True, stemmer = False)\n",
    "update_df(df_test, updates)"
   ]
  },
  {
   "cell_type": "markdown",
   "metadata": {
    "colab_type": "text",
    "id": "1giJ0G2MYppj"
   },
   "source": [
    "## Model selection for prediction on text excerpts\n",
    "### Selected model: Multinomial Naive Bayes Classifier using BoW"
   ]
  },
  {
   "cell_type": "code",
   "execution_count": 28,
   "metadata": {
    "colab": {},
    "colab_type": "code",
    "id": "sdgXjDBM-eOZ"
   },
   "outputs": [],
   "source": [
    "# DEFINING THE INDEPENDENT AND DEPENDENT VARIABLE\n",
    "X = cv.fit_transform(df_train[\"Text\"])\n",
    "y = np.array(df_train[\"Author_Label\"])\n",
    "\n",
    "# Create bag of words for the test set\n",
    "X_test = cv.transform(df_test[\"Text\"])"
   ]
  },
  {
   "cell_type": "code",
   "execution_count": 29,
   "metadata": {
    "colab": {},
    "colab_type": "code",
    "id": "vsFiyeVnlP-7"
   },
   "outputs": [],
   "source": [
    "# Multinomial Naive Bayes classifier\n",
    "MNB = MultinomialNB()\n",
    "MNB.fit(X, y)\n",
    "labels_test = MNB.predict(X_test)"
   ]
  },
  {
   "cell_type": "code",
   "execution_count": 30,
   "metadata": {
    "colab": {
     "base_uri": "https://localhost:8080/",
     "height": 421
    },
    "colab_type": "code",
    "id": "2cYnmnxGra8m",
    "outputId": "2b79f84d-e6bd-4723-8738-4c9114959c4e"
   },
   "outputs": [
    {
     "data": {
      "text/html": [
       "<div>\n",
       "<style scoped>\n",
       "    .dataframe tbody tr th:only-of-type {\n",
       "        vertical-align: middle;\n",
       "    }\n",
       "\n",
       "    .dataframe tbody tr th {\n",
       "        vertical-align: top;\n",
       "    }\n",
       "\n",
       "    .dataframe thead th {\n",
       "        text-align: right;\n",
       "    }\n",
       "</style>\n",
       "<table border=\"1\" class=\"dataframe\">\n",
       "  <thead>\n",
       "    <tr style=\"text-align: right;\">\n",
       "      <th></th>\n",
       "      <th>Text name</th>\n",
       "      <th>Nm. of Words</th>\n",
       "      <th>Predicted_Author</th>\n",
       "    </tr>\n",
       "  </thead>\n",
       "  <tbody>\n",
       "    <tr>\n",
       "      <th>3</th>\n",
       "      <td>text1.txt</td>\n",
       "      <td>500</td>\n",
       "      <td>Jose Saramago</td>\n",
       "    </tr>\n",
       "    <tr>\n",
       "      <th>9</th>\n",
       "      <td>text1.txt</td>\n",
       "      <td>1000</td>\n",
       "      <td>Jose Saramago</td>\n",
       "    </tr>\n",
       "    <tr>\n",
       "      <th>5</th>\n",
       "      <td>text2.txt</td>\n",
       "      <td>500</td>\n",
       "      <td>Almada Negreiros</td>\n",
       "    </tr>\n",
       "    <tr>\n",
       "      <th>11</th>\n",
       "      <td>text2.txt</td>\n",
       "      <td>1000</td>\n",
       "      <td>Almada Negreiros</td>\n",
       "    </tr>\n",
       "    <tr>\n",
       "      <th>4</th>\n",
       "      <td>text3.txt</td>\n",
       "      <td>500</td>\n",
       "      <td>Luisa Marques Silva</td>\n",
       "    </tr>\n",
       "    <tr>\n",
       "      <th>10</th>\n",
       "      <td>text3.txt</td>\n",
       "      <td>1000</td>\n",
       "      <td>Luisa Marques Silva</td>\n",
       "    </tr>\n",
       "    <tr>\n",
       "      <th>2</th>\n",
       "      <td>text4.txt</td>\n",
       "      <td>500</td>\n",
       "      <td>Eca De Queiros</td>\n",
       "    </tr>\n",
       "    <tr>\n",
       "      <th>8</th>\n",
       "      <td>text4.txt</td>\n",
       "      <td>1000</td>\n",
       "      <td>Eca De Queiros</td>\n",
       "    </tr>\n",
       "    <tr>\n",
       "      <th>1</th>\n",
       "      <td>text5.txt</td>\n",
       "      <td>500</td>\n",
       "      <td>Camilo Castelo Branco</td>\n",
       "    </tr>\n",
       "    <tr>\n",
       "      <th>7</th>\n",
       "      <td>text5.txt</td>\n",
       "      <td>1000</td>\n",
       "      <td>Camilo Castelo Branco</td>\n",
       "    </tr>\n",
       "    <tr>\n",
       "      <th>0</th>\n",
       "      <td>text6.txt</td>\n",
       "      <td>500</td>\n",
       "      <td>Jose Rodrigues Santos</td>\n",
       "    </tr>\n",
       "    <tr>\n",
       "      <th>6</th>\n",
       "      <td>text6.txt</td>\n",
       "      <td>1000</td>\n",
       "      <td>Jose Rodrigues Santos</td>\n",
       "    </tr>\n",
       "  </tbody>\n",
       "</table>\n",
       "</div>"
      ],
      "text/plain": [
       "    Text name Nm. of Words       Predicted_Author\n",
       "3   text1.txt          500          Jose Saramago\n",
       "9   text1.txt         1000          Jose Saramago\n",
       "5   text2.txt          500       Almada Negreiros\n",
       "11  text2.txt         1000       Almada Negreiros\n",
       "4   text3.txt          500    Luisa Marques Silva\n",
       "10  text3.txt         1000    Luisa Marques Silva\n",
       "2   text4.txt          500         Eca De Queiros\n",
       "8   text4.txt         1000         Eca De Queiros\n",
       "1   text5.txt          500  Camilo Castelo Branco\n",
       "7   text5.txt         1000  Camilo Castelo Branco\n",
       "0   text6.txt          500  Jose Rodrigues Santos\n",
       "6   text6.txt         1000  Jose Rodrigues Santos"
      ]
     },
     "execution_count": 30,
     "metadata": {},
     "output_type": "execute_result"
    }
   ],
   "source": [
    "# Add predicted labels to the df_test\n",
    "df_test['Predicted_Author'] = labels_test\n",
    "\n",
    "# Drop Text column for better visulization\n",
    "df_test_prediction = df_test.drop(['Text'], axis=1)\n",
    "\n",
    "# Sort the df_test with predicted labels by Text name\n",
    "df_test_prediction.sort_values(['Text name'])"
   ]
  },
  {
   "cell_type": "code",
   "execution_count": null,
   "metadata": {
    "colab": {},
    "colab_type": "code",
    "id": "0p0ahCjCAaPO"
   },
   "outputs": [],
   "source": []
  }
 ],
 "metadata": {
  "colab": {
   "collapsed_sections": [],
   "name": "Text Mining Project.ipynb",
   "provenance": []
  },
  "kernelspec": {
   "display_name": "Python 3",
   "language": "python",
   "name": "python3"
  },
  "language_info": {
   "codemirror_mode": {
    "name": "ipython",
    "version": 3
   },
   "file_extension": ".py",
   "mimetype": "text/x-python",
   "name": "python",
   "nbconvert_exporter": "python",
   "pygments_lexer": "ipython3",
   "version": "3.6.9"
  },
  "widgets": {
   "application/vnd.jupyter.widget-state+json": {
    "0816edb7c4224785ab8d1cb9cbbae7a5": {
     "model_module": "@jupyter-widgets/base",
     "model_name": "LayoutModel",
     "state": {
      "_model_module": "@jupyter-widgets/base",
      "_model_module_version": "1.2.0",
      "_model_name": "LayoutModel",
      "_view_count": null,
      "_view_module": "@jupyter-widgets/base",
      "_view_module_version": "1.2.0",
      "_view_name": "LayoutView",
      "align_content": null,
      "align_items": null,
      "align_self": null,
      "border": null,
      "bottom": null,
      "display": null,
      "flex": null,
      "flex_flow": null,
      "grid_area": null,
      "grid_auto_columns": null,
      "grid_auto_flow": null,
      "grid_auto_rows": null,
      "grid_column": null,
      "grid_gap": null,
      "grid_row": null,
      "grid_template_areas": null,
      "grid_template_columns": null,
      "grid_template_rows": null,
      "height": null,
      "justify_content": null,
      "justify_items": null,
      "left": null,
      "margin": null,
      "max_height": null,
      "max_width": null,
      "min_height": null,
      "min_width": null,
      "object_fit": null,
      "object_position": null,
      "order": null,
      "overflow": null,
      "overflow_x": null,
      "overflow_y": null,
      "padding": null,
      "right": null,
      "top": null,
      "visibility": null,
      "width": null
     }
    },
    "0aa6282e7efe41b787dc90d9b9bc6151": {
     "model_module": "@jupyter-widgets/controls",
     "model_name": "DescriptionStyleModel",
     "state": {
      "_model_module": "@jupyter-widgets/controls",
      "_model_module_version": "1.5.0",
      "_model_name": "DescriptionStyleModel",
      "_view_count": null,
      "_view_module": "@jupyter-widgets/base",
      "_view_module_version": "1.2.0",
      "_view_name": "StyleView",
      "description_width": ""
     }
    },
    "0c952fb787e24da49612d62d3d448f13": {
     "model_module": "@jupyter-widgets/controls",
     "model_name": "DescriptionStyleModel",
     "state": {
      "_model_module": "@jupyter-widgets/controls",
      "_model_module_version": "1.5.0",
      "_model_name": "DescriptionStyleModel",
      "_view_count": null,
      "_view_module": "@jupyter-widgets/base",
      "_view_module_version": "1.2.0",
      "_view_name": "StyleView",
      "description_width": ""
     }
    },
    "0d473240eb4a4b418be5f7c83b5618e3": {
     "model_module": "@jupyter-widgets/controls",
     "model_name": "HTMLModel",
     "state": {
      "_dom_classes": [],
      "_model_module": "@jupyter-widgets/controls",
      "_model_module_version": "1.5.0",
      "_model_name": "HTMLModel",
      "_view_count": null,
      "_view_module": "@jupyter-widgets/controls",
      "_view_module_version": "1.5.0",
      "_view_name": "HTMLView",
      "description": "",
      "description_tooltip": null,
      "layout": "IPY_MODEL_1ca0d71fb7674b6eb6d7de337b007acc",
      "placeholder": "​",
      "style": "IPY_MODEL_3bc5d554b9574702907a41a8dba2add4",
      "value": " 12/12 [00:08&lt;00:00,  1.40it/s]"
     }
    },
    "162681d27526455eb7545057f186bafd": {
     "model_module": "@jupyter-widgets/base",
     "model_name": "LayoutModel",
     "state": {
      "_model_module": "@jupyter-widgets/base",
      "_model_module_version": "1.2.0",
      "_model_name": "LayoutModel",
      "_view_count": null,
      "_view_module": "@jupyter-widgets/base",
      "_view_module_version": "1.2.0",
      "_view_name": "LayoutView",
      "align_content": null,
      "align_items": null,
      "align_self": null,
      "border": null,
      "bottom": null,
      "display": null,
      "flex": null,
      "flex_flow": null,
      "grid_area": null,
      "grid_auto_columns": null,
      "grid_auto_flow": null,
      "grid_auto_rows": null,
      "grid_column": null,
      "grid_gap": null,
      "grid_row": null,
      "grid_template_areas": null,
      "grid_template_columns": null,
      "grid_template_rows": null,
      "height": null,
      "justify_content": null,
      "justify_items": null,
      "left": null,
      "margin": null,
      "max_height": null,
      "max_width": null,
      "min_height": null,
      "min_width": null,
      "object_fit": null,
      "object_position": null,
      "order": null,
      "overflow": null,
      "overflow_x": null,
      "overflow_y": null,
      "padding": null,
      "right": null,
      "top": null,
      "visibility": null,
      "width": null
     }
    },
    "1a22242b72834e878752132e239c4018": {
     "model_module": "@jupyter-widgets/controls",
     "model_name": "HBoxModel",
     "state": {
      "_dom_classes": [],
      "_model_module": "@jupyter-widgets/controls",
      "_model_module_version": "1.5.0",
      "_model_name": "HBoxModel",
      "_view_count": null,
      "_view_module": "@jupyter-widgets/controls",
      "_view_module_version": "1.5.0",
      "_view_name": "HBoxView",
      "box_style": "",
      "children": [
       "IPY_MODEL_4a948610da694e48b0b86966d9ef51ac",
       "IPY_MODEL_53604d6e4fc0431eb4a7439bdc005dd9"
      ],
      "layout": "IPY_MODEL_f1479fd595c74f0d9bbccb8d68a187d3"
     }
    },
    "1b1e3736cb1546ec960cf6ae367a6970": {
     "model_module": "@jupyter-widgets/controls",
     "model_name": "ProgressStyleModel",
     "state": {
      "_model_module": "@jupyter-widgets/controls",
      "_model_module_version": "1.5.0",
      "_model_name": "ProgressStyleModel",
      "_view_count": null,
      "_view_module": "@jupyter-widgets/base",
      "_view_module_version": "1.2.0",
      "_view_name": "StyleView",
      "bar_color": null,
      "description_width": "initial"
     }
    },
    "1ca0d71fb7674b6eb6d7de337b007acc": {
     "model_module": "@jupyter-widgets/base",
     "model_name": "LayoutModel",
     "state": {
      "_model_module": "@jupyter-widgets/base",
      "_model_module_version": "1.2.0",
      "_model_name": "LayoutModel",
      "_view_count": null,
      "_view_module": "@jupyter-widgets/base",
      "_view_module_version": "1.2.0",
      "_view_name": "LayoutView",
      "align_content": null,
      "align_items": null,
      "align_self": null,
      "border": null,
      "bottom": null,
      "display": null,
      "flex": null,
      "flex_flow": null,
      "grid_area": null,
      "grid_auto_columns": null,
      "grid_auto_flow": null,
      "grid_auto_rows": null,
      "grid_column": null,
      "grid_gap": null,
      "grid_row": null,
      "grid_template_areas": null,
      "grid_template_columns": null,
      "grid_template_rows": null,
      "height": null,
      "justify_content": null,
      "justify_items": null,
      "left": null,
      "margin": null,
      "max_height": null,
      "max_width": null,
      "min_height": null,
      "min_width": null,
      "object_fit": null,
      "object_position": null,
      "order": null,
      "overflow": null,
      "overflow_x": null,
      "overflow_y": null,
      "padding": null,
      "right": null,
      "top": null,
      "visibility": null,
      "width": null
     }
    },
    "22b95d3b358647a8a9ac14464189acff": {
     "model_module": "@jupyter-widgets/controls",
     "model_name": "IntProgressModel",
     "state": {
      "_dom_classes": [],
      "_model_module": "@jupyter-widgets/controls",
      "_model_module_version": "1.5.0",
      "_model_name": "IntProgressModel",
      "_view_count": null,
      "_view_module": "@jupyter-widgets/controls",
      "_view_module_version": "1.5.0",
      "_view_name": "ProgressView",
      "bar_style": "success",
      "description": "100%",
      "description_tooltip": null,
      "layout": "IPY_MODEL_65248374b5ea4be29313cd31187db511",
      "max": 1072,
      "min": 0,
      "orientation": "horizontal",
      "style": "IPY_MODEL_634dee9cb36c4e8694fbf6dd1ae9d8e6",
      "value": 1072
     }
    },
    "2d2aef9af9324e42855e92c967985e64": {
     "model_module": "@jupyter-widgets/base",
     "model_name": "LayoutModel",
     "state": {
      "_model_module": "@jupyter-widgets/base",
      "_model_module_version": "1.2.0",
      "_model_name": "LayoutModel",
      "_view_count": null,
      "_view_module": "@jupyter-widgets/base",
      "_view_module_version": "1.2.0",
      "_view_name": "LayoutView",
      "align_content": null,
      "align_items": null,
      "align_self": null,
      "border": null,
      "bottom": null,
      "display": null,
      "flex": null,
      "flex_flow": null,
      "grid_area": null,
      "grid_auto_columns": null,
      "grid_auto_flow": null,
      "grid_auto_rows": null,
      "grid_column": null,
      "grid_gap": null,
      "grid_row": null,
      "grid_template_areas": null,
      "grid_template_columns": null,
      "grid_template_rows": null,
      "height": null,
      "justify_content": null,
      "justify_items": null,
      "left": null,
      "margin": null,
      "max_height": null,
      "max_width": null,
      "min_height": null,
      "min_width": null,
      "object_fit": null,
      "object_position": null,
      "order": null,
      "overflow": null,
      "overflow_x": null,
      "overflow_y": null,
      "padding": null,
      "right": null,
      "top": null,
      "visibility": null,
      "width": null
     }
    },
    "2e284e4b7d1e49bca3a1e71031024775": {
     "model_module": "@jupyter-widgets/base",
     "model_name": "LayoutModel",
     "state": {
      "_model_module": "@jupyter-widgets/base",
      "_model_module_version": "1.2.0",
      "_model_name": "LayoutModel",
      "_view_count": null,
      "_view_module": "@jupyter-widgets/base",
      "_view_module_version": "1.2.0",
      "_view_name": "LayoutView",
      "align_content": null,
      "align_items": null,
      "align_self": null,
      "border": null,
      "bottom": null,
      "display": null,
      "flex": null,
      "flex_flow": null,
      "grid_area": null,
      "grid_auto_columns": null,
      "grid_auto_flow": null,
      "grid_auto_rows": null,
      "grid_column": null,
      "grid_gap": null,
      "grid_row": null,
      "grid_template_areas": null,
      "grid_template_columns": null,
      "grid_template_rows": null,
      "height": null,
      "justify_content": null,
      "justify_items": null,
      "left": null,
      "margin": null,
      "max_height": null,
      "max_width": null,
      "min_height": null,
      "min_width": null,
      "object_fit": null,
      "object_position": null,
      "order": null,
      "overflow": null,
      "overflow_x": null,
      "overflow_y": null,
      "padding": null,
      "right": null,
      "top": null,
      "visibility": null,
      "width": null
     }
    },
    "2fae694cef2848978a3f5069e2f36e5e": {
     "model_module": "@jupyter-widgets/controls",
     "model_name": "IntProgressModel",
     "state": {
      "_dom_classes": [],
      "_model_module": "@jupyter-widgets/controls",
      "_model_module_version": "1.5.0",
      "_model_name": "IntProgressModel",
      "_view_count": null,
      "_view_module": "@jupyter-widgets/controls",
      "_view_module_version": "1.5.0",
      "_view_name": "ProgressView",
      "bar_style": "success",
      "description": "100%",
      "description_tooltip": null,
      "layout": "IPY_MODEL_d9fd164e6b8648ba8d6edbc3daee77e3",
      "max": 54,
      "min": 0,
      "orientation": "horizontal",
      "style": "IPY_MODEL_639ee79516274820b0f738bb07f59bae",
      "value": 54
     }
    },
    "35750d581b3643d48093b151696556c7": {
     "model_module": "@jupyter-widgets/base",
     "model_name": "LayoutModel",
     "state": {
      "_model_module": "@jupyter-widgets/base",
      "_model_module_version": "1.2.0",
      "_model_name": "LayoutModel",
      "_view_count": null,
      "_view_module": "@jupyter-widgets/base",
      "_view_module_version": "1.2.0",
      "_view_name": "LayoutView",
      "align_content": null,
      "align_items": null,
      "align_self": null,
      "border": null,
      "bottom": null,
      "display": null,
      "flex": null,
      "flex_flow": null,
      "grid_area": null,
      "grid_auto_columns": null,
      "grid_auto_flow": null,
      "grid_auto_rows": null,
      "grid_column": null,
      "grid_gap": null,
      "grid_row": null,
      "grid_template_areas": null,
      "grid_template_columns": null,
      "grid_template_rows": null,
      "height": null,
      "justify_content": null,
      "justify_items": null,
      "left": null,
      "margin": null,
      "max_height": null,
      "max_width": null,
      "min_height": null,
      "min_width": null,
      "object_fit": null,
      "object_position": null,
      "order": null,
      "overflow": null,
      "overflow_x": null,
      "overflow_y": null,
      "padding": null,
      "right": null,
      "top": null,
      "visibility": null,
      "width": null
     }
    },
    "3bc5d554b9574702907a41a8dba2add4": {
     "model_module": "@jupyter-widgets/controls",
     "model_name": "DescriptionStyleModel",
     "state": {
      "_model_module": "@jupyter-widgets/controls",
      "_model_module_version": "1.5.0",
      "_model_name": "DescriptionStyleModel",
      "_view_count": null,
      "_view_module": "@jupyter-widgets/base",
      "_view_module_version": "1.2.0",
      "_view_name": "StyleView",
      "description_width": ""
     }
    },
    "3f12e55d4a7e47fb85a0d4679b8d8a10": {
     "model_module": "@jupyter-widgets/base",
     "model_name": "LayoutModel",
     "state": {
      "_model_module": "@jupyter-widgets/base",
      "_model_module_version": "1.2.0",
      "_model_name": "LayoutModel",
      "_view_count": null,
      "_view_module": "@jupyter-widgets/base",
      "_view_module_version": "1.2.0",
      "_view_name": "LayoutView",
      "align_content": null,
      "align_items": null,
      "align_self": null,
      "border": null,
      "bottom": null,
      "display": null,
      "flex": null,
      "flex_flow": null,
      "grid_area": null,
      "grid_auto_columns": null,
      "grid_auto_flow": null,
      "grid_auto_rows": null,
      "grid_column": null,
      "grid_gap": null,
      "grid_row": null,
      "grid_template_areas": null,
      "grid_template_columns": null,
      "grid_template_rows": null,
      "height": null,
      "justify_content": null,
      "justify_items": null,
      "left": null,
      "margin": null,
      "max_height": null,
      "max_width": null,
      "min_height": null,
      "min_width": null,
      "object_fit": null,
      "object_position": null,
      "order": null,
      "overflow": null,
      "overflow_x": null,
      "overflow_y": null,
      "padding": null,
      "right": null,
      "top": null,
      "visibility": null,
      "width": null
     }
    },
    "410ed820a01f4ffdb0c90c5c67889d17": {
     "model_module": "@jupyter-widgets/base",
     "model_name": "LayoutModel",
     "state": {
      "_model_module": "@jupyter-widgets/base",
      "_model_module_version": "1.2.0",
      "_model_name": "LayoutModel",
      "_view_count": null,
      "_view_module": "@jupyter-widgets/base",
      "_view_module_version": "1.2.0",
      "_view_name": "LayoutView",
      "align_content": null,
      "align_items": null,
      "align_self": null,
      "border": null,
      "bottom": null,
      "display": null,
      "flex": null,
      "flex_flow": null,
      "grid_area": null,
      "grid_auto_columns": null,
      "grid_auto_flow": null,
      "grid_auto_rows": null,
      "grid_column": null,
      "grid_gap": null,
      "grid_row": null,
      "grid_template_areas": null,
      "grid_template_columns": null,
      "grid_template_rows": null,
      "height": null,
      "justify_content": null,
      "justify_items": null,
      "left": null,
      "margin": null,
      "max_height": null,
      "max_width": null,
      "min_height": null,
      "min_width": null,
      "object_fit": null,
      "object_position": null,
      "order": null,
      "overflow": null,
      "overflow_x": null,
      "overflow_y": null,
      "padding": null,
      "right": null,
      "top": null,
      "visibility": null,
      "width": null
     }
    },
    "43f23650ccc241e6b7648ed9a39f5492": {
     "model_module": "@jupyter-widgets/controls",
     "model_name": "ProgressStyleModel",
     "state": {
      "_model_module": "@jupyter-widgets/controls",
      "_model_module_version": "1.5.0",
      "_model_name": "ProgressStyleModel",
      "_view_count": null,
      "_view_module": "@jupyter-widgets/base",
      "_view_module_version": "1.2.0",
      "_view_name": "StyleView",
      "bar_color": null,
      "description_width": "initial"
     }
    },
    "458f177849c54fe8b75283d8314e83d4": {
     "model_module": "@jupyter-widgets/controls",
     "model_name": "HTMLModel",
     "state": {
      "_dom_classes": [],
      "_model_module": "@jupyter-widgets/controls",
      "_model_module_version": "1.5.0",
      "_model_name": "HTMLModel",
      "_view_count": null,
      "_view_module": "@jupyter-widgets/controls",
      "_view_module_version": "1.5.0",
      "_view_name": "HTMLView",
      "description": "",
      "description_tooltip": null,
      "layout": "IPY_MODEL_0816edb7c4224785ab8d1cb9cbbae7a5",
      "placeholder": "​",
      "style": "IPY_MODEL_8be6586863434432bf3ce92b6a034844",
      "value": " 618/618 [00:02&lt;00:00, 284.80it/s]"
     }
    },
    "4a948610da694e48b0b86966d9ef51ac": {
     "model_module": "@jupyter-widgets/controls",
     "model_name": "IntProgressModel",
     "state": {
      "_dom_classes": [],
      "_model_module": "@jupyter-widgets/controls",
      "_model_module_version": "1.5.0",
      "_model_name": "IntProgressModel",
      "_view_count": null,
      "_view_module": "@jupyter-widgets/controls",
      "_view_module_version": "1.5.0",
      "_view_name": "ProgressView",
      "bar_style": "success",
      "description": "100%",
      "description_tooltip": null,
      "layout": "IPY_MODEL_9bce8378132a4ca2a8963bb2b2e65b61",
      "max": 69,
      "min": 0,
      "orientation": "horizontal",
      "style": "IPY_MODEL_914ea23334254f6386a49504af5cc0df",
      "value": 69
     }
    },
    "4db00ccf5d70442094a2910c5aeb3e69": {
     "model_module": "@jupyter-widgets/controls",
     "model_name": "DescriptionStyleModel",
     "state": {
      "_model_module": "@jupyter-widgets/controls",
      "_model_module_version": "1.5.0",
      "_model_name": "DescriptionStyleModel",
      "_view_count": null,
      "_view_module": "@jupyter-widgets/base",
      "_view_module_version": "1.2.0",
      "_view_name": "StyleView",
      "description_width": ""
     }
    },
    "53604d6e4fc0431eb4a7439bdc005dd9": {
     "model_module": "@jupyter-widgets/controls",
     "model_name": "HTMLModel",
     "state": {
      "_dom_classes": [],
      "_model_module": "@jupyter-widgets/controls",
      "_model_module_version": "1.5.0",
      "_model_name": "HTMLModel",
      "_view_count": null,
      "_view_module": "@jupyter-widgets/controls",
      "_view_module_version": "1.5.0",
      "_view_name": "HTMLView",
      "description": "",
      "description_tooltip": null,
      "layout": "IPY_MODEL_592a8496897f4a5e9597ba1f95793cc0",
      "placeholder": "​",
      "style": "IPY_MODEL_706bba3a8f974c11996f9abba7818555",
      "value": " 69/69 [00:00&lt;00:00, 632.44it/s]"
     }
    },
    "5503b60def8047909d419e6bb222cccf": {
     "model_module": "@jupyter-widgets/base",
     "model_name": "LayoutModel",
     "state": {
      "_model_module": "@jupyter-widgets/base",
      "_model_module_version": "1.2.0",
      "_model_name": "LayoutModel",
      "_view_count": null,
      "_view_module": "@jupyter-widgets/base",
      "_view_module_version": "1.2.0",
      "_view_name": "LayoutView",
      "align_content": null,
      "align_items": null,
      "align_self": null,
      "border": null,
      "bottom": null,
      "display": null,
      "flex": null,
      "flex_flow": null,
      "grid_area": null,
      "grid_auto_columns": null,
      "grid_auto_flow": null,
      "grid_auto_rows": null,
      "grid_column": null,
      "grid_gap": null,
      "grid_row": null,
      "grid_template_areas": null,
      "grid_template_columns": null,
      "grid_template_rows": null,
      "height": null,
      "justify_content": null,
      "justify_items": null,
      "left": null,
      "margin": null,
      "max_height": null,
      "max_width": null,
      "min_height": null,
      "min_width": null,
      "object_fit": null,
      "object_position": null,
      "order": null,
      "overflow": null,
      "overflow_x": null,
      "overflow_y": null,
      "padding": null,
      "right": null,
      "top": null,
      "visibility": null,
      "width": null
     }
    },
    "5807b8e6d7df4b3396923ffa525220d9": {
     "model_module": "@jupyter-widgets/base",
     "model_name": "LayoutModel",
     "state": {
      "_model_module": "@jupyter-widgets/base",
      "_model_module_version": "1.2.0",
      "_model_name": "LayoutModel",
      "_view_count": null,
      "_view_module": "@jupyter-widgets/base",
      "_view_module_version": "1.2.0",
      "_view_name": "LayoutView",
      "align_content": null,
      "align_items": null,
      "align_self": null,
      "border": null,
      "bottom": null,
      "display": null,
      "flex": null,
      "flex_flow": null,
      "grid_area": null,
      "grid_auto_columns": null,
      "grid_auto_flow": null,
      "grid_auto_rows": null,
      "grid_column": null,
      "grid_gap": null,
      "grid_row": null,
      "grid_template_areas": null,
      "grid_template_columns": null,
      "grid_template_rows": null,
      "height": null,
      "justify_content": null,
      "justify_items": null,
      "left": null,
      "margin": null,
      "max_height": null,
      "max_width": null,
      "min_height": null,
      "min_width": null,
      "object_fit": null,
      "object_position": null,
      "order": null,
      "overflow": null,
      "overflow_x": null,
      "overflow_y": null,
      "padding": null,
      "right": null,
      "top": null,
      "visibility": null,
      "width": null
     }
    },
    "592a8496897f4a5e9597ba1f95793cc0": {
     "model_module": "@jupyter-widgets/base",
     "model_name": "LayoutModel",
     "state": {
      "_model_module": "@jupyter-widgets/base",
      "_model_module_version": "1.2.0",
      "_model_name": "LayoutModel",
      "_view_count": null,
      "_view_module": "@jupyter-widgets/base",
      "_view_module_version": "1.2.0",
      "_view_name": "LayoutView",
      "align_content": null,
      "align_items": null,
      "align_self": null,
      "border": null,
      "bottom": null,
      "display": null,
      "flex": null,
      "flex_flow": null,
      "grid_area": null,
      "grid_auto_columns": null,
      "grid_auto_flow": null,
      "grid_auto_rows": null,
      "grid_column": null,
      "grid_gap": null,
      "grid_row": null,
      "grid_template_areas": null,
      "grid_template_columns": null,
      "grid_template_rows": null,
      "height": null,
      "justify_content": null,
      "justify_items": null,
      "left": null,
      "margin": null,
      "max_height": null,
      "max_width": null,
      "min_height": null,
      "min_width": null,
      "object_fit": null,
      "object_position": null,
      "order": null,
      "overflow": null,
      "overflow_x": null,
      "overflow_y": null,
      "padding": null,
      "right": null,
      "top": null,
      "visibility": null,
      "width": null
     }
    },
    "5a121864f687477a94ec61b21645a15c": {
     "model_module": "@jupyter-widgets/controls",
     "model_name": "IntProgressModel",
     "state": {
      "_dom_classes": [],
      "_model_module": "@jupyter-widgets/controls",
      "_model_module_version": "1.5.0",
      "_model_name": "IntProgressModel",
      "_view_count": null,
      "_view_module": "@jupyter-widgets/controls",
      "_view_module_version": "1.5.0",
      "_view_name": "ProgressView",
      "bar_style": "success",
      "description": "100%",
      "description_tooltip": null,
      "layout": "IPY_MODEL_410ed820a01f4ffdb0c90c5c67889d17",
      "max": 1366,
      "min": 0,
      "orientation": "horizontal",
      "style": "IPY_MODEL_1b1e3736cb1546ec960cf6ae367a6970",
      "value": 1366
     }
    },
    "5fb56686e55a4689a1624e92b6ead433": {
     "model_module": "@jupyter-widgets/controls",
     "model_name": "HBoxModel",
     "state": {
      "_dom_classes": [],
      "_model_module": "@jupyter-widgets/controls",
      "_model_module_version": "1.5.0",
      "_model_name": "HBoxModel",
      "_view_count": null,
      "_view_module": "@jupyter-widgets/controls",
      "_view_module_version": "1.5.0",
      "_view_name": "HBoxView",
      "box_style": "",
      "children": [
       "IPY_MODEL_89cfecb96a50465b9ed8cc6b3705a588",
       "IPY_MODEL_9cfacfe96bf946b1aa2326ec09a11c98"
      ],
      "layout": "IPY_MODEL_2e284e4b7d1e49bca3a1e71031024775"
     }
    },
    "634dee9cb36c4e8694fbf6dd1ae9d8e6": {
     "model_module": "@jupyter-widgets/controls",
     "model_name": "ProgressStyleModel",
     "state": {
      "_model_module": "@jupyter-widgets/controls",
      "_model_module_version": "1.5.0",
      "_model_name": "ProgressStyleModel",
      "_view_count": null,
      "_view_module": "@jupyter-widgets/base",
      "_view_module_version": "1.2.0",
      "_view_name": "StyleView",
      "bar_color": null,
      "description_width": "initial"
     }
    },
    "639ee79516274820b0f738bb07f59bae": {
     "model_module": "@jupyter-widgets/controls",
     "model_name": "ProgressStyleModel",
     "state": {
      "_model_module": "@jupyter-widgets/controls",
      "_model_module_version": "1.5.0",
      "_model_name": "ProgressStyleModel",
      "_view_count": null,
      "_view_module": "@jupyter-widgets/base",
      "_view_module_version": "1.2.0",
      "_view_name": "StyleView",
      "bar_color": null,
      "description_width": "initial"
     }
    },
    "65248374b5ea4be29313cd31187db511": {
     "model_module": "@jupyter-widgets/base",
     "model_name": "LayoutModel",
     "state": {
      "_model_module": "@jupyter-widgets/base",
      "_model_module_version": "1.2.0",
      "_model_name": "LayoutModel",
      "_view_count": null,
      "_view_module": "@jupyter-widgets/base",
      "_view_module_version": "1.2.0",
      "_view_name": "LayoutView",
      "align_content": null,
      "align_items": null,
      "align_self": null,
      "border": null,
      "bottom": null,
      "display": null,
      "flex": null,
      "flex_flow": null,
      "grid_area": null,
      "grid_auto_columns": null,
      "grid_auto_flow": null,
      "grid_auto_rows": null,
      "grid_column": null,
      "grid_gap": null,
      "grid_row": null,
      "grid_template_areas": null,
      "grid_template_columns": null,
      "grid_template_rows": null,
      "height": null,
      "justify_content": null,
      "justify_items": null,
      "left": null,
      "margin": null,
      "max_height": null,
      "max_width": null,
      "min_height": null,
      "min_width": null,
      "object_fit": null,
      "object_position": null,
      "order": null,
      "overflow": null,
      "overflow_x": null,
      "overflow_y": null,
      "padding": null,
      "right": null,
      "top": null,
      "visibility": null,
      "width": null
     }
    },
    "706bba3a8f974c11996f9abba7818555": {
     "model_module": "@jupyter-widgets/controls",
     "model_name": "DescriptionStyleModel",
     "state": {
      "_model_module": "@jupyter-widgets/controls",
      "_model_module_version": "1.5.0",
      "_model_name": "DescriptionStyleModel",
      "_view_count": null,
      "_view_module": "@jupyter-widgets/base",
      "_view_module_version": "1.2.0",
      "_view_name": "StyleView",
      "description_width": ""
     }
    },
    "727bf6e5d87c4779a56360204ad3e4f9": {
     "model_module": "@jupyter-widgets/controls",
     "model_name": "HTMLModel",
     "state": {
      "_dom_classes": [],
      "_model_module": "@jupyter-widgets/controls",
      "_model_module_version": "1.5.0",
      "_model_name": "HTMLModel",
      "_view_count": null,
      "_view_module": "@jupyter-widgets/controls",
      "_view_module_version": "1.5.0",
      "_view_name": "HTMLView",
      "description": "",
      "description_tooltip": null,
      "layout": "IPY_MODEL_77e4b3848e19460c8841c5156d04f2ef",
      "placeholder": "​",
      "style": "IPY_MODEL_f69ec20bd34740f8aab435b69a56a287",
      "value": " 1563/1563 [00:01&lt;00:00, 952.46it/s]"
     }
    },
    "77e4b3848e19460c8841c5156d04f2ef": {
     "model_module": "@jupyter-widgets/base",
     "model_name": "LayoutModel",
     "state": {
      "_model_module": "@jupyter-widgets/base",
      "_model_module_version": "1.2.0",
      "_model_name": "LayoutModel",
      "_view_count": null,
      "_view_module": "@jupyter-widgets/base",
      "_view_module_version": "1.2.0",
      "_view_name": "LayoutView",
      "align_content": null,
      "align_items": null,
      "align_self": null,
      "border": null,
      "bottom": null,
      "display": null,
      "flex": null,
      "flex_flow": null,
      "grid_area": null,
      "grid_auto_columns": null,
      "grid_auto_flow": null,
      "grid_auto_rows": null,
      "grid_column": null,
      "grid_gap": null,
      "grid_row": null,
      "grid_template_areas": null,
      "grid_template_columns": null,
      "grid_template_rows": null,
      "height": null,
      "justify_content": null,
      "justify_items": null,
      "left": null,
      "margin": null,
      "max_height": null,
      "max_width": null,
      "min_height": null,
      "min_width": null,
      "object_fit": null,
      "object_position": null,
      "order": null,
      "overflow": null,
      "overflow_x": null,
      "overflow_y": null,
      "padding": null,
      "right": null,
      "top": null,
      "visibility": null,
      "width": null
     }
    },
    "86de3eb1f20d4d13b899fcc53659fc1c": {
     "model_module": "@jupyter-widgets/controls",
     "model_name": "HTMLModel",
     "state": {
      "_dom_classes": [],
      "_model_module": "@jupyter-widgets/controls",
      "_model_module_version": "1.5.0",
      "_model_name": "HTMLModel",
      "_view_count": null,
      "_view_module": "@jupyter-widgets/controls",
      "_view_module_version": "1.5.0",
      "_view_name": "HTMLView",
      "description": "",
      "description_tooltip": null,
      "layout": "IPY_MODEL_f684f086588541c6a4db974a622d8f91",
      "placeholder": "​",
      "style": "IPY_MODEL_0c952fb787e24da49612d62d3d448f13",
      "value": " 54/54 [04:48&lt;00:00,  5.34s/it]"
     }
    },
    "89cfecb96a50465b9ed8cc6b3705a588": {
     "model_module": "@jupyter-widgets/controls",
     "model_name": "IntProgressModel",
     "state": {
      "_dom_classes": [],
      "_model_module": "@jupyter-widgets/controls",
      "_model_module_version": "1.5.0",
      "_model_name": "IntProgressModel",
      "_view_count": null,
      "_view_module": "@jupyter-widgets/controls",
      "_view_module_version": "1.5.0",
      "_view_name": "ProgressView",
      "bar_style": "success",
      "description": "100%",
      "description_tooltip": null,
      "layout": "IPY_MODEL_f757cbf97b7f4a478239c0bf3b1fa7ee",
      "max": 63,
      "min": 0,
      "orientation": "horizontal",
      "style": "IPY_MODEL_43f23650ccc241e6b7648ed9a39f5492",
      "value": 63
     }
    },
    "8be6586863434432bf3ce92b6a034844": {
     "model_module": "@jupyter-widgets/controls",
     "model_name": "DescriptionStyleModel",
     "state": {
      "_model_module": "@jupyter-widgets/controls",
      "_model_module_version": "1.5.0",
      "_model_name": "DescriptionStyleModel",
      "_view_count": null,
      "_view_module": "@jupyter-widgets/base",
      "_view_module_version": "1.2.0",
      "_view_name": "StyleView",
      "description_width": ""
     }
    },
    "8f84b77fafb94311b4b70e44a1cb88c2": {
     "model_module": "@jupyter-widgets/base",
     "model_name": "LayoutModel",
     "state": {
      "_model_module": "@jupyter-widgets/base",
      "_model_module_version": "1.2.0",
      "_model_name": "LayoutModel",
      "_view_count": null,
      "_view_module": "@jupyter-widgets/base",
      "_view_module_version": "1.2.0",
      "_view_name": "LayoutView",
      "align_content": null,
      "align_items": null,
      "align_self": null,
      "border": null,
      "bottom": null,
      "display": null,
      "flex": null,
      "flex_flow": null,
      "grid_area": null,
      "grid_auto_columns": null,
      "grid_auto_flow": null,
      "grid_auto_rows": null,
      "grid_column": null,
      "grid_gap": null,
      "grid_row": null,
      "grid_template_areas": null,
      "grid_template_columns": null,
      "grid_template_rows": null,
      "height": null,
      "justify_content": null,
      "justify_items": null,
      "left": null,
      "margin": null,
      "max_height": null,
      "max_width": null,
      "min_height": null,
      "min_width": null,
      "object_fit": null,
      "object_position": null,
      "order": null,
      "overflow": null,
      "overflow_x": null,
      "overflow_y": null,
      "padding": null,
      "right": null,
      "top": null,
      "visibility": null,
      "width": null
     }
    },
    "914ea23334254f6386a49504af5cc0df": {
     "model_module": "@jupyter-widgets/controls",
     "model_name": "ProgressStyleModel",
     "state": {
      "_model_module": "@jupyter-widgets/controls",
      "_model_module_version": "1.5.0",
      "_model_name": "ProgressStyleModel",
      "_view_count": null,
      "_view_module": "@jupyter-widgets/base",
      "_view_module_version": "1.2.0",
      "_view_name": "StyleView",
      "bar_color": null,
      "description_width": "initial"
     }
    },
    "949aef72ff004c18824d710cf8939616": {
     "model_module": "@jupyter-widgets/base",
     "model_name": "LayoutModel",
     "state": {
      "_model_module": "@jupyter-widgets/base",
      "_model_module_version": "1.2.0",
      "_model_name": "LayoutModel",
      "_view_count": null,
      "_view_module": "@jupyter-widgets/base",
      "_view_module_version": "1.2.0",
      "_view_name": "LayoutView",
      "align_content": null,
      "align_items": null,
      "align_self": null,
      "border": null,
      "bottom": null,
      "display": null,
      "flex": null,
      "flex_flow": null,
      "grid_area": null,
      "grid_auto_columns": null,
      "grid_auto_flow": null,
      "grid_auto_rows": null,
      "grid_column": null,
      "grid_gap": null,
      "grid_row": null,
      "grid_template_areas": null,
      "grid_template_columns": null,
      "grid_template_rows": null,
      "height": null,
      "justify_content": null,
      "justify_items": null,
      "left": null,
      "margin": null,
      "max_height": null,
      "max_width": null,
      "min_height": null,
      "min_width": null,
      "object_fit": null,
      "object_position": null,
      "order": null,
      "overflow": null,
      "overflow_x": null,
      "overflow_y": null,
      "padding": null,
      "right": null,
      "top": null,
      "visibility": null,
      "width": null
     }
    },
    "95fc03d9c99240d6a130568de73b6726": {
     "model_module": "@jupyter-widgets/controls",
     "model_name": "IntProgressModel",
     "state": {
      "_dom_classes": [],
      "_model_module": "@jupyter-widgets/controls",
      "_model_module_version": "1.5.0",
      "_model_name": "IntProgressModel",
      "_view_count": null,
      "_view_module": "@jupyter-widgets/controls",
      "_view_module_version": "1.5.0",
      "_view_name": "ProgressView",
      "bar_style": "success",
      "description": "100%",
      "description_tooltip": null,
      "layout": "IPY_MODEL_35750d581b3643d48093b151696556c7",
      "max": 618,
      "min": 0,
      "orientation": "horizontal",
      "style": "IPY_MODEL_c9d601d2946240e4b12cd66c452de3a7",
      "value": 618
     }
    },
    "992ba2e4f1b6432aa941dc8ba2b4268e": {
     "model_module": "@jupyter-widgets/controls",
     "model_name": "ProgressStyleModel",
     "state": {
      "_model_module": "@jupyter-widgets/controls",
      "_model_module_version": "1.5.0",
      "_model_name": "ProgressStyleModel",
      "_view_count": null,
      "_view_module": "@jupyter-widgets/base",
      "_view_module_version": "1.2.0",
      "_view_name": "StyleView",
      "bar_color": null,
      "description_width": "initial"
     }
    },
    "9a4066a859704853b2134bb3801f27fb": {
     "model_module": "@jupyter-widgets/controls",
     "model_name": "HTMLModel",
     "state": {
      "_dom_classes": [],
      "_model_module": "@jupyter-widgets/controls",
      "_model_module_version": "1.5.0",
      "_model_name": "HTMLModel",
      "_view_count": null,
      "_view_module": "@jupyter-widgets/controls",
      "_view_module_version": "1.5.0",
      "_view_name": "HTMLView",
      "description": "",
      "description_tooltip": null,
      "layout": "IPY_MODEL_3f12e55d4a7e47fb85a0d4679b8d8a10",
      "placeholder": "​",
      "style": "IPY_MODEL_4db00ccf5d70442094a2910c5aeb3e69",
      "value": " 1072/1072 [00:03&lt;00:00, 349.69it/s]"
     }
    },
    "9bce8378132a4ca2a8963bb2b2e65b61": {
     "model_module": "@jupyter-widgets/base",
     "model_name": "LayoutModel",
     "state": {
      "_model_module": "@jupyter-widgets/base",
      "_model_module_version": "1.2.0",
      "_model_name": "LayoutModel",
      "_view_count": null,
      "_view_module": "@jupyter-widgets/base",
      "_view_module_version": "1.2.0",
      "_view_name": "LayoutView",
      "align_content": null,
      "align_items": null,
      "align_self": null,
      "border": null,
      "bottom": null,
      "display": null,
      "flex": null,
      "flex_flow": null,
      "grid_area": null,
      "grid_auto_columns": null,
      "grid_auto_flow": null,
      "grid_auto_rows": null,
      "grid_column": null,
      "grid_gap": null,
      "grid_row": null,
      "grid_template_areas": null,
      "grid_template_columns": null,
      "grid_template_rows": null,
      "height": null,
      "justify_content": null,
      "justify_items": null,
      "left": null,
      "margin": null,
      "max_height": null,
      "max_width": null,
      "min_height": null,
      "min_width": null,
      "object_fit": null,
      "object_position": null,
      "order": null,
      "overflow": null,
      "overflow_x": null,
      "overflow_y": null,
      "padding": null,
      "right": null,
      "top": null,
      "visibility": null,
      "width": null
     }
    },
    "9cfacfe96bf946b1aa2326ec09a11c98": {
     "model_module": "@jupyter-widgets/controls",
     "model_name": "HTMLModel",
     "state": {
      "_dom_classes": [],
      "_model_module": "@jupyter-widgets/controls",
      "_model_module_version": "1.5.0",
      "_model_name": "HTMLModel",
      "_view_count": null,
      "_view_module": "@jupyter-widgets/controls",
      "_view_module_version": "1.5.0",
      "_view_name": "HTMLView",
      "description": "",
      "description_tooltip": null,
      "layout": "IPY_MODEL_fbeee2ac360d429db3849908b3d6b45b",
      "placeholder": "​",
      "style": "IPY_MODEL_0aa6282e7efe41b787dc90d9b9bc6151",
      "value": " 63/63 [08:24&lt;00:00,  8.00s/it]"
     }
    },
    "a056baeb18b7434781c3f8e37ef20e3e": {
     "model_module": "@jupyter-widgets/controls",
     "model_name": "HBoxModel",
     "state": {
      "_dom_classes": [],
      "_model_module": "@jupyter-widgets/controls",
      "_model_module_version": "1.5.0",
      "_model_name": "HBoxModel",
      "_view_count": null,
      "_view_module": "@jupyter-widgets/controls",
      "_view_module_version": "1.5.0",
      "_view_name": "HBoxView",
      "box_style": "",
      "children": [
       "IPY_MODEL_5a121864f687477a94ec61b21645a15c",
       "IPY_MODEL_b36c38cdd1f84e89a7db70a5bd77ad6d"
      ],
      "layout": "IPY_MODEL_ec88adc49b30437db99700f7fa0e8935"
     }
    },
    "a3c1a553c867426ebcb231505d9d5bef": {
     "model_module": "@jupyter-widgets/base",
     "model_name": "LayoutModel",
     "state": {
      "_model_module": "@jupyter-widgets/base",
      "_model_module_version": "1.2.0",
      "_model_name": "LayoutModel",
      "_view_count": null,
      "_view_module": "@jupyter-widgets/base",
      "_view_module_version": "1.2.0",
      "_view_name": "LayoutView",
      "align_content": null,
      "align_items": null,
      "align_self": null,
      "border": null,
      "bottom": null,
      "display": null,
      "flex": null,
      "flex_flow": null,
      "grid_area": null,
      "grid_auto_columns": null,
      "grid_auto_flow": null,
      "grid_auto_rows": null,
      "grid_column": null,
      "grid_gap": null,
      "grid_row": null,
      "grid_template_areas": null,
      "grid_template_columns": null,
      "grid_template_rows": null,
      "height": null,
      "justify_content": null,
      "justify_items": null,
      "left": null,
      "margin": null,
      "max_height": null,
      "max_width": null,
      "min_height": null,
      "min_width": null,
      "object_fit": null,
      "object_position": null,
      "order": null,
      "overflow": null,
      "overflow_x": null,
      "overflow_y": null,
      "padding": null,
      "right": null,
      "top": null,
      "visibility": null,
      "width": null
     }
    },
    "a7a7bfc36d7c4c6e8870cde0f3c896bc": {
     "model_module": "@jupyter-widgets/controls",
     "model_name": "ProgressStyleModel",
     "state": {
      "_model_module": "@jupyter-widgets/controls",
      "_model_module_version": "1.5.0",
      "_model_name": "ProgressStyleModel",
      "_view_count": null,
      "_view_module": "@jupyter-widgets/base",
      "_view_module_version": "1.2.0",
      "_view_name": "StyleView",
      "bar_color": null,
      "description_width": "initial"
     }
    },
    "b36c38cdd1f84e89a7db70a5bd77ad6d": {
     "model_module": "@jupyter-widgets/controls",
     "model_name": "HTMLModel",
     "state": {
      "_dom_classes": [],
      "_model_module": "@jupyter-widgets/controls",
      "_model_module_version": "1.5.0",
      "_model_name": "HTMLModel",
      "_view_count": null,
      "_view_module": "@jupyter-widgets/controls",
      "_view_module_version": "1.5.0",
      "_view_name": "HTMLView",
      "description": "",
      "description_tooltip": null,
      "layout": "IPY_MODEL_2d2aef9af9324e42855e92c967985e64",
      "placeholder": "​",
      "style": "IPY_MODEL_bbcdb56936fb406c89f0d5c4f05d1c6e",
      "value": " 1366/1366 [04:49&lt;00:00,  4.72it/s]"
     }
    },
    "bbcdb56936fb406c89f0d5c4f05d1c6e": {
     "model_module": "@jupyter-widgets/controls",
     "model_name": "DescriptionStyleModel",
     "state": {
      "_model_module": "@jupyter-widgets/controls",
      "_model_module_version": "1.5.0",
      "_model_name": "DescriptionStyleModel",
      "_view_count": null,
      "_view_module": "@jupyter-widgets/base",
      "_view_module_version": "1.2.0",
      "_view_name": "StyleView",
      "description_width": ""
     }
    },
    "c08faa6909c442728dddde99603b34e6": {
     "model_module": "@jupyter-widgets/controls",
     "model_name": "IntProgressModel",
     "state": {
      "_dom_classes": [],
      "_model_module": "@jupyter-widgets/controls",
      "_model_module_version": "1.5.0",
      "_model_name": "IntProgressModel",
      "_view_count": null,
      "_view_module": "@jupyter-widgets/controls",
      "_view_module_version": "1.5.0",
      "_view_name": "ProgressView",
      "bar_style": "success",
      "description": "100%",
      "description_tooltip": null,
      "layout": "IPY_MODEL_949aef72ff004c18824d710cf8939616",
      "max": 12,
      "min": 0,
      "orientation": "horizontal",
      "style": "IPY_MODEL_a7a7bfc36d7c4c6e8870cde0f3c896bc",
      "value": 12
     }
    },
    "c95aebe1c8424aa9805465bee3956cda": {
     "model_module": "@jupyter-widgets/controls",
     "model_name": "HBoxModel",
     "state": {
      "_dom_classes": [],
      "_model_module": "@jupyter-widgets/controls",
      "_model_module_version": "1.5.0",
      "_model_name": "HBoxModel",
      "_view_count": null,
      "_view_module": "@jupyter-widgets/controls",
      "_view_module_version": "1.5.0",
      "_view_name": "HBoxView",
      "box_style": "",
      "children": [
       "IPY_MODEL_c08faa6909c442728dddde99603b34e6",
       "IPY_MODEL_0d473240eb4a4b418be5f7c83b5618e3"
      ],
      "layout": "IPY_MODEL_a3c1a553c867426ebcb231505d9d5bef"
     }
    },
    "c9d601d2946240e4b12cd66c452de3a7": {
     "model_module": "@jupyter-widgets/controls",
     "model_name": "ProgressStyleModel",
     "state": {
      "_model_module": "@jupyter-widgets/controls",
      "_model_module_version": "1.5.0",
      "_model_name": "ProgressStyleModel",
      "_view_count": null,
      "_view_module": "@jupyter-widgets/base",
      "_view_module_version": "1.2.0",
      "_view_name": "StyleView",
      "bar_color": null,
      "description_width": "initial"
     }
    },
    "cc4cc37b45584bbdb4c575701f9f15ce": {
     "model_module": "@jupyter-widgets/controls",
     "model_name": "HBoxModel",
     "state": {
      "_dom_classes": [],
      "_model_module": "@jupyter-widgets/controls",
      "_model_module_version": "1.5.0",
      "_model_name": "HBoxModel",
      "_view_count": null,
      "_view_module": "@jupyter-widgets/controls",
      "_view_module_version": "1.5.0",
      "_view_name": "HBoxView",
      "box_style": "",
      "children": [
       "IPY_MODEL_22b95d3b358647a8a9ac14464189acff",
       "IPY_MODEL_9a4066a859704853b2134bb3801f27fb"
      ],
      "layout": "IPY_MODEL_dd11167040a941e9822bc9041c7f32e7"
     }
    },
    "d20a39ae00724481bf751422f891399e": {
     "model_module": "@jupyter-widgets/controls",
     "model_name": "HBoxModel",
     "state": {
      "_dom_classes": [],
      "_model_module": "@jupyter-widgets/controls",
      "_model_module_version": "1.5.0",
      "_model_name": "HBoxModel",
      "_view_count": null,
      "_view_module": "@jupyter-widgets/controls",
      "_view_module_version": "1.5.0",
      "_view_name": "HBoxView",
      "box_style": "",
      "children": [
       "IPY_MODEL_d633d9a733444666ae1f3a6e0d46c0e3",
       "IPY_MODEL_727bf6e5d87c4779a56360204ad3e4f9"
      ],
      "layout": "IPY_MODEL_162681d27526455eb7545057f186bafd"
     }
    },
    "d633d9a733444666ae1f3a6e0d46c0e3": {
     "model_module": "@jupyter-widgets/controls",
     "model_name": "IntProgressModel",
     "state": {
      "_dom_classes": [],
      "_model_module": "@jupyter-widgets/controls",
      "_model_module_version": "1.5.0",
      "_model_name": "IntProgressModel",
      "_view_count": null,
      "_view_module": "@jupyter-widgets/controls",
      "_view_module_version": "1.5.0",
      "_view_name": "ProgressView",
      "bar_style": "success",
      "description": "100%",
      "description_tooltip": null,
      "layout": "IPY_MODEL_5503b60def8047909d419e6bb222cccf",
      "max": 1563,
      "min": 0,
      "orientation": "horizontal",
      "style": "IPY_MODEL_992ba2e4f1b6432aa941dc8ba2b4268e",
      "value": 1563
     }
    },
    "d9fd164e6b8648ba8d6edbc3daee77e3": {
     "model_module": "@jupyter-widgets/base",
     "model_name": "LayoutModel",
     "state": {
      "_model_module": "@jupyter-widgets/base",
      "_model_module_version": "1.2.0",
      "_model_name": "LayoutModel",
      "_view_count": null,
      "_view_module": "@jupyter-widgets/base",
      "_view_module_version": "1.2.0",
      "_view_name": "LayoutView",
      "align_content": null,
      "align_items": null,
      "align_self": null,
      "border": null,
      "bottom": null,
      "display": null,
      "flex": null,
      "flex_flow": null,
      "grid_area": null,
      "grid_auto_columns": null,
      "grid_auto_flow": null,
      "grid_auto_rows": null,
      "grid_column": null,
      "grid_gap": null,
      "grid_row": null,
      "grid_template_areas": null,
      "grid_template_columns": null,
      "grid_template_rows": null,
      "height": null,
      "justify_content": null,
      "justify_items": null,
      "left": null,
      "margin": null,
      "max_height": null,
      "max_width": null,
      "min_height": null,
      "min_width": null,
      "object_fit": null,
      "object_position": null,
      "order": null,
      "overflow": null,
      "overflow_x": null,
      "overflow_y": null,
      "padding": null,
      "right": null,
      "top": null,
      "visibility": null,
      "width": null
     }
    },
    "dd11167040a941e9822bc9041c7f32e7": {
     "model_module": "@jupyter-widgets/base",
     "model_name": "LayoutModel",
     "state": {
      "_model_module": "@jupyter-widgets/base",
      "_model_module_version": "1.2.0",
      "_model_name": "LayoutModel",
      "_view_count": null,
      "_view_module": "@jupyter-widgets/base",
      "_view_module_version": "1.2.0",
      "_view_name": "LayoutView",
      "align_content": null,
      "align_items": null,
      "align_self": null,
      "border": null,
      "bottom": null,
      "display": null,
      "flex": null,
      "flex_flow": null,
      "grid_area": null,
      "grid_auto_columns": null,
      "grid_auto_flow": null,
      "grid_auto_rows": null,
      "grid_column": null,
      "grid_gap": null,
      "grid_row": null,
      "grid_template_areas": null,
      "grid_template_columns": null,
      "grid_template_rows": null,
      "height": null,
      "justify_content": null,
      "justify_items": null,
      "left": null,
      "margin": null,
      "max_height": null,
      "max_width": null,
      "min_height": null,
      "min_width": null,
      "object_fit": null,
      "object_position": null,
      "order": null,
      "overflow": null,
      "overflow_x": null,
      "overflow_y": null,
      "padding": null,
      "right": null,
      "top": null,
      "visibility": null,
      "width": null
     }
    },
    "e1b6ae9bb44a4bfc8a48a7448cd526af": {
     "model_module": "@jupyter-widgets/controls",
     "model_name": "HBoxModel",
     "state": {
      "_dom_classes": [],
      "_model_module": "@jupyter-widgets/controls",
      "_model_module_version": "1.5.0",
      "_model_name": "HBoxModel",
      "_view_count": null,
      "_view_module": "@jupyter-widgets/controls",
      "_view_module_version": "1.5.0",
      "_view_name": "HBoxView",
      "box_style": "",
      "children": [
       "IPY_MODEL_2fae694cef2848978a3f5069e2f36e5e",
       "IPY_MODEL_86de3eb1f20d4d13b899fcc53659fc1c"
      ],
      "layout": "IPY_MODEL_5807b8e6d7df4b3396923ffa525220d9"
     }
    },
    "e2777138d9dd47bf9a63bcffc80c4d79": {
     "model_module": "@jupyter-widgets/controls",
     "model_name": "HBoxModel",
     "state": {
      "_dom_classes": [],
      "_model_module": "@jupyter-widgets/controls",
      "_model_module_version": "1.5.0",
      "_model_name": "HBoxModel",
      "_view_count": null,
      "_view_module": "@jupyter-widgets/controls",
      "_view_module_version": "1.5.0",
      "_view_name": "HBoxView",
      "box_style": "",
      "children": [
       "IPY_MODEL_95fc03d9c99240d6a130568de73b6726",
       "IPY_MODEL_458f177849c54fe8b75283d8314e83d4"
      ],
      "layout": "IPY_MODEL_8f84b77fafb94311b4b70e44a1cb88c2"
     }
    },
    "ec88adc49b30437db99700f7fa0e8935": {
     "model_module": "@jupyter-widgets/base",
     "model_name": "LayoutModel",
     "state": {
      "_model_module": "@jupyter-widgets/base",
      "_model_module_version": "1.2.0",
      "_model_name": "LayoutModel",
      "_view_count": null,
      "_view_module": "@jupyter-widgets/base",
      "_view_module_version": "1.2.0",
      "_view_name": "LayoutView",
      "align_content": null,
      "align_items": null,
      "align_self": null,
      "border": null,
      "bottom": null,
      "display": null,
      "flex": null,
      "flex_flow": null,
      "grid_area": null,
      "grid_auto_columns": null,
      "grid_auto_flow": null,
      "grid_auto_rows": null,
      "grid_column": null,
      "grid_gap": null,
      "grid_row": null,
      "grid_template_areas": null,
      "grid_template_columns": null,
      "grid_template_rows": null,
      "height": null,
      "justify_content": null,
      "justify_items": null,
      "left": null,
      "margin": null,
      "max_height": null,
      "max_width": null,
      "min_height": null,
      "min_width": null,
      "object_fit": null,
      "object_position": null,
      "order": null,
      "overflow": null,
      "overflow_x": null,
      "overflow_y": null,
      "padding": null,
      "right": null,
      "top": null,
      "visibility": null,
      "width": null
     }
    },
    "f1479fd595c74f0d9bbccb8d68a187d3": {
     "model_module": "@jupyter-widgets/base",
     "model_name": "LayoutModel",
     "state": {
      "_model_module": "@jupyter-widgets/base",
      "_model_module_version": "1.2.0",
      "_model_name": "LayoutModel",
      "_view_count": null,
      "_view_module": "@jupyter-widgets/base",
      "_view_module_version": "1.2.0",
      "_view_name": "LayoutView",
      "align_content": null,
      "align_items": null,
      "align_self": null,
      "border": null,
      "bottom": null,
      "display": null,
      "flex": null,
      "flex_flow": null,
      "grid_area": null,
      "grid_auto_columns": null,
      "grid_auto_flow": null,
      "grid_auto_rows": null,
      "grid_column": null,
      "grid_gap": null,
      "grid_row": null,
      "grid_template_areas": null,
      "grid_template_columns": null,
      "grid_template_rows": null,
      "height": null,
      "justify_content": null,
      "justify_items": null,
      "left": null,
      "margin": null,
      "max_height": null,
      "max_width": null,
      "min_height": null,
      "min_width": null,
      "object_fit": null,
      "object_position": null,
      "order": null,
      "overflow": null,
      "overflow_x": null,
      "overflow_y": null,
      "padding": null,
      "right": null,
      "top": null,
      "visibility": null,
      "width": null
     }
    },
    "f684f086588541c6a4db974a622d8f91": {
     "model_module": "@jupyter-widgets/base",
     "model_name": "LayoutModel",
     "state": {
      "_model_module": "@jupyter-widgets/base",
      "_model_module_version": "1.2.0",
      "_model_name": "LayoutModel",
      "_view_count": null,
      "_view_module": "@jupyter-widgets/base",
      "_view_module_version": "1.2.0",
      "_view_name": "LayoutView",
      "align_content": null,
      "align_items": null,
      "align_self": null,
      "border": null,
      "bottom": null,
      "display": null,
      "flex": null,
      "flex_flow": null,
      "grid_area": null,
      "grid_auto_columns": null,
      "grid_auto_flow": null,
      "grid_auto_rows": null,
      "grid_column": null,
      "grid_gap": null,
      "grid_row": null,
      "grid_template_areas": null,
      "grid_template_columns": null,
      "grid_template_rows": null,
      "height": null,
      "justify_content": null,
      "justify_items": null,
      "left": null,
      "margin": null,
      "max_height": null,
      "max_width": null,
      "min_height": null,
      "min_width": null,
      "object_fit": null,
      "object_position": null,
      "order": null,
      "overflow": null,
      "overflow_x": null,
      "overflow_y": null,
      "padding": null,
      "right": null,
      "top": null,
      "visibility": null,
      "width": null
     }
    },
    "f69ec20bd34740f8aab435b69a56a287": {
     "model_module": "@jupyter-widgets/controls",
     "model_name": "DescriptionStyleModel",
     "state": {
      "_model_module": "@jupyter-widgets/controls",
      "_model_module_version": "1.5.0",
      "_model_name": "DescriptionStyleModel",
      "_view_count": null,
      "_view_module": "@jupyter-widgets/base",
      "_view_module_version": "1.2.0",
      "_view_name": "StyleView",
      "description_width": ""
     }
    },
    "f757cbf97b7f4a478239c0bf3b1fa7ee": {
     "model_module": "@jupyter-widgets/base",
     "model_name": "LayoutModel",
     "state": {
      "_model_module": "@jupyter-widgets/base",
      "_model_module_version": "1.2.0",
      "_model_name": "LayoutModel",
      "_view_count": null,
      "_view_module": "@jupyter-widgets/base",
      "_view_module_version": "1.2.0",
      "_view_name": "LayoutView",
      "align_content": null,
      "align_items": null,
      "align_self": null,
      "border": null,
      "bottom": null,
      "display": null,
      "flex": null,
      "flex_flow": null,
      "grid_area": null,
      "grid_auto_columns": null,
      "grid_auto_flow": null,
      "grid_auto_rows": null,
      "grid_column": null,
      "grid_gap": null,
      "grid_row": null,
      "grid_template_areas": null,
      "grid_template_columns": null,
      "grid_template_rows": null,
      "height": null,
      "justify_content": null,
      "justify_items": null,
      "left": null,
      "margin": null,
      "max_height": null,
      "max_width": null,
      "min_height": null,
      "min_width": null,
      "object_fit": null,
      "object_position": null,
      "order": null,
      "overflow": null,
      "overflow_x": null,
      "overflow_y": null,
      "padding": null,
      "right": null,
      "top": null,
      "visibility": null,
      "width": null
     }
    },
    "fbeee2ac360d429db3849908b3d6b45b": {
     "model_module": "@jupyter-widgets/base",
     "model_name": "LayoutModel",
     "state": {
      "_model_module": "@jupyter-widgets/base",
      "_model_module_version": "1.2.0",
      "_model_name": "LayoutModel",
      "_view_count": null,
      "_view_module": "@jupyter-widgets/base",
      "_view_module_version": "1.2.0",
      "_view_name": "LayoutView",
      "align_content": null,
      "align_items": null,
      "align_self": null,
      "border": null,
      "bottom": null,
      "display": null,
      "flex": null,
      "flex_flow": null,
      "grid_area": null,
      "grid_auto_columns": null,
      "grid_auto_flow": null,
      "grid_auto_rows": null,
      "grid_column": null,
      "grid_gap": null,
      "grid_row": null,
      "grid_template_areas": null,
      "grid_template_columns": null,
      "grid_template_rows": null,
      "height": null,
      "justify_content": null,
      "justify_items": null,
      "left": null,
      "margin": null,
      "max_height": null,
      "max_width": null,
      "min_height": null,
      "min_width": null,
      "object_fit": null,
      "object_position": null,
      "order": null,
      "overflow": null,
      "overflow_x": null,
      "overflow_y": null,
      "padding": null,
      "right": null,
      "top": null,
      "visibility": null,
      "width": null
     }
    }
   }
  }
 },
 "nbformat": 4,
 "nbformat_minor": 1
}
