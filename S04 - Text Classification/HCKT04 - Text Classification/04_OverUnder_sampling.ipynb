{
 "cells": [
  {
   "cell_type": "code",
   "execution_count": 3,
   "metadata": {},
   "outputs": [],
   "source": [
    "import math\n",
    "import hashlib\n",
    "import inspect\n",
    "import json\n",
    "import pandas as pd\n",
    "import numpy as np\n",
    "import re\n",
    "from hashlib import sha256\n",
    "from collections import Counter\n",
    "import string\n",
    "import os\n",
    "import random\n",
    "from sklearn.feature_extraction.text import TfidfVectorizer\n",
    "from nltk.tokenize import WordPunctTokenizer\n",
    "from sklearn.ensemble import RandomForestClassifier\n",
    "from sklearn.model_selection import train_test_split\n",
    "from sklearn.pipeline import Pipeline, FeatureUnion\n",
    "from sklearn.base import BaseEstimator, TransformerMixin\n",
    "from sklearn.preprocessing import StandardScaler\n",
    "import spacy\n",
    "from spacy.matcher import Matcher\n",
    "from spacy.lang.en import English\n",
    "from spacy.matcher import Matcher\n",
    "from nltk.corpus import stopwords\n",
    "from sklearn.metrics.pairwise import cosine_similarity\n",
    "from sklearn.metrics import accuracy_score, f1_score\n",
    "from sklearn.model_selection import train_test_split\n",
    "\n",
    "import warnings\n",
    "warnings.filterwarnings('ignore')\n",
    "\n",
    "from imblearn.over_sampling import RandomOverSampler\n",
    "from imblearn.under_sampling import RandomUnderSampler"
   ]
  },
  {
   "cell_type": "code",
   "execution_count": 4,
   "metadata": {},
   "outputs": [],
   "source": [
    "df_train = pd.read_csv('data/covid19_data.csv')\n",
    "df_test_pred = pd.read_csv('data/covid19_unlabelled_test.csv')"
   ]
  },
  {
   "cell_type": "code",
   "execution_count": 63,
   "metadata": {},
   "outputs": [
    {
     "data": {
      "text/html": [
       "<div>\n",
       "<style scoped>\n",
       "    .dataframe tbody tr th:only-of-type {\n",
       "        vertical-align: middle;\n",
       "    }\n",
       "\n",
       "    .dataframe tbody tr th {\n",
       "        vertical-align: top;\n",
       "    }\n",
       "\n",
       "    .dataframe thead th {\n",
       "        text-align: right;\n",
       "    }\n",
       "</style>\n",
       "<table border=\"1\" class=\"dataframe\">\n",
       "  <thead>\n",
       "    <tr style=\"text-align: right;\">\n",
       "      <th></th>\n",
       "      <th>verifiedby</th>\n",
       "      <th>country</th>\n",
       "      <th>class</th>\n",
       "      <th>title</th>\n",
       "      <th>published_date</th>\n",
       "      <th>country1</th>\n",
       "      <th>country2</th>\n",
       "      <th>country3</th>\n",
       "      <th>country4</th>\n",
       "      <th>article_source</th>\n",
       "      <th>ref_source</th>\n",
       "      <th>source_title</th>\n",
       "      <th>content_text</th>\n",
       "      <th>category</th>\n",
       "      <th>lang</th>\n",
       "      <th>label</th>\n",
       "    </tr>\n",
       "  </thead>\n",
       "  <tbody>\n",
       "    <tr>\n",
       "      <th>5526</th>\n",
       "      <td>AFP</td>\n",
       "      <td>Argentina</td>\n",
       "      <td>MISLEADING</td>\n",
       "      <td>A video shows the Italian air force air show ...</td>\n",
       "      <td>2020/03/19</td>\n",
       "      <td>Argentina</td>\n",
       "      <td>NaN</td>\n",
       "      <td>NaN</td>\n",
       "      <td>NaN</td>\n",
       "      <td>https://factual.afp.com/el-video-del-espectacu...</td>\n",
       "      <td>poynter</td>\n",
       "      <td>El video del espectáculo aéreo de la fuerza aé...</td>\n",
       "      <td>Entradas similares circulan también en inglés....</td>\n",
       "      <td>NaN</td>\n",
       "      <td>es</td>\n",
       "      <td>f</td>\n",
       "    </tr>\n",
       "    <tr>\n",
       "      <th>5527</th>\n",
       "      <td>India Today</td>\n",
       "      <td>India</td>\n",
       "      <td>Mostly false</td>\n",
       "      <td>While coronavirus tests in other countries ar...</td>\n",
       "      <td>2020/03/25</td>\n",
       "      <td>India</td>\n",
       "      <td>NaN</td>\n",
       "      <td>NaN</td>\n",
       "      <td>NaN</td>\n",
       "      <td>https://www.indiatoday.in/fact-check/story/fac...</td>\n",
       "      <td>poynter</td>\n",
       "      <td>Fact Check: Are coronavirus tests most expensi...</td>\n",
       "      <td>Speak Now, With more than 19,000 deaths and ov...</td>\n",
       "      <td>NaN</td>\n",
       "      <td>en</td>\n",
       "      <td>r</td>\n",
       "    </tr>\n",
       "    <tr>\n",
       "      <th>5528</th>\n",
       "      <td>TEMPO</td>\n",
       "      <td>Indonesia</td>\n",
       "      <td>Misleading</td>\n",
       "      <td>Vladimir Putin released 800 tigers andlions t...</td>\n",
       "      <td>2020/03/23</td>\n",
       "      <td>Indonesia</td>\n",
       "      <td>NaN</td>\n",
       "      <td>NaN</td>\n",
       "      <td>NaN</td>\n",
       "      <td>https://cekfakta.tempo.co/fakta/694/fakta-atau...</td>\n",
       "      <td>poynter</td>\n",
       "      <td>Tempo.co</td>\n",
       "      <td>Narasi yang menyebut Presiden Rusia Vladimir P...</td>\n",
       "      <td>NaN</td>\n",
       "      <td>id</td>\n",
       "      <td>f</td>\n",
       "    </tr>\n",
       "    <tr>\n",
       "      <th>5529</th>\n",
       "      <td>Factcheck.Vlaanderen</td>\n",
       "      <td>Belgium</td>\n",
       "      <td>misleading</td>\n",
       "      <td>The cure for coronavirus can come from Antwer...</td>\n",
       "      <td>2020/05/05</td>\n",
       "      <td>Belgium</td>\n",
       "      <td>NaN</td>\n",
       "      <td>NaN</td>\n",
       "      <td>NaN</td>\n",
       "      <td>https://factcheck.vlaanderen/factcheck/komt-de...</td>\n",
       "      <td>poynter</td>\n",
       "      <td>\\n    Factcheck: Komt de oplossing voor het co...</td>\n",
       "      <td>Een Antwerpse lama met de naam Winter is de ni...</td>\n",
       "      <td>NaN</td>\n",
       "      <td>nl</td>\n",
       "      <td>r</td>\n",
       "    </tr>\n",
       "    <tr>\n",
       "      <th>5530</th>\n",
       "      <td>Verificado</td>\n",
       "      <td>Mexico</td>\n",
       "      <td>Misleading</td>\n",
       "      <td>Legislator from Nuevo León, Mexico says there...</td>\n",
       "      <td>2020/06/19</td>\n",
       "      <td>Mexico</td>\n",
       "      <td>NaN</td>\n",
       "      <td>NaN</td>\n",
       "      <td>NaN</td>\n",
       "      <td>https://verificado.com.mx/que-tan-certero-pued...</td>\n",
       "      <td>poynter</td>\n",
       "      <td>¿Qué tan certero puede ser el resultado de una...</td>\n",
       "      <td>En estado crítico atención hospitalaria para C...</td>\n",
       "      <td>NaN</td>\n",
       "      <td>es</td>\n",
       "      <td>f</td>\n",
       "    </tr>\n",
       "  </tbody>\n",
       "</table>\n",
       "</div>"
      ],
      "text/plain": [
       "                 verifiedby     country         class  \\\n",
       "5526                    AFP   Argentina    MISLEADING   \n",
       "5527            India Today       India  Mostly false   \n",
       "5528                  TEMPO   Indonesia    Misleading   \n",
       "5529   Factcheck.Vlaanderen     Belgium    misleading   \n",
       "5530             Verificado      Mexico    Misleading   \n",
       "\n",
       "                                                  title published_date  \\\n",
       "5526   A video shows the Italian air force air show ...    2020/03/19    \n",
       "5527   While coronavirus tests in other countries ar...    2020/03/25    \n",
       "5528   Vladimir Putin released 800 tigers andlions t...    2020/03/23    \n",
       "5529   The cure for coronavirus can come from Antwer...    2020/05/05    \n",
       "5530   Legislator from Nuevo León, Mexico says there...    2020/06/19    \n",
       "\n",
       "        country1 country2 country3 country4  \\\n",
       "5526   Argentina      NaN      NaN      NaN   \n",
       "5527       India      NaN      NaN      NaN   \n",
       "5528   Indonesia      NaN      NaN      NaN   \n",
       "5529     Belgium      NaN      NaN      NaN   \n",
       "5530      Mexico      NaN      NaN      NaN   \n",
       "\n",
       "                                         article_source ref_source  \\\n",
       "5526  https://factual.afp.com/el-video-del-espectacu...    poynter   \n",
       "5527  https://www.indiatoday.in/fact-check/story/fac...    poynter   \n",
       "5528  https://cekfakta.tempo.co/fakta/694/fakta-atau...    poynter   \n",
       "5529  https://factcheck.vlaanderen/factcheck/komt-de...    poynter   \n",
       "5530  https://verificado.com.mx/que-tan-certero-pued...    poynter   \n",
       "\n",
       "                                           source_title  \\\n",
       "5526  El video del espectáculo aéreo de la fuerza aé...   \n",
       "5527  Fact Check: Are coronavirus tests most expensi...   \n",
       "5528                                           Tempo.co   \n",
       "5529  \\n    Factcheck: Komt de oplossing voor het co...   \n",
       "5530  ¿Qué tan certero puede ser el resultado de una...   \n",
       "\n",
       "                                           content_text category lang label  \n",
       "5526  Entradas similares circulan también en inglés....      NaN   es     f  \n",
       "5527  Speak Now, With more than 19,000 deaths and ov...      NaN   en     r  \n",
       "5528  Narasi yang menyebut Presiden Rusia Vladimir P...      NaN   id     f  \n",
       "5529  Een Antwerpse lama met de naam Winter is de ni...      NaN   nl     r  \n",
       "5530  En estado crítico atención hospitalaria para C...      NaN   es     f  "
      ]
     },
     "execution_count": 63,
     "metadata": {},
     "output_type": "execute_result"
    }
   ],
   "source": [
    "df_train.shape #(5531, 15)\n",
    "df_train.tail()"
   ]
  },
  {
   "cell_type": "code",
   "execution_count": null,
   "metadata": {},
   "outputs": [],
   "source": [
    "df_train"
   ]
  },
  {
   "cell_type": "code",
   "execution_count": null,
   "metadata": {},
   "outputs": [],
   "source": []
  },
  {
   "cell_type": "code",
   "execution_count": 8,
   "metadata": {},
   "outputs": [],
   "source": [
    "#function to classify the label in t(true) or f(false) or r(to revome)\n",
    "def create_label(doc, list_false, list_true):\n",
    "    \n",
    "    if doc in list_false:\n",
    "        return 'f'\n",
    "    elif doc in list_true:\n",
    "        return 't'\n",
    "    else:\n",
    "        return 'r'\n",
    "\n",
    "#to select new data frame with the n_falses quantity of false observations\n",
    "def create_balance_dataset(df,n_falses,label):\n",
    "    df = df.copy()\n",
    "    df = df[['title', label]]\n",
    "    df_false = df[df[label]=='f'].sample(n=n_falses, random_state=111)\n",
    "    df_true  = df[df[label]=='t']\n",
    "    \n",
    "    return pd.concat([df_false,df_true])       \n",
    "\n",
    "    "
   ]
  },
  {
   "cell_type": "code",
   "execution_count": 11,
   "metadata": {},
   "outputs": [
    {
     "data": {
      "text/plain": [
       "f    4825\n",
       "r     530\n",
       "t     176\n",
       "Name: label, dtype: int64"
      ]
     },
     "execution_count": 11,
     "metadata": {},
     "output_type": "execute_result"
    }
   ],
   "source": [
    "list_false= ['False', 'FALSE','Misleading','MISLEADING']\n",
    "list_true= ['True','News','Mostly True','MOSTLY TRUE','HALF TRUE','Correct Attribution','Half True','PARTLY TRUE',\n",
    "            'half true','Correct','Partially true','HALF TRUTH','Partially correct', 'Mostly true','True but','Partly true',\n",
    "           'NO EVIDENCE','no evidence','No Evidence','No evidence']\n",
    "\n",
    "df_train['label'] = df_train['class'].apply(create_label, args=(list_false, list_true))\n",
    "\n",
    "df_train['label'].value_counts(dropna=False)"
   ]
  },
  {
   "cell_type": "code",
   "execution_count": 61,
   "metadata": {},
   "outputs": [],
   "source": [
    "#trying oversample\n",
    "df_train_tf = df_train[df_train['label'] != 'r']\n",
    "\n",
    "sampling_strategy = 0.2\n",
    "\n",
    "ros = RandomOverSampler(sampling_strategy=sampling_strategy,random_state=111)\n",
    "X_res, y_res = ros.fit_resample(df_train_tf, df_train_tf['label'])"
   ]
  },
  {
   "cell_type": "code",
   "execution_count": 62,
   "metadata": {},
   "outputs": [
    {
     "data": {
      "text/plain": [
       "f    4825\n",
       "t     965\n",
       "Name: label, dtype: int64"
      ]
     },
     "execution_count": 62,
     "metadata": {},
     "output_type": "execute_result"
    }
   ],
   "source": [
    "X_res['label'].value_counts(dropna=False)"
   ]
  },
  {
   "cell_type": "code",
   "execution_count": 59,
   "metadata": {},
   "outputs": [],
   "source": [
    "#trying undersample\n",
    "sampling_strategy = 0.2\n",
    "\n",
    "rus = RandomUnderSampler(sampling_strategy=sampling_strategy,random_state=111)\n",
    "X_res_rus, y_res_rus = rus.fit_resample(df_train_tf, df_train_tf['label'])"
   ]
  },
  {
   "cell_type": "code",
   "execution_count": 60,
   "metadata": {},
   "outputs": [
    {
     "data": {
      "text/plain": [
       "f    880\n",
       "t    176\n",
       "Name: label, dtype: int64"
      ]
     },
     "execution_count": 60,
     "metadata": {},
     "output_type": "execute_result"
    }
   ],
   "source": [
    "X_res_rus['label'].value_counts(dropna=False)"
   ]
  },
  {
   "cell_type": "code",
   "execution_count": null,
   "metadata": {},
   "outputs": [],
   "source": []
  },
  {
   "cell_type": "code",
   "execution_count": null,
   "metadata": {},
   "outputs": [],
   "source": []
  }
 ],
 "metadata": {
  "kernelspec": {
   "display_name": "Python 3",
   "language": "python",
   "name": "python3"
  },
  "language_info": {
   "codemirror_mode": {
    "name": "ipython",
    "version": 3
   },
   "file_extension": ".py",
   "mimetype": "text/x-python",
   "name": "python",
   "nbconvert_exporter": "python",
   "pygments_lexer": "ipython3",
   "version": "3.6.9"
  }
 },
 "nbformat": 4,
 "nbformat_minor": 4
}
