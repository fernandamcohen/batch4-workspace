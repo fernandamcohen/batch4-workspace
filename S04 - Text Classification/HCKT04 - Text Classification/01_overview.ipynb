{
 "cells": [
  {
   "cell_type": "code",
   "execution_count": 2,
   "metadata": {},
   "outputs": [],
   "source": [
    "import math\n",
    "import hashlib\n",
    "import inspect\n",
    "import json\n",
    "import pandas as pd\n",
    "import numpy as np\n",
    "import re\n",
    "from hashlib import sha256\n",
    "from collections import Counter\n",
    "import string\n",
    "import os\n",
    "import random\n",
    "from sklearn.feature_extraction.text import TfidfVectorizer\n",
    "from nltk.tokenize import WordPunctTokenizer\n",
    "from sklearn.ensemble import RandomForestClassifier\n",
    "from sklearn.model_selection import train_test_split\n",
    "from sklearn.pipeline import Pipeline, FeatureUnion\n",
    "from sklearn.base import BaseEstimator, TransformerMixin\n",
    "from sklearn.preprocessing import StandardScaler\n",
    "import spacy\n",
    "from spacy.matcher import Matcher\n",
    "from spacy.lang.en import English\n",
    "from spacy.matcher import Matcher\n",
    "from nltk.corpus import stopwords\n",
    "from sklearn.metrics.pairwise import cosine_similarity\n",
    "from sklearn.metrics import accuracy_score, f1_score"
   ]
  },
  {
   "cell_type": "code",
   "execution_count": 3,
   "metadata": {},
   "outputs": [],
   "source": [
    "df_train = pd.read_csv('data/covid19_data.csv')\n",
    "df_test_pred = pd.read_csv('data/covid19_unlabelled_test.csv')"
   ]
  },
  {
   "cell_type": "code",
   "execution_count": 54,
   "metadata": {},
   "outputs": [
    {
     "data": {
      "text/html": [
       "<div>\n",
       "<style scoped>\n",
       "    .dataframe tbody tr th:only-of-type {\n",
       "        vertical-align: middle;\n",
       "    }\n",
       "\n",
       "    .dataframe tbody tr th {\n",
       "        vertical-align: top;\n",
       "    }\n",
       "\n",
       "    .dataframe thead th {\n",
       "        text-align: right;\n",
       "    }\n",
       "</style>\n",
       "<table border=\"1\" class=\"dataframe\">\n",
       "  <thead>\n",
       "    <tr style=\"text-align: right;\">\n",
       "      <th></th>\n",
       "      <th>verifiedby</th>\n",
       "      <th>country</th>\n",
       "      <th>class</th>\n",
       "      <th>title</th>\n",
       "      <th>published_date</th>\n",
       "      <th>country1</th>\n",
       "      <th>country2</th>\n",
       "      <th>country3</th>\n",
       "      <th>country4</th>\n",
       "      <th>article_source</th>\n",
       "      <th>ref_source</th>\n",
       "      <th>source_title</th>\n",
       "      <th>content_text</th>\n",
       "      <th>category</th>\n",
       "      <th>lang</th>\n",
       "      <th>label</th>\n",
       "    </tr>\n",
       "  </thead>\n",
       "  <tbody>\n",
       "    <tr>\n",
       "      <th>0</th>\n",
       "      <td>Delfi Melo Detektorius (Lie Detector)</td>\n",
       "      <td>Lithuania</td>\n",
       "      <td>FALSE</td>\n",
       "      <td>Claims that coronavirus is fake and Belarus i...</td>\n",
       "      <td>2020/05/11</td>\n",
       "      <td>Lithuania</td>\n",
       "      <td>NaN</td>\n",
       "      <td>NaN</td>\n",
       "      <td>NaN</td>\n",
       "      <td>https://www.delfi.lt/news/melo-detektorius/mel...</td>\n",
       "      <td>poynter</td>\n",
       "      <td>Baltarusija atšventė nesisaugodama nuo koronav...</td>\n",
       "      <td>Gegužės 9-ąją Baltarusijos sostinėje Minske su...</td>\n",
       "      <td>NaN</td>\n",
       "      <td>lt</td>\n",
       "      <td>false</td>\n",
       "    </tr>\n",
       "    <tr>\n",
       "      <th>1</th>\n",
       "      <td>AfricaCheck</td>\n",
       "      <td>United States, South Africa</td>\n",
       "      <td>False</td>\n",
       "      <td>Muammar Gaddafi predicted the current coronav...</td>\n",
       "      <td>2020/03/21</td>\n",
       "      <td>United States</td>\n",
       "      <td>South Africa</td>\n",
       "      <td>NaN</td>\n",
       "      <td>NaN</td>\n",
       "      <td>https://africacheck.org/fbcheck/no-gaddafi-did...</td>\n",
       "      <td>poynter</td>\n",
       "      <td>No, Gaddafi didn’t predict coronavirus, but di...</td>\n",
       "      <td>As the world struggles to bring the new corona...</td>\n",
       "      <td>NaN</td>\n",
       "      <td>en</td>\n",
       "      <td>false</td>\n",
       "    </tr>\n",
       "    <tr>\n",
       "      <th>2</th>\n",
       "      <td>AFP</td>\n",
       "      <td>Hong Kong</td>\n",
       "      <td>False</td>\n",
       "      <td>Video shows quarantined people in a building ...</td>\n",
       "      <td>2020/02/17</td>\n",
       "      <td>Hong Kong</td>\n",
       "      <td>NaN</td>\n",
       "      <td>NaN</td>\n",
       "      <td>NaN</td>\n",
       "      <td>http://u.afp.com/QuarantineChina</td>\n",
       "      <td>poynter</td>\n",
       "      <td>This video shows tower blocks in Shanghai, not...</td>\n",
       "      <td>It has been viewed more than 200,000 times., T...</td>\n",
       "      <td>NaN</td>\n",
       "      <td>en</td>\n",
       "      <td>false</td>\n",
       "    </tr>\n",
       "    <tr>\n",
       "      <th>3</th>\n",
       "      <td>FactCrescendo</td>\n",
       "      <td>India</td>\n",
       "      <td>False</td>\n",
       "      <td>A video shows a massive explosion in Wuhan, C...</td>\n",
       "      <td>2020/02/17</td>\n",
       "      <td>India</td>\n",
       "      <td>NaN</td>\n",
       "      <td>NaN</td>\n",
       "      <td>NaN</td>\n",
       "      <td>https://english.factcrescendo.com/2020/02/17/t...</td>\n",
       "      <td>poynter</td>\n",
       "      <td>This blast took place in Tiajin, China in 2015...</td>\n",
       "      <td>The fact behind every news!, Ever since, the W...</td>\n",
       "      <td>NaN</td>\n",
       "      <td>en</td>\n",
       "      <td>false</td>\n",
       "    </tr>\n",
       "    <tr>\n",
       "      <th>4</th>\n",
       "      <td>Newtral.es</td>\n",
       "      <td>Spain, Peru, United States, Mexico</td>\n",
       "      <td>False</td>\n",
       "      <td>Chlorine dioxide cures the coronavirus.</td>\n",
       "      <td>2020/03/25</td>\n",
       "      <td>Spain</td>\n",
       "      <td>Peru</td>\n",
       "      <td>United States</td>\n",
       "      <td>Mexico</td>\n",
       "      <td>https://www.newtral.es/bulo-dioxido-de-cloro-c...</td>\n",
       "      <td>poynter</td>\n",
       "      <td>El dióxido de cloro no cura el coronavirus; al...</td>\n",
       "      <td>Circula un video de Youtube titulado: “El Coro...</td>\n",
       "      <td>NaN</td>\n",
       "      <td>es</td>\n",
       "      <td>false</td>\n",
       "    </tr>\n",
       "  </tbody>\n",
       "</table>\n",
       "</div>"
      ],
      "text/plain": [
       "                               verifiedby  \\\n",
       "0   Delfi Melo Detektorius (Lie Detector)   \n",
       "1                             AfricaCheck   \n",
       "2                                     AFP   \n",
       "3                           FactCrescendo   \n",
       "4                              Newtral.es   \n",
       "\n",
       "                               country  class  \\\n",
       "0                            Lithuania  FALSE   \n",
       "1          United States, South Africa  False   \n",
       "2                            Hong Kong  False   \n",
       "3                                India  False   \n",
       "4   Spain, Peru, United States, Mexico  False   \n",
       "\n",
       "                                               title published_date  \\\n",
       "0   Claims that coronavirus is fake and Belarus i...    2020/05/11    \n",
       "1   Muammar Gaddafi predicted the current coronav...    2020/03/21    \n",
       "2   Video shows quarantined people in a building ...    2020/02/17    \n",
       "3   A video shows a massive explosion in Wuhan, C...    2020/02/17    \n",
       "4            Chlorine dioxide cures the coronavirus.    2020/03/25    \n",
       "\n",
       "         country1       country2        country3 country4  \\\n",
       "0       Lithuania            NaN             NaN      NaN   \n",
       "1   United States   South Africa             NaN      NaN   \n",
       "2       Hong Kong            NaN             NaN      NaN   \n",
       "3           India            NaN             NaN      NaN   \n",
       "4           Spain           Peru   United States   Mexico   \n",
       "\n",
       "                                      article_source ref_source  \\\n",
       "0  https://www.delfi.lt/news/melo-detektorius/mel...    poynter   \n",
       "1  https://africacheck.org/fbcheck/no-gaddafi-did...    poynter   \n",
       "2                   http://u.afp.com/QuarantineChina    poynter   \n",
       "3  https://english.factcrescendo.com/2020/02/17/t...    poynter   \n",
       "4  https://www.newtral.es/bulo-dioxido-de-cloro-c...    poynter   \n",
       "\n",
       "                                        source_title  \\\n",
       "0  Baltarusija atšventė nesisaugodama nuo koronav...   \n",
       "1  No, Gaddafi didn’t predict coronavirus, but di...   \n",
       "2  This video shows tower blocks in Shanghai, not...   \n",
       "3  This blast took place in Tiajin, China in 2015...   \n",
       "4  El dióxido de cloro no cura el coronavirus; al...   \n",
       "\n",
       "                                        content_text category lang  label  \n",
       "0  Gegužės 9-ąją Baltarusijos sostinėje Minske su...      NaN   lt  false  \n",
       "1  As the world struggles to bring the new corona...      NaN   en  false  \n",
       "2  It has been viewed more than 200,000 times., T...      NaN   en  false  \n",
       "3  The fact behind every news!, Ever since, the W...      NaN   en  false  \n",
       "4  Circula un video de Youtube titulado: “El Coro...      NaN   es  false  "
      ]
     },
     "execution_count": 54,
     "metadata": {},
     "output_type": "execute_result"
    }
   ],
   "source": [
    "df_train.shape #(5531, 15)\n",
    "df_train.head()"
   ]
  },
  {
   "cell_type": "code",
   "execution_count": 56,
   "metadata": {},
   "outputs": [
    {
     "data": {
      "text/plain": [
       "2020/03/17             102\n",
       "2020/03/23             100\n",
       "2020/04/02              99\n",
       "2020/03/20              98\n",
       "2020/03/19              96\n",
       "                      ... \n",
       "2020-01-31 00:00:00      1\n",
       "2020-03-24 00:00:00      1\n",
       "2020-03-25 00:00:00      1\n",
       "2020-04-30 00:00:00      1\n",
       "2020-02-20 00:00:00      1\n",
       "Name: published_date, Length: 246, dtype: int64"
      ]
     },
     "execution_count": 56,
     "metadata": {},
     "output_type": "execute_result"
    }
   ],
   "source": [
    "df_train.published_date.value_counts()"
   ]
  },
  {
   "cell_type": "code",
   "execution_count": 43,
   "metadata": {},
   "outputs": [],
   "source": [
    "class_value = df_train['class'].value_counts(dropna=False)"
   ]
  },
  {
   "cell_type": "code",
   "execution_count": 60,
   "metadata": {},
   "outputs": [
    {
     "data": {
      "text/plain": [
       "array(['FALSE', 'False', 'Correct Attribution', 'True', 'Explanatory',\n",
       "       'false', 'Misleading', 'MISLEADING', 'Mostly True', 'No Evidence',\n",
       "       'partly false', 'Mostly false', 'Partly false', 'PARTLY FALSE',\n",
       "       'No evidence', 'Mostly False', 'misleading', 'Labeled Satire',\n",
       "       'News', 'Partly False', 'Misleading/False', 'Mixture',\n",
       "       'no evidence', 'MOSTLY FALSE', 'Misattributed', 'Unproven',\n",
       "       'Miscaptioned', 'Fake', 'Half True', 'PARTLY TRUE', 'Not true',\n",
       "       'Scam', \"(Org. doesn't apply rating)\", 'Partially false',\n",
       "       'MOSTLY TRUE', 'Partly true', 'mislEADING', 'NO EVIDENCE',\n",
       "       'half true', 'false and misleading', 'mostly false', nan,\n",
       "       'HALF TRUE', 'Two Pinocchios', 'Suspicions', 'Partly FALSE',\n",
       "       'PANTS ON FIRE', 'Correct', 'Misinformation / Conspiracy theory',\n",
       "       'IN DISPUTE', 'HALF TRUTH', 'MiSLEADING', 'Partially correct',\n",
       "       'Unlikely', 'Fake news', 'True but', 'Mostly true', 'Collections',\n",
       "       'Mixed', 'Unverified', 'Partially true'], dtype=object)"
      ]
     },
     "execution_count": 60,
     "metadata": {},
     "output_type": "execute_result"
    }
   ],
   "source": [
    "df_train['class'].unique()"
   ]
  },
  {
   "cell_type": "code",
   "execution_count": 52,
   "metadata": {},
   "outputs": [
    {
     "data": {
      "text/plain": [
       "False                          2110\n",
       "FALSE                          2079\n",
       "Misleading                      463\n",
       "MISLEADING                      173\n",
       "Mostly false                    101\n",
       "Partly false                     99\n",
       "misleading                       80\n",
       "No evidence                      57\n",
       "Mostly False                     43\n",
       "Mixture                          41\n",
       "True                             25\n",
       "Explanatory                      24\n",
       "No Evidence                      24\n",
       "News                             23\n",
       "PARTLY FALSE                     22\n",
       "Unproven                         12\n",
       "MOSTLY FALSE                     11\n",
       "Partly False                     10\n",
       "Miscaptioned                     10\n",
       "partly false                      9\n",
       "mostly false                      9\n",
       "Mostly True                       8\n",
       "MOSTLY TRUE                       7\n",
       "Misattributed                     7\n",
       "(Org. doesn't apply rating)       7\n",
       "HALF TRUE                         6\n",
       "Correct Attribution               5\n",
       "Partially false                   5\n",
       "Labeled Satire                    5\n",
       "Fake                              4\n",
       "NO EVIDENCE                       3\n",
       "false                             3\n",
       "Two Pinocchios                    3\n",
       "Scam                              3\n",
       "no evidence                       3\n",
       "Half True                         3\n",
       "PARTLY TRUE                       2\n",
       "half true                         2\n",
       "Correct                           2\n",
       "mislEADING                        2\n",
       "Name: class, dtype: int64"
      ]
     },
     "execution_count": 52,
     "metadata": {},
     "output_type": "execute_result"
    }
   ],
   "source": [
    "class_value.index\n",
    "class_value.head(20).sum() #5416 - 98%\n",
    "class_value.head(40)"
   ]
  },
  {
   "cell_type": "code",
   "execution_count": 39,
   "metadata": {},
   "outputs": [],
   "source": [
    "df_train['label'] = df_train['class'].replace({'False' : 'false',\n",
    "'FALSE' : 'false',\n",
    "'Misleading' : 'false',\n",
    "'MISLEADING' : 'false',\n",
    "'Mostly false' : 'false',\n",
    "'Partly false': 'true',\n",
    "'misleading' : 'false',\n",
    "'No evidence' : 'true',\n",
    "'Mostly False' : 'false',\n",
    "'Mixture': 'tbd',\n",
    "'True': 'true',\n",
    "'Explanatory': 'true',\n",
    "'No Evidence': 'true',\n",
    "'News': 'true',\n",
    "'PARTLY FALSE': 'false',\n",
    "'Unproven': 'tbd',\n",
    "'MOSTLY FALSE': 'false',\n",
    "'Partly False': 'false',\n",
    "'Miscaptioned': 'tbd',\n",
    "'partly false': 'false',\n",
    "'mostly false' : 'false',\n",
    "'Mostly True': 'true',\n",
    "'MOSTLY TRUE': 'true',\n",
    "'Misattributed': 'tbd',\n",
    "\"(Org. doesn't apply rating)\": 'tbd',\n",
    "'HALF TRUE': 'true',\n",
    "'Correct Attribution' :'true',\n",
    "'Partially false': 'false',\n",
    "'Labeled Satire': 'tbd',\n",
    "'Fake' : 'false',\n",
    "'NO EVIDENCE': 'true',\n",
    "'false' : 'false',\n",
    "'Two Pinocchios': 'tbd',\n",
    "'Scam' : 'false',\n",
    "'no evidence': 'true',\n",
    "'Half True': 'true',\n",
    "'PARTLY TRUE': 'true',\n",
    "'half true': 'true',\n",
    "'Correct': 'true',\n",
    "'mislEADING' : 'false',\n",
    "'Suspicions': 'false',\n",
    "'Not true' : 'false',\n",
    "'nan': 'tbd',\n",
    "'Partly FALSE': 'false',\n",
    "'Misleading/False' : 'false',\n",
    "'PANTS ON FIRE': 'tbd',\n",
    "'Partially true': 'true',\n",
    "'Mixed': 'tbd',\n",
    "'IN DISPUTE': 'tbd',\n",
    "'Unverified': 'tbd',\n",
    "'HALF TRUTH': 'true',\n",
    "'Collections': 'tbd',\n",
    "'Partially correct': 'true',\n",
    "'MiSLEADING' : 'false',\n",
    "'Mostly true': 'true',\n",
    "'True but': 'true',\n",
    "'false and misleading' : 'false',\n",
    "'Partly true': 'true',\n",
    "'Misinformation / Conspiracy theory' : 'false',\n",
    "'Unlikely' : 'false',\n",
    "'Fake news' : 'false'})"
   ]
  },
  {
   "cell_type": "code",
   "execution_count": 40,
   "metadata": {},
   "outputs": [
    {
     "data": {
      "text/plain": [
       "false    5140\n",
       "true      299\n",
       "tbd        90\n",
       "NaN         2\n",
       "Name: label, dtype: int64"
      ]
     },
     "execution_count": 40,
     "metadata": {},
     "output_type": "execute_result"
    }
   ],
   "source": [
    "df_train['label'].value_counts(dropna=False)"
   ]
  },
  {
   "cell_type": "code",
   "execution_count": 44,
   "metadata": {},
   "outputs": [
    {
     "data": {
      "text/plain": [
       "NaN                             5306\n",
       "US Government Response            36\n",
       "Conspiracy Theories               22\n",
       "Trump and the Pandemic II         20\n",
       "Memes and Misinformation II       19\n",
       "Origins and Spread                19\n",
       "Business and Industry             17\n",
       "Prevention and Treatments II      15\n",
       "Viral Videos                      15\n",
       "International Response            15\n",
       "Prevention and Treatments         10\n",
       "Trump and the Pandemic            10\n",
       "Memes and Misinformation          10\n",
       "Entertainment & Media              9\n",
       "Prophecies and Predictions         8\n",
       "Name: category, dtype: int64"
      ]
     },
     "execution_count": 44,
     "metadata": {},
     "output_type": "execute_result"
    }
   ],
   "source": [
    "df_train['category'].value_counts(dropna=False)"
   ]
  },
  {
   "cell_type": "code",
   "execution_count": 45,
   "metadata": {},
   "outputs": [
    {
     "data": {
      "text/plain": [
       "en       2069\n",
       "es        961\n",
       "tl        398\n",
       "pt        335\n",
       "fr        288\n",
       "NaN       250\n",
       "hi        149\n",
       "it        119\n",
       "de         70\n",
       "uk         64\n",
       "zh-tw      64\n",
       "hr         63\n",
       "te         60\n",
       "ar         58\n",
       "id         53\n",
       "mk         50\n",
       "mr         41\n",
       "ml         41\n",
       "ta         39\n",
       "pl         38\n",
       "lt         34\n",
       "ja         33\n",
       "ko         32\n",
       "ru         32\n",
       "da         31\n",
       "nl         30\n",
       "bn         27\n",
       "gu         21\n",
       "lv         16\n",
       "et         14\n",
       "pa         13\n",
       "ur         11\n",
       "fa          9\n",
       "th          7\n",
       "ne          4\n",
       "sv          3\n",
       "tr          1\n",
       "sk          1\n",
       "vi          1\n",
       "fi          1\n",
       "Name: lang, dtype: int64"
      ]
     },
     "execution_count": 45,
     "metadata": {},
     "output_type": "execute_result"
    }
   ],
   "source": [
    "df_train['lang'].value_counts(dropna=False)"
   ]
  },
  {
   "cell_type": "code",
   "execution_count": 46,
   "metadata": {},
   "outputs": [
    {
     "data": {
      "text/plain": [
       "poynter    5306\n",
       "snopes      225\n",
       "Name: ref_source, dtype: int64"
      ]
     },
     "execution_count": 46,
     "metadata": {},
     "output_type": "execute_result"
    }
   ],
   "source": [
    "df_train['ref_source'].value_counts(dropna=False)"
   ]
  },
  {
   "cell_type": "code",
   "execution_count": 49,
   "metadata": {},
   "outputs": [
    {
     "data": {
      "text/plain": [
       " India            1062\n",
       " United States     632\n",
       " Spain             376\n",
       " Brazil            308\n",
       "NaN                225\n",
       "                  ... \n",
       " Qatar               1\n",
       " Tuvalu              1\n",
       " Oman                1\n",
       " Congo               1\n",
       " Rwanda              1\n",
       "Name: country1, Length: 109, dtype: int64"
      ]
     },
     "execution_count": 49,
     "metadata": {},
     "output_type": "execute_result"
    }
   ],
   "source": [
    "df_train['country1'].value_counts(dropna=False)"
   ]
  },
  {
   "cell_type": "code",
   "execution_count": 50,
   "metadata": {},
   "outputs": [
    {
     "data": {
      "text/plain": [
       " AFP                     515\n",
       " FactCrescendo           324\n",
       " PolitiFact              262\n",
       "snopes                   225\n",
       " Maldita.es              210\n",
       "                        ... \n",
       " La Voz de Guanacaste      2\n",
       " FactCheckNI               1\n",
       " Faktabaari/FactBar        1\n",
       " Periodismo de Barrio      1\n",
       " Mygopen                   1\n",
       "Name: verifiedby, Length: 96, dtype: int64"
      ]
     },
     "execution_count": 50,
     "metadata": {},
     "output_type": "execute_result"
    }
   ],
   "source": [
    "df_train['verifiedby'].value_counts(dropna=False)"
   ]
  },
  {
   "cell_type": "code",
   "execution_count": null,
   "metadata": {},
   "outputs": [],
   "source": []
  }
 ],
 "metadata": {
  "kernelspec": {
   "display_name": "Python 3",
   "language": "python",
   "name": "python3"
  },
  "language_info": {
   "codemirror_mode": {
    "name": "ipython",
    "version": 3
   },
   "file_extension": ".py",
   "mimetype": "text/x-python",
   "name": "python",
   "nbconvert_exporter": "python",
   "pygments_lexer": "ipython3",
   "version": "3.6.9"
  }
 },
 "nbformat": 4,
 "nbformat_minor": 4
}
