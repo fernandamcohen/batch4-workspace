{
 "cells": [
  {
   "cell_type": "code",
   "execution_count": 1,
   "metadata": {},
   "outputs": [],
   "source": [
    "import math\n",
    "import hashlib\n",
    "import inspect\n",
    "import json\n",
    "import pandas as pd\n",
    "import numpy as np\n",
    "import re\n",
    "from hashlib import sha256\n",
    "from collections import Counter\n",
    "import string\n",
    "import os\n",
    "import random\n",
    "from sklearn.feature_extraction.text import TfidfVectorizer\n",
    "from nltk.tokenize import WordPunctTokenizer\n",
    "from sklearn.ensemble import RandomForestClassifier\n",
    "from sklearn.model_selection import train_test_split\n",
    "from sklearn.pipeline import Pipeline, FeatureUnion\n",
    "from sklearn.base import BaseEstimator, TransformerMixin\n",
    "from sklearn.preprocessing import StandardScaler\n",
    "import spacy\n",
    "from spacy.matcher import Matcher\n",
    "from spacy.lang.en import English\n",
    "from spacy.matcher import Matcher\n",
    "from nltk.corpus import stopwords\n",
    "from sklearn.metrics.pairwise import cosine_similarity\n",
    "from sklearn.metrics import accuracy_score, f1_score\n",
    "from sklearn.model_selection import train_test_split\n",
    "\n",
    "import warnings\n",
    "warnings.filterwarnings('ignore')"
   ]
  },
  {
   "cell_type": "code",
   "execution_count": 2,
   "metadata": {},
   "outputs": [],
   "source": [
    "df_train = pd.read_csv('data/covid19_data.csv')\n",
    "df_test_pred = pd.read_csv('data/covid19_unlabelled_test.csv')"
   ]
  },
  {
   "cell_type": "code",
   "execution_count": 3,
   "metadata": {},
   "outputs": [
    {
     "data": {
      "text/html": [
       "<div>\n",
       "<style scoped>\n",
       "    .dataframe tbody tr th:only-of-type {\n",
       "        vertical-align: middle;\n",
       "    }\n",
       "\n",
       "    .dataframe tbody tr th {\n",
       "        vertical-align: top;\n",
       "    }\n",
       "\n",
       "    .dataframe thead th {\n",
       "        text-align: right;\n",
       "    }\n",
       "</style>\n",
       "<table border=\"1\" class=\"dataframe\">\n",
       "  <thead>\n",
       "    <tr style=\"text-align: right;\">\n",
       "      <th></th>\n",
       "      <th>verifiedby</th>\n",
       "      <th>country</th>\n",
       "      <th>class</th>\n",
       "      <th>title</th>\n",
       "      <th>published_date</th>\n",
       "      <th>country1</th>\n",
       "      <th>country2</th>\n",
       "      <th>country3</th>\n",
       "      <th>country4</th>\n",
       "      <th>article_source</th>\n",
       "      <th>ref_source</th>\n",
       "      <th>source_title</th>\n",
       "      <th>content_text</th>\n",
       "      <th>category</th>\n",
       "      <th>lang</th>\n",
       "    </tr>\n",
       "  </thead>\n",
       "  <tbody>\n",
       "    <tr>\n",
       "      <th>0</th>\n",
       "      <td>Delfi Melo Detektorius (Lie Detector)</td>\n",
       "      <td>Lithuania</td>\n",
       "      <td>FALSE</td>\n",
       "      <td>Claims that coronavirus is fake and Belarus i...</td>\n",
       "      <td>2020/05/11</td>\n",
       "      <td>Lithuania</td>\n",
       "      <td>NaN</td>\n",
       "      <td>NaN</td>\n",
       "      <td>NaN</td>\n",
       "      <td>https://www.delfi.lt/news/melo-detektorius/mel...</td>\n",
       "      <td>poynter</td>\n",
       "      <td>Baltarusija atšventė nesisaugodama nuo koronav...</td>\n",
       "      <td>Gegužės 9-ąją Baltarusijos sostinėje Minske su...</td>\n",
       "      <td>NaN</td>\n",
       "      <td>lt</td>\n",
       "    </tr>\n",
       "    <tr>\n",
       "      <th>1</th>\n",
       "      <td>AfricaCheck</td>\n",
       "      <td>United States, South Africa</td>\n",
       "      <td>False</td>\n",
       "      <td>Muammar Gaddafi predicted the current coronav...</td>\n",
       "      <td>2020/03/21</td>\n",
       "      <td>United States</td>\n",
       "      <td>South Africa</td>\n",
       "      <td>NaN</td>\n",
       "      <td>NaN</td>\n",
       "      <td>https://africacheck.org/fbcheck/no-gaddafi-did...</td>\n",
       "      <td>poynter</td>\n",
       "      <td>No, Gaddafi didn’t predict coronavirus, but di...</td>\n",
       "      <td>As the world struggles to bring the new corona...</td>\n",
       "      <td>NaN</td>\n",
       "      <td>en</td>\n",
       "    </tr>\n",
       "    <tr>\n",
       "      <th>2</th>\n",
       "      <td>AFP</td>\n",
       "      <td>Hong Kong</td>\n",
       "      <td>False</td>\n",
       "      <td>Video shows quarantined people in a building ...</td>\n",
       "      <td>2020/02/17</td>\n",
       "      <td>Hong Kong</td>\n",
       "      <td>NaN</td>\n",
       "      <td>NaN</td>\n",
       "      <td>NaN</td>\n",
       "      <td>http://u.afp.com/QuarantineChina</td>\n",
       "      <td>poynter</td>\n",
       "      <td>This video shows tower blocks in Shanghai, not...</td>\n",
       "      <td>It has been viewed more than 200,000 times., T...</td>\n",
       "      <td>NaN</td>\n",
       "      <td>en</td>\n",
       "    </tr>\n",
       "    <tr>\n",
       "      <th>3</th>\n",
       "      <td>FactCrescendo</td>\n",
       "      <td>India</td>\n",
       "      <td>False</td>\n",
       "      <td>A video shows a massive explosion in Wuhan, C...</td>\n",
       "      <td>2020/02/17</td>\n",
       "      <td>India</td>\n",
       "      <td>NaN</td>\n",
       "      <td>NaN</td>\n",
       "      <td>NaN</td>\n",
       "      <td>https://english.factcrescendo.com/2020/02/17/t...</td>\n",
       "      <td>poynter</td>\n",
       "      <td>This blast took place in Tiajin, China in 2015...</td>\n",
       "      <td>The fact behind every news!, Ever since, the W...</td>\n",
       "      <td>NaN</td>\n",
       "      <td>en</td>\n",
       "    </tr>\n",
       "    <tr>\n",
       "      <th>4</th>\n",
       "      <td>Newtral.es</td>\n",
       "      <td>Spain, Peru, United States, Mexico</td>\n",
       "      <td>False</td>\n",
       "      <td>Chlorine dioxide cures the coronavirus.</td>\n",
       "      <td>2020/03/25</td>\n",
       "      <td>Spain</td>\n",
       "      <td>Peru</td>\n",
       "      <td>United States</td>\n",
       "      <td>Mexico</td>\n",
       "      <td>https://www.newtral.es/bulo-dioxido-de-cloro-c...</td>\n",
       "      <td>poynter</td>\n",
       "      <td>El dióxido de cloro no cura el coronavirus; al...</td>\n",
       "      <td>Circula un video de Youtube titulado: “El Coro...</td>\n",
       "      <td>NaN</td>\n",
       "      <td>es</td>\n",
       "    </tr>\n",
       "  </tbody>\n",
       "</table>\n",
       "</div>"
      ],
      "text/plain": [
       "                               verifiedby  \\\n",
       "0   Delfi Melo Detektorius (Lie Detector)   \n",
       "1                             AfricaCheck   \n",
       "2                                     AFP   \n",
       "3                           FactCrescendo   \n",
       "4                              Newtral.es   \n",
       "\n",
       "                               country  class  \\\n",
       "0                            Lithuania  FALSE   \n",
       "1          United States, South Africa  False   \n",
       "2                            Hong Kong  False   \n",
       "3                                India  False   \n",
       "4   Spain, Peru, United States, Mexico  False   \n",
       "\n",
       "                                               title published_date  \\\n",
       "0   Claims that coronavirus is fake and Belarus i...    2020/05/11    \n",
       "1   Muammar Gaddafi predicted the current coronav...    2020/03/21    \n",
       "2   Video shows quarantined people in a building ...    2020/02/17    \n",
       "3   A video shows a massive explosion in Wuhan, C...    2020/02/17    \n",
       "4            Chlorine dioxide cures the coronavirus.    2020/03/25    \n",
       "\n",
       "         country1       country2        country3 country4  \\\n",
       "0       Lithuania            NaN             NaN      NaN   \n",
       "1   United States   South Africa             NaN      NaN   \n",
       "2       Hong Kong            NaN             NaN      NaN   \n",
       "3           India            NaN             NaN      NaN   \n",
       "4           Spain           Peru   United States   Mexico   \n",
       "\n",
       "                                      article_source ref_source  \\\n",
       "0  https://www.delfi.lt/news/melo-detektorius/mel...    poynter   \n",
       "1  https://africacheck.org/fbcheck/no-gaddafi-did...    poynter   \n",
       "2                   http://u.afp.com/QuarantineChina    poynter   \n",
       "3  https://english.factcrescendo.com/2020/02/17/t...    poynter   \n",
       "4  https://www.newtral.es/bulo-dioxido-de-cloro-c...    poynter   \n",
       "\n",
       "                                        source_title  \\\n",
       "0  Baltarusija atšventė nesisaugodama nuo koronav...   \n",
       "1  No, Gaddafi didn’t predict coronavirus, but di...   \n",
       "2  This video shows tower blocks in Shanghai, not...   \n",
       "3  This blast took place in Tiajin, China in 2015...   \n",
       "4  El dióxido de cloro no cura el coronavirus; al...   \n",
       "\n",
       "                                        content_text category lang  \n",
       "0  Gegužės 9-ąją Baltarusijos sostinėje Minske su...      NaN   lt  \n",
       "1  As the world struggles to bring the new corona...      NaN   en  \n",
       "2  It has been viewed more than 200,000 times., T...      NaN   en  \n",
       "3  The fact behind every news!, Ever since, the W...      NaN   en  \n",
       "4  Circula un video de Youtube titulado: “El Coro...      NaN   es  "
      ]
     },
     "execution_count": 3,
     "metadata": {},
     "output_type": "execute_result"
    }
   ],
   "source": [
    "df_train.shape #(5531, 15)\n",
    "df_train.head()"
   ]
  },
  {
   "cell_type": "code",
   "execution_count": 5,
   "metadata": {},
   "outputs": [],
   "source": [
    "class_value = df_train['class'].value_counts(dropna=False)"
   ]
  },
  {
   "cell_type": "code",
   "execution_count": 6,
   "metadata": {},
   "outputs": [
    {
     "data": {
      "text/plain": [
       "False           2110\n",
       "FALSE           2079\n",
       "Misleading       463\n",
       "MISLEADING       173\n",
       "Mostly false     101\n",
       "Name: class, dtype: int64"
      ]
     },
     "execution_count": 6,
     "metadata": {},
     "output_type": "execute_result"
    }
   ],
   "source": [
    "class_value.index\n",
    "class_value.head()"
   ]
  },
  {
   "cell_type": "code",
   "execution_count": 58,
   "metadata": {},
   "outputs": [],
   "source": [
    "#function to classify the label in t(true) or f(false) or r(to revome)\n",
    "def create_label(doc, list_false, list_true):\n",
    "    \n",
    "    if doc in list_false:\n",
    "        return 'f'\n",
    "    elif doc in list_true:\n",
    "        return 't'\n",
    "    else:\n",
    "        return 'r'\n",
    "\n",
    "#to select new data frame with the n_falses quantity of false observations\n",
    "def create_balance_dataset(df,n_falses,label):\n",
    "    df = df.copy()\n",
    "    df = df[['title', label]]\n",
    "    df_false = df[df[label]=='f'].sample(n=n_falses, random_state=111)\n",
    "    df_true  = df[df[label]=='t']\n",
    "    \n",
    "    return pd.concat([df_false,df_true])       \n",
    "\n",
    "    "
   ]
  },
  {
   "cell_type": "code",
   "execution_count": 60,
   "metadata": {},
   "outputs": [
    {
     "data": {
      "text/plain": [
       "f    4189\n",
       "r    1253\n",
       "t      89\n",
       "Name: label, dtype: int64"
      ]
     },
     "execution_count": 60,
     "metadata": {},
     "output_type": "execute_result"
    }
   ],
   "source": [
    "list_false= ['False', 'FALSE']\n",
    "list_true= ['True','News','Mostly True','MOSTLY TRUE','HALF TRUE','Correct Attribution','Half True','PARTLY TRUE',\n",
    "            'half true','Correct','Partially true','HALF TRUTH','Partially correct', 'Mostly true','True but','Partly true']\n",
    "\n",
    "df_train['label'] = df_train['class'].apply(create_label, args=(list_false, list_true))\n",
    "\n",
    "df_train['label'].value_counts(dropna=False)"
   ]
  },
  {
   "cell_type": "code",
   "execution_count": 61,
   "metadata": {},
   "outputs": [
    {
     "name": "stdout",
     "output_type": "stream",
     "text": [
      "(890, 2)\n"
     ]
    },
    {
     "data": {
      "text/plain": [
       "f    801\n",
       "t     89\n",
       "Name: label, dtype: int64"
      ]
     },
     "execution_count": 61,
     "metadata": {},
     "output_type": "execute_result"
    }
   ],
   "source": [
    "df_10percTrue = create_balance_dataset(df_train, 801,'label')\n",
    "print(df_10percTrue.shape)\n",
    "df_10percTrue['label'].value_counts(dropna=False)"
   ]
  },
  {
   "cell_type": "code",
   "execution_count": 62,
   "metadata": {},
   "outputs": [
    {
     "data": {
      "text/html": [
       "<div>\n",
       "<style scoped>\n",
       "    .dataframe tbody tr th:only-of-type {\n",
       "        vertical-align: middle;\n",
       "    }\n",
       "\n",
       "    .dataframe tbody tr th {\n",
       "        vertical-align: top;\n",
       "    }\n",
       "\n",
       "    .dataframe thead th {\n",
       "        text-align: right;\n",
       "    }\n",
       "</style>\n",
       "<table border=\"1\" class=\"dataframe\">\n",
       "  <thead>\n",
       "    <tr style=\"text-align: right;\">\n",
       "      <th></th>\n",
       "      <th>title</th>\n",
       "      <th>label</th>\n",
       "    </tr>\n",
       "  </thead>\n",
       "  <tbody>\n",
       "    <tr>\n",
       "      <th>2871</th>\n",
       "      <td>African Union (AU) has validated COVID-Organi...</td>\n",
       "      <td>f</td>\n",
       "    </tr>\n",
       "    <tr>\n",
       "      <th>242</th>\n",
       "      <td>A video of a Muslim fruit-vendor spitting on ...</td>\n",
       "      <td>f</td>\n",
       "    </tr>\n",
       "    <tr>\n",
       "      <th>4218</th>\n",
       "      <td>Video shows an alleged hotel owner in New Yor...</td>\n",
       "      <td>f</td>\n",
       "    </tr>\n",
       "    <tr>\n",
       "      <th>1602</th>\n",
       "      <td>Post claims U.S. President Donald Trump annou...</td>\n",
       "      <td>f</td>\n",
       "    </tr>\n",
       "    <tr>\n",
       "      <th>3711</th>\n",
       "      <td>Images of the medical facility shared with th...</td>\n",
       "      <td>f</td>\n",
       "    </tr>\n",
       "  </tbody>\n",
       "</table>\n",
       "</div>"
      ],
      "text/plain": [
       "                                                  title label\n",
       "2871   African Union (AU) has validated COVID-Organi...     f\n",
       "242    A video of a Muslim fruit-vendor spitting on ...     f\n",
       "4218   Video shows an alleged hotel owner in New Yor...     f\n",
       "1602   Post claims U.S. President Donald Trump annou...     f\n",
       "3711   Images of the medical facility shared with th...     f"
      ]
     },
     "execution_count": 62,
     "metadata": {},
     "output_type": "execute_result"
    }
   ],
   "source": [
    "df_10percTrue.head()"
   ]
  },
  {
   "cell_type": "code",
   "execution_count": 54,
   "metadata": {},
   "outputs": [],
   "source": [
    "df_10percTrue.to_csv('data/df_10percTrue.csv')"
   ]
  },
  {
   "cell_type": "code",
   "execution_count": 77,
   "metadata": {},
   "outputs": [
    {
     "name": "stdout",
     "output_type": "stream",
     "text": [
      "(178, 2)\n"
     ]
    }
   ],
   "source": [
    "#50% true\n",
    "df_50percTrue = create_balance_dataset(df_train, 89,'label')\n",
    "print(df_50percTrue.shape)\n",
    "df_50percTrue['label'].value_counts(dropna=False)\n",
    "df_50percTrue.to_csv('data/df_50percTrue.csv')"
   ]
  },
  {
   "cell_type": "code",
   "execution_count": 81,
   "metadata": {},
   "outputs": [
    {
     "name": "stdout",
     "output_type": "stream",
     "text": [
      "(132, 2)\n"
     ]
    }
   ],
   "source": [
    "#removing 'News' as true\n",
    "\n",
    "list_false= ['False', 'FALSE']\n",
    "list_true= ['True','Mostly True','MOSTLY TRUE','HALF TRUE','Correct Attribution','Half True','PARTLY TRUE',\n",
    "            'half true','Correct','Partially true','HALF TRUTH','Partially correct', 'Mostly true','True but','Partly true']\n",
    "\n",
    "df_train['label_v2'] = df_train['class'].apply(create_label, args=(list_false, list_true))\n",
    "\n",
    "df_train['label_v2'].value_counts(dropna=False)\n",
    "\n",
    "df_50percTrue_without_news = create_balance_dataset(df_train, 66,'label_v2')\n",
    "print(df_50percTrue_without_news.shape)\n",
    "df_50percTrue_without_news['label_v2'].value_counts(dropna=False)\n",
    "df_50percTrue_without_news.to_csv('data/df_50percTrue_without_news.csv')"
   ]
  },
  {
   "cell_type": "markdown",
   "metadata": {},
   "source": [
    "### second version of true\n",
    "considering no evidence as true"
   ]
  },
  {
   "cell_type": "code",
   "execution_count": 82,
   "metadata": {},
   "outputs": [
    {
     "data": {
      "text/plain": [
       "f    4825\n",
       "r     530\n",
       "t     176\n",
       "Name: label_v2, dtype: int64"
      ]
     },
     "execution_count": 82,
     "metadata": {},
     "output_type": "execute_result"
    }
   ],
   "source": [
    "list_false= ['False', 'FALSE','Misleading','MISLEADING']\n",
    "list_true = ['True','News','Mostly True','MOSTLY TRUE','HALF TRUE','Correct Attribution','Half True','PARTLY TRUE',\n",
    "             'half true','Correct','Partially true','HALF TRUTH','Partially correct', 'Mostly true','True but','Partly true',\n",
    "             'NO EVIDENCE','no evidence','No Evidence','No evidence']\n",
    "\n",
    "df_train['label_v2'] = df_train['class'].apply(create_label, args=(list_false, list_true))\n",
    "\n",
    "df_train['label_v2'].value_counts(dropna=False)"
   ]
  },
  {
   "cell_type": "code",
   "execution_count": 85,
   "metadata": {},
   "outputs": [
    {
     "name": "stdout",
     "output_type": "stream",
     "text": [
      "(1760, 2)\n"
     ]
    },
    {
     "data": {
      "text/plain": [
       "f    1584\n",
       "t     176\n",
       "Name: label_v2, dtype: int64"
      ]
     },
     "execution_count": 85,
     "metadata": {},
     "output_type": "execute_result"
    }
   ],
   "source": [
    "#10% of true observations\n",
    "\n",
    "df_10percTrue_noevid = create_balance_dataset(df_train, 176*9,'label_v2')\n",
    "print(df_10percTrue_noevid.shape)\n",
    "df_10percTrue_noevid['label_v2'].value_counts(dropna=False)"
   ]
  },
  {
   "cell_type": "code",
   "execution_count": 87,
   "metadata": {},
   "outputs": [],
   "source": [
    "df_10percTrue_noevid.to_csv('data/df_10percTrue_with_noevidence.csv')"
   ]
  },
  {
   "cell_type": "code",
   "execution_count": 86,
   "metadata": {},
   "outputs": [
    {
     "data": {
      "text/html": [
       "<div>\n",
       "<style scoped>\n",
       "    .dataframe tbody tr th:only-of-type {\n",
       "        vertical-align: middle;\n",
       "    }\n",
       "\n",
       "    .dataframe tbody tr th {\n",
       "        vertical-align: top;\n",
       "    }\n",
       "\n",
       "    .dataframe thead th {\n",
       "        text-align: right;\n",
       "    }\n",
       "</style>\n",
       "<table border=\"1\" class=\"dataframe\">\n",
       "  <thead>\n",
       "    <tr style=\"text-align: right;\">\n",
       "      <th></th>\n",
       "      <th>title</th>\n",
       "      <th>label_v2</th>\n",
       "    </tr>\n",
       "  </thead>\n",
       "  <tbody>\n",
       "    <tr>\n",
       "      <th>2725</th>\n",
       "      <td>A viral image suggests that cocaine kills cor...</td>\n",
       "      <td>f</td>\n",
       "    </tr>\n",
       "    <tr>\n",
       "      <th>1196</th>\n",
       "      <td>Having sex every morning kills coronavirus.</td>\n",
       "      <td>f</td>\n",
       "    </tr>\n",
       "    <tr>\n",
       "      <th>3539</th>\n",
       "      <td>Picture shows the Mecca totally empty.</td>\n",
       "      <td>f</td>\n",
       "    </tr>\n",
       "    <tr>\n",
       "      <th>3694</th>\n",
       "      <td>Queen Elizabeth is shown in a quote card to b...</td>\n",
       "      <td>f</td>\n",
       "    </tr>\n",
       "    <tr>\n",
       "      <th>4519</th>\n",
       "      <td>Official news: in Naples people have used Toc...</td>\n",
       "      <td>f</td>\n",
       "    </tr>\n",
       "  </tbody>\n",
       "</table>\n",
       "</div>"
      ],
      "text/plain": [
       "                                                  title label_v2\n",
       "2725   A viral image suggests that cocaine kills cor...        f\n",
       "1196        Having sex every morning kills coronavirus.        f\n",
       "3539             Picture shows the Mecca totally empty.        f\n",
       "3694   Queen Elizabeth is shown in a quote card to b...        f\n",
       "4519   Official news: in Naples people have used Toc...        f"
      ]
     },
     "execution_count": 86,
     "metadata": {},
     "output_type": "execute_result"
    }
   ],
   "source": [
    "df_10percTrue_noevid.head()"
   ]
  },
  {
   "cell_type": "markdown",
   "metadata": {},
   "source": [
    "# 1st submition"
   ]
  },
  {
   "cell_type": "code",
   "execution_count": 64,
   "metadata": {},
   "outputs": [],
   "source": [
    "sub1 = pd.read_csv('data/submission_1.csv')"
   ]
  },
  {
   "cell_type": "code",
   "execution_count": 67,
   "metadata": {},
   "outputs": [
    {
     "data": {
      "text/html": [
       "<div>\n",
       "<style scoped>\n",
       "    .dataframe tbody tr th:only-of-type {\n",
       "        vertical-align: middle;\n",
       "    }\n",
       "\n",
       "    .dataframe tbody tr th {\n",
       "        vertical-align: top;\n",
       "    }\n",
       "\n",
       "    .dataframe thead th {\n",
       "        text-align: right;\n",
       "    }\n",
       "</style>\n",
       "<table border=\"1\" class=\"dataframe\">\n",
       "  <thead>\n",
       "    <tr style=\"text-align: right;\">\n",
       "      <th></th>\n",
       "      <th>Unnamed: 0</th>\n",
       "      <th>text</th>\n",
       "      <th>predicted</th>\n",
       "    </tr>\n",
       "  </thead>\n",
       "  <tbody>\n",
       "    <tr>\n",
       "      <th>0</th>\n",
       "      <td>0</td>\n",
       "      <td>American researcher Charles Lieber was arrest...</td>\n",
       "      <td>False</td>\n",
       "    </tr>\n",
       "    <tr>\n",
       "      <th>1</th>\n",
       "      <td>1</td>\n",
       "      <td>Did Trump Blame Obama for ‘Bad’ COVID-19 Tests...</td>\n",
       "      <td>False</td>\n",
       "    </tr>\n",
       "    <tr>\n",
       "      <th>2</th>\n",
       "      <td>2</td>\n",
       "      <td>Hundreds of sampoerna cigarette factory worke...</td>\n",
       "      <td>False</td>\n",
       "    </tr>\n",
       "    <tr>\n",
       "      <th>3</th>\n",
       "      <td>3</td>\n",
       "      <td>Dr. Megha Vyas from Pune died of COVID-19.</td>\n",
       "      <td>False</td>\n",
       "    </tr>\n",
       "    <tr>\n",
       "      <th>4</th>\n",
       "      <td>4</td>\n",
       "      <td>Jacob Rothschild owns a patent to coronavirus.</td>\n",
       "      <td>False</td>\n",
       "    </tr>\n",
       "  </tbody>\n",
       "</table>\n",
       "</div>"
      ],
      "text/plain": [
       "   Unnamed: 0                                               text  predicted\n",
       "0           0   American researcher Charles Lieber was arrest...      False\n",
       "1           1  Did Trump Blame Obama for ‘Bad’ COVID-19 Tests...      False\n",
       "2           2   Hundreds of sampoerna cigarette factory worke...      False\n",
       "3           3         Dr. Megha Vyas from Pune died of COVID-19.      False\n",
       "4           4     Jacob Rothschild owns a patent to coronavirus.      False"
      ]
     },
     "execution_count": 67,
     "metadata": {},
     "output_type": "execute_result"
    }
   ],
   "source": [
    "sub1.head()"
   ]
  },
  {
   "cell_type": "code",
   "execution_count": 75,
   "metadata": {},
   "outputs": [
    {
     "data": {
      "text/plain": [
       "0       false\n",
       "1       false\n",
       "2       false\n",
       "3       false\n",
       "4       false\n",
       "        ...  \n",
       "2087    false\n",
       "2088    false\n",
       "2089    false\n",
       "2090    false\n",
       "2091    false\n",
       "Name: predicted, Length: 2092, dtype: object"
      ]
     },
     "execution_count": 75,
     "metadata": {},
     "output_type": "execute_result"
    }
   ],
   "source": [
    "sub1['predicted'].replace({False: 'false', True: 'true'})"
   ]
  },
  {
   "cell_type": "code",
   "execution_count": null,
   "metadata": {},
   "outputs": [],
   "source": []
  }
 ],
 "metadata": {
  "kernelspec": {
   "display_name": "Python 3",
   "language": "python",
   "name": "python3"
  },
  "language_info": {
   "codemirror_mode": {
    "name": "ipython",
    "version": 3
   },
   "file_extension": ".py",
   "mimetype": "text/x-python",
   "name": "python",
   "nbconvert_exporter": "python",
   "pygments_lexer": "ipython3",
   "version": "3.6.9"
  }
 },
 "nbformat": 4,
 "nbformat_minor": 4
}
